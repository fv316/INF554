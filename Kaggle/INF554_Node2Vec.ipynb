{
 "cells": [
  {
   "cell_type": "markdown",
   "metadata": {},
   "source": [
    "# INF554 Kaggle Node2Vec Model\n",
    "#### Francisco, Alex and Aksel"
   ]
  },
  {
   "cell_type": "code",
   "execution_count": 1,
   "metadata": {},
   "outputs": [
    {
     "name": "stderr",
     "output_type": "stream",
     "text": [
      "Using TensorFlow backend.\n"
     ]
    }
   ],
   "source": [
    "import random\n",
    "import numpy as np\n",
    "import pandas as pd\n",
    "import csv\n",
    "from tqdm import tqdm\n",
    "import seaborn as sns\n",
    "import os\n",
    "import networkx as nx\n",
    "import pdb\n",
    "import pickle\n",
    "from collections import Counter\n",
    "from sklearn import svm\n",
    "from sklearn.feature_extraction.text import TfidfVectorizer\n",
    "from sklearn.metrics.pairwise import linear_kernel\n",
    "from sklearn import preprocessing\n",
    "from sklearn.linear_model import LogisticRegression\n",
    "from sklearn.ensemble import RandomForestClassifier\n",
    "from sklearn.ensemble import GradientBoostingClassifier\n",
    "from sklearn.ensemble import BaggingClassifier\n",
    "from sklearn.neighbors import KNeighborsClassifier\n",
    "from sklearn.neural_network import MLPClassifier\n",
    "from sklearn.svm import SVC\n",
    "from sklearn.model_selection import train_test_split\n",
    "from sklearn.metrics import f1_score, precision_score, recall_score, accuracy_score\n",
    "from sklearn.feature_extraction import text as fe\n",
    "from sklearn.decomposition import NMF, LatentDirichletAllocation\n",
    "import matplotlib.pyplot as plt\n",
    "import datetime\n",
    "import time\n",
    "import keras\n",
    "import lightgbm\n",
    "import spacy\n",
    "from nltk import wordpunct_tokenize\n",
    "from nltk.corpus import stopwords\n",
    "import nltk\n",
    "from hyperopt import STATUS_OK, Trials, hp, space_eval, tpe, fmin"
   ]
  },
  {
   "cell_type": "code",
   "execution_count": 2,
   "metadata": {},
   "outputs": [
    {
     "name": "stdout",
     "output_type": "stream",
     "text": [
      "Training examples shape: (453797, 3)\n",
      "Testing examples shape: (113450, 2)\n"
     ]
    }
   ],
   "source": [
    "with open(r\"training.txt\", \"r\") as f:\n",
    "    reader = csv.reader(f)\n",
    "    training  = list(reader)\n",
    "# in order of training examples\n",
    "training = [element[0].split(\" \") for element in training]\n",
    "training = pd.DataFrame(training, columns=['Node1', 'Node2', 'Link'])\n",
    "print(\"Training examples shape: {}\".format(training.shape))\n",
    "\n",
    "with open(r\"testing.txt\", \"r\") as f:\n",
    "    reader = csv.reader(f)\n",
    "    testing  = list(reader)\n",
    "# in order of testing examples\n",
    "testing = [element[0].split(\" \") for element in testing]\n",
    "testing = pd.DataFrame(testing, columns=['Node1', 'Node2'])\n",
    "print(\"Testing examples shape: {}\".format(testing.shape))"
   ]
  },
  {
   "cell_type": "code",
   "execution_count": 3,
   "metadata": {},
   "outputs": [],
   "source": [
    "if not os.path.exists(r'pickles'):\n",
    "    os.mkdir(r'pickles')"
   ]
  },
  {
   "cell_type": "code",
   "execution_count": 4,
   "metadata": {},
   "outputs": [],
   "source": [
    "'''\n",
    "uncomment lines for reduced corpus with stopword removal. In future integrate stemmer here, multi-language\n",
    "'''\n",
    "NODE_INFO_DIRECTORY = r\"node_information/text/\"\n",
    "\n",
    "corpus_path = r\"pickles/simple_corpus.PICKLE\" \n",
    "ids_path = r\"pickles/ids.PICKLE\"\n",
    "if os.path.exists(corpus_path):\n",
    "    with open(corpus_path, 'rb') as f:\n",
    "        corpus = pickle.load(f)\n",
    "    f.close()\n",
    "    with open(ids_path, 'rb') as f:\n",
    "        ids = pickle.load(f)\n",
    "    f.close()\n",
    "else:\n",
    "    corpus = []\n",
    "    ids = []\n",
    "    for filename in tqdm(os.listdir(NODE_INFO_DIRECTORY), position=0, leave=True):\n",
    "        with open(NODE_INFO_DIRECTORY + filename, 'r', encoding='UTF-8', errors='ignore') as f:\n",
    "            doc_string = []\n",
    "            for line in f:\n",
    "                [doc_string.append(token.strip()) for token in line.lower().strip().split(\" \") if token != \"\"]\n",
    "            corpus.append(' '.join(doc_string))\n",
    "            ids.append(filename[:-4])\n",
    "    with open(corpus_path, '+wb') as f:\n",
    "        pickle.dump(corpus, f)\n",
    "    f.close()\n",
    "    with open(ids_path, '+wb') as f:\n",
    "        pickle.dump(ids, f)\n",
    "    f.close() "
   ]
  },
  {
   "cell_type": "code",
   "execution_count": 5,
   "metadata": {},
   "outputs": [
    {
     "name": "stdout",
     "output_type": "stream",
     "text": [
      "Training node info shape: (33226, 3)\n"
     ]
    }
   ],
   "source": [
    "stemmed_corpus_path = r\"pickles/stemmed_corpus.PICKLE\" \n",
    "if os.path.exists(stemmed_corpus_path):\n",
    "    with open(stemmed_corpus_path, 'rb') as f:\n",
    "        stemmed_corpus = pickle.load(f)\n",
    "    f.close()\n",
    "else:\n",
    "    print('Stemmed corpus unavailable')\n",
    "\n",
    "# in order of alphabetical text information i.e. 0, 1, 10, 100\n",
    "node_info = pd.DataFrame({'id': ids, 'corpus': corpus, 'stemmed': stemmed_corpus})\n",
    "node_info_id = node_info.set_index(['id'])\n",
    "print(\"Training node info shape: {}\".format(node_info.shape))"
   ]
  },
  {
   "cell_type": "code",
   "execution_count": 6,
   "metadata": {},
   "outputs": [],
   "source": [
    "train_graph_split_path = 'pickles/train_graph_split.PICKLE'\n",
    "\n",
    "if os.path.exists(train_graph_split_path):\n",
    "    with open(train_graph_split_path, 'rb') as f:\n",
    "        keep_indices = pickle.load(f)\n",
    "    f.close()\n",
    "else:\n",
    "    keep_indices = random.sample(range(len(training)), k=int(len(training) * 0.05))\n",
    "    with open(train_graph_split_path, '+wb') as f:\n",
    "        pickle.dump(keep_indices, f)\n",
    "    f.close()\n",
    "\n",
    "data_train_val = training.iloc[keep_indices]\n",
    "data_train = training.loc[~training.index.isin(keep_indices)]"
   ]
  },
  {
   "cell_type": "code",
   "execution_count": 7,
   "metadata": {},
   "outputs": [],
   "source": [
    "linked_nodes = data_train.loc[data_train['Link']=='1']\n",
    "linked_nodes = linked_nodes[['Node1', 'Node2']]\n",
    "linked_nodes.to_csv('linked_nodes.txt', sep=' ', index=False, header=False)\n",
    "graph=nx.read_edgelist('linked_nodes.txt', create_using=nx.Graph(), nodetype = str)"
   ]
  },
  {
   "cell_type": "code",
   "execution_count": 45,
   "metadata": {},
   "outputs": [],
   "source": [
    "feature_vector_path = r\"pickles/perf_val_data.PICKLE\"\n",
    "if os.path.exists(feature_vector_path):\n",
    "    with open(feature_vector_path, 'rb') as f:\n",
    "        perf_val_data = pickle.load(f)\n",
    "    f.close()\n",
    "\n",
    "feature_vector_path = r\"pickles/perf_test_data.PICKLE\"\n",
    "if os.path.exists(feature_vector_path):\n",
    "    with open(feature_vector_path, 'rb') as f:\n",
    "        perf_test_data = pickle.load(f)\n",
    "    f.close()"
   ]
  },
  {
   "cell_type": "code",
   "execution_count": 9,
   "metadata": {},
   "outputs": [],
   "source": [
    "from node2vec import Node2Vec\n",
    "from gensim.models import Word2Vec"
   ]
  },
  {
   "cell_type": "code",
   "execution_count": 10,
   "metadata": {},
   "outputs": [
    {
     "name": "stdout",
     "output_type": "stream",
     "text": [
      "Node2Vec already calculated\n"
     ]
    }
   ],
   "source": [
    "node2vec_path = r\"pickles/NODE2VEC.PICKLE\"\n",
    "if os.path.exists(node2vec_path):\n",
    "    print('Node2Vec already calculated')\n",
    "else:\n",
    "    x = ''\n",
    "    while (x not in ['n', 'y']):\n",
    "        x = input(\"Node2Vec object not available, recompute? y/n: \")\n",
    "    if x == \"y\":\n",
    "        # Precompute probabilities and generate walks - **ON WINDOWS ONLY WORKS WITH workers=1**\n",
    "        node2vec = Node2Vec(graph, dimensions=64, walk_length=30, num_walks=200, workers=1)"
   ]
  },
  {
   "cell_type": "code",
   "execution_count": 11,
   "metadata": {},
   "outputs": [],
   "source": [
    "node2vec_model_path = r\"pickles/EMBEDDING_MODEL_FILENAME.model\"\n",
    "if os.path.exists(node2vec_model_path):\n",
    "    model = Word2Vec.load(node2vec_model_path)\n",
    "else:\n",
    "    x = ''\n",
    "    while (x not in ['n', 'y']):\n",
    "        x = input(\"Word2Vec model not available, recompute? y/n: \")\n",
    "    if x == \"y\":\n",
    "        # Embed nodes\n",
    "        model = node2vec.fit(window=10, min_count=1, batch_words=4)  # Any keywords acceptable by gensim.Word2Vec can be passed\n",
    "        # Save embeddings for later use\n",
    "        model.wv.save_word2vec_format('pickles/EMBEDDING_FILENAME.embed')\n",
    "        # Save model for later use\n",
    "        model.save('pickles/EMBEDDING_MODEL_FILENAME.model')"
   ]
  },
  {
   "cell_type": "code",
   "execution_count": 12,
   "metadata": {},
   "outputs": [],
   "source": [
    "# Embed edges using Hadamard method\n",
    "from node2vec.edges import HadamardEmbedder\n",
    "edges_embs = HadamardEmbedder(keyed_vectors=model.wv)"
   ]
  },
  {
   "cell_type": "code",
   "execution_count": 13,
   "metadata": {},
   "outputs": [
    {
     "name": "stderr",
     "output_type": "stream",
     "text": [
      "100%|███████████████████████████████████████████████████████████████████████████| 22689/22689 [00:43<00:00, 522.63it/s]\n"
     ]
    }
   ],
   "source": [
    "embed_size = len(edges_embs[('0', '1')])\n",
    "df_train = pd.DataFrame(0, index=np.arange(len(data_train_val)), columns=range(embed_size))\n",
    "j = []\n",
    "for j, i in tqdm(enumerate(data_train_val.index), position=0, leave=True, total = len(data_train_val)):\n",
    "    try:\n",
    "        df_train.loc[j] = edges_embs[(data_train_val.loc[i]['Node1'], data_train_val.loc[i]['Node2'])]\n",
    "    except:\n",
    "        df_train.loc[j] = np.zeros(embed_size)"
   ]
  },
  {
   "cell_type": "code",
   "execution_count": 14,
   "metadata": {},
   "outputs": [
    {
     "name": "stderr",
     "output_type": "stream",
     "text": [
      "100%|█████████████████████████████████████████████████████████████████████████| 113450/113450 [03:26<00:00, 549.66it/s]\n"
     ]
    }
   ],
   "source": [
    "embed_size = len(edges_embs[('0', '1')])\n",
    "df_test = pd.DataFrame(0, index=np.arange(len(testing)), columns=range(embed_size))\n",
    "j = []\n",
    "for i in tqdm(range(len(testing)), position=0, leave=True):\n",
    "    try:\n",
    "        df_test.loc[i] = edges_embs[(testing.loc[i]['Node1'], testing.loc[i]['Node2'])]\n",
    "    except:\n",
    "        df_test.loc[i] = np.zeros(embed_size)"
   ]
  },
  {
   "cell_type": "code",
   "execution_count": 54,
   "metadata": {},
   "outputs": [],
   "source": [
    "X = df_train\n",
    "y = data_train_val['Link']\n",
    "y = list(map(lambda i: int(i), y))\n",
    "\n",
    "X_train, X_test, y_train, y_test = train_test_split(X, y, test_size=0.15, random_state=1)"
   ]
  },
  {
   "cell_type": "code",
   "execution_count": 55,
   "metadata": {},
   "outputs": [
    {
     "name": "stdout",
     "output_type": "stream",
     "text": [
      "0.9309566787003611\n"
     ]
    }
   ],
   "source": [
    "lgbm = lightgbm.LGBMClassifier()\n",
    "model_lgbm = lgbm.fit(X_train, y_train)\n",
    "predictions = model_lgbm.predict(X_test)\n",
    "print(f1_score(y_test, predictions))"
   ]
  },
  {
   "cell_type": "code",
   "execution_count": 56,
   "metadata": {},
   "outputs": [],
   "source": [
    "lgbm = lightgbm.LGBMClassifier()\n",
    "model_lgbm = lgbm.fit(X, y)\n",
    "predictions = model_lgbm.predict(df_test)"
   ]
  },
  {
   "cell_type": "code",
   "execution_count": 47,
   "metadata": {},
   "outputs": [],
   "source": [
    "final_pred = pd.concat([pd.DataFrame(np.arange(len(df_test))), pd.DataFrame(predictions)],axis=1)\n",
    "final_pred.columns = ['id', 'predicted']\n",
    "with open(\"AverageEmbeder_node2vec_prediction.csv\",\"+w\") as pred:\n",
    "    csv_out = csv.writer(pred)\n",
    "    csv_out.writerow(['id','predicted'])\n",
    "    for index, row in final_pred.iterrows():\n",
    "        csv_out.writerow(row)"
   ]
  },
  {
   "cell_type": "markdown",
   "metadata": {},
   "source": [
    "## Boosting Node2Vec with simple features"
   ]
  },
  {
   "cell_type": "code",
   "execution_count": 48,
   "metadata": {},
   "outputs": [
    {
     "data": {
      "text/html": [
       "<div>\n",
       "<style scoped>\n",
       "    .dataframe tbody tr th:only-of-type {\n",
       "        vertical-align: middle;\n",
       "    }\n",
       "\n",
       "    .dataframe tbody tr th {\n",
       "        vertical-align: top;\n",
       "    }\n",
       "\n",
       "    .dataframe thead th {\n",
       "        text-align: right;\n",
       "    }\n",
       "</style>\n",
       "<table border=\"1\" class=\"dataframe\">\n",
       "  <thead>\n",
       "    <tr style=\"text-align: right;\">\n",
       "      <th></th>\n",
       "      <th>Node1</th>\n",
       "      <th>Node2</th>\n",
       "      <th>original_index</th>\n",
       "      <th>tfidf_similarity</th>\n",
       "      <th>languages_similarity</th>\n",
       "      <th>joint_length</th>\n",
       "      <th>file_distance</th>\n",
       "      <th>common_neighbors</th>\n",
       "      <th>jaccard_coefficient</th>\n",
       "      <th>shortest_path</th>\n",
       "      <th>...</th>\n",
       "      <th>54</th>\n",
       "      <th>55</th>\n",
       "      <th>56</th>\n",
       "      <th>57</th>\n",
       "      <th>58</th>\n",
       "      <th>59</th>\n",
       "      <th>60</th>\n",
       "      <th>61</th>\n",
       "      <th>62</th>\n",
       "      <th>63</th>\n",
       "    </tr>\n",
       "  </thead>\n",
       "  <tbody>\n",
       "    <tr>\n",
       "      <th>0</th>\n",
       "      <td>870</td>\n",
       "      <td>10284</td>\n",
       "      <td>0</td>\n",
       "      <td>0.020013</td>\n",
       "      <td>0.472353</td>\n",
       "      <td>2082371091</td>\n",
       "      <td>9414</td>\n",
       "      <td>0</td>\n",
       "      <td>0.000000</td>\n",
       "      <td>4</td>\n",
       "      <td>...</td>\n",
       "      <td>0.682929</td>\n",
       "      <td>2.761880</td>\n",
       "      <td>0.244700</td>\n",
       "      <td>-6.084877</td>\n",
       "      <td>6.286168</td>\n",
       "      <td>-2.657356</td>\n",
       "      <td>-2.966777</td>\n",
       "      <td>2.155311</td>\n",
       "      <td>0.804951</td>\n",
       "      <td>0.605295</td>\n",
       "    </tr>\n",
       "    <tr>\n",
       "      <th>1</th>\n",
       "      <td>620</td>\n",
       "      <td>15300</td>\n",
       "      <td>1</td>\n",
       "      <td>0.302197</td>\n",
       "      <td>0.968905</td>\n",
       "      <td>10964800</td>\n",
       "      <td>14680</td>\n",
       "      <td>12</td>\n",
       "      <td>0.044444</td>\n",
       "      <td>3</td>\n",
       "      <td>...</td>\n",
       "      <td>-1.682803</td>\n",
       "      <td>0.780734</td>\n",
       "      <td>-1.965949</td>\n",
       "      <td>-1.003307</td>\n",
       "      <td>0.188083</td>\n",
       "      <td>-5.698223</td>\n",
       "      <td>4.742330</td>\n",
       "      <td>0.585908</td>\n",
       "      <td>1.838359</td>\n",
       "      <td>3.553890</td>\n",
       "    </tr>\n",
       "    <tr>\n",
       "      <th>2</th>\n",
       "      <td>21115</td>\n",
       "      <td>31904</td>\n",
       "      <td>2</td>\n",
       "      <td>0.005682</td>\n",
       "      <td>0.976566</td>\n",
       "      <td>3102536</td>\n",
       "      <td>10789</td>\n",
       "      <td>0</td>\n",
       "      <td>0.000000</td>\n",
       "      <td>4</td>\n",
       "      <td>...</td>\n",
       "      <td>1.288029</td>\n",
       "      <td>-0.579455</td>\n",
       "      <td>1.404730</td>\n",
       "      <td>-1.514296</td>\n",
       "      <td>0.744953</td>\n",
       "      <td>4.597077</td>\n",
       "      <td>0.311776</td>\n",
       "      <td>-0.856986</td>\n",
       "      <td>-0.436704</td>\n",
       "      <td>1.654195</td>\n",
       "    </tr>\n",
       "    <tr>\n",
       "      <th>3</th>\n",
       "      <td>3021</td>\n",
       "      <td>28396</td>\n",
       "      <td>3</td>\n",
       "      <td>0.001427</td>\n",
       "      <td>0.438494</td>\n",
       "      <td>26860638</td>\n",
       "      <td>25375</td>\n",
       "      <td>0</td>\n",
       "      <td>0.000000</td>\n",
       "      <td>4</td>\n",
       "      <td>...</td>\n",
       "      <td>1.840344</td>\n",
       "      <td>1.492758</td>\n",
       "      <td>-2.146064</td>\n",
       "      <td>-2.758919</td>\n",
       "      <td>6.628351</td>\n",
       "      <td>-0.308831</td>\n",
       "      <td>2.672504</td>\n",
       "      <td>-0.499439</td>\n",
       "      <td>1.684016</td>\n",
       "      <td>0.930467</td>\n",
       "    </tr>\n",
       "    <tr>\n",
       "      <th>4</th>\n",
       "      <td>10780</td>\n",
       "      <td>6135</td>\n",
       "      <td>4</td>\n",
       "      <td>0.035456</td>\n",
       "      <td>0.524943</td>\n",
       "      <td>501323778</td>\n",
       "      <td>4645</td>\n",
       "      <td>8</td>\n",
       "      <td>0.177778</td>\n",
       "      <td>3</td>\n",
       "      <td>...</td>\n",
       "      <td>-3.180443</td>\n",
       "      <td>-1.906920</td>\n",
       "      <td>-1.674759</td>\n",
       "      <td>-0.000875</td>\n",
       "      <td>1.714788</td>\n",
       "      <td>-1.282201</td>\n",
       "      <td>-1.873245</td>\n",
       "      <td>-3.128888</td>\n",
       "      <td>1.393322</td>\n",
       "      <td>0.452016</td>\n",
       "    </tr>\n",
       "    <tr>\n",
       "      <th>...</th>\n",
       "      <td>...</td>\n",
       "      <td>...</td>\n",
       "      <td>...</td>\n",
       "      <td>...</td>\n",
       "      <td>...</td>\n",
       "      <td>...</td>\n",
       "      <td>...</td>\n",
       "      <td>...</td>\n",
       "      <td>...</td>\n",
       "      <td>...</td>\n",
       "      <td>...</td>\n",
       "      <td>...</td>\n",
       "      <td>...</td>\n",
       "      <td>...</td>\n",
       "      <td>...</td>\n",
       "      <td>...</td>\n",
       "      <td>...</td>\n",
       "      <td>...</td>\n",
       "      <td>...</td>\n",
       "      <td>...</td>\n",
       "      <td>...</td>\n",
       "    </tr>\n",
       "    <tr>\n",
       "      <th>113445</th>\n",
       "      <td>13419</td>\n",
       "      <td>13751</td>\n",
       "      <td>113445</td>\n",
       "      <td>0.038824</td>\n",
       "      <td>0.992118</td>\n",
       "      <td>1483618868</td>\n",
       "      <td>332</td>\n",
       "      <td>1</td>\n",
       "      <td>0.071429</td>\n",
       "      <td>3</td>\n",
       "      <td>...</td>\n",
       "      <td>-3.664458</td>\n",
       "      <td>-2.484407</td>\n",
       "      <td>-3.427358</td>\n",
       "      <td>-1.538757</td>\n",
       "      <td>-2.335713</td>\n",
       "      <td>-0.947735</td>\n",
       "      <td>-1.429542</td>\n",
       "      <td>-3.910299</td>\n",
       "      <td>4.516082</td>\n",
       "      <td>2.173953</td>\n",
       "    </tr>\n",
       "    <tr>\n",
       "      <th>113446</th>\n",
       "      <td>16696</td>\n",
       "      <td>20191</td>\n",
       "      <td>113446</td>\n",
       "      <td>0.000000</td>\n",
       "      <td>0.000000</td>\n",
       "      <td>319676</td>\n",
       "      <td>3495</td>\n",
       "      <td>0</td>\n",
       "      <td>0.000000</td>\n",
       "      <td>5</td>\n",
       "      <td>...</td>\n",
       "      <td>-2.919244</td>\n",
       "      <td>1.225435</td>\n",
       "      <td>-2.698772</td>\n",
       "      <td>-0.842231</td>\n",
       "      <td>-1.885366</td>\n",
       "      <td>0.277235</td>\n",
       "      <td>0.292737</td>\n",
       "      <td>3.812270</td>\n",
       "      <td>-2.406736</td>\n",
       "      <td>-0.085662</td>\n",
       "    </tr>\n",
       "    <tr>\n",
       "      <th>113447</th>\n",
       "      <td>10654</td>\n",
       "      <td>27692</td>\n",
       "      <td>113447</td>\n",
       "      <td>0.002498</td>\n",
       "      <td>0.269025</td>\n",
       "      <td>62737199</td>\n",
       "      <td>17038</td>\n",
       "      <td>0</td>\n",
       "      <td>0.000000</td>\n",
       "      <td>4</td>\n",
       "      <td>...</td>\n",
       "      <td>0.341870</td>\n",
       "      <td>-0.719824</td>\n",
       "      <td>-2.205982</td>\n",
       "      <td>-2.307344</td>\n",
       "      <td>4.334990</td>\n",
       "      <td>-2.287159</td>\n",
       "      <td>0.479497</td>\n",
       "      <td>-2.842239</td>\n",
       "      <td>-4.361457</td>\n",
       "      <td>0.681090</td>\n",
       "    </tr>\n",
       "    <tr>\n",
       "      <th>113448</th>\n",
       "      <td>5409</td>\n",
       "      <td>1668</td>\n",
       "      <td>113448</td>\n",
       "      <td>0.071846</td>\n",
       "      <td>0.992244</td>\n",
       "      <td>90309525</td>\n",
       "      <td>3741</td>\n",
       "      <td>6</td>\n",
       "      <td>0.027650</td>\n",
       "      <td>3</td>\n",
       "      <td>...</td>\n",
       "      <td>3.623226</td>\n",
       "      <td>-1.974130</td>\n",
       "      <td>-0.115279</td>\n",
       "      <td>-1.022006</td>\n",
       "      <td>-4.620026</td>\n",
       "      <td>-0.687236</td>\n",
       "      <td>0.385465</td>\n",
       "      <td>-0.534603</td>\n",
       "      <td>-0.936587</td>\n",
       "      <td>-1.095154</td>\n",
       "    </tr>\n",
       "    <tr>\n",
       "      <th>113449</th>\n",
       "      <td>1789</td>\n",
       "      <td>996</td>\n",
       "      <td>113449</td>\n",
       "      <td>0.017850</td>\n",
       "      <td>0.949696</td>\n",
       "      <td>1769704583</td>\n",
       "      <td>793</td>\n",
       "      <td>1</td>\n",
       "      <td>0.010753</td>\n",
       "      <td>3</td>\n",
       "      <td>...</td>\n",
       "      <td>-5.234083</td>\n",
       "      <td>-6.206059</td>\n",
       "      <td>-0.652501</td>\n",
       "      <td>1.446819</td>\n",
       "      <td>-0.003088</td>\n",
       "      <td>3.347928</td>\n",
       "      <td>1.545863</td>\n",
       "      <td>0.427544</td>\n",
       "      <td>5.433900</td>\n",
       "      <td>3.195120</td>\n",
       "    </tr>\n",
       "  </tbody>\n",
       "</table>\n",
       "<p>113450 rows × 83 columns</p>\n",
       "</div>"
      ],
      "text/plain": [
       "        Node1  Node2  original_index  tfidf_similarity  languages_similarity  \\\n",
       "0         870  10284               0          0.020013              0.472353   \n",
       "1         620  15300               1          0.302197              0.968905   \n",
       "2       21115  31904               2          0.005682              0.976566   \n",
       "3        3021  28396               3          0.001427              0.438494   \n",
       "4       10780   6135               4          0.035456              0.524943   \n",
       "...       ...    ...             ...               ...                   ...   \n",
       "113445  13419  13751          113445          0.038824              0.992118   \n",
       "113446  16696  20191          113446          0.000000              0.000000   \n",
       "113447  10654  27692          113447          0.002498              0.269025   \n",
       "113448   5409   1668          113448          0.071846              0.992244   \n",
       "113449   1789    996          113449          0.017850              0.949696   \n",
       "\n",
       "        joint_length  file_distance  common_neighbors  jaccard_coefficient  \\\n",
       "0         2082371091           9414                 0             0.000000   \n",
       "1           10964800          14680                12             0.044444   \n",
       "2            3102536          10789                 0             0.000000   \n",
       "3           26860638          25375                 0             0.000000   \n",
       "4          501323778           4645                 8             0.177778   \n",
       "...              ...            ...               ...                  ...   \n",
       "113445    1483618868            332                 1             0.071429   \n",
       "113446        319676           3495                 0             0.000000   \n",
       "113447      62737199          17038                 0             0.000000   \n",
       "113448      90309525           3741                 6             0.027650   \n",
       "113449    1769704583            793                 1             0.010753   \n",
       "\n",
       "        shortest_path  ...        54        55        56        57        58  \\\n",
       "0                   4  ...  0.682929  2.761880  0.244700 -6.084877  6.286168   \n",
       "1                   3  ... -1.682803  0.780734 -1.965949 -1.003307  0.188083   \n",
       "2                   4  ...  1.288029 -0.579455  1.404730 -1.514296  0.744953   \n",
       "3                   4  ...  1.840344  1.492758 -2.146064 -2.758919  6.628351   \n",
       "4                   3  ... -3.180443 -1.906920 -1.674759 -0.000875  1.714788   \n",
       "...               ...  ...       ...       ...       ...       ...       ...   \n",
       "113445              3  ... -3.664458 -2.484407 -3.427358 -1.538757 -2.335713   \n",
       "113446              5  ... -2.919244  1.225435 -2.698772 -0.842231 -1.885366   \n",
       "113447              4  ...  0.341870 -0.719824 -2.205982 -2.307344  4.334990   \n",
       "113448              3  ...  3.623226 -1.974130 -0.115279 -1.022006 -4.620026   \n",
       "113449              3  ... -5.234083 -6.206059 -0.652501  1.446819 -0.003088   \n",
       "\n",
       "              59        60        61        62        63  \n",
       "0      -2.657356 -2.966777  2.155311  0.804951  0.605295  \n",
       "1      -5.698223  4.742330  0.585908  1.838359  3.553890  \n",
       "2       4.597077  0.311776 -0.856986 -0.436704  1.654195  \n",
       "3      -0.308831  2.672504 -0.499439  1.684016  0.930467  \n",
       "4      -1.282201 -1.873245 -3.128888  1.393322  0.452016  \n",
       "...          ...       ...       ...       ...       ...  \n",
       "113445 -0.947735 -1.429542 -3.910299  4.516082  2.173953  \n",
       "113446  0.277235  0.292737  3.812270 -2.406736 -0.085662  \n",
       "113447 -2.287159  0.479497 -2.842239 -4.361457  0.681090  \n",
       "113448 -0.687236  0.385465 -0.534603 -0.936587 -1.095154  \n",
       "113449  3.347928  1.545863  0.427544  5.433900  3.195120  \n",
       "\n",
       "[113450 rows x 83 columns]"
      ]
     },
     "execution_count": 48,
     "metadata": {},
     "output_type": "execute_result"
    }
   ],
   "source": [
    "extended_model_train = pd.concat([perf_val_data, df_train], axis =1)\n",
    "extended_model_test = pd.concat([perf_test_data, df_test], axis =1)\n",
    "extended_model_test"
   ]
  },
  {
   "cell_type": "code",
   "execution_count": 73,
   "metadata": {},
   "outputs": [],
   "source": [
    "d_columns = ['original_index', 'Link', 'Node1', 'Node2']\n",
    "cols = [i for i in extended_model_train.columns if i not in d_columns]\n",
    "X = extended_model_train[cols]\n",
    "\n",
    "y = data_train_val['Link']\n",
    "y = list(map(lambda i: int(i), y))\n",
    "\n",
    "X_train, X_test, y_train, y_test = train_test_split(X, y, test_size=0.15, random_state=1)"
   ]
  },
  {
   "cell_type": "code",
   "execution_count": 74,
   "metadata": {},
   "outputs": [
    {
     "name": "stdout",
     "output_type": "stream",
     "text": [
      "0.949361313868613\n"
     ]
    }
   ],
   "source": [
    "lgbm = lightgbm.LGBMClassifier()\n",
    "model_lgbm = lgbm.fit(X_train, y_train)\n",
    "predictions = model_lgbm.predict(X_test)\n",
    "print(f1_score(y_test, predictions))"
   ]
  },
  {
   "cell_type": "code",
   "execution_count": 75,
   "metadata": {},
   "outputs": [],
   "source": [
    "features = pd.DataFrame()\n",
    "features['feature'] = X.columns\n",
    "features['importance'] = model_lgbm.feature_importances_\n",
    "features.sort_values(by=['importance'], ascending=False, inplace=True)\n",
    "features.set_index('feature', inplace=True)"
   ]
  },
  {
   "cell_type": "code",
   "execution_count": 76,
   "metadata": {},
   "outputs": [
    {
     "data": {
      "image/png": "[encoded data removed]",
      "text/plain": [
       "<Figure size 1080x360 with 1 Axes>"
      ]
     },
     "metadata": {
      "needs_background": "light"
     },
     "output_type": "display_data"
    }
   ],
   "source": [
    "importance = np.array(features.values.reshape(-1))\n",
    "importance = list(importance/importance.sum(axis=0,keepdims=1))\n",
    "\n",
    "bars = list(features.index.values)\n",
    "\n",
    "y_pos = np.arange(len(bars))\n",
    "\n",
    "fig, ax = plt.subplots(figsize=(15,5))\n",
    "\n",
    "# Create horizontal bars\n",
    "plt.barh(y_pos, importance)\n",
    "\n",
    "# Create names on the y-axis\n",
    "plt.yticks(y_pos, bars)\n",
    "# Add title\n",
    "plt.title(\"Relative Feature Importance\")\n",
    "\n",
    "# Show graphic\n",
    "plt.show()"
   ]
  },
  {
   "cell_type": "code",
   "execution_count": 60,
   "metadata": {},
   "outputs": [],
   "source": [
    "lgbm = lightgbm.LGBMClassifier()\n",
    "model_lgbm = lgbm.fit(X, y)\n",
    "predictions = model_lgbm.predict(extended_model_test[cols])"
   ]
  },
  {
   "cell_type": "code",
   "execution_count": 72,
   "metadata": {},
   "outputs": [],
   "source": [
    "final_pred = pd.concat([pd.DataFrame(np.arange(len(df_test))), pd.DataFrame(predictions)],axis=1)\n",
    "final_pred.columns = ['id', 'predicted']\n",
    "with open(\"AverageEmbeder_augmented_ensemble_prediction.csv\",\"+w\") as pred:\n",
    "    csv_out = csv.writer(pred)\n",
    "    csv_out.writerow(['id','predicted'])\n",
    "    for index, row in final_pred.iterrows():\n",
    "        csv_out.writerow(row)"
   ]
  },
  {
   "cell_type": "code",
   "execution_count": 62,
   "metadata": {},
   "outputs": [
    {
     "name": "stdout",
     "output_type": "stream",
     "text": [
      "0.9423296102119899\n"
     ]
    }
   ],
   "source": [
    "d_columns = ['original_index', 'Link', 'Node1', 'Node2']\n",
    "cols = [i for i in perf_val_data.columns if i not in d_columns]\n",
    "X = perf_val_data[cols]\n",
    "y = data_train_val['Link']\n",
    "y = list(map(lambda i: int(i), y))\n",
    "X_train, X_test, y_train, y_test = train_test_split(X, y, test_size=0.15, random_state=1)\n",
    "lgbm = lightgbm.LGBMClassifier()\n",
    "model_lgbm = lgbm.fit(X_train, y_train)\n",
    "predictions = model_lgbm.predict(X_test)\n",
    "print(f1_score(y_test, predictions))"
   ]
  },
  {
   "cell_type": "code",
   "execution_count": 69,
   "metadata": {},
   "outputs": [],
   "source": [
    "lgbm = lightgbm.LGBMClassifier()\n",
    "model_lgbm = lgbm.fit(X, y)\n",
    "predictions = model_lgbm.predict(extended_model_test[cols])"
   ]
  },
  {
   "cell_type": "markdown",
   "metadata": {},
   "source": [
    "## Creating simple ensemble"
   ]
  },
  {
   "cell_type": "code",
   "execution_count": 61,
   "metadata": {},
   "outputs": [],
   "source": [
    "extended_features_predictions = predictions"
   ]
  },
  {
   "cell_type": "code",
   "execution_count": 57,
   "metadata": {},
   "outputs": [],
   "source": [
    "node2vec_predictions = predictions"
   ]
  },
  {
   "cell_type": "code",
   "execution_count": 70,
   "metadata": {},
   "outputs": [],
   "source": [
    "simple_predictions = predictions"
   ]
  },
  {
   "cell_type": "code",
   "execution_count": 71,
   "metadata": {},
   "outputs": [
    {
     "data": {
      "text/plain": [
       "array([1, 1, 0, ..., 0, 1, 1])"
      ]
     },
     "execution_count": 71,
     "metadata": {},
     "output_type": "execute_result"
    }
   ],
   "source": [
    "predictions = np.array([int(i) for i in ((simple_predictions + node2vec_predictions + extended_features_predictions) >= 2)])\n",
    "predictions\n",
    "\n"
   ]
  },
  {
   "cell_type": "code",
   "execution_count": 68,
   "metadata": {},
   "outputs": [
    {
     "data": {
      "text/plain": [
       "3404"
      ]
     },
     "execution_count": 68,
     "metadata": {},
     "output_type": "execute_result"
    }
   ],
   "source": [
    "len(simple_predictions)"
   ]
  },
  {
   "cell_type": "code",
   "execution_count": 102,
   "metadata": {},
   "outputs": [
    {
     "name": "stdout",
     "output_type": "stream",
     "text": [
      "0.9482523831139356\n"
     ]
    }
   ],
   "source": [
    "print(f1_score(y_test, predictions))"
   ]
  },
  {
   "cell_type": "code",
   "execution_count": 118,
   "metadata": {},
   "outputs": [
    {
     "data": {
      "text/plain": [
       "99869"
      ]
     },
     "execution_count": 118,
     "metadata": {},
     "output_type": "execute_result"
    }
   ],
   "source": [
    "sum(simple_predictions == node2vec_predictions)"
   ]
  },
  {
   "cell_type": "code",
   "execution_count": 119,
   "metadata": {},
   "outputs": [
    {
     "data": {
      "text/plain": [
       "102331"
      ]
     },
     "execution_count": 119,
     "metadata": {},
     "output_type": "execute_result"
    }
   ],
   "source": [
    "sum(extended_features_predictions == node2vec_predictions)"
   ]
  },
  {
   "cell_type": "code",
   "execution_count": 120,
   "metadata": {},
   "outputs": [
    {
     "data": {
      "text/plain": [
       "109126"
      ]
     },
     "execution_count": 120,
     "metadata": {},
     "output_type": "execute_result"
    }
   ],
   "source": [
    "sum(simple_predictions == extended_features_predictions)"
   ]
  },
  {
   "cell_type": "markdown",
   "metadata": {},
   "source": [
    "## Testing best model"
   ]
  },
  {
   "cell_type": "code",
   "execution_count": 23,
   "metadata": {},
   "outputs": [],
   "source": [
    "node2vec_path = r\"pickles/NODE2VEC.PICKLE\"\n",
    "if os.path.exists(node2vec_path):\n",
    "    with open(node2vec_path, 'rb') as f:\n",
    "        node2vec = pickle.load(f)\n",
    "    f.close()"
   ]
  },
  {
   "cell_type": "code",
   "execution_count": 24,
   "metadata": {},
   "outputs": [
    {
     "name": "stderr",
     "output_type": "stream",
     "text": [
      "100%|███████████████████████████████████████████████████████████████████████████| 22689/22689 [00:49<00:00, 456.48it/s]\n"
     ]
    },
    {
     "name": "stdout",
     "output_type": "stream",
     "text": [
      "0.9111969111969113\n"
     ]
    }
   ],
   "source": [
    "model = node2vec.fit(window=20, min_count=25, batch_words=10)  # Any keywords acceptable by gensim.Word2Vec can be passed\n",
    "# Embed edges using Hadamard method\n",
    "from node2vec.edges import HadamardEmbedder\n",
    "edges_embs = HadamardEmbedder(keyed_vectors=model.wv)\n",
    "\n",
    "embed_size = len(edges_embs[('0', '1')])\n",
    "df_train = pd.DataFrame(0, index=np.arange(len(data_train_val)), columns=range(embed_size))\n",
    "j = []\n",
    "for j, i in tqdm(enumerate(data_train_val.index), position=0, leave=True, total = len(data_train_val)):\n",
    "    try:\n",
    "        df_train.loc[j] = edges_embs[(data_train_val.loc[i]['Node1'], data_train_val.loc[i]['Node2'])]\n",
    "    except:\n",
    "        df_train.loc[j] = np.zeros(embed_size)\n",
    "X = df_train\n",
    "y = data_train_val['Link']\n",
    "y = list(map(lambda i: int(i), y))\n",
    "\n",
    "X_train, X_test, y_train, y_test = train_test_split(X, y, test_size=0.15, random_state=1)\n",
    "lgbm = lightgbm.LGBMClassifier()\n",
    "model_lgbm = lgbm.fit(X_train, y_train)\n",
    "predictions = model_lgbm.predict(X_test)\n",
    "print(f1_score(y_test, predictions))"
   ]
  },
  {
   "cell_type": "code",
   "execution_count": 25,
   "metadata": {},
   "outputs": [
    {
     "name": "stderr",
     "output_type": "stream",
     "text": [
      "100%|███████████████████████████████████████████████████████████████████████████| 22689/22689 [01:06<00:00, 339.83it/s]\n"
     ]
    },
    {
     "name": "stdout",
     "output_type": "stream",
     "text": [
      "0.909952606635071\n"
     ]
    }
   ],
   "source": [
    "model = node2vec.fit(window=5, min_count=20, batch_words=10)  # Any keywords acceptable by gensim.Word2Vec can be passed\n",
    "# Embed edges using Hadamard method\n",
    "from node2vec.edges import HadamardEmbedder\n",
    "edges_embs = HadamardEmbedder(keyed_vectors=model.wv)\n",
    "\n",
    "embed_size = len(edges_embs[('0', '1')])\n",
    "df_train = pd.DataFrame(0, index=np.arange(len(data_train_val)), columns=range(embed_size))\n",
    "j = []\n",
    "for j, i in tqdm(enumerate(data_train_val.index), position=0, leave=True, total = len(data_train_val)):\n",
    "    try:\n",
    "        df_train.loc[j] = edges_embs[(data_train_val.loc[i]['Node1'], data_train_val.loc[i]['Node2'])]\n",
    "    except:\n",
    "        df_train.loc[j] = np.zeros(embed_size)\n",
    "X = df_train\n",
    "y = data_train_val['Link']\n",
    "y = list(map(lambda i: int(i), y))\n",
    "\n",
    "X_train, X_test, y_train, y_test = train_test_split(X, y, test_size=0.15, random_state=1)\n",
    "lgbm = lightgbm.LGBMClassifier()\n",
    "model_lgbm = lgbm.fit(X_train, y_train)\n",
    "predictions = model_lgbm.predict(X_test)\n",
    "print(f1_score(y_test, predictions))"
   ]
  },
  {
   "cell_type": "code",
   "execution_count": 26,
   "metadata": {},
   "outputs": [
    {
     "name": "stderr",
     "output_type": "stream",
     "text": [
      "100%|███████████████████████████████████████████████████████████████████████████| 22689/22689 [00:46<00:00, 489.57it/s]\n"
     ]
    },
    {
     "name": "stdout",
     "output_type": "stream",
     "text": [
      "0.9146204100022527\n"
     ]
    }
   ],
   "source": [
    "model = node2vec.fit(window=10, min_count=40, batch_words=4)  # Any keywords acceptable by gensim.Word2Vec can be passed\n",
    "# Embed edges using Hadamard method\n",
    "from node2vec.edges import HadamardEmbedder\n",
    "edges_embs = HadamardEmbedder(keyed_vectors=model.wv)\n",
    "\n",
    "embed_size = len(edges_embs[('0', '1')])\n",
    "df_train = pd.DataFrame(0, index=np.arange(len(data_train_val)), columns=range(embed_size))\n",
    "j = []\n",
    "for j, i in tqdm(enumerate(data_train_val.index), position=0, leave=True, total = len(data_train_val)):\n",
    "    try:\n",
    "        df_train.loc[j] = edges_embs[(data_train_val.loc[i]['Node1'], data_train_val.loc[i]['Node2'])]\n",
    "    except:\n",
    "        df_train.loc[j] = np.zeros(embed_size)\n",
    "X = df_train\n",
    "y = data_train_val['Link']\n",
    "y = list(map(lambda i: int(i), y))\n",
    "\n",
    "X_train, X_test, y_train, y_test = train_test_split(X, y, test_size=0.15, random_state=1)\n",
    "lgbm = lightgbm.LGBMClassifier()\n",
    "model_lgbm = lgbm.fit(X_train, y_train)\n",
    "predictions = model_lgbm.predict(X_test)\n",
    "print(f1_score(y_test, predictions))"
   ]
  },
  {
   "cell_type": "code",
   "execution_count": 27,
   "metadata": {},
   "outputs": [
    {
     "name": "stderr",
     "output_type": "stream",
     "text": [
      "100%|███████████████████████████████████████████████████████████████████████████| 22689/22689 [00:59<00:00, 382.90it/s]\n"
     ]
    },
    {
     "name": "stdout",
     "output_type": "stream",
     "text": [
      "0.909952606635071\n"
     ]
    }
   ],
   "source": [
    "model = node2vec.fit(window=5, min_count=40, batch_words=4)  # Any keywords acceptable by gensim.Word2Vec can be passed\n",
    "# Embed edges using Hadamard method\n",
    "from node2vec.edges import HadamardEmbedder\n",
    "edges_embs = HadamardEmbedder(keyed_vectors=model.wv)\n",
    "\n",
    "embed_size = len(edges_embs[('0', '1')])\n",
    "df_train = pd.DataFrame(0, index=np.arange(len(data_train_val)), columns=range(embed_size))\n",
    "j = []\n",
    "for j, i in tqdm(enumerate(data_train_val.index), position=0, leave=True, total = len(data_train_val)):\n",
    "    try:\n",
    "        df_train.loc[j] = edges_embs[(data_train_val.loc[i]['Node1'], data_train_val.loc[i]['Node2'])]\n",
    "    except:\n",
    "        df_train.loc[j] = np.zeros(embed_size)\n",
    "X = df_train\n",
    "y = data_train_val['Link']\n",
    "y = list(map(lambda i: int(i), y))\n",
    "\n",
    "X_train, X_test, y_train, y_test = train_test_split(X, y, test_size=0.15, random_state=1)\n",
    "lgbm = lightgbm.LGBMClassifier()\n",
    "model_lgbm = lgbm.fit(X_train, y_train)\n",
    "predictions = model_lgbm.predict(X_test)\n",
    "print(f1_score(y_test, predictions))"
   ]
  },
  {
   "cell_type": "code",
   "execution_count": 28,
   "metadata": {},
   "outputs": [
    {
     "name": "stderr",
     "output_type": "stream",
     "text": [
      "100%|███████████████████████████████████████████████████████████████████████████| 22689/22689 [00:52<00:00, 433.22it/s]\n"
     ]
    },
    {
     "name": "stdout",
     "output_type": "stream",
     "text": [
      "0.9010592742844264\n"
     ]
    }
   ],
   "source": [
    "model = node2vec.fit(window=40, min_count=40, batch_words=4)  # Any keywords acceptable by gensim.Word2Vec can be passed\n",
    "# Embed edges using Hadamard method\n",
    "from node2vec.edges import HadamardEmbedder\n",
    "edges_embs = HadamardEmbedder(keyed_vectors=model.wv)\n",
    "\n",
    "embed_size = len(edges_embs[('0', '1')])\n",
    "df_train = pd.DataFrame(0, index=np.arange(len(data_train_val)), columns=range(embed_size))\n",
    "j = []\n",
    "for j, i in tqdm(enumerate(data_train_val.index), position=0, leave=True, total = len(data_train_val)):\n",
    "    try:\n",
    "        df_train.loc[j] = edges_embs[(data_train_val.loc[i]['Node1'], data_train_val.loc[i]['Node2'])]\n",
    "    except:\n",
    "        df_train.loc[j] = np.zeros(embed_size)\n",
    "X = df_train\n",
    "y = data_train_val['Link']\n",
    "y = list(map(lambda i: int(i), y))\n",
    "\n",
    "X_train, X_test, y_train, y_test = train_test_split(X, y, test_size=0.15, random_state=1)\n",
    "lgbm = lightgbm.LGBMClassifier()\n",
    "model_lgbm = lgbm.fit(X_train, y_train)\n",
    "predictions = model_lgbm.predict(X_test)\n",
    "print(f1_score(y_test, predictions))"
   ]
  },
  {
   "cell_type": "code",
   "execution_count": 29,
   "metadata": {},
   "outputs": [
    {
     "name": "stderr",
     "output_type": "stream",
     "text": [
      "100%|███████████████████████████████████████████████████████████████████████████| 22689/22689 [00:50<00:00, 450.44it/s]\n"
     ]
    },
    {
     "name": "stdout",
     "output_type": "stream",
     "text": [
      "0.9146204100022527\n"
     ]
    }
   ],
   "source": [
    "model = node2vec.fit(window=10, min_count=40, batch_words=2)  # Any keywords acceptable by gensim.Word2Vec can be passed\n",
    "# Embed edges using Hadamard method\n",
    "from node2vec.edges import HadamardEmbedder\n",
    "edges_embs = HadamardEmbedder(keyed_vectors=model.wv)\n",
    "\n",
    "embed_size = len(edges_embs[('0', '1')])\n",
    "df_train = pd.DataFrame(0, index=np.arange(len(data_train_val)), columns=range(embed_size))\n",
    "j = []\n",
    "for j, i in tqdm(enumerate(data_train_val.index), position=0, leave=True, total = len(data_train_val)):\n",
    "    try:\n",
    "        df_train.loc[j] = edges_embs[(data_train_val.loc[i]['Node1'], data_train_val.loc[i]['Node2'])]\n",
    "    except:\n",
    "        df_train.loc[j] = np.zeros(embed_size)\n",
    "X = df_train\n",
    "y = data_train_val['Link']\n",
    "y = list(map(lambda i: int(i), y))\n",
    "\n",
    "X_train, X_test, y_train, y_test = train_test_split(X, y, test_size=0.15, random_state=1)\n",
    "lgbm = lightgbm.LGBMClassifier()\n",
    "model_lgbm = lgbm.fit(X_train, y_train)\n",
    "predictions = model_lgbm.predict(X_test)\n",
    "print(f1_score(y_test, predictions))"
   ]
  },
  {
   "cell_type": "code",
   "execution_count": 31,
   "metadata": {},
   "outputs": [
    {
     "name": "stderr",
     "output_type": "stream",
     "text": [
      "100%|███████████████████████████████████████████████████████████████████████████| 22689/22689 [00:50<00:00, 447.07it/s]\n"
     ]
    },
    {
     "name": "stdout",
     "output_type": "stream",
     "text": [
      "0.9111411817771764\n"
     ]
    }
   ],
   "source": [
    "model = node2vec.fit(window=15, min_count=40, batch_words=1)  # Any keywords acceptable by gensim.Word2Vec can be passed\n",
    "# Embed edges using Hadamard method\n",
    "from node2vec.edges import HadamardEmbedder\n",
    "edges_embs = HadamardEmbedder(keyed_vectors=model.wv)\n",
    "\n",
    "embed_size = len(edges_embs[('0', '1')])\n",
    "df_train = pd.DataFrame(0, index=np.arange(len(data_train_val)), columns=range(embed_size))\n",
    "j = []\n",
    "for j, i in tqdm(enumerate(data_train_val.index), position=0, leave=True, total = len(data_train_val)):\n",
    "    try:\n",
    "        df_train.loc[j] = edges_embs[(data_train_val.loc[i]['Node1'], data_train_val.loc[i]['Node2'])]\n",
    "    except:\n",
    "        df_train.loc[j] = np.zeros(embed_size)\n",
    "X = df_train\n",
    "y = data_train_val['Link']\n",
    "y = list(map(lambda i: int(i), y))\n",
    "\n",
    "X_train, X_test, y_train, y_test = train_test_split(X, y, test_size=0.15, random_state=1)\n",
    "lgbm = lightgbm.LGBMClassifier()\n",
    "model_lgbm = lgbm.fit(X_train, y_train)\n",
    "predictions = model_lgbm.predict(X_test)\n",
    "print(f1_score(y_test, predictions))"
   ]
  },
  {
   "cell_type": "code",
   "execution_count": 32,
   "metadata": {},
   "outputs": [
    {
     "name": "stderr",
     "output_type": "stream",
     "text": [
      "100%|███████████████████████████████████████████████████████████████████████████| 22689/22689 [00:54<00:00, 417.62it/s]\n"
     ]
    },
    {
     "name": "stdout",
     "output_type": "stream",
     "text": [
      "0.9146204100022527\n"
     ]
    }
   ],
   "source": [
    "model = node2vec.fit(window=10, min_count=100, batch_words=4)  # Any keywords acceptable by gensim.Word2Vec can be passed\n",
    "# Embed edges using Hadamard method\n",
    "from node2vec.edges import HadamardEmbedder\n",
    "edges_embs = HadamardEmbedder(keyed_vectors=model.wv)\n",
    "\n",
    "embed_size = len(edges_embs[('0', '1')])\n",
    "df_train = pd.DataFrame(0, index=np.arange(len(data_train_val)), columns=range(embed_size))\n",
    "j = []\n",
    "for j, i in tqdm(enumerate(data_train_val.index), position=0, leave=True, total = len(data_train_val)):\n",
    "    try:\n",
    "        df_train.loc[j] = edges_embs[(data_train_val.loc[i]['Node1'], data_train_val.loc[i]['Node2'])]\n",
    "    except:\n",
    "        df_train.loc[j] = np.zeros(embed_size)\n",
    "X = df_train\n",
    "y = data_train_val['Link']\n",
    "y = list(map(lambda i: int(i), y))\n",
    "\n",
    "X_train, X_test, y_train, y_test = train_test_split(X, y, test_size=0.15, random_state=1)\n",
    "lgbm = lightgbm.LGBMClassifier()\n",
    "model_lgbm = lgbm.fit(X_train, y_train)\n",
    "predictions = model_lgbm.predict(X_test)\n",
    "print(f1_score(y_test, predictions))"
   ]
  },
  {
   "cell_type": "code",
   "execution_count": 38,
   "metadata": {},
   "outputs": [],
   "source": [
    "from node2vec.edges import WeightedL1Embedder\n",
    "from node2vec.edges import WeightedL2Embedder\n",
    "from node2vec.edges import AverageEmbedder\n",
    "from node2vec.edges import HadamardEmbedder"
   ]
  },
  {
   "cell_type": "code",
   "execution_count": 39,
   "metadata": {},
   "outputs": [
    {
     "name": "stderr",
     "output_type": "stream",
     "text": [
      "100%|███████████████████████████████████████████████████████████████████████████| 22689/22689 [00:58<00:00, 389.13it/s]\n"
     ]
    },
    {
     "name": "stdout",
     "output_type": "stream",
     "text": [
      "0.8150208623087621\n"
     ]
    }
   ],
   "source": [
    "#edges_embs = HadamardEmbedder(keyed_vectors=model.wv)\n",
    "edges_embs = WeightedL1Embedder(keyed_vectors=model.wv)\n",
    "\n",
    "embed_size = len(edges_embs[('0', '1')])\n",
    "df_train = pd.DataFrame(0, index=np.arange(len(data_train_val)), columns=range(embed_size))\n",
    "j = []\n",
    "for j, i in tqdm(enumerate(data_train_val.index), position=0, leave=True, total = len(data_train_val)):\n",
    "    try:\n",
    "        df_train.loc[j] = edges_embs[(data_train_val.loc[i]['Node1'], data_train_val.loc[i]['Node2'])]\n",
    "    except:\n",
    "        df_train.loc[j] = np.zeros(embed_size)\n",
    "X = df_train\n",
    "y = data_train_val['Link']\n",
    "y = list(map(lambda i: int(i), y))\n",
    "\n",
    "X_train, X_test, y_train, y_test = train_test_split(X, y, test_size=0.15, random_state=1)\n",
    "lgbm = lightgbm.LGBMClassifier()\n",
    "model_lgbm = lgbm.fit(X_train, y_train)\n",
    "predictions = model_lgbm.predict(X_test)\n",
    "print(f1_score(y_test, predictions))"
   ]
  },
  {
   "cell_type": "code",
   "execution_count": 40,
   "metadata": {},
   "outputs": [
    {
     "name": "stderr",
     "output_type": "stream",
     "text": [
      "100%|███████████████████████████████████████████████████████████████████████████| 22689/22689 [00:52<00:00, 430.60it/s]\n"
     ]
    },
    {
     "name": "stdout",
     "output_type": "stream",
     "text": [
      "0.8150208623087621\n"
     ]
    }
   ],
   "source": [
    "edges_embs = WeightedL2Embedder(keyed_vectors=model.wv)\n",
    "\n",
    "embed_size = len(edges_embs[('0', '1')])\n",
    "df_train = pd.DataFrame(0, index=np.arange(len(data_train_val)), columns=range(embed_size))\n",
    "j = []\n",
    "for j, i in tqdm(enumerate(data_train_val.index), position=0, leave=True, total = len(data_train_val)):\n",
    "    try:\n",
    "        df_train.loc[j] = edges_embs[(data_train_val.loc[i]['Node1'], data_train_val.loc[i]['Node2'])]\n",
    "    except:\n",
    "        df_train.loc[j] = np.zeros(embed_size)\n",
    "X = df_train\n",
    "y = data_train_val['Link']\n",
    "y = list(map(lambda i: int(i), y))\n",
    "\n",
    "X_train, X_test, y_train, y_test = train_test_split(X, y, test_size=0.15, random_state=1)\n",
    "lgbm = lightgbm.LGBMClassifier()\n",
    "model_lgbm = lgbm.fit(X_train, y_train)\n",
    "predictions = model_lgbm.predict(X_test)\n",
    "print(f1_score(y_test, predictions))"
   ]
  },
  {
   "cell_type": "code",
   "execution_count": 41,
   "metadata": {},
   "outputs": [
    {
     "name": "stderr",
     "output_type": "stream",
     "text": [
      "100%|███████████████████████████████████████████████████████████████████████████| 22689/22689 [00:55<00:00, 408.52it/s]\n"
     ]
    },
    {
     "name": "stdout",
     "output_type": "stream",
     "text": [
      "0.9309566787003611\n"
     ]
    }
   ],
   "source": [
    "edges_embs = AverageEmbedder(keyed_vectors=model.wv)\n",
    "\n",
    "embed_size = len(edges_embs[('0', '1')])\n",
    "df_train = pd.DataFrame(0, index=np.arange(len(data_train_val)), columns=range(embed_size))\n",
    "j = []\n",
    "for j, i in tqdm(enumerate(data_train_val.index), position=0, leave=True, total = len(data_train_val)):\n",
    "    try:\n",
    "        df_train.loc[j] = edges_embs[(data_train_val.loc[i]['Node1'], data_train_val.loc[i]['Node2'])]\n",
    "    except:\n",
    "        df_train.loc[j] = np.zeros(embed_size)\n",
    "X = df_train\n",
    "y = data_train_val['Link']\n",
    "y = list(map(lambda i: int(i), y))\n",
    "\n",
    "X_train, X_test, y_train, y_test = train_test_split(X, y, test_size=0.15, random_state=1)\n",
    "lgbm = lightgbm.LGBMClassifier()\n",
    "model_lgbm = lgbm.fit(X_train, y_train)\n",
    "predictions = model_lgbm.predict(X_test)\n",
    "print(f1_score(y_test, predictions))"
   ]
  },
  {
   "cell_type": "code",
   "execution_count": 43,
   "metadata": {},
   "outputs": [
    {
     "name": "stderr",
     "output_type": "stream",
     "text": [
      "100%|█████████████████████████████████████████████████████████████████████████| 113450/113450 [04:55<00:00, 383.91it/s]\n"
     ]
    }
   ],
   "source": [
    "embed_size = len(edges_embs[('0', '1')])\n",
    "df_test = pd.DataFrame(0, index=np.arange(len(testing)), columns=range(embed_size))\n",
    "j = []\n",
    "for i in tqdm(range(len(testing)), position=0, leave=True):\n",
    "    try:\n",
    "        df_test.loc[i] = edges_embs[(testing.loc[i]['Node1'], testing.loc[i]['Node2'])]\n",
    "    except:\n",
    "        df_test.loc[i] = np.zeros(embed_size)"
   ]
  },
  {
   "cell_type": "code",
   "execution_count": null,
   "metadata": {},
   "outputs": [],
   "source": []
  }
 ],
 "metadata": {
  "kernelspec": {
   "display_name": "Python 3",
   "language": "python",
   "name": "python3"
  },
  "language_info": {
   "codemirror_mode": {
    "name": "ipython",
    "version": 3
   },
   "file_extension": ".py",
   "mimetype": "text/x-python",
   "name": "python",
   "nbconvert_exporter": "python",
   "pygments_lexer": "ipython3",
   "version": "3.7.4"
  }
 },
 "nbformat": 4,
 "nbformat_minor": 2
}
