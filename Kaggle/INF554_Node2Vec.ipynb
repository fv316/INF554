{
 "cells": [
  {
   "cell_type": "markdown",
   "metadata": {},
   "source": [
    "# INF554 Team ==Baseline== Node2Vec Feature Extraction and Model Training\n",
    "### Francisco, Alex and Aksel"
   ]
  },
  {
   "cell_type": "markdown",
   "metadata": {},
   "source": [
    "## 1.1 Importing Libraries and Loading the Datasets"
   ]
  },
  {
   "cell_type": "code",
   "execution_count": 1,
   "metadata": {},
   "outputs": [
    {
     "name": "stderr",
     "output_type": "stream",
     "text": [
      "Using TensorFlow backend.\n"
     ]
    }
   ],
   "source": [
    "import random\n",
    "import numpy as np\n",
    "import pandas as pd\n",
    "import csv\n",
    "from tqdm import tqdm\n",
    "import seaborn as sns\n",
    "import os\n",
    "import networkx as nx\n",
    "import pdb\n",
    "import pickle\n",
    "from collections import Counter\n",
    "from sklearn import svm\n",
    "from sklearn.feature_extraction.text import TfidfVectorizer\n",
    "from sklearn.metrics.pairwise import linear_kernel\n",
    "from sklearn import preprocessing\n",
    "from sklearn.linear_model import LogisticRegression\n",
    "from sklearn.ensemble import RandomForestClassifier\n",
    "from sklearn.ensemble import GradientBoostingClassifier\n",
    "from sklearn.ensemble import BaggingClassifier\n",
    "from sklearn.neighbors import KNeighborsClassifier\n",
    "from sklearn.neural_network import MLPClassifier\n",
    "from sklearn.svm import SVC\n",
    "from sklearn.model_selection import train_test_split\n",
    "from sklearn.metrics import f1_score, precision_score, recall_score, accuracy_score\n",
    "from sklearn.feature_extraction import text as fe\n",
    "from sklearn.decomposition import NMF, LatentDirichletAllocation\n",
    "import matplotlib.pyplot as plt\n",
    "import datetime\n",
    "import time\n",
    "import keras\n",
    "import lightgbm\n",
    "import spacy\n",
    "from nltk import wordpunct_tokenize\n",
    "from nltk.corpus import stopwords\n",
    "import nltk\n",
    "from hyperopt import STATUS_OK, Trials, hp, space_eval, tpe, fmin"
   ]
  },
  {
   "cell_type": "markdown",
   "metadata": {},
   "source": [
    "Note: running all of the following feature extraction cells will take a long time. However, after running for the first time the computationally intensive part of the feature is pickled and so can be easily calculated in subsequent runs. Many of the cells (especially in the feature extraction section) will use this technique."
   ]
  },
  {
   "cell_type": "code",
   "execution_count": 2,
   "metadata": {},
   "outputs": [
    {
     "name": "stdout",
     "output_type": "stream",
     "text": [
      "Training examples shape: (453797, 3)\n",
      "Testing examples shape: (113450, 2)\n"
     ]
    }
   ],
   "source": [
    "with open(r\"training.txt\", \"r\") as f:\n",
    "    reader = csv.reader(f)\n",
    "    training  = list(reader)\n",
    "# in order of training examples\n",
    "training = [element[0].split(\" \") for element in training]\n",
    "training = pd.DataFrame(training, columns=['Node1', 'Node2', 'Link'])\n",
    "print(\"Training examples shape: {}\".format(training.shape))\n",
    "\n",
    "with open(r\"testing.txt\", \"r\") as f:\n",
    "    reader = csv.reader(f)\n",
    "    testing  = list(reader)\n",
    "# in order of testing examples\n",
    "testing = [element[0].split(\" \") for element in testing]\n",
    "testing = pd.DataFrame(testing, columns=['Node1', 'Node2'])\n",
    "print(\"Testing examples shape: {}\".format(testing.shape))"
   ]
  },
  {
   "cell_type": "code",
   "execution_count": 3,
   "metadata": {},
   "outputs": [],
   "source": [
    "# directory to store extracted features\n",
    "if not os.path.exists(r'pickles'):\n",
    "    os.mkdir(r'pickles')"
   ]
  },
  {
   "cell_type": "code",
   "execution_count": 4,
   "metadata": {},
   "outputs": [],
   "source": [
    "'''\n",
    "load the corpus one file at a time, remove spaces and convert to lower case\n",
    "'''\n",
    "NODE_INFO_DIRECTORY = r\"node_information/text/\"\n",
    "\n",
    "corpus_path = r\"pickles/simple_corpus.PICKLE\" \n",
    "ids_path = r\"pickles/ids.PICKLE\"\n",
    "if os.path.exists(corpus_path):\n",
    "    with open(corpus_path, 'rb') as f:\n",
    "        corpus = pickle.load(f)\n",
    "    f.close()\n",
    "    with open(ids_path, 'rb') as f:\n",
    "        ids = pickle.load(f)\n",
    "    f.close()\n",
    "else:\n",
    "    corpus = []\n",
    "    ids = []\n",
    "    for filename in tqdm(os.listdir(NODE_INFO_DIRECTORY), position=0, leave=True):\n",
    "        with open(NODE_INFO_DIRECTORY + filename, 'r', encoding='UTF-8', errors='ignore') as f:\n",
    "            doc_string = []\n",
    "            for line in f:\n",
    "                [doc_string.append(token.strip()) for token in line.lower().strip().split(\" \") if token != \"\"]\n",
    "            corpus.append(' '.join(doc_string))\n",
    "            ids.append(filename[:-4])\n",
    "    with open(corpus_path, '+wb') as f:\n",
    "        pickle.dump(corpus, f)\n",
    "    f.close()\n",
    "    with open(ids_path, '+wb') as f:\n",
    "        pickle.dump(ids, f)\n",
    "    f.close() "
   ]
  },
  {
   "cell_type": "code",
   "execution_count": 5,
   "metadata": {},
   "outputs": [
    {
     "name": "stdout",
     "output_type": "stream",
     "text": [
      "Training node info shape: (33226, 3)\n"
     ]
    }
   ],
   "source": [
    "# stemmed corpus is created by Preprocessing.ipynb file\n",
    "stemmed_corpus_path = r\"pickles/stemmed_corpus.PICKLE\" \n",
    "if os.path.exists(stemmed_corpus_path):\n",
    "    with open(stemmed_corpus_path, 'rb') as f:\n",
    "        stemmed_corpus = pickle.load(f)\n",
    "    f.close()\n",
    "else:\n",
    "    print('Stemmed corpus unavailable, please run the Preprocessing.ipynb file')\n",
    "\n",
    "# in order of alphabetical text information i.e. 0, 1, 10, 100\n",
    "node_info = pd.DataFrame({'id': ids, 'corpus': corpus, 'stemmed': stemmed_corpus})\n",
    "node_info_id = node_info.set_index(['id'])\n",
    "print(\"Training node info shape: {}\".format(node_info.shape))"
   ]
  },
  {
   "cell_type": "code",
   "execution_count": 17,
   "metadata": {},
   "outputs": [],
   "source": [
    "# make graph/ feature extraction split (saved for reproducable results)\n",
    "train_graph_split_path = 'pickles/train_graph_split_5.PICKLE'\n",
    "\n",
    "if os.path.exists(train_graph_split_path):\n",
    "    with open(train_graph_split_path, 'rb') as f:\n",
    "        keep_indices = pickle.load(f)\n",
    "    f.close()\n",
    "else:\n",
    "    keep_indices = random.sample(range(len(training)), k=int(len(training) * 0.05))\n",
    "    with open(train_graph_split_path, '+wb') as f:\n",
    "        pickle.dump(keep_indices, f)\n",
    "    f.close()\n",
    "\n",
    "data_train_val = training.iloc[keep_indices]\n",
    "data_train = training.loc[~training.index.isin(keep_indices)]"
   ]
  },
  {
   "cell_type": "code",
   "execution_count": 18,
   "metadata": {},
   "outputs": [],
   "source": [
    "linked_nodes = data_train.loc[data_train['Link']=='1']\n",
    "linked_nodes = linked_nodes[['Node1', 'Node2']]\n",
    "linked_nodes.to_csv('linked_nodes.txt', sep=' ', index=False, header=False)\n",
    "G=nx.read_edgelist('linked_nodes.txt', create_using=nx.Graph(), nodetype = str)\n",
    "graph=G"
   ]
  },
  {
   "cell_type": "code",
   "execution_count": null,
   "metadata": {},
   "outputs": [],
   "source": [
    "# run INF554_Simple.ipynb before running this file otherwise the files below will not be available\n",
    "feature_vector_path = r\"pickles/perf_val_data_final.PICKLE\"\n",
    "if os.path.exists(feature_vector_path):\n",
    "    with open(feature_vector_path, 'rb') as f:\n",
    "        perf_val_data = pickle.load(f)\n",
    "    f.close()\n",
    "\n",
    "feature_vector_path = r\"pickles/perf_test_data_final.PICKLE\"\n",
    "if os.path.exists(feature_vector_path):\n",
    "    with open(feature_vector_path, 'rb') as f:\n",
    "        perf_test_data = pickle.load(f)\n",
    "    f.close()"
   ]
  },
  {
   "cell_type": "markdown",
   "metadata": {},
   "source": [
    "## 1.2 Load Already Extracted Node2Vec Features"
   ]
  },
  {
   "cell_type": "code",
   "execution_count": 20,
   "metadata": {},
   "outputs": [],
   "source": [
    "feature_vector_path = r\"pickles/perf_val_data_node2vec_final.PICKLE\"\n",
    "if os.path.exists(feature_vector_path):\n",
    "    with open(feature_vector_path, 'rb') as f:\n",
    "        df_train = pickle.load(f)\n",
    "    f.close()\n",
    "\n",
    "feature_vector_path = r\"pickles/perf_test_data_node2vec_final.PICKLE\"\n",
    "if os.path.exists(feature_vector_path):\n",
    "    with open(feature_vector_path, 'rb') as f:\n",
    "        df_test = pickle.load(f)\n",
    "    f.close()"
   ]
  },
  {
   "cell_type": "code",
   "execution_count": 45,
   "metadata": {},
   "outputs": [
    {
     "name": "stdout",
     "output_type": "stream",
     "text": [
      "Created pickles successfully\n"
     ]
    }
   ],
   "source": [
    "# saving the extracted features (disallows overwriting). This function should be run after all features are computed\n",
    "feature_vector_path = r\"pickles/perf_val_data_node2vec_final.PICKLE\"\n",
    "if not os.path.exists(feature_vector_path):\n",
    "    with open(feature_vector_path, '+wb') as f:\n",
    "        pickle.dump(df_train, f)\n",
    "    f.close()\n",
    "feature_vector_path = r\"pickles/perf_test_data_node2vec_final.PICKLE\"\n",
    "if not os.path.exists(feature_vector_path):\n",
    "    with open(feature_vector_path, '+wb') as f:\n",
    "        pickle.dump(df_test, f)\n",
    "    f.close()\n",
    "    print('Created pickles successfully')"
   ]
  },
  {
   "cell_type": "markdown",
   "metadata": {},
   "source": [
    "## 2.1 Extracting Node2Vec Features"
   ]
  },
  {
   "cell_type": "code",
   "execution_count": 9,
   "metadata": {},
   "outputs": [],
   "source": [
    "from node2vec import Node2Vec\n",
    "from gensim.models import Word2Vec"
   ]
  },
  {
   "cell_type": "code",
   "execution_count": 27,
   "metadata": {},
   "outputs": [
    {
     "name": "stdout",
     "output_type": "stream",
     "text": [
      "Node2Vec already calculated\n"
     ]
    }
   ],
   "source": [
    "'''\n",
    "this function computes the node2vec paths and transition probabilities.\n",
    "Note that it can take up to 10h to run\n",
    "'''\n",
    "node2vec_path = r\"pickles/NODE2VEC.PICKLE\"\n",
    "if os.path.exists(node2vec_path):\n",
    "    print('Node2Vec already calculated')\n",
    "else:\n",
    "    x = ''\n",
    "    while (x not in ['n', 'y']):\n",
    "        x = input(\"Node2Vec object not available, recompute? y/n: \")\n",
    "    if x == \"y\":\n",
    "        # Precompute probabilities and generate walks - **ON WINDOWS ONLY WORKS WITH workers=1**\n",
    "        node2vec = Node2Vec(graph, dimensions=64, walk_length=30, num_walks=200, workers=1)"
   ]
  },
  {
   "cell_type": "code",
   "execution_count": 28,
   "metadata": {},
   "outputs": [],
   "source": [
    "# it is easier to load the vectors directly without calculating embeddings again\n",
    "node2vec_model_path = r\"pickles/EMBEDDING_MODEL_FILENAME.model\"\n",
    "if os.path.exists(node2vec_model_path):\n",
    "    model = Word2Vec.load(node2vec_model_path)\n",
    "else:\n",
    "    x = ''\n",
    "    while (x not in ['n', 'y']):\n",
    "        x = input(\"Word2Vec model not available, recompute? y/n: \")\n",
    "    if x == \"y\":\n",
    "        # Embed nodes\n",
    "        model = node2vec.fit(window=10, min_count=1, batch_words=4)\n",
    "        # Save embeddings for later use\n",
    "        model.wv.save_word2vec_format('pickles/EMBEDDING_FILENAME.embed')\n",
    "        # Save model for later use\n",
    "        model.save('pickles/EMBEDDING_MODEL_FILENAME.model')"
   ]
  },
  {
   "cell_type": "code",
   "execution_count": 34,
   "metadata": {},
   "outputs": [],
   "source": [
    "# embed edges using Hadamard method\n",
    "from node2vec.edges import HadamardEmbedder\n",
    "from node2vec.edges import AverageEmbedder\n",
    "edges_embs = AverageEmbedder(keyed_vectors=model.wv)"
   ]
  },
  {
   "cell_type": "code",
   "execution_count": 35,
   "metadata": {},
   "outputs": [
    {
     "name": "stderr",
     "output_type": "stream",
     "text": [
      "100%|███████████████████████████████████████████████████████████████████████████| 22689/22689 [00:43<00:00, 520.94it/s]\n"
     ]
    }
   ],
   "source": [
    "# create edge embeddings for each pair of nodes in the training data\n",
    "embed_size = len(edges_embs[('0', '1')])\n",
    "df_train = pd.DataFrame(0, index=np.arange(len(data_train_val)), columns=range(embed_size))\n",
    "j = []\n",
    "for j, i in tqdm(enumerate(data_train_val.index), position=0, leave=True, total = len(data_train_val)):\n",
    "    try:\n",
    "        df_train.loc[j] = edges_embs[(data_train_val.loc[i]['Node1'], data_train_val.loc[i]['Node2'])]\n",
    "    except:\n",
    "        df_train.loc[j] = np.zeros(embed_size)"
   ]
  },
  {
   "cell_type": "code",
   "execution_count": 36,
   "metadata": {},
   "outputs": [
    {
     "name": "stderr",
     "output_type": "stream",
     "text": [
      "100%|█████████████████████████████████████████████████████████████████████████| 113450/113450 [03:39<00:00, 515.85it/s]\n"
     ]
    }
   ],
   "source": [
    "# create edge embeddings for each pair of nodes in the testing data\n",
    "embed_size = len(edges_embs[('0', '1')])\n",
    "df_test = pd.DataFrame(0, index=np.arange(len(testing)), columns=range(embed_size))\n",
    "j = []\n",
    "for i in tqdm(range(len(testing)), position=0, leave=True):\n",
    "    try:\n",
    "        df_test.loc[i] = edges_embs[(testing.loc[i]['Node1'], testing.loc[i]['Node2'])]\n",
    "    except:\n",
    "        df_test.loc[i] = np.zeros(embed_size)"
   ]
  },
  {
   "cell_type": "markdown",
   "metadata": {},
   "source": [
    "## 3.1 Training Model"
   ]
  },
  {
   "cell_type": "code",
   "execution_count": 43,
   "metadata": {},
   "outputs": [],
   "source": [
    "# compute the train/ test split, dataframe is already normalised\n",
    "X = df_train\n",
    "y = list(map(lambda i: int(i), data_train_val['Link']))\n",
    "X_train, X_test, y_train, y_test = train_test_split(X, y, test_size=0.15, random_state=1)"
   ]
  },
  {
   "cell_type": "code",
   "execution_count": 44,
   "metadata": {},
   "outputs": [
    {
     "name": "stdout",
     "output_type": "stream",
     "text": [
      "0.9274774774774774\n"
     ]
    }
   ],
   "source": [
    "lgbm = lightgbm.LGBMClassifier()\n",
    "model_lgbm = lgbm.fit(X_train, y_train)\n",
    "predictions = model_lgbm.predict(X_test)\n",
    "print(f1_score(y_test, predictions))"
   ]
  },
  {
   "cell_type": "markdown",
   "metadata": {},
   "source": [
    "## 4.1 Kaggle Prediciton"
   ]
  },
  {
   "cell_type": "code",
   "execution_count": 92,
   "metadata": {},
   "outputs": [],
   "source": [
    "lgbm = lightgbm.LGBMClassifier()\n",
    "model_lgbm = lgbm.fit(X, y)\n",
    "predictions = model_lgbm.predict(df_test)"
   ]
  },
  {
   "cell_type": "code",
   "execution_count": 20,
   "metadata": {},
   "outputs": [],
   "source": [
    "final_pred = pd.concat([pd.DataFrame(np.arange(len(df_test))), pd.DataFrame(predictions)],axis=1)\n",
    "final_pred.columns = ['id', 'predicted']\n",
    "with open(\"AverageEmbeder_node2vec_prediction2.csv\",\"+w\") as pred:\n",
    "    csv_out = csv.writer(pred)\n",
    "    csv_out.writerow(['id','predicted'])\n",
    "    for index, row in final_pred.iterrows():\n",
    "        csv_out.writerow(row)"
   ]
  },
  {
   "cell_type": "markdown",
   "metadata": {},
   "source": [
    "## Boosting Node2Vec with simple features"
   ]
  },
  {
   "cell_type": "code",
   "execution_count": 78,
   "metadata": {},
   "outputs": [
    {
     "data": {
      "text/html": [
       "<div>\n",
       "<style scoped>\n",
       "    .dataframe tbody tr th:only-of-type {\n",
       "        vertical-align: middle;\n",
       "    }\n",
       "\n",
       "    .dataframe tbody tr th {\n",
       "        vertical-align: top;\n",
       "    }\n",
       "\n",
       "    .dataframe thead th {\n",
       "        text-align: right;\n",
       "    }\n",
       "</style>\n",
       "<table border=\"1\" class=\"dataframe\">\n",
       "  <thead>\n",
       "    <tr style=\"text-align: right;\">\n",
       "      <th></th>\n",
       "      <th>Node1</th>\n",
       "      <th>Node2</th>\n",
       "      <th>original_index</th>\n",
       "      <th>tfidf_similarity</th>\n",
       "      <th>languages_similarity</th>\n",
       "      <th>joint_length</th>\n",
       "      <th>file_distance</th>\n",
       "      <th>common_neighbors</th>\n",
       "      <th>jaccard_coefficient</th>\n",
       "      <th>shortest_path</th>\n",
       "      <th>...</th>\n",
       "      <th>54</th>\n",
       "      <th>55</th>\n",
       "      <th>56</th>\n",
       "      <th>57</th>\n",
       "      <th>58</th>\n",
       "      <th>59</th>\n",
       "      <th>60</th>\n",
       "      <th>61</th>\n",
       "      <th>62</th>\n",
       "      <th>63</th>\n",
       "    </tr>\n",
       "  </thead>\n",
       "  <tbody>\n",
       "    <tr>\n",
       "      <th>0</th>\n",
       "      <td>870</td>\n",
       "      <td>10284</td>\n",
       "      <td>0</td>\n",
       "      <td>0.020013</td>\n",
       "      <td>0.472353</td>\n",
       "      <td>2082371091</td>\n",
       "      <td>9414</td>\n",
       "      <td>0</td>\n",
       "      <td>0.000000</td>\n",
       "      <td>4</td>\n",
       "      <td>...</td>\n",
       "      <td>1.036331</td>\n",
       "      <td>4.313026</td>\n",
       "      <td>-1.858926</td>\n",
       "      <td>-3.639827</td>\n",
       "      <td>3.322679</td>\n",
       "      <td>-0.524526</td>\n",
       "      <td>1.997322</td>\n",
       "      <td>-0.511325</td>\n",
       "      <td>0.887013</td>\n",
       "      <td>1.468988</td>\n",
       "    </tr>\n",
       "    <tr>\n",
       "      <th>1</th>\n",
       "      <td>620</td>\n",
       "      <td>15300</td>\n",
       "      <td>1</td>\n",
       "      <td>0.302197</td>\n",
       "      <td>0.968905</td>\n",
       "      <td>10964800</td>\n",
       "      <td>14680</td>\n",
       "      <td>12</td>\n",
       "      <td>0.044444</td>\n",
       "      <td>3</td>\n",
       "      <td>...</td>\n",
       "      <td>-1.227498</td>\n",
       "      <td>-4.315487</td>\n",
       "      <td>-4.053194</td>\n",
       "      <td>-2.207743</td>\n",
       "      <td>-1.611002</td>\n",
       "      <td>-2.866664</td>\n",
       "      <td>1.346994</td>\n",
       "      <td>-2.076012</td>\n",
       "      <td>0.284932</td>\n",
       "      <td>1.939911</td>\n",
       "    </tr>\n",
       "    <tr>\n",
       "      <th>2</th>\n",
       "      <td>21115</td>\n",
       "      <td>31904</td>\n",
       "      <td>2</td>\n",
       "      <td>0.005682</td>\n",
       "      <td>0.976566</td>\n",
       "      <td>3102536</td>\n",
       "      <td>10789</td>\n",
       "      <td>0</td>\n",
       "      <td>0.000000</td>\n",
       "      <td>4</td>\n",
       "      <td>...</td>\n",
       "      <td>-3.417368</td>\n",
       "      <td>1.324618</td>\n",
       "      <td>0.127317</td>\n",
       "      <td>-1.210228</td>\n",
       "      <td>2.377433</td>\n",
       "      <td>-1.602093</td>\n",
       "      <td>3.773643</td>\n",
       "      <td>-0.114460</td>\n",
       "      <td>-2.186353</td>\n",
       "      <td>-2.762104</td>\n",
       "    </tr>\n",
       "    <tr>\n",
       "      <th>3</th>\n",
       "      <td>3021</td>\n",
       "      <td>28396</td>\n",
       "      <td>3</td>\n",
       "      <td>0.001427</td>\n",
       "      <td>0.438494</td>\n",
       "      <td>26860638</td>\n",
       "      <td>25375</td>\n",
       "      <td>0</td>\n",
       "      <td>0.000000</td>\n",
       "      <td>4</td>\n",
       "      <td>...</td>\n",
       "      <td>0.046962</td>\n",
       "      <td>-2.171880</td>\n",
       "      <td>-0.926952</td>\n",
       "      <td>2.565073</td>\n",
       "      <td>-1.080060</td>\n",
       "      <td>0.198457</td>\n",
       "      <td>-0.326231</td>\n",
       "      <td>0.031927</td>\n",
       "      <td>-0.174286</td>\n",
       "      <td>0.030558</td>\n",
       "    </tr>\n",
       "    <tr>\n",
       "      <th>4</th>\n",
       "      <td>10780</td>\n",
       "      <td>6135</td>\n",
       "      <td>4</td>\n",
       "      <td>0.035456</td>\n",
       "      <td>0.524943</td>\n",
       "      <td>501323778</td>\n",
       "      <td>4645</td>\n",
       "      <td>8</td>\n",
       "      <td>0.177778</td>\n",
       "      <td>3</td>\n",
       "      <td>...</td>\n",
       "      <td>0.287958</td>\n",
       "      <td>-2.988899</td>\n",
       "      <td>-1.902427</td>\n",
       "      <td>2.746793</td>\n",
       "      <td>-4.253977</td>\n",
       "      <td>0.096233</td>\n",
       "      <td>0.409248</td>\n",
       "      <td>2.156011</td>\n",
       "      <td>-0.349955</td>\n",
       "      <td>3.662336</td>\n",
       "    </tr>\n",
       "    <tr>\n",
       "      <th>...</th>\n",
       "      <td>...</td>\n",
       "      <td>...</td>\n",
       "      <td>...</td>\n",
       "      <td>...</td>\n",
       "      <td>...</td>\n",
       "      <td>...</td>\n",
       "      <td>...</td>\n",
       "      <td>...</td>\n",
       "      <td>...</td>\n",
       "      <td>...</td>\n",
       "      <td>...</td>\n",
       "      <td>...</td>\n",
       "      <td>...</td>\n",
       "      <td>...</td>\n",
       "      <td>...</td>\n",
       "      <td>...</td>\n",
       "      <td>...</td>\n",
       "      <td>...</td>\n",
       "      <td>...</td>\n",
       "      <td>...</td>\n",
       "      <td>...</td>\n",
       "    </tr>\n",
       "    <tr>\n",
       "      <th>113445</th>\n",
       "      <td>13419</td>\n",
       "      <td>13751</td>\n",
       "      <td>113445</td>\n",
       "      <td>0.038824</td>\n",
       "      <td>0.992118</td>\n",
       "      <td>1483618868</td>\n",
       "      <td>332</td>\n",
       "      <td>1</td>\n",
       "      <td>0.071429</td>\n",
       "      <td>3</td>\n",
       "      <td>...</td>\n",
       "      <td>1.335053</td>\n",
       "      <td>-3.350636</td>\n",
       "      <td>-0.037663</td>\n",
       "      <td>1.324728</td>\n",
       "      <td>-4.029499</td>\n",
       "      <td>1.235675</td>\n",
       "      <td>-4.355361</td>\n",
       "      <td>-4.515428</td>\n",
       "      <td>1.058179</td>\n",
       "      <td>1.081516</td>\n",
       "    </tr>\n",
       "    <tr>\n",
       "      <th>113446</th>\n",
       "      <td>16696</td>\n",
       "      <td>20191</td>\n",
       "      <td>113446</td>\n",
       "      <td>0.000000</td>\n",
       "      <td>0.000000</td>\n",
       "      <td>319676</td>\n",
       "      <td>3495</td>\n",
       "      <td>0</td>\n",
       "      <td>0.000000</td>\n",
       "      <td>5</td>\n",
       "      <td>...</td>\n",
       "      <td>-2.995942</td>\n",
       "      <td>1.214591</td>\n",
       "      <td>-2.882834</td>\n",
       "      <td>-1.282811</td>\n",
       "      <td>3.097563</td>\n",
       "      <td>-1.924950</td>\n",
       "      <td>0.173211</td>\n",
       "      <td>1.489574</td>\n",
       "      <td>1.879185</td>\n",
       "      <td>4.463070</td>\n",
       "    </tr>\n",
       "    <tr>\n",
       "      <th>113447</th>\n",
       "      <td>10654</td>\n",
       "      <td>27692</td>\n",
       "      <td>113447</td>\n",
       "      <td>0.002498</td>\n",
       "      <td>0.269025</td>\n",
       "      <td>62737199</td>\n",
       "      <td>17038</td>\n",
       "      <td>0</td>\n",
       "      <td>0.000000</td>\n",
       "      <td>4</td>\n",
       "      <td>...</td>\n",
       "      <td>2.566593</td>\n",
       "      <td>-1.083089</td>\n",
       "      <td>-4.021411</td>\n",
       "      <td>-0.977337</td>\n",
       "      <td>-1.303307</td>\n",
       "      <td>1.283723</td>\n",
       "      <td>1.557155</td>\n",
       "      <td>-2.018146</td>\n",
       "      <td>2.202437</td>\n",
       "      <td>2.021081</td>\n",
       "    </tr>\n",
       "    <tr>\n",
       "      <th>113448</th>\n",
       "      <td>5409</td>\n",
       "      <td>1668</td>\n",
       "      <td>113448</td>\n",
       "      <td>0.071846</td>\n",
       "      <td>0.992244</td>\n",
       "      <td>90309525</td>\n",
       "      <td>3741</td>\n",
       "      <td>6</td>\n",
       "      <td>0.027650</td>\n",
       "      <td>3</td>\n",
       "      <td>...</td>\n",
       "      <td>0.646880</td>\n",
       "      <td>-0.188121</td>\n",
       "      <td>7.855142</td>\n",
       "      <td>-6.762398</td>\n",
       "      <td>-2.026963</td>\n",
       "      <td>-3.455606</td>\n",
       "      <td>-7.006221</td>\n",
       "      <td>1.798069</td>\n",
       "      <td>0.594545</td>\n",
       "      <td>-4.042967</td>\n",
       "    </tr>\n",
       "    <tr>\n",
       "      <th>113449</th>\n",
       "      <td>1789</td>\n",
       "      <td>996</td>\n",
       "      <td>113449</td>\n",
       "      <td>0.017850</td>\n",
       "      <td>0.949696</td>\n",
       "      <td>1769704583</td>\n",
       "      <td>793</td>\n",
       "      <td>1</td>\n",
       "      <td>0.010753</td>\n",
       "      <td>3</td>\n",
       "      <td>...</td>\n",
       "      <td>3.772130</td>\n",
       "      <td>-2.263066</td>\n",
       "      <td>-3.849959</td>\n",
       "      <td>-1.503586</td>\n",
       "      <td>2.908225</td>\n",
       "      <td>2.563730</td>\n",
       "      <td>-0.249447</td>\n",
       "      <td>1.799046</td>\n",
       "      <td>5.055441</td>\n",
       "      <td>-1.986585</td>\n",
       "    </tr>\n",
       "  </tbody>\n",
       "</table>\n",
       "<p>113450 rows × 84 columns</p>\n",
       "</div>"
      ],
      "text/plain": [
       "        Node1  Node2  original_index  tfidf_similarity  languages_similarity  \\\n",
       "0         870  10284               0          0.020013              0.472353   \n",
       "1         620  15300               1          0.302197              0.968905   \n",
       "2       21115  31904               2          0.005682              0.976566   \n",
       "3        3021  28396               3          0.001427              0.438494   \n",
       "4       10780   6135               4          0.035456              0.524943   \n",
       "...       ...    ...             ...               ...                   ...   \n",
       "113445  13419  13751          113445          0.038824              0.992118   \n",
       "113446  16696  20191          113446          0.000000              0.000000   \n",
       "113447  10654  27692          113447          0.002498              0.269025   \n",
       "113448   5409   1668          113448          0.071846              0.992244   \n",
       "113449   1789    996          113449          0.017850              0.949696   \n",
       "\n",
       "        joint_length  file_distance  common_neighbors  jaccard_coefficient  \\\n",
       "0         2082371091           9414                 0             0.000000   \n",
       "1           10964800          14680                12             0.044444   \n",
       "2            3102536          10789                 0             0.000000   \n",
       "3           26860638          25375                 0             0.000000   \n",
       "4          501323778           4645                 8             0.177778   \n",
       "...              ...            ...               ...                  ...   \n",
       "113445    1483618868            332                 1             0.071429   \n",
       "113446        319676           3495                 0             0.000000   \n",
       "113447      62737199          17038                 0             0.000000   \n",
       "113448      90309525           3741                 6             0.027650   \n",
       "113449    1769704583            793                 1             0.010753   \n",
       "\n",
       "        shortest_path  ...        54        55        56        57        58  \\\n",
       "0                   4  ...  1.036331  4.313026 -1.858926 -3.639827  3.322679   \n",
       "1                   3  ... -1.227498 -4.315487 -4.053194 -2.207743 -1.611002   \n",
       "2                   4  ... -3.417368  1.324618  0.127317 -1.210228  2.377433   \n",
       "3                   4  ...  0.046962 -2.171880 -0.926952  2.565073 -1.080060   \n",
       "4                   3  ...  0.287958 -2.988899 -1.902427  2.746793 -4.253977   \n",
       "...               ...  ...       ...       ...       ...       ...       ...   \n",
       "113445              3  ...  1.335053 -3.350636 -0.037663  1.324728 -4.029499   \n",
       "113446              5  ... -2.995942  1.214591 -2.882834 -1.282811  3.097563   \n",
       "113447              4  ...  2.566593 -1.083089 -4.021411 -0.977337 -1.303307   \n",
       "113448              3  ...  0.646880 -0.188121  7.855142 -6.762398 -2.026963   \n",
       "113449              3  ...  3.772130 -2.263066 -3.849959 -1.503586  2.908225   \n",
       "\n",
       "              59        60        61        62        63  \n",
       "0      -0.524526  1.997322 -0.511325  0.887013  1.468988  \n",
       "1      -2.866664  1.346994 -2.076012  0.284932  1.939911  \n",
       "2      -1.602093  3.773643 -0.114460 -2.186353 -2.762104  \n",
       "3       0.198457 -0.326231  0.031927 -0.174286  0.030558  \n",
       "4       0.096233  0.409248  2.156011 -0.349955  3.662336  \n",
       "...          ...       ...       ...       ...       ...  \n",
       "113445  1.235675 -4.355361 -4.515428  1.058179  1.081516  \n",
       "113446 -1.924950  0.173211  1.489574  1.879185  4.463070  \n",
       "113447  1.283723  1.557155 -2.018146  2.202437  2.021081  \n",
       "113448 -3.455606 -7.006221  1.798069  0.594545 -4.042967  \n",
       "113449  2.563730 -0.249447  1.799046  5.055441 -1.986585  \n",
       "\n",
       "[113450 rows x 84 columns]"
      ]
     },
     "execution_count": 78,
     "metadata": {},
     "output_type": "execute_result"
    }
   ],
   "source": [
    "from sklearn.preprocessing import StandardScaler\n",
    "\n",
    "extended_model_train = pd.concat([perf_val_data, df_train], axis =1)\n",
    "extended_model_test = pd.concat([perf_test_data, df_test], axis =1)\n",
    "extended_model_test"
   ]
  },
  {
   "cell_type": "code",
   "execution_count": 107,
   "metadata": {},
   "outputs": [],
   "source": [
    "d_columns = ['original_index', 'Link', 'Node1', 'Node2']\n",
    "cols = [i for i in extended_model_train.columns if i not in d_columns]\n",
    "X = extended_model_train[cols]\n",
    "\n",
    "y = data_train_val['Link']\n",
    "y = list(map(lambda i: int(i), y))\n",
    "\n",
    "scaler = StandardScaler()\n",
    "normalized = scaler.fit_transform(X)\n",
    "\n",
    "X_train, X_test, y_train, y_test = train_test_split(X, y, test_size=0.15, random_state=1)"
   ]
  },
  {
   "cell_type": "code",
   "execution_count": 95,
   "metadata": {},
   "outputs": [
    {
     "name": "stdout",
     "output_type": "stream",
     "text": [
      "0.9496238887622521\n"
     ]
    }
   ],
   "source": [
    "lgbm = lightgbm.LGBMClassifier()\n",
    "model_lgbm = lgbm.fit(X_train, y_train)\n",
    "predictions = model_lgbm.predict(X_test)\n",
    "print(f1_score(y_test, predictions))"
   ]
  },
  {
   "cell_type": "code",
   "execution_count": 82,
   "metadata": {},
   "outputs": [],
   "source": [
    "features = pd.DataFrame()\n",
    "features['feature'] = X.columns\n",
    "features['importance'] = model_lgbm.feature_importances_\n",
    "features.sort_values(by=['importance'], ascending=False, inplace=True)\n",
    "features.set_index('feature', inplace=True)"
   ]
  },
  {
   "cell_type": "code",
   "execution_count": 83,
   "metadata": {},
   "outputs": [
    {
     "data": {
      "image/png": "[encoded data removed]",
      "text/plain": [
       "<Figure size 1080x360 with 1 Axes>"
      ]
     },
     "metadata": {
      "needs_background": "light"
     },
     "output_type": "display_data"
    }
   ],
   "source": [
    "importance = np.array(features.values.reshape(-1))\n",
    "importance = list(importance/importance.sum(axis=0,keepdims=1))\n",
    "\n",
    "bars = list(features.index.values)\n",
    "\n",
    "y_pos = np.arange(len(bars))\n",
    "\n",
    "fig, ax = plt.subplots(figsize=(15,5))\n",
    "\n",
    "# Create horizontal bars\n",
    "plt.barh(y_pos, importance)\n",
    "\n",
    "# Create names on the y-axis\n",
    "plt.yticks(y_pos, bars)\n",
    "# Add title\n",
    "plt.title(\"Relative Feature Importance\")\n",
    "\n",
    "# Show graphic\n",
    "plt.show()"
   ]
  },
  {
   "cell_type": "code",
   "execution_count": 87,
   "metadata": {},
   "outputs": [],
   "source": [
    "lgbm = lightgbm.LGBMClassifier()\n",
    "model_lgbm = lgbm.fit(X, y)\n",
    "predictions = model_lgbm.predict(extended_model_test[cols])"
   ]
  },
  {
   "cell_type": "code",
   "execution_count": 112,
   "metadata": {},
   "outputs": [],
   "source": [
    "final_pred = pd.concat([pd.DataFrame(np.arange(len(df_test))), pd.DataFrame(predictions)],axis=1)\n",
    "final_pred.columns = ['id', 'predicted']\n",
    "with open(\"AverageEmbeder_augmented_ensemble_prediction_add_lsa2.csv\",\"+w\") as pred:\n",
    "    csv_out = csv.writer(pred)\n",
    "    csv_out.writerow(['id','predicted'])\n",
    "    for index, row in final_pred.iterrows():\n",
    "        csv_out.writerow(row)"
   ]
  },
  {
   "cell_type": "code",
   "execution_count": 98,
   "metadata": {},
   "outputs": [
    {
     "name": "stdout",
     "output_type": "stream",
     "text": [
      "0.9407222348398818\n"
     ]
    }
   ],
   "source": [
    "d_columns = ['original_index', 'Link', 'Node1', 'Node2']\n",
    "cols = [i for i in perf_val_data.columns if i not in d_columns]\n",
    "X = perf_val_data[cols]\n",
    "y = data_train_val['Link']\n",
    "y = list(map(lambda i: int(i), y))\n",
    "X_train, X_test, y_train, y_test = train_test_split(X, y, test_size=0.15, random_state=1)\n",
    "lgbm = lightgbm.LGBMClassifier()\n",
    "model_lgbm = lgbm.fit(X_train, y_train)\n",
    "predictions = model_lgbm.predict(X_test)\n",
    "print(f1_score(y_test, predictions))"
   ]
  },
  {
   "cell_type": "code",
   "execution_count": 108,
   "metadata": {},
   "outputs": [],
   "source": [
    "lgbm = lightgbm.LGBMClassifier()\n",
    "model_lgbm = lgbm.fit(X, y)\n",
    "predictions = model_lgbm.predict(extended_model_test[cols])"
   ]
  },
  {
   "cell_type": "markdown",
   "metadata": {},
   "source": [
    "## Creating simple ensemble"
   ]
  },
  {
   "cell_type": "code",
   "execution_count": 109,
   "metadata": {},
   "outputs": [],
   "source": [
    "extended_features_predictions = predictions"
   ]
  },
  {
   "cell_type": "code",
   "execution_count": 93,
   "metadata": {},
   "outputs": [],
   "source": [
    "node2vec_predictions = predictions"
   ]
  },
  {
   "cell_type": "code",
   "execution_count": 102,
   "metadata": {},
   "outputs": [],
   "source": [
    "simple_predictions = predictions"
   ]
  },
  {
   "cell_type": "code",
   "execution_count": 111,
   "metadata": {},
   "outputs": [
    {
     "data": {
      "text/plain": [
       "array([1, 1, 0, ..., 0, 1, 1])"
      ]
     },
     "execution_count": 111,
     "metadata": {},
     "output_type": "execute_result"
    }
   ],
   "source": [
    "predictions = np.array([int(i) for i in ((simple_predictions + node2vec_predictions + extended_features_predictions) >= 2)])\n",
    "predictions\n",
    "\n"
   ]
  },
  {
   "cell_type": "code",
   "execution_count": 110,
   "metadata": {},
   "outputs": [
    {
     "data": {
      "text/plain": [
       "113450"
      ]
     },
     "execution_count": 110,
     "metadata": {},
     "output_type": "execute_result"
    }
   ],
   "source": [
    "len(extended_features_predictions)"
   ]
  },
  {
   "cell_type": "code",
   "execution_count": 102,
   "metadata": {},
   "outputs": [
    {
     "name": "stdout",
     "output_type": "stream",
     "text": [
      "0.9482523831139356\n"
     ]
    }
   ],
   "source": [
    "print(f1_score(y_test, predictions))"
   ]
  },
  {
   "cell_type": "code",
   "execution_count": 118,
   "metadata": {},
   "outputs": [
    {
     "data": {
      "text/plain": [
       "99869"
      ]
     },
     "execution_count": 118,
     "metadata": {},
     "output_type": "execute_result"
    }
   ],
   "source": [
    "sum(simple_predictions == node2vec_predictions)"
   ]
  },
  {
   "cell_type": "code",
   "execution_count": 119,
   "metadata": {},
   "outputs": [
    {
     "data": {
      "text/plain": [
       "102331"
      ]
     },
     "execution_count": 119,
     "metadata": {},
     "output_type": "execute_result"
    }
   ],
   "source": [
    "sum(extended_features_predictions == node2vec_predictions)"
   ]
  },
  {
   "cell_type": "code",
   "execution_count": 120,
   "metadata": {},
   "outputs": [
    {
     "data": {
      "text/plain": [
       "109126"
      ]
     },
     "execution_count": 120,
     "metadata": {},
     "output_type": "execute_result"
    }
   ],
   "source": [
    "sum(simple_predictions == extended_features_predictions)"
   ]
  }
 ],
 "metadata": {
  "kernelspec": {
   "display_name": "Python 3",
   "language": "python",
   "name": "python3"
  },
  "language_info": {
   "codemirror_mode": {
    "name": "ipython",
    "version": 3
   },
   "file_extension": ".py",
   "mimetype": "text/x-python",
   "name": "python",
   "nbconvert_exporter": "python",
   "pygments_lexer": "ipython3",
   "version": "3.7.4"
  }
 },
 "nbformat": 4,
 "nbformat_minor": 2
}
