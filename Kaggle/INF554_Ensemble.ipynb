{
 "cells": [
  {
   "cell_type": "markdown",
   "metadata": {},
   "source": [
    "# INF554 Team ==Baseline== Node2Vec Feature Extraction and Model Training\n",
    "### Francisco, Alex and Aksel"
   ]
  },
  {
   "cell_type": "markdown",
   "metadata": {},
   "source": [
    "## 1.1 Importing Libraries and Loading the Datasets"
   ]
  },
  {
   "cell_type": "code",
   "execution_count": 75,
   "metadata": {},
   "outputs": [],
   "source": [
    "import random\n",
    "import numpy as np\n",
    "import pandas as pd\n",
    "import csv\n",
    "from tqdm import tqdm\n",
    "import seaborn as sns\n",
    "import os\n",
    "import networkx as nx\n",
    "import pdb\n",
    "import pickle\n",
    "from collections import Counter\n",
    "from sklearn import svm\n",
    "from sklearn.feature_extraction.text import TfidfVectorizer\n",
    "from sklearn.metrics.pairwise import linear_kernel\n",
    "from sklearn import preprocessing\n",
    "from sklearn.linear_model import LogisticRegression\n",
    "from sklearn.ensemble import RandomForestClassifier\n",
    "from sklearn.ensemble import GradientBoostingClassifier\n",
    "from sklearn.ensemble import BaggingClassifier\n",
    "from sklearn.neighbors import KNeighborsClassifier\n",
    "from sklearn.neural_network import MLPClassifier\n",
    "from sklearn.svm import SVC\n",
    "from sklearn.model_selection import train_test_split\n",
    "from sklearn.metrics import f1_score, precision_score, recall_score, accuracy_score\n",
    "from sklearn.feature_extraction import text as fe\n",
    "from sklearn.decomposition import NMF, LatentDirichletAllocation\n",
    "import matplotlib.pyplot as plt\n",
    "import datetime\n",
    "import time\n",
    "import keras\n",
    "import lightgbm\n",
    "import spacy\n",
    "from nltk import wordpunct_tokenize\n",
    "from nltk.corpus import stopwords\n",
    "import nltk\n",
    "from hyperopt import STATUS_OK, Trials, hp, space_eval, tpe, fmin"
   ]
  },
  {
   "cell_type": "markdown",
   "metadata": {},
   "source": [
    "Note: running all of the following feature extraction cells will take a long time. However, after running for the first time the computationally intensive part of the feature is pickled and so can be easily calculated in subsequent runs. Many of the cells (especially in the feature extraction section) will use this technique."
   ]
  },
  {
   "cell_type": "code",
   "execution_count": 76,
   "metadata": {},
   "outputs": [
    {
     "name": "stdout",
     "output_type": "stream",
     "text": [
      "Training examples shape: (453797, 3)\n",
      "Testing examples shape: (113450, 2)\n"
     ]
    }
   ],
   "source": [
    "with open(r\"training.txt\", \"r\") as f:\n",
    "    reader = csv.reader(f)\n",
    "    training  = list(reader)\n",
    "# in order of training examples\n",
    "training = [element[0].split(\" \") for element in training]\n",
    "training = pd.DataFrame(training, columns=['Node1', 'Node2', 'Link'])\n",
    "print(\"Training examples shape: {}\".format(training.shape))\n",
    "\n",
    "with open(r\"testing.txt\", \"r\") as f:\n",
    "    reader = csv.reader(f)\n",
    "    testing  = list(reader)\n",
    "# in order of testing examples\n",
    "testing = [element[0].split(\" \") for element in testing]\n",
    "testing = pd.DataFrame(testing, columns=['Node1', 'Node2'])\n",
    "print(\"Testing examples shape: {}\".format(testing.shape))"
   ]
  },
  {
   "cell_type": "code",
   "execution_count": 77,
   "metadata": {},
   "outputs": [],
   "source": [
    "# directory to store extracted features\n",
    "if not os.path.exists(r'pickles'):\n",
    "    os.mkdir(r'pickles')"
   ]
  },
  {
   "cell_type": "code",
   "execution_count": 78,
   "metadata": {},
   "outputs": [],
   "source": [
    "'''\n",
    "load the corpus one file at a time, remove spaces and convert to lower case\n",
    "'''\n",
    "NODE_INFO_DIRECTORY = r\"node_information/text/\"\n",
    "\n",
    "corpus_path = r\"pickles/simple_corpus.PICKLE\" \n",
    "ids_path = r\"pickles/ids.PICKLE\"\n",
    "if os.path.exists(corpus_path):\n",
    "    with open(corpus_path, 'rb') as f:\n",
    "        corpus = pickle.load(f)\n",
    "    f.close()\n",
    "    with open(ids_path, 'rb') as f:\n",
    "        ids = pickle.load(f)\n",
    "    f.close()\n",
    "else:\n",
    "    corpus = []\n",
    "    ids = []\n",
    "    for filename in tqdm(os.listdir(NODE_INFO_DIRECTORY), position=0, leave=True):\n",
    "        with open(NODE_INFO_DIRECTORY + filename, 'r', encoding='UTF-8', errors='ignore') as f:\n",
    "            doc_string = []\n",
    "            for line in f:\n",
    "                [doc_string.append(token.strip()) for token in line.lower().strip().split(\" \") if token != \"\"]\n",
    "            corpus.append(' '.join(doc_string))\n",
    "            ids.append(filename[:-4])\n",
    "    with open(corpus_path, '+wb') as f:\n",
    "        pickle.dump(corpus, f)\n",
    "    f.close()\n",
    "    with open(ids_path, '+wb') as f:\n",
    "        pickle.dump(ids, f)\n",
    "    f.close() "
   ]
  },
  {
   "cell_type": "code",
   "execution_count": 79,
   "metadata": {},
   "outputs": [
    {
     "name": "stdout",
     "output_type": "stream",
     "text": [
      "Training node info shape: (33226, 3)\n"
     ]
    }
   ],
   "source": [
    "# stemmed corpus is created by Preprocessing.ipynb file\n",
    "stemmed_corpus_path = r\"pickles/stemmed_corpus.PICKLE\" \n",
    "if os.path.exists(stemmed_corpus_path):\n",
    "    with open(stemmed_corpus_path, 'rb') as f:\n",
    "        stemmed_corpus = pickle.load(f)\n",
    "    f.close()\n",
    "else:\n",
    "    print('Stemmed corpus unavailable, please run the Preprocessing.ipynb file')\n",
    "\n",
    "# in order of alphabetical text information i.e. 0, 1, 10, 100\n",
    "node_info = pd.DataFrame({'id': ids, 'corpus': corpus, 'stemmed': stemmed_corpus})\n",
    "node_info_id = node_info.set_index(['id'])\n",
    "print(\"Training node info shape: {}\".format(node_info.shape))"
   ]
  },
  {
   "cell_type": "code",
   "execution_count": 80,
   "metadata": {},
   "outputs": [],
   "source": [
    "# make graph/ feature extraction split (saved for reproducable results)\n",
    "train_graph_split_path = 'pickles/train_graph_split_5.PICKLE'\n",
    "\n",
    "if os.path.exists(train_graph_split_path):\n",
    "    with open(train_graph_split_path, 'rb') as f:\n",
    "        keep_indices = pickle.load(f)\n",
    "    f.close()\n",
    "else:\n",
    "    keep_indices = random.sample(range(len(training)), k=int(len(training) * 0.05))\n",
    "    with open(train_graph_split_path, '+wb') as f:\n",
    "        pickle.dump(keep_indices, f)\n",
    "    f.close()\n",
    "\n",
    "data_train_val = training.iloc[keep_indices]\n",
    "data_train = training.loc[~training.index.isin(keep_indices)]"
   ]
  },
  {
   "cell_type": "code",
   "execution_count": 81,
   "metadata": {},
   "outputs": [],
   "source": [
    "linked_nodes = data_train.loc[data_train['Link']=='1']\n",
    "linked_nodes = linked_nodes[['Node1', 'Node2']]\n",
    "linked_nodes.to_csv('linked_nodes.txt', sep=' ', index=False, header=False)\n",
    "G=nx.read_edgelist('linked_nodes.txt', create_using=nx.Graph(), nodetype = str)\n",
    "graph=G"
   ]
  },
  {
   "cell_type": "markdown",
   "metadata": {},
   "source": [
    "## 1.2 Load Already Extracted Node2Vec Features"
   ]
  },
  {
   "cell_type": "code",
   "execution_count": 82,
   "metadata": {},
   "outputs": [],
   "source": [
    "# run INF554_Node2Vec.ipynb before running this file otherwise the files below will not be available\n",
    "feature_vector_path = r\"pickles/perf_val_data_node2vec_final.PICKLE\"\n",
    "if os.path.exists(feature_vector_path):\n",
    "    with open(feature_vector_path, 'rb') as f:\n",
    "        df_train = pickle.load(f)\n",
    "    f.close()\n",
    "\n",
    "feature_vector_path = r\"pickles/perf_test_data_node2vec_final.PICKLE\"\n",
    "if os.path.exists(feature_vector_path):\n",
    "    with open(feature_vector_path, 'rb') as f:\n",
    "        df_test = pickle.load(f)\n",
    "    f.close()"
   ]
  },
  {
   "cell_type": "code",
   "execution_count": 83,
   "metadata": {},
   "outputs": [],
   "source": [
    "# run INF554_Simple.ipynb before running this file otherwise the files below will not be available\n",
    "feature_vector_path = r\"pickles/perf_val_data_final.PICKLE\"\n",
    "if os.path.exists(feature_vector_path):\n",
    "    with open(feature_vector_path, 'rb') as f:\n",
    "        perf_val_data = pickle.load(f)\n",
    "    f.close()\n",
    "\n",
    "feature_vector_path = r\"pickles/perf_test_data_final.PICKLE\"\n",
    "if os.path.exists(feature_vector_path):\n",
    "    with open(feature_vector_path, 'rb') as f:\n",
    "        perf_test_data = pickle.load(f)\n",
    "    f.close()"
   ]
  },
  {
   "cell_type": "markdown",
   "metadata": {},
   "source": [
    "## 2.1 Boosting Node2Vec with Simple Features"
   ]
  },
  {
   "cell_type": "code",
   "execution_count": 84,
   "metadata": {},
   "outputs": [
    {
     "data": {
      "text/html": [
       "<div>\n",
       "<style scoped>\n",
       "    .dataframe tbody tr th:only-of-type {\n",
       "        vertical-align: middle;\n",
       "    }\n",
       "\n",
       "    .dataframe tbody tr th {\n",
       "        vertical-align: top;\n",
       "    }\n",
       "\n",
       "    .dataframe thead th {\n",
       "        text-align: right;\n",
       "    }\n",
       "</style>\n",
       "<table border=\"1\" class=\"dataframe\">\n",
       "  <thead>\n",
       "    <tr style=\"text-align: right;\">\n",
       "      <th></th>\n",
       "      <th>Node1</th>\n",
       "      <th>Node2</th>\n",
       "      <th>Link</th>\n",
       "      <th>original_index</th>\n",
       "      <th>tfidf_similarity</th>\n",
       "      <th>languages_similarity</th>\n",
       "      <th>joint_length</th>\n",
       "      <th>file_distance</th>\n",
       "      <th>common_neighbors</th>\n",
       "      <th>jaccard_coefficient</th>\n",
       "      <th>...</th>\n",
       "      <th>54</th>\n",
       "      <th>55</th>\n",
       "      <th>56</th>\n",
       "      <th>57</th>\n",
       "      <th>58</th>\n",
       "      <th>59</th>\n",
       "      <th>60</th>\n",
       "      <th>61</th>\n",
       "      <th>62</th>\n",
       "      <th>63</th>\n",
       "    </tr>\n",
       "  </thead>\n",
       "  <tbody>\n",
       "    <tr>\n",
       "      <th>0</th>\n",
       "      <td>15766</td>\n",
       "      <td>25303</td>\n",
       "      <td>0</td>\n",
       "      <td>74300</td>\n",
       "      <td>0.023037</td>\n",
       "      <td>0.988888</td>\n",
       "      <td>14323303</td>\n",
       "      <td>9537</td>\n",
       "      <td>0</td>\n",
       "      <td>0.000000</td>\n",
       "      <td>...</td>\n",
       "      <td>1.013159</td>\n",
       "      <td>-1.352759</td>\n",
       "      <td>0.079498</td>\n",
       "      <td>-0.285837</td>\n",
       "      <td>0.034916</td>\n",
       "      <td>0.128856</td>\n",
       "      <td>1.164120</td>\n",
       "      <td>1.477746</td>\n",
       "      <td>-2.294661</td>\n",
       "      <td>-0.959510</td>\n",
       "    </tr>\n",
       "    <tr>\n",
       "      <th>1</th>\n",
       "      <td>1242</td>\n",
       "      <td>16346</td>\n",
       "      <td>1</td>\n",
       "      <td>199347</td>\n",
       "      <td>0.112086</td>\n",
       "      <td>0.989672</td>\n",
       "      <td>653097951</td>\n",
       "      <td>15104</td>\n",
       "      <td>0</td>\n",
       "      <td>0.000000</td>\n",
       "      <td>...</td>\n",
       "      <td>-1.215659</td>\n",
       "      <td>4.268219</td>\n",
       "      <td>4.522655</td>\n",
       "      <td>-3.329852</td>\n",
       "      <td>2.090041</td>\n",
       "      <td>-4.684298</td>\n",
       "      <td>-1.913933</td>\n",
       "      <td>-1.695607</td>\n",
       "      <td>-6.919380</td>\n",
       "      <td>5.877547</td>\n",
       "    </tr>\n",
       "    <tr>\n",
       "      <th>2</th>\n",
       "      <td>19458</td>\n",
       "      <td>2686</td>\n",
       "      <td>1</td>\n",
       "      <td>23408</td>\n",
       "      <td>0.632883</td>\n",
       "      <td>0.993145</td>\n",
       "      <td>4803096464</td>\n",
       "      <td>16772</td>\n",
       "      <td>2</td>\n",
       "      <td>0.037736</td>\n",
       "      <td>...</td>\n",
       "      <td>-1.956275</td>\n",
       "      <td>-3.803782</td>\n",
       "      <td>0.974259</td>\n",
       "      <td>3.482403</td>\n",
       "      <td>-1.434953</td>\n",
       "      <td>0.492009</td>\n",
       "      <td>-3.517188</td>\n",
       "      <td>-0.247641</td>\n",
       "      <td>-1.390207</td>\n",
       "      <td>1.415396</td>\n",
       "    </tr>\n",
       "    <tr>\n",
       "      <th>3</th>\n",
       "      <td>9450</td>\n",
       "      <td>9445</td>\n",
       "      <td>1</td>\n",
       "      <td>291622</td>\n",
       "      <td>0.292075</td>\n",
       "      <td>0.956078</td>\n",
       "      <td>54226056</td>\n",
       "      <td>5</td>\n",
       "      <td>32</td>\n",
       "      <td>0.653061</td>\n",
       "      <td>...</td>\n",
       "      <td>-2.787038</td>\n",
       "      <td>0.814969</td>\n",
       "      <td>-0.491028</td>\n",
       "      <td>4.775116</td>\n",
       "      <td>-1.514552</td>\n",
       "      <td>-1.526252</td>\n",
       "      <td>-0.290796</td>\n",
       "      <td>0.077616</td>\n",
       "      <td>-1.414410</td>\n",
       "      <td>2.253868</td>\n",
       "    </tr>\n",
       "    <tr>\n",
       "      <th>4</th>\n",
       "      <td>649</td>\n",
       "      <td>2192</td>\n",
       "      <td>1</td>\n",
       "      <td>218722</td>\n",
       "      <td>0.195188</td>\n",
       "      <td>0.985659</td>\n",
       "      <td>122628987</td>\n",
       "      <td>1543</td>\n",
       "      <td>9</td>\n",
       "      <td>0.041475</td>\n",
       "      <td>...</td>\n",
       "      <td>1.692338</td>\n",
       "      <td>-1.453239</td>\n",
       "      <td>2.619360</td>\n",
       "      <td>-4.745262</td>\n",
       "      <td>3.069906</td>\n",
       "      <td>-0.515665</td>\n",
       "      <td>-4.346972</td>\n",
       "      <td>8.093157</td>\n",
       "      <td>1.984563</td>\n",
       "      <td>-0.583196</td>\n",
       "    </tr>\n",
       "    <tr>\n",
       "      <th>...</th>\n",
       "      <td>...</td>\n",
       "      <td>...</td>\n",
       "      <td>...</td>\n",
       "      <td>...</td>\n",
       "      <td>...</td>\n",
       "      <td>...</td>\n",
       "      <td>...</td>\n",
       "      <td>...</td>\n",
       "      <td>...</td>\n",
       "      <td>...</td>\n",
       "      <td>...</td>\n",
       "      <td>...</td>\n",
       "      <td>...</td>\n",
       "      <td>...</td>\n",
       "      <td>...</td>\n",
       "      <td>...</td>\n",
       "      <td>...</td>\n",
       "      <td>...</td>\n",
       "      <td>...</td>\n",
       "      <td>...</td>\n",
       "      <td>...</td>\n",
       "    </tr>\n",
       "    <tr>\n",
       "      <th>22684</th>\n",
       "      <td>785</td>\n",
       "      <td>401</td>\n",
       "      <td>1</td>\n",
       "      <td>299246</td>\n",
       "      <td>0.038760</td>\n",
       "      <td>0.987210</td>\n",
       "      <td>6618625699</td>\n",
       "      <td>384</td>\n",
       "      <td>2</td>\n",
       "      <td>0.005450</td>\n",
       "      <td>...</td>\n",
       "      <td>-0.887301</td>\n",
       "      <td>-5.402542</td>\n",
       "      <td>3.736914</td>\n",
       "      <td>-4.449623</td>\n",
       "      <td>-0.439290</td>\n",
       "      <td>-2.144789</td>\n",
       "      <td>-2.975514</td>\n",
       "      <td>2.957502</td>\n",
       "      <td>2.767964</td>\n",
       "      <td>-2.703963</td>\n",
       "    </tr>\n",
       "    <tr>\n",
       "      <th>22685</th>\n",
       "      <td>26865</td>\n",
       "      <td>15865</td>\n",
       "      <td>1</td>\n",
       "      <td>436629</td>\n",
       "      <td>0.001919</td>\n",
       "      <td>0.347923</td>\n",
       "      <td>2167836</td>\n",
       "      <td>11000</td>\n",
       "      <td>0</td>\n",
       "      <td>0.000000</td>\n",
       "      <td>...</td>\n",
       "      <td>3.463235</td>\n",
       "      <td>-1.732057</td>\n",
       "      <td>1.121991</td>\n",
       "      <td>1.005454</td>\n",
       "      <td>1.929062</td>\n",
       "      <td>-4.464622</td>\n",
       "      <td>-0.529654</td>\n",
       "      <td>-4.737908</td>\n",
       "      <td>-1.902947</td>\n",
       "      <td>-0.924929</td>\n",
       "    </tr>\n",
       "    <tr>\n",
       "      <th>22686</th>\n",
       "      <td>19714</td>\n",
       "      <td>14354</td>\n",
       "      <td>0</td>\n",
       "      <td>380087</td>\n",
       "      <td>0.000847</td>\n",
       "      <td>0.560130</td>\n",
       "      <td>12368215</td>\n",
       "      <td>5360</td>\n",
       "      <td>0</td>\n",
       "      <td>0.000000</td>\n",
       "      <td>...</td>\n",
       "      <td>-1.535884</td>\n",
       "      <td>-0.923492</td>\n",
       "      <td>-1.707197</td>\n",
       "      <td>2.051680</td>\n",
       "      <td>-1.353925</td>\n",
       "      <td>0.780039</td>\n",
       "      <td>1.173839</td>\n",
       "      <td>1.258558</td>\n",
       "      <td>2.113299</td>\n",
       "      <td>0.756226</td>\n",
       "    </tr>\n",
       "    <tr>\n",
       "      <th>22687</th>\n",
       "      <td>6883</td>\n",
       "      <td>10255</td>\n",
       "      <td>0</td>\n",
       "      <td>13628</td>\n",
       "      <td>0.009943</td>\n",
       "      <td>0.994455</td>\n",
       "      <td>229149154</td>\n",
       "      <td>3372</td>\n",
       "      <td>0</td>\n",
       "      <td>0.000000</td>\n",
       "      <td>...</td>\n",
       "      <td>-1.317717</td>\n",
       "      <td>2.878164</td>\n",
       "      <td>-3.216761</td>\n",
       "      <td>-0.500635</td>\n",
       "      <td>0.227903</td>\n",
       "      <td>1.825828</td>\n",
       "      <td>1.702644</td>\n",
       "      <td>2.633389</td>\n",
       "      <td>1.121629</td>\n",
       "      <td>1.628299</td>\n",
       "    </tr>\n",
       "    <tr>\n",
       "      <th>22688</th>\n",
       "      <td>2746</td>\n",
       "      <td>2097</td>\n",
       "      <td>1</td>\n",
       "      <td>4027</td>\n",
       "      <td>0.086059</td>\n",
       "      <td>0.979658</td>\n",
       "      <td>292165090</td>\n",
       "      <td>649</td>\n",
       "      <td>4</td>\n",
       "      <td>0.030769</td>\n",
       "      <td>...</td>\n",
       "      <td>0.965704</td>\n",
       "      <td>1.390957</td>\n",
       "      <td>-0.182211</td>\n",
       "      <td>1.517458</td>\n",
       "      <td>-2.793033</td>\n",
       "      <td>3.165427</td>\n",
       "      <td>2.205814</td>\n",
       "      <td>-2.649786</td>\n",
       "      <td>-3.548724</td>\n",
       "      <td>7.213997</td>\n",
       "    </tr>\n",
       "  </tbody>\n",
       "</table>\n",
       "<p>22689 rows × 86 columns</p>\n",
       "</div>"
      ],
      "text/plain": [
       "       Node1  Node2 Link  original_index  tfidf_similarity  \\\n",
       "0      15766  25303    0           74300          0.023037   \n",
       "1       1242  16346    1          199347          0.112086   \n",
       "2      19458   2686    1           23408          0.632883   \n",
       "3       9450   9445    1          291622          0.292075   \n",
       "4        649   2192    1          218722          0.195188   \n",
       "...      ...    ...  ...             ...               ...   \n",
       "22684    785    401    1          299246          0.038760   \n",
       "22685  26865  15865    1          436629          0.001919   \n",
       "22686  19714  14354    0          380087          0.000847   \n",
       "22687   6883  10255    0           13628          0.009943   \n",
       "22688   2746   2097    1            4027          0.086059   \n",
       "\n",
       "       languages_similarity  joint_length  file_distance  common_neighbors  \\\n",
       "0                  0.988888      14323303           9537                 0   \n",
       "1                  0.989672     653097951          15104                 0   \n",
       "2                  0.993145    4803096464          16772                 2   \n",
       "3                  0.956078      54226056              5                32   \n",
       "4                  0.985659     122628987           1543                 9   \n",
       "...                     ...           ...            ...               ...   \n",
       "22684              0.987210    6618625699            384                 2   \n",
       "22685              0.347923       2167836          11000                 0   \n",
       "22686              0.560130      12368215           5360                 0   \n",
       "22687              0.994455     229149154           3372                 0   \n",
       "22688              0.979658     292165090            649                 4   \n",
       "\n",
       "       jaccard_coefficient  ...        54        55        56        57  \\\n",
       "0                 0.000000  ...  1.013159 -1.352759  0.079498 -0.285837   \n",
       "1                 0.000000  ... -1.215659  4.268219  4.522655 -3.329852   \n",
       "2                 0.037736  ... -1.956275 -3.803782  0.974259  3.482403   \n",
       "3                 0.653061  ... -2.787038  0.814969 -0.491028  4.775116   \n",
       "4                 0.041475  ...  1.692338 -1.453239  2.619360 -4.745262   \n",
       "...                    ...  ...       ...       ...       ...       ...   \n",
       "22684             0.005450  ... -0.887301 -5.402542  3.736914 -4.449623   \n",
       "22685             0.000000  ...  3.463235 -1.732057  1.121991  1.005454   \n",
       "22686             0.000000  ... -1.535884 -0.923492 -1.707197  2.051680   \n",
       "22687             0.000000  ... -1.317717  2.878164 -3.216761 -0.500635   \n",
       "22688             0.030769  ...  0.965704  1.390957 -0.182211  1.517458   \n",
       "\n",
       "             58        59        60        61        62        63  \n",
       "0      0.034916  0.128856  1.164120  1.477746 -2.294661 -0.959510  \n",
       "1      2.090041 -4.684298 -1.913933 -1.695607 -6.919380  5.877547  \n",
       "2     -1.434953  0.492009 -3.517188 -0.247641 -1.390207  1.415396  \n",
       "3     -1.514552 -1.526252 -0.290796  0.077616 -1.414410  2.253868  \n",
       "4      3.069906 -0.515665 -4.346972  8.093157  1.984563 -0.583196  \n",
       "...         ...       ...       ...       ...       ...       ...  \n",
       "22684 -0.439290 -2.144789 -2.975514  2.957502  2.767964 -2.703963  \n",
       "22685  1.929062 -4.464622 -0.529654 -4.737908 -1.902947 -0.924929  \n",
       "22686 -1.353925  0.780039  1.173839  1.258558  2.113299  0.756226  \n",
       "22687  0.227903  1.825828  1.702644  2.633389  1.121629  1.628299  \n",
       "22688 -2.793033  3.165427  2.205814 -2.649786 -3.548724  7.213997  \n",
       "\n",
       "[22689 rows x 86 columns]"
      ]
     },
     "execution_count": 84,
     "metadata": {},
     "output_type": "execute_result"
    }
   ],
   "source": [
    "extended_model_train = pd.concat([perf_val_data, df_train], axis =1)\n",
    "extended_model_test = pd.concat([perf_test_data, df_test], axis =1)\n",
    "extended_model_train"
   ]
  },
  {
   "cell_type": "code",
   "execution_count": 175,
   "metadata": {},
   "outputs": [],
   "source": [
    "from sklearn.preprocessing import StandardScaler\n",
    "\n",
    "d_columns = ['original_index', 'Link', 'Node1', 'Node2']\n",
    "cols = [i for i in extended_model_train.columns if i not in d_columns]\n",
    "X = extended_model_train[cols]\n",
    "y = list(map(lambda i: int(i), data_train_val['Link']))\n",
    "\n",
    "scaler = StandardScaler()\n",
    "normalized = scaler.fit_transform(X)\n",
    "\n",
    "X_train, X_test, y_train, y_test = train_test_split(normalized, y, test_size=0.15, random_state=1)"
   ]
  },
  {
   "cell_type": "markdown",
   "metadata": {},
   "source": [
    "## 3.2 Feature Importance and Selection"
   ]
  },
  {
   "cell_type": "code",
   "execution_count": 36,
   "metadata": {},
   "outputs": [
    {
     "name": "stdout",
     "output_type": "stream",
     "text": [
      "0.9508196721311475\n"
     ]
    }
   ],
   "source": [
    "lgbm = lightgbm.LGBMClassifier()\n",
    "model_lgbm = lgbm.fit(X_train, y_train)\n",
    "predictions = model_lgbm.predict(X_test)\n",
    "print(f1_score(y_test, predictions))"
   ]
  },
  {
   "cell_type": "code",
   "execution_count": 22,
   "metadata": {},
   "outputs": [],
   "source": [
    "# use the LGMB method 'feature_importances_' to extract features which are most relevant\n",
    "features = pd.DataFrame()\n",
    "features['feature'] = X.columns\n",
    "features['importance'] = model_lgbm.feature_importances_\n",
    "features.sort_values(by=['importance'], ascending=False, inplace=True)\n",
    "features.set_index('feature', inplace=True)"
   ]
  },
  {
   "cell_type": "code",
   "execution_count": 27,
   "metadata": {
    "scrolled": true
   },
   "outputs": [
    {
     "data": {
      "image/png": "[encoded data removed]",
      "text/plain": [
       "<Figure size 1080x1080 with 1 Axes>"
      ]
     },
     "metadata": {
      "needs_background": "light"
     },
     "output_type": "display_data"
    }
   ],
   "source": [
    "importance = np.array(features.values.reshape(-1))\n",
    "importance = list(importance/importance.sum(axis=0,keepdims=1))\n",
    "bars = list(features.index.values)\n",
    "y_pos = np.arange(len(bars))\n",
    "\n",
    "fig, ax = plt.subplots(figsize=(15,15))\n",
    "\n",
    "# Create horizontal bars, and place names of features on the vertical axis\n",
    "plt.barh(y_pos, importance)\n",
    "plt.yticks(y_pos, bars)\n",
    "plt.title(\"Relative Feature Importance\")\n",
    "plt.show()"
   ]
  },
  {
   "cell_type": "code",
   "execution_count": 28,
   "metadata": {},
   "outputs": [
    {
     "name": "stdout",
     "output_type": "stream",
     "text": [
      "[False False  True  True False False False False  True  True False False\n",
      " False False  True False  True  True  True False False False False False\n",
      " False False False False  True False False False False False  True  True\n",
      " False False  True False False False  True False False  True False  True\n",
      " False False  True False  True False False False False False False False\n",
      "  True False False False False False False False False False False  True\n",
      " False False False False False False  True False False False]\n",
      "[23  9  1  1 63 58  2 57  1  1 61 17 60 14  1 54  1  1  1 24 47 30 26 46\n",
      " 36 19 50 15  1 12 31 51 29 49  1  1 40 16  1 38  5 10  1 32 43  1 44  1\n",
      " 34 37  1 28  1 41 13 20  7 21 35 27  1  4 55 56 18 39 52 11 22 33 62  1\n",
      " 25 59  3 45  8 53  1  6 42 48]\n"
     ]
    }
   ],
   "source": [
    "# using the RFE to select features by recursively considering smaller and smaller sets of features.\n",
    "from sklearn.feature_selection import RFE\n",
    "selector = RFE(lgbm, 20)\n",
    "selector = selector.fit(normalized, y)\n",
    "print(selector.support_)\n",
    "print(selector.ranking_)"
   ]
  },
  {
   "cell_type": "code",
   "execution_count": 60,
   "metadata": {},
   "outputs": [
    {
     "data": {
      "text/plain": [
       "Index([             'joint_length',             'file_distance',\n",
       "       'resource_allocation_index',   'preferential_attachment',\n",
       "               'page_rank_alpha.2',         'nmf_kd_similarity',\n",
       "                  'lsa_similarity',                           0,\n",
       "                                10,                          16,\n",
       "                                17,                          20,\n",
       "                                24,                          27,\n",
       "                                29,                          32,\n",
       "                                34,                          42,\n",
       "                                53,                          60],\n",
       "      dtype='object')"
      ]
     },
     "execution_count": 60,
     "metadata": {},
     "output_type": "execute_result"
    }
   ],
   "source": [
    "selected_columns = X.columns[selector.support_]\n",
    "selected_columns"
   ]
  },
  {
   "cell_type": "code",
   "execution_count": 30,
   "metadata": {},
   "outputs": [
    {
     "name": "stdout",
     "output_type": "stream",
     "text": [
      "0.9465301478953356\n"
     ]
    }
   ],
   "source": [
    "lgbm = lightgbm.LGBMClassifier()\n",
    "model_lgbm = lgbm.fit(X_train[:, selector.support_], y_train)\n",
    "predictions = model_lgbm.predict(X_test[:, selector.support_])\n",
    "print(f1_score(y_test, np.round(predictions)))"
   ]
  },
  {
   "cell_type": "markdown",
   "metadata": {},
   "source": [
    "## 3.3 Hyperparameter Tuning"
   ]
  },
  {
   "cell_type": "code",
   "execution_count": 171,
   "metadata": {},
   "outputs": [],
   "source": [
    "# create a suitable F1 score function for hyperopt to use\n",
    "def evalerror(preds, dtrain):\n",
    "    labels = dtrain.get_label()\n",
    "    pred_label = np.round(preds)\n",
    "    f_score = f1_score(pred_label, labels)\n",
    "    return 'f1_score', f_score, True\n",
    "\n",
    "def hyperopt(X, y, params):\n",
    "    \n",
    "    X_train, X_val, y_train, y_val = train_test_split(X, y, test_size=0.5, random_state=0)\n",
    "    train_data = lightgbm.Dataset(X_train, label=y_train)\n",
    "    valid_data = lightgbm.Dataset(X_val, label=y_val)\n",
    "\n",
    "    # limitting the max depth and feature fraction corresponds to preventing over fitting of the model. \n",
    "    # Regularization parameters alpha and lambda also prevent over fitting\n",
    "    space = {\n",
    "        \"learning_rate\": hp.loguniform(\"learning_rate\", np.log(0.01), np.log(0.5)),\n",
    "        \"max_depth\": hp.choice(\"max_depth\", [3, 4, 5, 6, 7]),\n",
    "        \"num_leaves\": hp.choice(\"num_leaves\", np.linspace(10, 200, 50, dtype=int)),\n",
    "        \"feature_fraction\": hp.quniform(\"feature_fraction\", 0.6, 1.0, 0.1),\n",
    "        \"reg_alpha\": hp.uniform(\"reg_alpha\", 0, 2),\n",
    "        \"reg_lambda\": hp.uniform(\"reg_lambda\", 0, 2),\n",
    "        \"min_child_weight\": hp.uniform('min_child_weight', 0.5, 10),\n",
    "    }\n",
    "\n",
    "    def objective(hyperparams):\n",
    "        model = lightgbm.train({**params, **hyperparams}, train_data, 300, \n",
    "                               valid_data, early_stopping_rounds=30, verbose_eval=0, feval = evalerror)\n",
    "\n",
    "        score = model.best_score[\"valid_0\"]['f1_score']\n",
    "        return {'loss': -score, 'status': STATUS_OK}\n",
    "\n",
    "    trials = Trials()\n",
    "    best = fmin(fn=objective, space=space, trials=trials,\n",
    "                algo=tpe.suggest, max_evals=50, verbose=1,\n",
    "                rstate=np.random.RandomState(1))\n",
    "\n",
    "    hyperparams = space_eval(space, best)\n",
    "\n",
    "    print(f\"auc = {-trials.best_trial['result']['loss']:0.4f} {hyperparams}\")\n",
    "\n",
    "    return hyperparams\n"
   ]
  },
  {
   "cell_type": "code",
   "execution_count": 172,
   "metadata": {},
   "outputs": [
    {
     "name": "stdout",
     "output_type": "stream",
     "text": [
      "100%|██████████████████████████████████████████████████| 50/50 [03:39<00:00,  4.40s/it, best loss: -0.9491003290625218]\n",
      "auc = 0.9491 {'feature_fraction': 1.0, 'learning_rate': 0.14204952501005894, 'max_depth': 5, 'min_child_weight': 5.5702484952829066, 'num_leaves': 149, 'reg_alpha': 1.5244467991842399, 'reg_lambda': 0.9052979923420648}\n"
     ]
    }
   ],
   "source": [
    "# run the hyperparameter search using a random grid search defined above\n",
    "params = {\n",
    "    \"objective\": \"binary\",\n",
    "    \"metric\": 'f1_score',\n",
    "    \"verbosity\": -1,\n",
    "    \"seed\": 1,\n",
    "    \"num_threads\": 4\n",
    "}\n",
    "hyperparams = hyperopt(X, y, params)"
   ]
  },
  {
   "cell_type": "markdown",
   "metadata": {},
   "source": [
    "## 4.1 Kaggle Prediction using Optimal Hyperparameters"
   ]
  },
  {
   "cell_type": "code",
   "execution_count": 194,
   "metadata": {},
   "outputs": [
    {
     "name": "stdout",
     "output_type": "stream",
     "text": [
      "Training until validation scores don't improve for 30 rounds\n",
      "Early stopping, best iteration is:\n",
      "[24]\tvalid_0's f1_score: 0.936849\n",
      "0.9420457169244979\n"
     ]
    }
   ],
   "source": [
    "# use the hyperparameters found above to train the final model\n",
    "X_train, X_test, y_train, y_test = train_test_split(X, y, test_size=0.15)\n",
    "\n",
    "train_data = lightgbm.Dataset(X_train, label=y_train)\n",
    "valid_data = lightgbm.Dataset(X_test, label=y_test)\n",
    "\n",
    "model = lightgbm.train({**params, **hyperparams}, train_data, 500,\n",
    "                       valid_data, early_stopping_rounds=30, verbose_eval=100, feval = evalerror)\n",
    "\n",
    "predictions = model_lgbm.predict(X_test)\n",
    "print(f1_score(y_test, np.round(predictions)))"
   ]
  },
  {
   "cell_type": "code",
   "execution_count": 81,
   "metadata": {},
   "outputs": [],
   "source": [
    "d_columns = ['original_index', 'Node1', 'Node2']\n",
    "cols = [i for i in extended_model_test.columns if i not in d_columns]\n",
    "\n",
    "model = lightgbm.LGBMClassifier(**hyperparams)\n",
    "model = model.fit(X, y, eval_metric = evalerror)\n",
    "predictions = model.predict(extended_model_test[cols])"
   ]
  },
  {
   "cell_type": "code",
   "execution_count": 28,
   "metadata": {},
   "outputs": [],
   "source": [
    "final_pred = pd.concat([pd.DataFrame(np.arange(len(df_test))), pd.DataFrame(predictions)],axis=1)\n",
    "final_pred.columns = ['id', 'predicted']\n",
    "with open(\"distance_prediction2.csv\",\"+w\") as pred:\n",
    "    csv_out = csv.writer(pred)\n",
    "    csv_out.writerow(['id','predicted'])\n",
    "    for index, row in final_pred.iterrows():\n",
    "        csv_out.writerow(row)"
   ]
  },
  {
   "cell_type": "markdown",
   "metadata": {},
   "source": [
    "## 4.2 Kaggle Prediction Naive"
   ]
  },
  {
   "cell_type": "code",
   "execution_count": 52,
   "metadata": {},
   "outputs": [],
   "source": [
    "d_columns = ['original_index', 'Node1', 'Node2']\n",
    "cols = [i for i in extended_model_test.columns if i not in d_columns]\n",
    "\n",
    "model = lightgbm.LGBMClassifier()\n",
    "model = model.fit(X, y)\n",
    "normalized_test = scaler.fit_transform(extended_model_test[cols])\n",
    "predictions = model.predict(normalized_test)"
   ]
  },
  {
   "cell_type": "code",
   "execution_count": 129,
   "metadata": {},
   "outputs": [],
   "source": [
    "final_pred = pd.concat([pd.DataFrame(np.arange(len(df_test))), pd.DataFrame(predictions)],axis=1)\n",
    "final_pred.columns = ['id', 'predicted']\n",
    "with open(\"Boosted_prediction_reduced_features.csv\",\"+w\") as pred:\n",
    "    csv_out = csv.writer(pred)\n",
    "    csv_out.writerow(['id','predicted'])\n",
    "    for index, row in final_pred.iterrows():\n",
    "        csv_out.writerow(row)"
   ]
  },
  {
   "cell_type": "markdown",
   "metadata": {},
   "source": [
    "## 4.3 Kaggle Prediction Reduced Naive"
   ]
  },
  {
   "cell_type": "code",
   "execution_count": 72,
   "metadata": {},
   "outputs": [],
   "source": [
    "d_columns = ['original_index', 'Node1', 'Node2']\n",
    "cols = [i for i in extended_model_test.columns if i in selected_columns]\n",
    "\n",
    "model = lightgbm.LGBMClassifier()\n",
    "model = model.fit(normalized[:, selector.support_], y)\n",
    "normalized_test = scaler.fit_transform(extended_model_test[cols])\n",
    "predictions = model.predict(normalized_test)"
   ]
  },
  {
   "cell_type": "code",
   "execution_count": 73,
   "metadata": {},
   "outputs": [],
   "source": [
    "final_pred = pd.concat([pd.DataFrame(np.arange(len(df_test))), pd.DataFrame(predictions)],axis=1)\n",
    "final_pred.columns = ['id', 'predicted']\n",
    "with open(\"Boosted_prediction_reduced_features.csv\",\"+w\") as pred:\n",
    "    csv_out = csv.writer(pred)\n",
    "    csv_out.writerow(['id','predicted'])\n",
    "    for index, row in final_pred.iterrows():\n",
    "        csv_out.writerow(row)"
   ]
  },
  {
   "cell_type": "markdown",
   "metadata": {},
   "source": [
    "## 5.1 Simple Model Predictions"
   ]
  },
  {
   "cell_type": "code",
   "execution_count": 195,
   "metadata": {},
   "outputs": [
    {
     "name": "stdout",
     "output_type": "stream",
     "text": [
      "0.9402917046490429\n"
     ]
    }
   ],
   "source": [
    "d_columns = ['original_index', 'Link', 'Node1', 'Node2']\n",
    "cols = [i for i in perf_val_data.columns if i not in d_columns]\n",
    "X = perf_val_data[cols]\n",
    "y = list(map(lambda i: int(i), data_train_val['Link']))\n",
    "X_train, X_test, y_train, y_test = train_test_split(X, y, test_size=0.15, random_state=1)\n",
    "lgbm = lightgbm.LGBMClassifier()\n",
    "model_lgbm = lgbm.fit(X_train, y_train)\n",
    "predictions = model_lgbm.predict(X_test)\n",
    "print(f1_score(y_test, predictions))"
   ]
  },
  {
   "cell_type": "code",
   "execution_count": 92,
   "metadata": {},
   "outputs": [],
   "source": [
    "lgbm = lightgbm.LGBMClassifier()\n",
    "model_lgbm = lgbm.fit(X, y)\n",
    "simple_predictions = model_lgbm.predict(perf_test_data[cols])"
   ]
  },
  {
   "cell_type": "markdown",
   "metadata": {},
   "source": [
    "## 5.2 Node2Vec Model Predictions"
   ]
  },
  {
   "cell_type": "code",
   "execution_count": 158,
   "metadata": {},
   "outputs": [
    {
     "name": "stdout",
     "output_type": "stream",
     "text": [
      "0.9274774774774774\n"
     ]
    }
   ],
   "source": [
    "X = df_train\n",
    "y = list(map(lambda i: int(i), data_train_val['Link']))\n",
    "X_train, X_test, y_train, y_test = train_test_split(X, y, test_size=0.15, random_state=1)\n",
    "lgbm = lightgbm.LGBMClassifier()\n",
    "model_lgbm = lgbm.fit(X_train, y_train)\n",
    "predictions = model_lgbm.predict(X_test)\n",
    "print(f1_score(y_test, predictions))"
   ]
  },
  {
   "cell_type": "code",
   "execution_count": 94,
   "metadata": {},
   "outputs": [],
   "source": [
    "lgbm = lightgbm.LGBMClassifier()\n",
    "model_lgbm = lgbm.fit(X, y)\n",
    "node2vec_predictions = model_lgbm.predict(df_test)"
   ]
  },
  {
   "cell_type": "markdown",
   "metadata": {},
   "source": [
    "## 5.3 Augmented Node2Vec Model Predictions"
   ]
  },
  {
   "cell_type": "code",
   "execution_count": 196,
   "metadata": {},
   "outputs": [
    {
     "name": "stdout",
     "output_type": "stream",
     "text": [
      "0.9477049554692853\n"
     ]
    }
   ],
   "source": [
    "d_columns = ['original_index', 'Link', 'Node1', 'Node2']\n",
    "cols = [i for i in extended_model_train.columns if i not in d_columns]\n",
    "X = extended_model_train[cols]\n",
    "y = list(map(lambda i: int(i), data_train_val['Link']))\n",
    "X_train, X_test, y_train, y_test = train_test_split(X, y, test_size=0.15, random_state=1)\n",
    "lgbm = lightgbm.LGBMClassifier(**hyperparams)\n",
    "model_lgbm = lgbm.fit(X_train, y_train)\n",
    "predictions = model_lgbm.predict(X_test)\n",
    "print(f1_score(y_test, predictions))"
   ]
  },
  {
   "cell_type": "code",
   "execution_count": 197,
   "metadata": {},
   "outputs": [],
   "source": [
    "lgbm = lightgbm.LGBMClassifier(**hyperparams)\n",
    "model_lgbm = lgbm.fit(X, y)\n",
    "extended_features_predictions = model_lgbm.predict(extended_model_test[cols])"
   ]
  },
  {
   "cell_type": "markdown",
   "metadata": {},
   "source": [
    "## Creating Simple Ensemble"
   ]
  },
  {
   "cell_type": "code",
   "execution_count": 145,
   "metadata": {},
   "outputs": [
    {
     "data": {
      "text/plain": [
       "array([1, 1, 0, ..., 0, 1, 1])"
      ]
     },
     "execution_count": 145,
     "metadata": {},
     "output_type": "execute_result"
    }
   ],
   "source": [
    "predictions = np.array([int(i) for i in ((simple_predictions + node2vec_predictions + extended_features_predictions) >= 2)])\n",
    "predictions"
   ]
  },
  {
   "cell_type": "code",
   "execution_count": 124,
   "metadata": {},
   "outputs": [],
   "source": [
    "final_pred = pd.concat([pd.DataFrame(np.arange(len(df_test))), pd.DataFrame(extended_features_predictions_RF)],axis=1)\n",
    "final_pred.columns = ['id', 'predicted']\n",
    "with open(\"RF_hyperopt_pred.csv\",\"+w\") as pred:\n",
    "    csv_out = csv.writer(pred)\n",
    "    csv_out.writerow(['id','predicted'])\n",
    "    for index, row in final_pred.iterrows():\n",
    "        csv_out.writerow(row)"
   ]
  },
  {
   "cell_type": "markdown",
   "metadata": {},
   "source": [
    "## Keras"
   ]
  },
  {
   "cell_type": "code",
   "execution_count": 164,
   "metadata": {},
   "outputs": [],
   "source": [
    "from sklearn.preprocessing import StandardScaler\n",
    "from keras.models import Sequential\n",
    "from keras.layers import Dense, BatchNormalization, Dropout\n",
    "\n",
    "scaler = StandardScaler()\n",
    "normalized = scaler.fit_transform(X)\n",
    "\n",
    "from keras import backend as K\n",
    "from keras import callbacks\n",
    "def recall_m(y_true, y_pred):\n",
    "        true_positives = K.sum(K.round(K.clip(y_true * y_pred, 0, 1)))\n",
    "        possible_positives = K.sum(K.round(K.clip(y_true, 0, 1)))\n",
    "        recall = true_positives / (possible_positives + K.epsilon())\n",
    "        return recall\n",
    "\n",
    "def precision_m(y_true, y_pred):\n",
    "        true_positives = K.sum(K.round(K.clip(y_true * y_pred, 0, 1)))\n",
    "        predicted_positives = K.sum(K.round(K.clip(y_pred, 0, 1)))\n",
    "        precision = true_positives / (predicted_positives + K.epsilon())\n",
    "        return precision\n",
    "\n",
    "def f1_m(y_true, y_pred):\n",
    "    precision = precision_m(y_true, y_pred)\n",
    "    recall = recall_m(y_true, y_pred)\n",
    "    return 2*((precision*recall)/(precision+recall+K.epsilon()))\n",
    "\n",
    "def create_model():\n",
    "    model = Sequential()\n",
    "    model.add(Dense(50, input_dim=normalized.shape[1], activation='relu'))\n",
    "    BatchNormalization()\n",
    "    Dropout(rate=0.5)\n",
    "    model.add(Dense(50, activation='relu'))\n",
    "    Dropout(rate=0.5)\n",
    "    model.add(Dense(1, activation='sigmoid'))\n",
    "    model.compile(loss='binary_crossentropy', optimizer='adam', metrics=['accuracy', f1_m])\n",
    "    return(model)\n",
    "\n",
    "multi_rnn = create_model()"
   ]
  },
  {
   "cell_type": "code",
   "execution_count": 165,
   "metadata": {
    "scrolled": true
   },
   "outputs": [
    {
     "name": "stdout",
     "output_type": "stream",
     "text": [
      "Train on 17016 samples, validate on 5673 samples\n",
      "Epoch 1/100\n",
      " - 2s - loss: 0.5562 - acc: 0.6758 - f1_m: 0.7589 - val_loss: 0.4260 - val_acc: 0.8232 - val_f1_m: 0.8684\n",
      "Epoch 2/100\n",
      " - 0s - loss: 0.3703 - acc: 0.8531 - f1_m: 0.8858 - val_loss: 0.3099 - val_acc: 0.8794 - val_f1_m: 0.9058\n",
      "Epoch 3/100\n",
      " - 0s - loss: 0.2882 - acc: 0.8867 - f1_m: 0.9098 - val_loss: 0.2636 - val_acc: 0.8972 - val_f1_m: 0.9191\n",
      "Epoch 4/100\n",
      " - 0s - loss: 0.2494 - acc: 0.9020 - f1_m: 0.9216 - val_loss: 0.2408 - val_acc: 0.9032 - val_f1_m: 0.9234\n",
      "Epoch 5/100\n",
      " - 0s - loss: 0.2267 - acc: 0.9117 - f1_m: 0.9294 - val_loss: 0.2265 - val_acc: 0.9094 - val_f1_m: 0.9281\n",
      "Epoch 6/100\n",
      " - 0s - loss: 0.2107 - acc: 0.9180 - f1_m: 0.9344 - val_loss: 0.2169 - val_acc: 0.9119 - val_f1_m: 0.9304\n",
      "Epoch 7/100\n",
      " - 0s - loss: 0.1983 - acc: 0.9227 - f1_m: 0.9383 - val_loss: 0.2108 - val_acc: 0.9136 - val_f1_m: 0.9318\n",
      "Epoch 8/100\n",
      " - 0s - loss: 0.1891 - acc: 0.9274 - f1_m: 0.9419 - val_loss: 0.2043 - val_acc: 0.9182 - val_f1_m: 0.9349\n",
      "Epoch 9/100\n",
      " - 0s - loss: 0.1811 - acc: 0.9304 - f1_m: 0.9442 - val_loss: 0.2018 - val_acc: 0.9198 - val_f1_m: 0.9364\n",
      "Epoch 10/100\n",
      " - 0s - loss: 0.1735 - acc: 0.9348 - f1_m: 0.9479 - val_loss: 0.1982 - val_acc: 0.9205 - val_f1_m: 0.9364\n",
      "Epoch 11/100\n",
      " - 0s - loss: 0.1687 - acc: 0.9369 - f1_m: 0.9494 - val_loss: 0.2001 - val_acc: 0.9224 - val_f1_m: 0.9387\n",
      "Epoch 12/100\n",
      " - 0s - loss: 0.1631 - acc: 0.9397 - f1_m: 0.9517 - val_loss: 0.1960 - val_acc: 0.9228 - val_f1_m: 0.9383\n",
      "Epoch 13/100\n",
      " - 0s - loss: 0.1583 - acc: 0.9396 - f1_m: 0.9517 - val_loss: 0.1972 - val_acc: 0.9249 - val_f1_m: 0.9405\n",
      "Epoch 14/100\n",
      " - 0s - loss: 0.1558 - acc: 0.9416 - f1_m: 0.9534 - val_loss: 0.1964 - val_acc: 0.9249 - val_f1_m: 0.9404\n",
      "Epoch 15/100\n",
      " - 0s - loss: 0.1497 - acc: 0.9444 - f1_m: 0.9555 - val_loss: 0.1949 - val_acc: 0.9277 - val_f1_m: 0.9426\n",
      "Epoch 16/100\n",
      " - 0s - loss: 0.1475 - acc: 0.9448 - f1_m: 0.9558 - val_loss: 0.1966 - val_acc: 0.9247 - val_f1_m: 0.9401\n",
      "Epoch 17/100\n",
      " - 0s - loss: 0.1430 - acc: 0.9470 - f1_m: 0.9576 - val_loss: 0.1943 - val_acc: 0.9261 - val_f1_m: 0.9410\n",
      "Epoch 18/100\n",
      " - 0s - loss: 0.1396 - acc: 0.9495 - f1_m: 0.9596 - val_loss: 0.1939 - val_acc: 0.9268 - val_f1_m: 0.9417\n",
      "Epoch 19/100\n",
      " - 0s - loss: 0.1358 - acc: 0.9503 - f1_m: 0.9602 - val_loss: 0.1949 - val_acc: 0.9268 - val_f1_m: 0.9414\n",
      "Epoch 20/100\n",
      " - 0s - loss: 0.1330 - acc: 0.9518 - f1_m: 0.9614 - val_loss: 0.1957 - val_acc: 0.9272 - val_f1_m: 0.9420\n",
      "Epoch 21/100\n",
      " - 0s - loss: 0.1292 - acc: 0.9535 - f1_m: 0.9628 - val_loss: 0.1989 - val_acc: 0.9260 - val_f1_m: 0.9413\n",
      "Epoch 22/100\n",
      " - 0s - loss: 0.1263 - acc: 0.9546 - f1_m: 0.9637 - val_loss: 0.1974 - val_acc: 0.9272 - val_f1_m: 0.9418\n",
      "Epoch 23/100\n",
      " - 0s - loss: 0.1236 - acc: 0.9550 - f1_m: 0.9639 - val_loss: 0.1974 - val_acc: 0.9265 - val_f1_m: 0.9413\n",
      "Epoch 24/100\n",
      " - 0s - loss: 0.1261 - acc: 0.9537 - f1_m: 0.9630 - val_loss: 0.1989 - val_acc: 0.9246 - val_f1_m: 0.9400\n",
      "Epoch 25/100\n",
      " - 0s - loss: 0.1218 - acc: 0.9558 - f1_m: 0.9644 - val_loss: 0.2013 - val_acc: 0.9251 - val_f1_m: 0.9406\n",
      "Epoch 26/100\n",
      " - 0s - loss: 0.1254 - acc: 0.9515 - f1_m: 0.9611 - val_loss: 0.1984 - val_acc: 0.9274 - val_f1_m: 0.9418\n",
      "Epoch 27/100\n",
      " - 0s - loss: 0.1175 - acc: 0.9573 - f1_m: 0.9657 - val_loss: 0.1999 - val_acc: 0.9258 - val_f1_m: 0.9410\n",
      "Epoch 28/100\n",
      " - 0s - loss: 0.1153 - acc: 0.9582 - f1_m: 0.9665 - val_loss: 0.2000 - val_acc: 0.9267 - val_f1_m: 0.9415\n",
      "Epoch 00028: early stopping\n"
     ]
    }
   ],
   "source": [
    "es = callbacks.EarlyStopping(monitor='val_loss', patience=10, verbose=1)\n",
    "history = multi_rnn.fit(normalized, y, epochs = 100, batch_size = 500, verbose = 2, validation_split=0.25, callbacks=[es])"
   ]
  },
  {
   "cell_type": "code",
   "execution_count": 166,
   "metadata": {},
   "outputs": [],
   "source": [
    "normalized_kaggle = scaler.fit_transform(extended_model_test[cols])\n",
    "keras_predictions = list(np.round(multi_rnn.predict(normalized_kaggle)).reshape(-1).astype(int))"
   ]
  },
  {
   "cell_type": "markdown",
   "metadata": {},
   "source": [
    "## 5.3 Augmented Node2Vec Model Predictions RF"
   ]
  },
  {
   "cell_type": "code",
   "execution_count": 232,
   "metadata": {},
   "outputs": [],
   "source": [
    "def hyperopt_RF(X, y, params):\n",
    "    \n",
    "    X_train, X_val, y_train, y_val = train_test_split(X, y, test_size=0.5, random_state=0)\n",
    "    # limitting the max depth and feature fraction corresponds to preventing over fitting of the model. \n",
    "    # Regularization parameters alpha and lambda also prevent over fitting\n",
    "    space = {\n",
    "        \n",
    "        #'bootstrap': hp.choice('bootstrap', [True, False]),\n",
    "        'max_depth': hp.quniform(\"max_depth\", 2, 20, 2),\n",
    "        'max_features': hp.choice('max_features', ['auto', 'sqrt']),\n",
    "        'min_samples_leaf': hp.choice('min_samples_leaf', np.linspace(1, 5, 1, dtype=int)),\n",
    "        'min_samples_split': hp.choice('min_samples_split', np.linspace(2, 10, 2, dtype=int)),\n",
    "        'n_estimators': hp.choice('n_estimators', np.linspace(100, 500, 100, dtype=int))\n",
    "    }\n",
    "\n",
    "    def objective(hyperparams):\n",
    "        model = RandomForestClassifier(**hyperparams)\n",
    "        model.fit(X_train, y_train)\n",
    "        predictions = model.predict(X_test)\n",
    "        score = f1_score(y_test, predictions)\n",
    "        return {'loss': -score, 'status': STATUS_OK}\n",
    "\n",
    "    trials = Trials()\n",
    "    best = fmin(fn=objective, space=space, trials=trials,\n",
    "                algo=tpe.suggest, max_evals=10, verbose=1,\n",
    "                rstate=np.random.RandomState(1))\n",
    "\n",
    "    hyperparams = space_eval(space, best)\n",
    "\n",
    "    print(f\"auc = {-trials.best_trial['result']['loss']:0.4f} {hyperparams}\")\n",
    "\n",
    "    return hyperparams\n"
   ]
  },
  {
   "cell_type": "code",
   "execution_count": 233,
   "metadata": {},
   "outputs": [
    {
     "name": "stdout",
     "output_type": "stream",
     "text": [
      "100%|██████████████████████████████████████████████████| 10/10 [03:36<00:00, 21.68s/it, best loss: -0.9691004806591896]\n",
      "auc = 0.9691 {'bootstrap': False, 'max_depth': 16.0, 'max_features': 'sqrt', 'min_samples_leaf': 1, 'min_samples_split': 2, 'n_estimators': 411}\n"
     ]
    }
   ],
   "source": [
    "# run the hyperparameter search using a random grid search defined above\n",
    "params = {\n",
    "    \"objective\": \"binary\",\n",
    "    \"metric\": 'f1_score',\n",
    "    \"verbosity\": -1,\n",
    "    \"seed\": 1,\n",
    "    \"num_threads\": 4\n",
    "}\n",
    "hyperparams = hyperopt_RF(X, y, params)"
   ]
  },
  {
   "cell_type": "code",
   "execution_count": 234,
   "metadata": {},
   "outputs": [
    {
     "name": "stdout",
     "output_type": "stream",
     "text": [
      "0.9422202001819836\n"
     ]
    }
   ],
   "source": [
    "d_columns = ['original_index', 'Link', 'Node1', 'Node2']\n",
    "cols = [i for i in extended_model_train.columns if i not in d_columns]\n",
    "X = extended_model_train[cols]\n",
    "y = list(map(lambda i: int(i), data_train_val['Link']))\n",
    "X_train, X_test, y_train, y_test = train_test_split(X, y, test_size=0.15, random_state=1)\n",
    "RF = RandomForestClassifier(**hyperparams)\n",
    "model_RF = RF.fit(X_train, y_train)\n",
    "predictions = model_RF.predict(X_test)\n",
    "print(f1_score(y_test, predictions))"
   ]
  },
  {
   "cell_type": "code",
   "execution_count": 236,
   "metadata": {},
   "outputs": [],
   "source": [
    "RF = RandomForestClassifier(**hyperparams)\n",
    "model_RF = RF.fit(X, y)\n",
    "extended_features_predictions_RF = model_RF.predict(extended_model_test[cols])"
   ]
  },
  {
   "cell_type": "markdown",
   "metadata": {},
   "source": [
    "## Creating Complex Ensemble"
   ]
  },
  {
   "cell_type": "code",
   "execution_count": 146,
   "metadata": {},
   "outputs": [
    {
     "data": {
      "text/plain": [
       "0.9812692816218599"
      ]
     },
     "execution_count": 146,
     "metadata": {},
     "output_type": "execute_result"
    }
   ],
   "source": [
    "sum(predictions==predictions2)/len(predictions)"
   ]
  },
  {
   "cell_type": "code",
   "execution_count": 144,
   "metadata": {},
   "outputs": [
    {
     "data": {
      "text/plain": [
       "array([1, 1, 0, ..., 0, 1, 1])"
      ]
     },
     "execution_count": 144,
     "metadata": {},
     "output_type": "execute_result"
    }
   ],
   "source": [
    "predictions2 = np.array([int(i) for i in ((keras_predictions + extended_features_predictions_RF + extended_features_predictions) >= 2)])\n",
    "predictions2"
   ]
  },
  {
   "cell_type": "code",
   "execution_count": 147,
   "metadata": {},
   "outputs": [],
   "source": [
    "final_pred = pd.concat([pd.DataFrame(np.arange(len(df_test))), pd.DataFrame(predictions2)],axis=1)\n",
    "final_pred.columns = ['id', 'predicted']\n",
    "with open(\"Complex_ensemble_Keras_RF_pred.csv\",\"+w\") as pred:\n",
    "    csv_out = csv.writer(pred)\n",
    "    csv_out.writerow(['id','predicted'])\n",
    "    for index, row in final_pred.iterrows():\n",
    "        csv_out.writerow(row)"
   ]
  },
  {
   "cell_type": "markdown",
   "metadata": {},
   "source": [
    "## Creating Complex Ensemble 2"
   ]
  },
  {
   "cell_type": "code",
   "execution_count": 240,
   "metadata": {},
   "outputs": [
    {
     "data": {
      "text/plain": [
       "0.9804847950639048"
      ]
     },
     "execution_count": 240,
     "metadata": {},
     "output_type": "execute_result"
    }
   ],
   "source": [
    "sum(predictions2==predictions3)/len(predictions2)"
   ]
  },
  {
   "cell_type": "code",
   "execution_count": 239,
   "metadata": {},
   "outputs": [
    {
     "data": {
      "text/plain": [
       "array([1, 1, 0, ..., 0, 1, 1])"
      ]
     },
     "execution_count": 239,
     "metadata": {},
     "output_type": "execute_result"
    }
   ],
   "source": [
    "predictions3 = np.array([int(i) for i in ((keras_predictions + extended_features_predictions_RF + extended_features_predictions) >= 2)])\n",
    "predictions3"
   ]
  },
  {
   "cell_type": "code",
   "execution_count": 242,
   "metadata": {},
   "outputs": [],
   "source": [
    "final_pred = pd.concat([pd.DataFrame(np.arange(len(df_test))), pd.DataFrame(predictions3)],axis=1)\n",
    "final_pred.columns = ['id', 'predicted']\n",
    "with open(\"Complex_ensemble_Keras_RF_hyperopt_pred.csv\",\"+w\") as pred:\n",
    "    csv_out = csv.writer(pred)\n",
    "    csv_out.writerow(['id','predicted'])\n",
    "    for index, row in final_pred.iterrows():\n",
    "        csv_out.writerow(row)"
   ]
  },
  {
   "cell_type": "code",
   "execution_count": null,
   "metadata": {},
   "outputs": [],
   "source": []
  }
 ],
 "metadata": {
  "kernelspec": {
   "display_name": "Python 3",
   "language": "python",
   "name": "python3"
  },
  "language_info": {
   "codemirror_mode": {
    "name": "ipython",
    "version": 3
   },
   "file_extension": ".py",
   "mimetype": "text/x-python",
   "name": "python",
   "nbconvert_exporter": "python",
   "pygments_lexer": "ipython3",
   "version": "3.7.4"
  }
 },
 "nbformat": 4,
 "nbformat_minor": 2
}
