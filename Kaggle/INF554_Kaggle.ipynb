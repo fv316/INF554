{
 "cells": [
  {
   "cell_type": "markdown",
   "metadata": {},
   "source": [
    "# INF554 Kaggle Competition\n",
    "#### Francisco Correia"
   ]
  },
  {
   "cell_type": "markdown",
   "metadata": {},
   "source": [
    "## Imports and Loading"
   ]
  },
  {
   "cell_type": "code",
   "execution_count": 2,
   "metadata": {},
   "outputs": [
    {
     "name": "stderr",
     "output_type": "stream",
     "text": [
      "Using TensorFlow backend.\n"
     ]
    }
   ],
   "source": [
    "import random\n",
    "import numpy as np\n",
    "import pandas as pd\n",
    "import csv\n",
    "from tqdm import tqdm\n",
    "import seaborn as sns\n",
    "import os\n",
    "import networkx as nx\n",
    "import pdb\n",
    "import pickle\n",
    "from collections import Counter\n",
    "from sklearn import svm\n",
    "from sklearn.feature_extraction.text import TfidfVectorizer\n",
    "from sklearn.metrics.pairwise import linear_kernel\n",
    "from sklearn import preprocessing\n",
    "from sklearn.linear_model import LogisticRegression\n",
    "from sklearn.ensemble import RandomForestClassifier\n",
    "from sklearn.ensemble import GradientBoostingClassifier\n",
    "from sklearn.ensemble import BaggingClassifier\n",
    "from sklearn.neighbors import KNeighborsClassifier\n",
    "from sklearn.neural_network import MLPClassifier\n",
    "from sklearn.svm import SVC\n",
    "from sklearn.model_selection import train_test_split\n",
    "from sklearn.metrics import f1_score, precision_score, recall_score, accuracy_score\n",
    "from sklearn.feature_extraction import text as fe\n",
    "from sklearn.decomposition import NMF, LatentDirichletAllocation\n",
    "import matplotlib.pyplot as plt\n",
    "import datetime\n",
    "import time\n",
    "import keras\n",
    "import lightgbm\n",
    "import spacy\n",
    "from nltk import wordpunct_tokenize\n",
    "from nltk.corpus import stopwords\n",
    "import nltk\n",
    "from hyperopt import STATUS_OK, Trials, hp, space_eval, tpe, fmin\n",
    "\n"
   ]
  },
  {
   "cell_type": "code",
   "execution_count": 2,
   "metadata": {},
   "outputs": [
    {
     "name": "stderr",
     "output_type": "stream",
     "text": [
      "[nltk_data] Downloading package punkt to\n",
      "[nltk_data]     C:\\Users\\fvice\\AppData\\Roaming\\nltk_data...\n",
      "[nltk_data]   Package punkt is already up-to-date!\n",
      "[nltk_data] Downloading package stopwords to\n",
      "[nltk_data]     C:\\Users\\fvice\\AppData\\Roaming\\nltk_data...\n",
      "[nltk_data]   Package stopwords is already up-to-date!\n"
     ]
    }
   ],
   "source": [
    "# for tokenization using spacy and nltk\n",
    "nlp_fr = spacy.load('fr_core_news_md', disable=[\"tagger\", \"parser\", \"ner\", \"textcat\"])\n",
    "nlp_en = spacy.load('en_core_web_md', disable=[\"tagger\", \"parser\", \"ner\", \"textcat\"])\n",
    "nltk.download('punkt')\n",
    "nltk.download('stopwords')\n",
    "\n",
    "# for stopword extraction and stemming\n",
    "stpwds_en = set(nltk.corpus.stopwords.words(\"english\"))\n",
    "stpwds_fr = set(nltk.corpus.stopwords.words(\"french\"))\n",
    "stemmer = nltk.stem.PorterStemmer()\n",
    "spacy_stopwords_en = spacy.lang.en.stop_words.STOP_WORDS        \n",
    "spacy_stopwords_fr = spacy.lang.fr.stop_words.STOP_WORDS        \n",
    "spacy_stopwords_union = set(spacy_stopwords_en).union(set(spacy_stopwords_fr))"
   ]
  },
  {
   "cell_type": "code",
   "execution_count": 4,
   "metadata": {},
   "outputs": [
    {
     "name": "stdout",
     "output_type": "stream",
     "text": [
      "Training examples shape: (453797, 3)\n",
      "Testing examples shape: (113450, 2)\n"
     ]
    }
   ],
   "source": [
    "with open(r\"training.txt\", \"r\") as f:\n",
    "    reader = csv.reader(f)\n",
    "    training  = list(reader)\n",
    "# in order of training examples\n",
    "training = [element[0].split(\" \") for element in training]\n",
    "training = pd.DataFrame(training, columns=['Node1', 'Node2', 'Link'])\n",
    "\n",
    "print(\"Training examples shape: {}\".format(training.shape))\n",
    "\n",
    "with open(r\"testing.txt\", \"r\") as f:\n",
    "    reader = csv.reader(f)\n",
    "    testing  = list(reader)\n",
    "# in order of testing examples\n",
    "testing = [element[0].split(\" \") for element in testing]\n",
    "testing = pd.DataFrame(testing, columns=['Node1', 'Node2'])\n",
    "\n",
    "print(\"Testing examples shape: {}\".format(testing.shape))"
   ]
  },
  {
   "cell_type": "code",
   "execution_count": 4,
   "metadata": {},
   "outputs": [
    {
     "name": "stdout",
     "output_type": "stream",
     "text": [
      "Training node info shape: (33226, 2)\n"
     ]
    }
   ],
   "source": [
    "# uncomment lines for reduced corpus with stopword removal. In future integrate stemmer here, multi-language\n",
    "\n",
    "corpus_path = r\"pickles/reduced_corpus.PICKLE\" # reduced pickle has stopwords removed\n",
    "# corpus_path = r\"pickles/corpus.PICKLE\" # full corpus has only whitespace removal\n",
    "ids_path = r\"pickles/IDs.PICKLE\"\n",
    "if os.path.exists(corpus_path):\n",
    "    with open(corpus_path, 'rb') as f:\n",
    "        corpus = pickle.load(f)\n",
    "    f.close()\n",
    "    with open(ids_path, 'rb') as f:\n",
    "        ids = pickle.load(f)\n",
    "    f.close()\n",
    "else:\n",
    "    directory = r\"node_information/text/\"\n",
    "    corpus = []\n",
    "    ids = []\n",
    "    for filename in tqdm(os.listdir(directory)):\n",
    "        with open(directory + filename, 'r', encoding='UTF-8', errors='ignore') as f:\n",
    "            doc_string = []\n",
    "            for line in f:\n",
    "                # [doc_string.append(token) for token in line.lower().strip().split(\" \")]\n",
    "                [doc_string.append(token) for token in line.lower().strip().split(\" \") if token not in spacy_stopwords_union]\n",
    "            corpus.append(' '.join(doc_string))\n",
    "            ids.append(filename[:-4])\n",
    "    with open(corpus_path, '+wb') as f:\n",
    "        pickle.dump(corpus, f)\n",
    "    f.close()\n",
    "    with open(ids_path, '+wb') as f:\n",
    "        pickle.dump(ids, f)\n",
    "    f.close() \n",
    "\n",
    "# in order of alphabetical text information i.e. 0, 1, 10, 100\n",
    "node_info = pd.DataFrame({'ID': ids, 'Corpus': corpus})\n",
    "node_info_ID = node_info.set_index(['ID'])\n",
    "print(\"Training node info shape: {}\".format(node_info.shape))"
   ]
  },
  {
   "cell_type": "code",
   "execution_count": 5,
   "metadata": {},
   "outputs": [],
   "source": [
    "keep_indices = random.sample(range(len(training)), k=int(round(len(training) * 0.05)))\n",
    "data_train_val = training.iloc[keep_indices]\n",
    "data_train = training.loc[~training.index.isin(keep_indices)]"
   ]
  },
  {
   "cell_type": "code",
   "execution_count": 6,
   "metadata": {},
   "outputs": [],
   "source": [
    "linked_nodes = data_train.loc[data_train['Link']=='1']\n",
    "linked_nodes = linked_nodes[['Node1', 'Node2']]\n",
    "linked_nodes.to_csv('linked_nodes.txt', sep=' ', index=False, header=False)\n",
    "G=nx.read_edgelist('linked_nodes.txt', create_using=nx.Graph(), nodetype = str)"
   ]
  },
  {
   "cell_type": "markdown",
   "metadata": {},
   "source": [
    "## Training"
   ]
  },
  {
   "cell_type": "code",
   "execution_count": null,
   "metadata": {},
   "outputs": [],
   "source": [
    "# classification methodology comparisons\n",
    "def multi_classifier(X_train, X_test, y_train, y_test):\n",
    "    classifier_names = ['LR', 'SVM', 'RF', 'GBM', 'LGBM', 'MLP', 'BAG', 'KNN']\n",
    "    metrics = ['F1', 'Accuracy']\n",
    "    df_summary = pd.DataFrame(np.zeros((len(metrics), len(classifier_names))), \n",
    "                              columns = classifier_names, \n",
    "                              index = metrics)\n",
    "\n",
    "    logreg = LogisticRegression()\n",
    "    svm = SVC()\n",
    "    rf = RandomForestClassifier()\n",
    "    gbm = GradientBoostingClassifier()\n",
    "    lgbm = lightgbm.LGBMClassifier()\n",
    "    mlp = MLPClassifier()\n",
    "    bag = BaggingClassifier()\n",
    "    knn = KNeighborsClassifier()\n",
    "   \n",
    "    classifiers= [logreg, svm, rf, gbm, lgbm, mlp, bag, knn]\n",
    "    for idx, classifier in enumerate(classifiers): \n",
    "        model = classifier.fit(X_train, y_train)\n",
    "        predictions = model.predict(X_test)    \n",
    "        f1 = f1_score(y_test, predictions)\n",
    "        accuracy = accuracy_score(y_test, predictions)\n",
    "        df_summary.iloc[0,idx]=np.round(f1, 4)\n",
    "        df_summary.iloc[1,idx]=np.round(accuracy, 4)\n",
    "    \n",
    "    return df_summary"
   ]
  },
  {
   "cell_type": "code",
   "execution_count": 16,
   "metadata": {},
   "outputs": [
    {
     "data": {
      "text/html": [
       "<div>\n",
       "<style scoped>\n",
       "    .dataframe tbody tr th:only-of-type {\n",
       "        vertical-align: middle;\n",
       "    }\n",
       "\n",
       "    .dataframe tbody tr th {\n",
       "        vertical-align: top;\n",
       "    }\n",
       "\n",
       "    .dataframe thead th {\n",
       "        text-align: right;\n",
       "    }\n",
       "</style>\n",
       "<table border=\"1\" class=\"dataframe\">\n",
       "  <thead>\n",
       "    <tr style=\"text-align: right;\">\n",
       "      <th></th>\n",
       "      <th>Node1</th>\n",
       "      <th>Node2</th>\n",
       "      <th>original_index</th>\n",
       "    </tr>\n",
       "  </thead>\n",
       "  <tbody>\n",
       "    <tr>\n",
       "      <th>0</th>\n",
       "      <td>870</td>\n",
       "      <td>10284</td>\n",
       "      <td>0</td>\n",
       "    </tr>\n",
       "    <tr>\n",
       "      <th>1</th>\n",
       "      <td>620</td>\n",
       "      <td>15300</td>\n",
       "      <td>1</td>\n",
       "    </tr>\n",
       "  </tbody>\n",
       "</table>\n",
       "</div>"
      ],
      "text/plain": [
       "  Node1  Node2  original_index\n",
       "0   870  10284               0\n",
       "1   620  15300               1"
      ]
     },
     "execution_count": 16,
     "metadata": {},
     "output_type": "execute_result"
    }
   ],
   "source": [
    "# dictionary key indexes original training data\n",
    "perf_val_data = pd.DataFrame(data_train_val.Node1.values, columns = ['Node1'])\n",
    "perf_val_data['Node2'] = list(data_train_val.Node2.values)\n",
    "perf_val_data['Link'] =  list(data_train_val.Link.values)\n",
    "perf_val_data['original_index'] = list(data_train_val.index)\n",
    "\n",
    "# dictionary key indexes original testing data\n",
    "perf_test_data = pd.DataFrame(testing.Node1.values, columns = ['Node1'])\n",
    "perf_test_data['Node2'] = list(testing.Node2.values)\n",
    "perf_test_data['original_index'] = list(testing.index)\n",
    "\n",
    "perf_test_data.head(2)"
   ]
  },
  {
   "cell_type": "markdown",
   "metadata": {},
   "source": [
    "## Load Features"
   ]
  },
  {
   "cell_type": "code",
   "execution_count": 14,
   "metadata": {},
   "outputs": [],
   "source": [
    "feature_vector_path = r\"pickles/perf_val_data.PICKLE\"\n",
    "if os.path.exists(feature_vector_path):\n",
    "    with open(feature_vector_path, 'rb') as f:\n",
    "        perf_val_data = pickle.load(f)\n",
    "    f.close()\n",
    "\n",
    "feature_vector_path = r\"pickles/perf_test_data.PICKLE\"\n",
    "if os.path.exists(feature_vector_path):\n",
    "    with open(feature_vector_path, 'rb') as f:\n",
    "        perf_test_data = pickle.load(f)\n",
    "    f.close()\n",
    "\n",
    "#perf_val_data = perf_val_data.drop(['text_length'], axis=1)\n",
    "#perf_test_data = perf_test_data.drop(['text_length'], axis=1)"
   ]
  },
  {
   "cell_type": "code",
   "execution_count": 85,
   "metadata": {},
   "outputs": [],
   "source": [
    "# saving the features\n",
    "feature_vector_path = r\"pickles/perf_val_data.PICKLE\"\n",
    "if not os.path.exists(feature_vector_path):\n",
    "    with open(feature_vector_path, '+wb') as f:\n",
    "        pickle.dump(perf_val_data, f)\n",
    "    f.close()\n",
    "feature_vector_path = r\"pickles/perf_test_data.PICKLE\"\n",
    "if not os.path.exists(feature_vector_path):\n",
    "    with open(feature_vector_path, '+wb') as f:\n",
    "        pickle.dump(perf_test_data, f)\n",
    "    f.close()"
   ]
  },
  {
   "cell_type": "markdown",
   "metadata": {},
   "source": [
    "## Text Based Features"
   ]
  },
  {
   "cell_type": "code",
   "execution_count": 9,
   "metadata": {},
   "outputs": [],
   "source": [
    "corpus_matrix_path = r\"pickles/corpus_word_matrix.PICKLE\"\n",
    "if os.path.exists(corpus_matrix_path):\n",
    "    with open(corpus_matrix_path, 'rb') as f:\n",
    "        corpus_word_matrix = pickle.load(f)\n",
    "    f.close()\n",
    "else:\n",
    "    vectorizer1 = fe.CountVectorizer()\n",
    "    corpus_word_matrix = vectorizer1.fit_transform(tqdm(corpus))\n",
    "    with open(corpus_matrix_path, '+wb') as f:\n",
    "        pickle.dump(corpus_word_matrix, f)\n",
    "    f.close()"
   ]
  },
  {
   "cell_type": "code",
   "execution_count": 10,
   "metadata": {},
   "outputs": [],
   "source": [
    "corpus_matrix_path = r\"pickles/corpus_hashed_matrix.PICKLE\"\n",
    "if os.path.exists(corpus_matrix_path):\n",
    "    with open(corpus_matrix_path, 'rb') as f:\n",
    "        corpus_hashed_matrix = pickle.load(f)\n",
    "    f.close()\n",
    "else:\n",
    "    vectorizer2 = fe.HashingVectorizer(n_features=2**21)\n",
    "    corpus_hashed_matrix = vectorizer2.fit_transform(tqdm(corpus))\n",
    "    with open(corpus_matrix_path, '+wb') as f:\n",
    "        pickle.dump(corpus_hashed_matrix, f)\n",
    "    f.close()"
   ]
  },
  {
   "cell_type": "code",
   "execution_count": 27,
   "metadata": {},
   "outputs": [],
   "source": [
    "corpus_matrix_path = r\"pickles/corpus_tfidf_matrix.PICKLE\"\n",
    "if os.path.exists(corpus_matrix_path):\n",
    "    with open(corpus_matrix_path, 'rb') as f:\n",
    "        corpus_tfidf_matrix = pickle.load(f)\n",
    "    f.close()\n",
    "else:\n",
    "    vectorizer3 = fe.TfidfVectorizer()\n",
    "    corpus_tfidf_matrix = vectorizer3.fit_transform(tqdm(corpus))\n",
    "    with open(corpus_matrix_path, '+wb') as f:\n",
    "        pickle.dump(corpus_tfidf_matrix, f)\n",
    "    f.close()"
   ]
  },
  {
   "cell_type": "code",
   "execution_count": 148,
   "metadata": {},
   "outputs": [
    {
     "name": "stderr",
     "output_type": "stream",
     "text": [
      "100%|████████████████████████████████████████████████████████████████████████████| 22690/22690 [03:47<00:00, 99.65it/s]\n",
      "100%|█████████████████████████████████████████████████████████████████████████| 113450/113450 [17:51<00:00, 105.86it/s]\n"
     ]
    }
   ],
   "source": [
    "def tfidf_similarity(index, dataset):\n",
    "    node1 = dataset['Node1'][index]\n",
    "    node2 = dataset['Node2'][index]\n",
    "    index1 = ids.index(node1)\n",
    "    index2 = ids.index(node2)\n",
    "    sim = corpus_tfidf_matrix[index1] * corpus_tfidf_matrix[index2].T\n",
    "    return sim.toarray()[0][0]\n",
    "\n",
    "perf_val_data['tfidf_similarity']=list(map(lambda i:tfidf_similarity(i, training), \n",
    "                                              tqdm(perf_val_data['original_index'], position=0, leave=True)))\n",
    "perf_test_data['tfidf_similarity']=list(map(lambda i:tfidf_similarity(i, testing), \n",
    "                                               tqdm(perf_test_data['original_index'], position=0, leave=True)))"
   ]
  },
  {
   "cell_type": "code",
   "execution_count": 12,
   "metadata": {},
   "outputs": [],
   "source": [
    "n_samples = 2000\n",
    "n_features = 1000\n",
    "n_components = 10"
   ]
  },
  {
   "cell_type": "code",
   "execution_count": 13,
   "metadata": {},
   "outputs": [],
   "source": [
    "nmf_frobenius_path = r\"pickles/nmf_frobenius_matrix.PICKLE\"\n",
    "if os.path.exists(nmf_frobenius_path):\n",
    "    with open(nmf_frobenius_path, 'rb') as f:\n",
    "        nmf_frobenius = pickle.load(f)\n",
    "    f.close()\n",
    "else:\n",
    "    print(\"Fitting the NMF model (Frobenius norm) with tf-idf features, \"\n",
    "          \"n_samples=%d and n_features=%d...\" % (corpus_tfidf_matrix.shape[0], n_features))\n",
    "\n",
    "    nmf_frobenius = NMF(n_components=n_components, random_state=1, alpha=.1, l1_ratio=.5).fit(corpus_tfidf_matrix)\n",
    "    with open(nmf_frobenius_path, '+wb') as f:\n",
    "        pickle.dump(nmf_frobenius, f)\n",
    "    f.close()"
   ]
  },
  {
   "cell_type": "code",
   "execution_count": 14,
   "metadata": {},
   "outputs": [
    {
     "name": "stdout",
     "output_type": "stream",
     "text": [
      "nmf_kd_matrix not available, recompute? y/n: n\n"
     ]
    }
   ],
   "source": [
    "nmf_kd_path = r\"pickles/nmf_kd_matrix.PICKLE\"\n",
    "if os.path.exists(nmf_kd_path):\n",
    "    with open(nmf_kd_path, 'rb') as f:\n",
    "        nmf_kd = pickle.load(f)\n",
    "    f.close()\n",
    "else:\n",
    "    x = ''\n",
    "    while (x not in ['n', 'y']):\n",
    "        x = input(\"nmf_kd_matrix not available, recompute? y/n: \")\n",
    "    if x == \"y\":\n",
    "        print(\"Fitting the NMF model (generalized Kullback-Leibler divergence) with \"\n",
    "              \"tf-idf features, n_samples=%d and n_features=%d...\"\n",
    "              % (n_samples, n_features))\n",
    "\n",
    "        nmf_kd = NMF(n_components=n_components, random_state=1,\n",
    "                  beta_loss='kullback-leibler', solver='mu', max_iter=1000, alpha=.1,\n",
    "                  l1_ratio=.5).fit(corpus_tfidf_matrix)\n",
    "\n",
    "        with open(nmf_kd_path, '+wb') as f:\n",
    "            pickle.dump(nmf_kd, f)\n",
    "        f.close()"
   ]
  },
  {
   "cell_type": "code",
   "execution_count": 15,
   "metadata": {},
   "outputs": [],
   "source": [
    "lda_path = r\"pickles/lda_matrix.PICKLE\"\n",
    "if os.path.exists(lda_path):\n",
    "    with open(lda_path, 'rb') as f:\n",
    "        lda = pickle.load(f)\n",
    "    f.close()\n",
    "else:\n",
    "    print(\"Fitting LDA models with tf features, \"\n",
    "          \"n_samples=%d and n_features=%d...\"\n",
    "          % (n_samples, n_features))\n",
    "    lda = LatentDirichletAllocation(n_components=n_components, max_iter=5,\n",
    "                                    learning_method='online',\n",
    "                                    learning_offset=50.,\n",
    "                                    random_state=0)\n",
    "    lda.fit(corpus_word_matrix)\n",
    "    \n",
    "    with open(lda_path, '+wb') as f:\n",
    "        pickle.dump(lda, f)\n",
    "    f.close()"
   ]
  },
  {
   "cell_type": "code",
   "execution_count": 10,
   "metadata": {},
   "outputs": [],
   "source": [
    "def calculate_languages_ratios(text):\n",
    "    languages_ratios = []\n",
    "    tokens = wordpunct_tokenize(text)\n",
    "    words = [word.lower() for word in tokens]\n",
    "    for language in stopwords.fileids():\n",
    "        stopwords_set = set(stopwords.words(language))\n",
    "        words_set = set(words)\n",
    "        common_elements = words_set.intersection(stopwords_set)\n",
    "        languages_ratios.append(len(common_elements))\n",
    "    if sum(languages_ratios) == 0:\n",
    "        return np.zeros(len(languages_ratios))\n",
    "    return np.array(languages_ratios)/sum(languages_ratios)"
   ]
  },
  {
   "cell_type": "code",
   "execution_count": 12,
   "metadata": {},
   "outputs": [
    {
     "name": "stderr",
     "output_type": "stream",
     "text": [
      "100%|████████████████████████████████████████████████████████████████████████████| 33226/33226 [11:01<00:00, 50.23it/s]\n"
     ]
    }
   ],
   "source": [
    "languages_nltk = {}\n",
    "loop_size = len(node_info['Corpus'])\n",
    "for i in tqdm(range(loop_size), total=loop_size, leave=True, position=0):\n",
    "    try:\n",
    "        languages_nltk[node_info['ID'][i]] =  calculate_languages_ratios(node_info['Corpus'][i])\n",
    "    except:\n",
    "        languages_nltk.append(None)"
   ]
  },
  {
   "cell_type": "code",
   "execution_count": null,
   "metadata": {},
   "outputs": [],
   "source": [
    "languages_nltk_path = r\"pickles/languages_nltk.PICKLE\"\n",
    "if os.path.exists(languages_nltk_path):\n",
    "    with open(languages_nltk_path, 'rb') as f:\n",
    "        languages_nltk = pickle.load(f)\n",
    "    f.close()\n",
    "else:\n",
    "    languages_nltk = {}\n",
    "    loop_size = len(node_info['Corpus'])\n",
    "    for i in tqdm(range(loop_size), total=loop_size, leave=True, position=0):\n",
    "        try:\n",
    "            languages_nltk[node_info['ID'][i]] =  calculate_languages_ratios(node_info['Corpus'][i])\n",
    "        except:\n",
    "            languages_nltk.append(None)\n",
    "    \n",
    "    with open(languages_nltk_path, '+wb') as f:\n",
    "        pickle.dump(languages_nltk, f)\n",
    "    f.close()"
   ]
  },
  {
   "cell_type": "code",
   "execution_count": 110,
   "metadata": {},
   "outputs": [
    {
     "data": {
      "text/plain": [
       "[(1413, 'arabic'),\n",
       " (114, 'azerbaijani'),\n",
       " (140, 'danish'),\n",
       " (238, 'dutch'),\n",
       " (7633, 'english'),\n",
       " (33, 'finnish'),\n",
       " (20755, 'french'),\n",
       " (708, 'german'),\n",
       " (21, 'greek'),\n",
       " (39, 'hungarian'),\n",
       " (38, 'indonesian'),\n",
       " (400, 'italian'),\n",
       " (2, 'kazakh'),\n",
       " (79, 'nepali'),\n",
       " (421, 'norwegian'),\n",
       " (257, 'portuguese'),\n",
       " (110, 'romanian'),\n",
       " (212, 'russian'),\n",
       " (550, 'slovene'),\n",
       " (47, 'spanish'),\n",
       " (16, 'swedish')]"
      ]
     },
     "execution_count": 110,
     "metadata": {},
     "output_type": "execute_result"
    }
   ],
   "source": [
    "langs = {}\n",
    "for i in languages_nltk:\n",
    "    lang = str(np.argmax(languages_nltk[i]))\n",
    "    if lang in langs:\n",
    "        langs[lang] += 1\n",
    "    else:\n",
    "        langs[lang] = 1\n",
    "list(zip([langs[i] for i in sorted(langs, key=lambda k:int(k))], stopwords.fileids()))"
   ]
  },
  {
   "cell_type": "code",
   "execution_count": 23,
   "metadata": {},
   "outputs": [
    {
     "name": "stderr",
     "output_type": "stream",
     "text": [
      "100%|█████████████████████████████████████████████████████████████████████████| 22690/22690 [00:01<00:00, 18594.59it/s]\n",
      "100%|███████████████████████████████████████████████████████████████████████| 113450/113450 [00:04<00:00, 25943.52it/s]\n"
     ]
    }
   ],
   "source": [
    "def languages_nltk_similarity(index, dataset):\n",
    "    node1 = dataset['Node1'][index]\n",
    "    node2 = dataset['Node2'][index]\n",
    "    sim = languages_nltk[node1] @ languages_nltk[node2].T\n",
    "    return sim\n",
    "\n",
    "perf_val_data['languages_similarity']=list(map(lambda i:languages_nltk_similarity(i, training), \n",
    "                                              tqdm(perf_val_data['original_index'], position=0, leave=True)))\n",
    "perf_test_data['languages_similarity']=list(map(lambda i:languages_nltk_similarity(i, testing), \n",
    "                                               tqdm(perf_test_data['original_index'], position=0, leave=True)))"
   ]
  },
  {
   "cell_type": "code",
   "execution_count": 65,
   "metadata": {},
   "outputs": [
    {
     "name": "stderr",
     "output_type": "stream",
     "text": [
      "100%|██████████████████████████████████████████████████████████████████████████| 22690/22690 [00:02<00:00, 7583.55it/s]\n",
      "100%|████████████████████████████████████████████████████████████████████████| 113450/113450 [00:20<00:00, 5650.40it/s]\n"
     ]
    }
   ],
   "source": [
    "def joint_length(index, dataset):\n",
    "    node1 = dataset['Node1'][index]\n",
    "    node2 = dataset['Node2'][index]\n",
    "    length = len(node_info_ID['Corpus'].loc[node1]) * len(node_info_ID['Corpus'].loc[node2])\n",
    "    return length\n",
    "\n",
    "perf_val_data['joint_length']=list(map(lambda i:joint_length(i, training), \n",
    "                                              tqdm(perf_val_data['original_index'], position=0, leave=True)))\n",
    "perf_test_data['joint_length']=list(map(lambda i:joint_length(i, testing), \n",
    "                                               tqdm(perf_test_data['original_index'], position=0, leave=True)))"
   ]
  },
  {
   "cell_type": "code",
   "execution_count": 9,
   "metadata": {},
   "outputs": [
    {
     "name": "stderr",
     "output_type": "stream",
     "text": [
      "100%|█████████████████████████████████████████████████████████████████████████| 22690/22690 [00:00<00:00, 29238.41it/s]\n",
      "100%|███████████████████████████████████████████████████████████████████████| 113450/113450 [00:03<00:00, 30887.74it/s]\n"
     ]
    }
   ],
   "source": [
    "def file_distance(index, dataset):\n",
    "    node1 = dataset['Node1'][index]\n",
    "    node2 = dataset['Node2'][index]\n",
    "    dist = abs(int(node1) - int(node2))\n",
    "    return dist\n",
    "\n",
    "perf_val_data['file_distance']=list(map(lambda i:file_distance(i, training), \n",
    "                                              tqdm(perf_val_data['original_index'], position=0, leave=True)))\n",
    "perf_test_data['file_distance']=list(map(lambda i:file_distance(i, testing), \n",
    "                                               tqdm(perf_test_data['original_index'], position=0, leave=True)))"
   ]
  },
  {
   "cell_type": "markdown",
   "metadata": {},
   "source": [
    "## Graph Based Features"
   ]
  },
  {
   "cell_type": "code",
   "execution_count": 55,
   "metadata": {},
   "outputs": [],
   "source": [
    "neighborsDict={}\n",
    "for n in G.nodes():\n",
    "    neighborsDict[n]= list(G.neighbors(n))  \n",
    "\n",
    "pr = nx.pagerank(G, alpha=0.7)\n",
    "\n",
    "#katz_nd = nx.katz_centrality_numpy(G, alpha=0.1, beta=1.0)"
   ]
  },
  {
   "cell_type": "code",
   "execution_count": 151,
   "metadata": {},
   "outputs": [
    {
     "name": "stderr",
     "output_type": "stream",
     "text": [
      "100%|██████████████████████████████████████████████████████████████████████████| 22690/22690 [00:03<00:00, 7153.21it/s]\n",
      "100%|████████████████████████████████████████████████████████████████████████| 113450/113450 [00:14<00:00, 7677.47it/s]\n"
     ]
    }
   ],
   "source": [
    "def common_neighbors(index, dataset):\n",
    "    node1 = dataset['Node1'][index]\n",
    "    node2 = dataset['Node2'][index]\n",
    "    if (node1 in neighborsDict.keys()) and (node2 in neighborsDict.keys()): \n",
    "        return len(set(neighborsDict[node1]).intersection(neighborsDict[node2]))\n",
    "    else : \n",
    "        return 0\n",
    "\n",
    "perf_val_data['common_neighbors']=list(map(lambda i:common_neighbors(i, training), tqdm(perf_val_data['original_index'])))\n",
    "perf_test_data['common_neighbors']=list(map(lambda i:common_neighbors(i, testing), tqdm(perf_test_data['original_index'])))"
   ]
  },
  {
   "cell_type": "code",
   "execution_count": 152,
   "metadata": {},
   "outputs": [
    {
     "name": "stderr",
     "output_type": "stream",
     "text": [
      "100%|███████████████████████████████████████████████████████████████████████████| 22690/22690 [00:29<00:00, 767.70it/s]\n",
      "100%|█████████████████████████████████████████████████████████████████████████| 113450/113450 [02:26<00:00, 772.55it/s]\n"
     ]
    }
   ],
   "source": [
    "def jaccard_coef(index, dataset):\n",
    "    node1 = dataset['Node1'][index]\n",
    "    node2 = dataset['Node2'][index]\n",
    "    if (node1 in neighborsDict.keys()) and (node2 in neighborsDict.keys()): \n",
    "        return [p for u,v,p in nx.jaccard_coefficient(G, [(node1, node2)])][0]\n",
    "    else:\n",
    "        return 0\n",
    "\n",
    "perf_val_data['jaccard_coefficient']=list(map(lambda i:jaccard_coef(i, training), \n",
    "                                              tqdm(perf_val_data['original_index'], position=0, leave=True)))\n",
    "perf_test_data['jaccard_coefficient']=list(map(lambda i:jaccard_coef(i, testing), \n",
    "                                               tqdm(perf_test_data['original_index'], position=0, leave=True)))"
   ]
  },
  {
   "cell_type": "code",
   "execution_count": 153,
   "metadata": {},
   "outputs": [
    {
     "name": "stderr",
     "output_type": "stream",
     "text": [
      "100%|██████████████████████████████████████████████████████████████████████████| 22690/22690 [00:10<00:00, 2133.12it/s]\n",
      "100%|████████████████████████████████████████████████████████████████████████| 113450/113450 [00:50<00:00, 2235.03it/s]\n"
     ]
    }
   ],
   "source": [
    "def shortest_path(index, dataset):\n",
    "    node1 = dataset['Node1'][index]\n",
    "    node2 = dataset['Node2'][index]\n",
    "    if (node1 in neighborsDict.keys()) and (node2 in neighborsDict.keys()): \n",
    "        try:\n",
    "            sp=nx.shortest_path(G, node1, node2)\n",
    "            return len(sp)\n",
    "        except nx.NetworkXNoPath:\n",
    "            return 0\n",
    "    else:\n",
    "        return 0\n",
    "\n",
    "perf_val_data['shortest_path']=list(map(lambda i:shortest_path(i, training), \n",
    "                                        tqdm(perf_val_data['original_index'], position=0, leave=True)))\n",
    "perf_test_data['shortest_path']=list(map(lambda i:shortest_path(i, testing), \n",
    "                                         tqdm(perf_test_data['original_index'], position=0, leave=True)))"
   ]
  },
  {
   "cell_type": "code",
   "execution_count": 154,
   "metadata": {},
   "outputs": [
    {
     "name": "stderr",
     "output_type": "stream",
     "text": [
      "100%|█████████████████████████████████████████████████████████████████████████| 22690/22690 [00:00<00:00, 35620.28it/s]\n",
      "100%|███████████████████████████████████████████████████████████████████████| 113450/113450 [00:02<00:00, 38276.00it/s]\n"
     ]
    }
   ],
   "source": [
    "def page_rank(index, dataset):\n",
    "    node1 = dataset['Node1'][index]\n",
    "    node2 = dataset['Node2'][index]\n",
    "    if (node1 in neighborsDict.keys()) and (node2 in neighborsDict.keys()): \n",
    "        page_rank = (pr[node1] + pr[node2])/2\n",
    "        return page_rank\n",
    "    else: \n",
    "        return 0\n",
    "\n",
    "perf_val_data['page_rank']=list(map(lambda i:page_rank(i, training), tqdm(perf_val_data['original_index'])))\n",
    "perf_test_data['page_rank']=list(map(lambda i:page_rank(i, testing), tqdm(perf_test_data['original_index'])))"
   ]
  },
  {
   "cell_type": "code",
   "execution_count": 155,
   "metadata": {},
   "outputs": [
    {
     "name": "stderr",
     "output_type": "stream",
     "text": [
      "100%|███████████████████████████████████████████████████████████████████████████| 22690/22690 [00:25<00:00, 902.40it/s]\n",
      "100%|█████████████████████████████████████████████████████████████████████████| 113450/113450 [02:16<00:00, 830.66it/s]\n"
     ]
    }
   ],
   "source": [
    "def adamic_adar_index(index, dataset):\n",
    "    node1 = dataset['Node1'][index]\n",
    "    node2 = dataset['Node2'][index]\n",
    "    if (node1 in neighborsDict.keys()) and (node2 in neighborsDict.keys()): \n",
    "        return [p for u,v,p in nx.adamic_adar_index(G, [(node1, node2)])][0]\n",
    "    else:\n",
    "        return 0\n",
    "\n",
    "perf_val_data['adamic_adar_index']=list(map(lambda i:adamic_adar_index(i, training), \n",
    "                                              tqdm(perf_val_data['original_index'], position=0, leave=True)))\n",
    "perf_test_data['adamic_adar_index']=list(map(lambda i:adamic_adar_index(i, testing), \n",
    "                                               tqdm(perf_test_data['original_index'], position=0, leave=True)))"
   ]
  },
  {
   "cell_type": "code",
   "execution_count": 156,
   "metadata": {},
   "outputs": [
    {
     "name": "stderr",
     "output_type": "stream",
     "text": [
      "100%|███████████████████████████████████████████████████████████████████████████| 22690/22690 [00:24<00:00, 937.33it/s]\n",
      "100%|█████████████████████████████████████████████████████████████████████████| 113450/113450 [02:17<00:00, 825.37it/s]\n"
     ]
    }
   ],
   "source": [
    "def resource_allocation_index(index, dataset):\n",
    "    node1 = dataset['Node1'][index]\n",
    "    node2 = dataset['Node2'][index]\n",
    "    if (node1 in neighborsDict.keys()) and (node2 in neighborsDict.keys()): \n",
    "        return [p for u,v,p in nx.resource_allocation_index(G, [(node1, node2)])][0]\n",
    "    else:\n",
    "        return 0\n",
    "\n",
    "perf_val_data['resource_allocation_index']=list(map(lambda i:resource_allocation_index(i, training), \n",
    "                                              tqdm(perf_val_data['original_index'], position=0, leave=True)))\n",
    "perf_test_data['resource_allocation_index']=list(map(lambda i:resource_allocation_index(i, testing), \n",
    "                                               tqdm(perf_test_data['original_index'], position=0, leave=True)))"
   ]
  },
  {
   "cell_type": "code",
   "execution_count": 157,
   "metadata": {},
   "outputs": [
    {
     "name": "stderr",
     "output_type": "stream",
     "text": [
      "100%|█████████████████████████████████████████████████████████████████████████| 22690/22690 [00:00<00:00, 26599.54it/s]\n",
      "100%|███████████████████████████████████████████████████████████████████████| 113450/113450 [00:04<00:00, 25848.74it/s]\n"
     ]
    }
   ],
   "source": [
    "def preferential_attachment(index, dataset):\n",
    "    node1 = dataset['Node1'][index]\n",
    "    node2 = dataset['Node2'][index]\n",
    "    if (node1 in neighborsDict.keys()) and (node2 in neighborsDict.keys()): \n",
    "        return [p for u,v,p in nx.preferential_attachment(G, [(node1, node2)])][0]\n",
    "    else:\n",
    "        return 0\n",
    "\n",
    "perf_val_data['preferential_attachment']=list(map(lambda i:preferential_attachment(i, training), \n",
    "                                              tqdm(perf_val_data['original_index'], position=0, leave=True)))\n",
    "perf_test_data['preferential_attachment']=list(map(lambda i:preferential_attachment(i, testing), \n",
    "                                               tqdm(perf_test_data['original_index'], position=0, leave=True)))"
   ]
  },
  {
   "cell_type": "code",
   "execution_count": 11,
   "metadata": {},
   "outputs": [],
   "source": [
    "d_columns = ['original_index', 'Link', 'Node1', 'Node2']\n",
    "cols = [i for i in perf_val_data.columns if i not in d_columns]\n",
    "X = perf_val_data[cols]\n",
    "y = perf_val_data['Link']\n",
    "y = list(map(lambda i: int(i), y))"
   ]
  },
  {
   "cell_type": "code",
   "execution_count": 12,
   "metadata": {},
   "outputs": [
    {
     "name": "stderr",
     "output_type": "stream",
     "text": [
      "C:\\Users\\fvice\\Miniconda3\\envs\\map572\\lib\\site-packages\\sklearn\\linear_model\\logistic.py:432: FutureWarning: Default solver will be changed to 'lbfgs' in 0.22. Specify a solver to silence this warning.\n",
      "  FutureWarning)\n",
      "C:\\Users\\fvice\\Miniconda3\\envs\\map572\\lib\\site-packages\\sklearn\\svm\\base.py:193: FutureWarning: The default value of gamma will change from 'auto' to 'scale' in version 0.22 to account better for unscaled features. Set gamma explicitly to 'auto' or 'scale' to avoid this warning.\n",
      "  \"avoid this warning.\", FutureWarning)\n",
      "C:\\Users\\fvice\\Miniconda3\\envs\\map572\\lib\\site-packages\\sklearn\\ensemble\\forest.py:245: FutureWarning: The default value of n_estimators will change from 10 in version 0.20 to 100 in 0.22.\n",
      "  \"10 in version 0.20 to 100 in 0.22.\", FutureWarning)\n",
      "C:\\Users\\fvice\\Miniconda3\\envs\\map572\\lib\\site-packages\\sklearn\\neural_network\\multilayer_perceptron.py:566: ConvergenceWarning: Stochastic Optimizer: Maximum iterations (200) reached and the optimization hasn't converged yet.\n",
      "  % self.max_iter, ConvergenceWarning)\n"
     ]
    },
    {
     "data": {
      "text/html": [
       "<div>\n",
       "<style scoped>\n",
       "    .dataframe tbody tr th:only-of-type {\n",
       "        vertical-align: middle;\n",
       "    }\n",
       "\n",
       "    .dataframe tbody tr th {\n",
       "        vertical-align: top;\n",
       "    }\n",
       "\n",
       "    .dataframe thead th {\n",
       "        text-align: right;\n",
       "    }\n",
       "</style>\n",
       "<table border=\"1\" class=\"dataframe\">\n",
       "  <thead>\n",
       "    <tr style=\"text-align: right;\">\n",
       "      <th></th>\n",
       "      <th>LR</th>\n",
       "      <th>SVM</th>\n",
       "      <th>RF</th>\n",
       "      <th>GBM</th>\n",
       "      <th>LGBM</th>\n",
       "      <th>MLP</th>\n",
       "      <th>BAG</th>\n",
       "      <th>KNN</th>\n",
       "    </tr>\n",
       "  </thead>\n",
       "  <tbody>\n",
       "    <tr>\n",
       "      <th>F1</th>\n",
       "      <td>0.7742</td>\n",
       "      <td>0.7742</td>\n",
       "      <td>0.9273</td>\n",
       "      <td>0.9339</td>\n",
       "      <td>0.9376</td>\n",
       "      <td>0.7698</td>\n",
       "      <td>0.9308</td>\n",
       "      <td>0.6916</td>\n",
       "    </tr>\n",
       "    <tr>\n",
       "      <th>Accuracy</th>\n",
       "      <td>0.6316</td>\n",
       "      <td>0.6316</td>\n",
       "      <td>0.9083</td>\n",
       "      <td>0.9157</td>\n",
       "      <td>0.9207</td>\n",
       "      <td>0.6701</td>\n",
       "      <td>0.9122</td>\n",
       "      <td>0.5955</td>\n",
       "    </tr>\n",
       "  </tbody>\n",
       "</table>\n",
       "</div>"
      ],
      "text/plain": [
       "              LR     SVM      RF     GBM    LGBM     MLP     BAG     KNN\n",
       "F1        0.7742  0.7742  0.9273  0.9339  0.9376  0.7698  0.9308  0.6916\n",
       "Accuracy  0.6316  0.6316  0.9083  0.9157  0.9207  0.6701  0.9122  0.5955"
      ]
     },
     "execution_count": 12,
     "metadata": {},
     "output_type": "execute_result"
    }
   ],
   "source": [
    "X_train, X_test, y_train, y_test = train_test_split(X, y, test_size=0.15, random_state=1)\n",
    "multi_classifier(X_train, X_test, y_train, y_test)"
   ]
  },
  {
   "cell_type": "markdown",
   "metadata": {},
   "source": [
    "## Feature Importance"
   ]
  },
  {
   "cell_type": "code",
   "execution_count": 16,
   "metadata": {},
   "outputs": [],
   "source": [
    "lgbm = lightgbm.LGBMClassifier()\n",
    "model_lgbm = lgbm.fit(X_train, y_train)"
   ]
  },
  {
   "cell_type": "code",
   "execution_count": 17,
   "metadata": {},
   "outputs": [],
   "source": [
    "features = pd.DataFrame()\n",
    "features['feature'] = X.columns\n",
    "features['importance'] = model_lgbm.feature_importances_\n",
    "features.sort_values(by=['importance'], ascending=False, inplace=True)\n",
    "features.set_index('feature', inplace=True)"
   ]
  },
  {
   "cell_type": "code",
   "execution_count": 18,
   "metadata": {},
   "outputs": [
    {
     "data": {
      "image/png": "[encoded data removed]",
      "text/plain": [
       "<Figure size 1080x360 with 1 Axes>"
      ]
     },
     "metadata": {
      "needs_background": "light"
     },
     "output_type": "display_data"
    }
   ],
   "source": [
    "importance = np.array(features.values.reshape(-1))\n",
    "importance = list(importance/importance.sum(axis=0,keepdims=1))\n",
    "\n",
    "bars = list(features.index.values)\n",
    "\n",
    "y_pos = np.arange(len(bars))\n",
    "\n",
    "fig, ax = plt.subplots(figsize=(15,5))\n",
    "\n",
    "# Create horizontal bars\n",
    "plt.barh(y_pos, importance)\n",
    "\n",
    "# Create names on the y-axis\n",
    "plt.yticks(y_pos, bars)\n",
    "# Add title\n",
    "plt.title(\"Relative Feature Importances\")\n",
    "\n",
    "# Show graphic\n",
    "plt.show()"
   ]
  },
  {
   "cell_type": "markdown",
   "metadata": {},
   "source": [
    "## Model Comparison"
   ]
  },
  {
   "cell_type": "code",
   "execution_count": 111,
   "metadata": {},
   "outputs": [
    {
     "name": "stdout",
     "output_type": "stream",
     "text": [
      "1\n"
     ]
    },
    {
     "name": "stderr",
     "output_type": "stream",
     "text": [
      "C:\\Users\\fvice\\Miniconda3\\envs\\map572\\lib\\site-packages\\sklearn\\linear_model\\logistic.py:432: FutureWarning: Default solver will be changed to 'lbfgs' in 0.22. Specify a solver to silence this warning.\n",
      "  FutureWarning)\n",
      "C:\\Users\\fvice\\Miniconda3\\envs\\map572\\lib\\site-packages\\sklearn\\svm\\base.py:193: FutureWarning: The default value of gamma will change from 'auto' to 'scale' in version 0.22 to account better for unscaled features. Set gamma explicitly to 'auto' or 'scale' to avoid this warning.\n",
      "  \"avoid this warning.\", FutureWarning)\n",
      "C:\\Users\\fvice\\Miniconda3\\envs\\map572\\lib\\site-packages\\sklearn\\ensemble\\forest.py:245: FutureWarning: The default value of n_estimators will change from 10 in version 0.20 to 100 in 0.22.\n",
      "  \"10 in version 0.20 to 100 in 0.22.\", FutureWarning)\n",
      "C:\\Users\\fvice\\Miniconda3\\envs\\map572\\lib\\site-packages\\sklearn\\neural_network\\multilayer_perceptron.py:566: ConvergenceWarning: Stochastic Optimizer: Maximum iterations (200) reached and the optimization hasn't converged yet.\n",
      "  % self.max_iter, ConvergenceWarning)\n"
     ]
    },
    {
     "name": "stdout",
     "output_type": "stream",
     "text": [
      "2\n"
     ]
    },
    {
     "name": "stderr",
     "output_type": "stream",
     "text": [
      "C:\\Users\\fvice\\Miniconda3\\envs\\map572\\lib\\site-packages\\sklearn\\linear_model\\logistic.py:432: FutureWarning: Default solver will be changed to 'lbfgs' in 0.22. Specify a solver to silence this warning.\n",
      "  FutureWarning)\n",
      "C:\\Users\\fvice\\Miniconda3\\envs\\map572\\lib\\site-packages\\sklearn\\svm\\base.py:193: FutureWarning: The default value of gamma will change from 'auto' to 'scale' in version 0.22 to account better for unscaled features. Set gamma explicitly to 'auto' or 'scale' to avoid this warning.\n",
      "  \"avoid this warning.\", FutureWarning)\n",
      "C:\\Users\\fvice\\Miniconda3\\envs\\map572\\lib\\site-packages\\sklearn\\ensemble\\forest.py:245: FutureWarning: The default value of n_estimators will change from 10 in version 0.20 to 100 in 0.22.\n",
      "  \"10 in version 0.20 to 100 in 0.22.\", FutureWarning)\n",
      "C:\\Users\\fvice\\Miniconda3\\envs\\map572\\lib\\site-packages\\sklearn\\neural_network\\multilayer_perceptron.py:566: ConvergenceWarning: Stochastic Optimizer: Maximum iterations (200) reached and the optimization hasn't converged yet.\n",
      "  % self.max_iter, ConvergenceWarning)\n"
     ]
    },
    {
     "name": "stdout",
     "output_type": "stream",
     "text": [
      "3\n"
     ]
    },
    {
     "name": "stderr",
     "output_type": "stream",
     "text": [
      "C:\\Users\\fvice\\Miniconda3\\envs\\map572\\lib\\site-packages\\sklearn\\linear_model\\logistic.py:432: FutureWarning: Default solver will be changed to 'lbfgs' in 0.22. Specify a solver to silence this warning.\n",
      "  FutureWarning)\n",
      "C:\\Users\\fvice\\Miniconda3\\envs\\map572\\lib\\site-packages\\sklearn\\svm\\base.py:193: FutureWarning: The default value of gamma will change from 'auto' to 'scale' in version 0.22 to account better for unscaled features. Set gamma explicitly to 'auto' or 'scale' to avoid this warning.\n",
      "  \"avoid this warning.\", FutureWarning)\n",
      "C:\\Users\\fvice\\Miniconda3\\envs\\map572\\lib\\site-packages\\sklearn\\ensemble\\forest.py:245: FutureWarning: The default value of n_estimators will change from 10 in version 0.20 to 100 in 0.22.\n",
      "  \"10 in version 0.20 to 100 in 0.22.\", FutureWarning)\n",
      "C:\\Users\\fvice\\Miniconda3\\envs\\map572\\lib\\site-packages\\sklearn\\neural_network\\multilayer_perceptron.py:566: ConvergenceWarning: Stochastic Optimizer: Maximum iterations (200) reached and the optimization hasn't converged yet.\n",
      "  % self.max_iter, ConvergenceWarning)\n"
     ]
    },
    {
     "name": "stdout",
     "output_type": "stream",
     "text": [
      "4\n"
     ]
    },
    {
     "name": "stderr",
     "output_type": "stream",
     "text": [
      "C:\\Users\\fvice\\Miniconda3\\envs\\map572\\lib\\site-packages\\sklearn\\linear_model\\logistic.py:432: FutureWarning: Default solver will be changed to 'lbfgs' in 0.22. Specify a solver to silence this warning.\n",
      "  FutureWarning)\n",
      "C:\\Users\\fvice\\Miniconda3\\envs\\map572\\lib\\site-packages\\sklearn\\svm\\base.py:193: FutureWarning: The default value of gamma will change from 'auto' to 'scale' in version 0.22 to account better for unscaled features. Set gamma explicitly to 'auto' or 'scale' to avoid this warning.\n",
      "  \"avoid this warning.\", FutureWarning)\n",
      "C:\\Users\\fvice\\Miniconda3\\envs\\map572\\lib\\site-packages\\sklearn\\ensemble\\forest.py:245: FutureWarning: The default value of n_estimators will change from 10 in version 0.20 to 100 in 0.22.\n",
      "  \"10 in version 0.20 to 100 in 0.22.\", FutureWarning)\n",
      "C:\\Users\\fvice\\Miniconda3\\envs\\map572\\lib\\site-packages\\sklearn\\neural_network\\multilayer_perceptron.py:566: ConvergenceWarning: Stochastic Optimizer: Maximum iterations (200) reached and the optimization hasn't converged yet.\n",
      "  % self.max_iter, ConvergenceWarning)\n"
     ]
    },
    {
     "name": "stdout",
     "output_type": "stream",
     "text": [
      "5\n"
     ]
    },
    {
     "name": "stderr",
     "output_type": "stream",
     "text": [
      "C:\\Users\\fvice\\Miniconda3\\envs\\map572\\lib\\site-packages\\sklearn\\linear_model\\logistic.py:432: FutureWarning: Default solver will be changed to 'lbfgs' in 0.22. Specify a solver to silence this warning.\n",
      "  FutureWarning)\n",
      "C:\\Users\\fvice\\Miniconda3\\envs\\map572\\lib\\site-packages\\sklearn\\svm\\base.py:193: FutureWarning: The default value of gamma will change from 'auto' to 'scale' in version 0.22 to account better for unscaled features. Set gamma explicitly to 'auto' or 'scale' to avoid this warning.\n",
      "  \"avoid this warning.\", FutureWarning)\n",
      "C:\\Users\\fvice\\Miniconda3\\envs\\map572\\lib\\site-packages\\sklearn\\ensemble\\forest.py:245: FutureWarning: The default value of n_estimators will change from 10 in version 0.20 to 100 in 0.22.\n",
      "  \"10 in version 0.20 to 100 in 0.22.\", FutureWarning)\n",
      "C:\\Users\\fvice\\Miniconda3\\envs\\map572\\lib\\site-packages\\sklearn\\neural_network\\multilayer_perceptron.py:566: ConvergenceWarning: Stochastic Optimizer: Maximum iterations (200) reached and the optimization hasn't converged yet.\n",
      "  % self.max_iter, ConvergenceWarning)\n"
     ]
    },
    {
     "name": "stdout",
     "output_type": "stream",
     "text": [
      "6\n"
     ]
    },
    {
     "name": "stderr",
     "output_type": "stream",
     "text": [
      "C:\\Users\\fvice\\Miniconda3\\envs\\map572\\lib\\site-packages\\sklearn\\linear_model\\logistic.py:432: FutureWarning: Default solver will be changed to 'lbfgs' in 0.22. Specify a solver to silence this warning.\n",
      "  FutureWarning)\n",
      "C:\\Users\\fvice\\Miniconda3\\envs\\map572\\lib\\site-packages\\sklearn\\svm\\base.py:193: FutureWarning: The default value of gamma will change from 'auto' to 'scale' in version 0.22 to account better for unscaled features. Set gamma explicitly to 'auto' or 'scale' to avoid this warning.\n",
      "  \"avoid this warning.\", FutureWarning)\n",
      "C:\\Users\\fvice\\Miniconda3\\envs\\map572\\lib\\site-packages\\sklearn\\ensemble\\forest.py:245: FutureWarning: The default value of n_estimators will change from 10 in version 0.20 to 100 in 0.22.\n",
      "  \"10 in version 0.20 to 100 in 0.22.\", FutureWarning)\n",
      "C:\\Users\\fvice\\Miniconda3\\envs\\map572\\lib\\site-packages\\sklearn\\neural_network\\multilayer_perceptron.py:566: ConvergenceWarning: Stochastic Optimizer: Maximum iterations (200) reached and the optimization hasn't converged yet.\n",
      "  % self.max_iter, ConvergenceWarning)\n"
     ]
    },
    {
     "name": "stdout",
     "output_type": "stream",
     "text": [
      "7\n"
     ]
    },
    {
     "name": "stderr",
     "output_type": "stream",
     "text": [
      "C:\\Users\\fvice\\Miniconda3\\envs\\map572\\lib\\site-packages\\sklearn\\linear_model\\logistic.py:432: FutureWarning: Default solver will be changed to 'lbfgs' in 0.22. Specify a solver to silence this warning.\n",
      "  FutureWarning)\n",
      "C:\\Users\\fvice\\Miniconda3\\envs\\map572\\lib\\site-packages\\sklearn\\svm\\base.py:193: FutureWarning: The default value of gamma will change from 'auto' to 'scale' in version 0.22 to account better for unscaled features. Set gamma explicitly to 'auto' or 'scale' to avoid this warning.\n",
      "  \"avoid this warning.\", FutureWarning)\n",
      "C:\\Users\\fvice\\Miniconda3\\envs\\map572\\lib\\site-packages\\sklearn\\ensemble\\forest.py:245: FutureWarning: The default value of n_estimators will change from 10 in version 0.20 to 100 in 0.22.\n",
      "  \"10 in version 0.20 to 100 in 0.22.\", FutureWarning)\n",
      "C:\\Users\\fvice\\Miniconda3\\envs\\map572\\lib\\site-packages\\sklearn\\neural_network\\multilayer_perceptron.py:566: ConvergenceWarning: Stochastic Optimizer: Maximum iterations (200) reached and the optimization hasn't converged yet.\n",
      "  % self.max_iter, ConvergenceWarning)\n"
     ]
    },
    {
     "name": "stdout",
     "output_type": "stream",
     "text": [
      "8\n"
     ]
    },
    {
     "name": "stderr",
     "output_type": "stream",
     "text": [
      "C:\\Users\\fvice\\Miniconda3\\envs\\map572\\lib\\site-packages\\sklearn\\linear_model\\logistic.py:432: FutureWarning: Default solver will be changed to 'lbfgs' in 0.22. Specify a solver to silence this warning.\n",
      "  FutureWarning)\n",
      "C:\\Users\\fvice\\Miniconda3\\envs\\map572\\lib\\site-packages\\sklearn\\svm\\base.py:193: FutureWarning: The default value of gamma will change from 'auto' to 'scale' in version 0.22 to account better for unscaled features. Set gamma explicitly to 'auto' or 'scale' to avoid this warning.\n",
      "  \"avoid this warning.\", FutureWarning)\n",
      "C:\\Users\\fvice\\Miniconda3\\envs\\map572\\lib\\site-packages\\sklearn\\ensemble\\forest.py:245: FutureWarning: The default value of n_estimators will change from 10 in version 0.20 to 100 in 0.22.\n",
      "  \"10 in version 0.20 to 100 in 0.22.\", FutureWarning)\n",
      "C:\\Users\\fvice\\Miniconda3\\envs\\map572\\lib\\site-packages\\sklearn\\neural_network\\multilayer_perceptron.py:566: ConvergenceWarning: Stochastic Optimizer: Maximum iterations (200) reached and the optimization hasn't converged yet.\n",
      "  % self.max_iter, ConvergenceWarning)\n"
     ]
    },
    {
     "name": "stdout",
     "output_type": "stream",
     "text": [
      "9\n"
     ]
    },
    {
     "name": "stderr",
     "output_type": "stream",
     "text": [
      "C:\\Users\\fvice\\Miniconda3\\envs\\map572\\lib\\site-packages\\sklearn\\linear_model\\logistic.py:432: FutureWarning: Default solver will be changed to 'lbfgs' in 0.22. Specify a solver to silence this warning.\n",
      "  FutureWarning)\n",
      "C:\\Users\\fvice\\Miniconda3\\envs\\map572\\lib\\site-packages\\sklearn\\svm\\base.py:193: FutureWarning: The default value of gamma will change from 'auto' to 'scale' in version 0.22 to account better for unscaled features. Set gamma explicitly to 'auto' or 'scale' to avoid this warning.\n",
      "  \"avoid this warning.\", FutureWarning)\n",
      "C:\\Users\\fvice\\Miniconda3\\envs\\map572\\lib\\site-packages\\sklearn\\ensemble\\forest.py:245: FutureWarning: The default value of n_estimators will change from 10 in version 0.20 to 100 in 0.22.\n",
      "  \"10 in version 0.20 to 100 in 0.22.\", FutureWarning)\n",
      "C:\\Users\\fvice\\Miniconda3\\envs\\map572\\lib\\site-packages\\sklearn\\neural_network\\multilayer_perceptron.py:566: ConvergenceWarning: Stochastic Optimizer: Maximum iterations (200) reached and the optimization hasn't converged yet.\n",
      "  % self.max_iter, ConvergenceWarning)\n"
     ]
    },
    {
     "name": "stdout",
     "output_type": "stream",
     "text": [
      "10\n"
     ]
    },
    {
     "name": "stderr",
     "output_type": "stream",
     "text": [
      "C:\\Users\\fvice\\Miniconda3\\envs\\map572\\lib\\site-packages\\sklearn\\linear_model\\logistic.py:432: FutureWarning: Default solver will be changed to 'lbfgs' in 0.22. Specify a solver to silence this warning.\n",
      "  FutureWarning)\n",
      "C:\\Users\\fvice\\Miniconda3\\envs\\map572\\lib\\site-packages\\sklearn\\svm\\base.py:193: FutureWarning: The default value of gamma will change from 'auto' to 'scale' in version 0.22 to account better for unscaled features. Set gamma explicitly to 'auto' or 'scale' to avoid this warning.\n",
      "  \"avoid this warning.\", FutureWarning)\n",
      "C:\\Users\\fvice\\Miniconda3\\envs\\map572\\lib\\site-packages\\sklearn\\ensemble\\forest.py:245: FutureWarning: The default value of n_estimators will change from 10 in version 0.20 to 100 in 0.22.\n",
      "  \"10 in version 0.20 to 100 in 0.22.\", FutureWarning)\n",
      "C:\\Users\\fvice\\Miniconda3\\envs\\map572\\lib\\site-packages\\sklearn\\neural_network\\multilayer_perceptron.py:566: ConvergenceWarning: Stochastic Optimizer: Maximum iterations (200) reached and the optimization hasn't converged yet.\n",
      "  % self.max_iter, ConvergenceWarning)\n"
     ]
    }
   ],
   "source": [
    "boucle = 10\n",
    "errors = np.empty((10,7))\n",
    "\n",
    "error_list = []\n",
    "for i in range(boucle):\n",
    "    print(i+1)\n",
    "    X_train, X_test, y_train, y_test = train_test_split(X, y, test_size=0.4)\n",
    "    error_list.append(multi_classifier(X_train, X_test, y_train, y_test))\n",
    "    \n",
    "error_df = pd.concat(error_list)"
   ]
  },
  {
   "cell_type": "code",
   "execution_count": 112,
   "metadata": {},
   "outputs": [
    {
     "data": {
      "text/plain": [
       "Text(0.5, 1.0, 'F1 Score')"
      ]
     },
     "execution_count": 112,
     "metadata": {},
     "output_type": "execute_result"
    },
    {
     "data": {
      "image/png": "[encoded data removed]",
      "text/plain": [
       "<Figure size 1152x648 with 1 Axes>"
      ]
     },
     "metadata": {
      "needs_background": "light"
     },
     "output_type": "display_data"
    }
   ],
   "source": [
    "fig, ax = plt.subplots(figsize=(16,9))\n",
    "x_plot = list(error_df.columns.values) * 10\n",
    "y_plot = list(error_df.loc['F1'].values.reshape(-1))\n",
    "sns.boxplot(x_plot, y_plot, linewidth=2)\n",
    "plt.title(\"F1 Score\")"
   ]
  },
  {
   "cell_type": "markdown",
   "metadata": {},
   "source": [
    "## Prediction"
   ]
  },
  {
   "cell_type": "code",
   "execution_count": 19,
   "metadata": {},
   "outputs": [],
   "source": [
    "d_columns = ['original_index', 'Node1', 'Node2']\n",
    "cols = [i for i in perf_test_data.columns if i not in d_columns]\n",
    "\n",
    "model = lightgbm.LGBMClassifier()\n",
    "model = model.fit(X, y)\n",
    "test = perf_test_data[cols]\n",
    "predictions = model.predict(test)"
   ]
  },
  {
   "cell_type": "code",
   "execution_count": 21,
   "metadata": {},
   "outputs": [],
   "source": [
    "final_pred = pd.concat([perf_test_data['original_index'], pd.DataFrame(predictions)],axis=1)\n",
    "final_pred.columns = ['id', 'predicted']\n",
    "with open(\"distance_prediction.csv\",\"+w\") as pred:\n",
    "    csv_out = csv.writer(pred)\n",
    "    csv_out.writerow(['id','predicted'])\n",
    "    for index, row in final_pred.iterrows():\n",
    "        csv_out.writerow(row)"
   ]
  },
  {
   "cell_type": "markdown",
   "metadata": {},
   "source": [
    "## Hyperparameter Tuning"
   ]
  },
  {
   "cell_type": "code",
   "execution_count": 29,
   "metadata": {},
   "outputs": [],
   "source": [
    "def evalerror(preds, dtrain):\n",
    "    labels = dtrain.get_label()\n",
    "    pred_label = np.round(preds)\n",
    "    f_score = f1_score(pred_label, labels)\n",
    "    return 'f1_score', f_score, True\n",
    "\n",
    "def hyperopt(X, y, params):\n",
    "    \n",
    "    X_train, X_val, y_train, y_val = train_test_split(X, y, test_size=0.5, random_state=0)\n",
    "    train_data = lightgbm.Dataset(X_train, label=y_train)\n",
    "    valid_data = lightgbm.Dataset(X_val, label=y_val)\n",
    "\n",
    "    space = {\n",
    "        \"learning_rate\": hp.loguniform(\"learning_rate\", np.log(0.01), np.log(0.5)),\n",
    "        \"max_depth\": hp.choice(\"max_depth\", [3, 4, 5, 6, 7]),\n",
    "        \"num_leaves\": hp.choice(\"num_leaves\", np.linspace(10, 200, 50, dtype=int)),\n",
    "        \"feature_fraction\": hp.quniform(\"feature_fraction\", 0.6, 1.0, 0.1),\n",
    "        \"reg_alpha\": hp.uniform(\"reg_alpha\", 0, 2),\n",
    "        \"reg_lambda\": hp.uniform(\"reg_lambda\", 0, 2),\n",
    "        \"min_child_weight\": hp.uniform('min_child_weight', 0.5, 10),\n",
    "    }\n",
    "\n",
    "    def objective(hyperparams):\n",
    "        model = lightgbm.train({**params, **hyperparams}, train_data, 300, \n",
    "                               valid_data, early_stopping_rounds=30, verbose_eval=0, feval = evalerror)\n",
    "\n",
    "        score = model.best_score[\"valid_0\"]['f1_score']\n",
    "        return {'loss': -score, 'status': STATUS_OK}\n",
    "\n",
    "    trials = Trials()\n",
    "    best = fmin(fn=objective, space=space, trials=trials,\n",
    "                algo=tpe.suggest, max_evals=10, verbose=1,\n",
    "                rstate=np.random.RandomState(1))\n",
    "\n",
    "    hyperparams = space_eval(space, best)\n",
    "\n",
    "    print(f\"auc = {-trials.best_trial['result']['loss']:0.4f} {hyperparams}\")\n",
    "\n",
    "    return hyperparams\n"
   ]
  },
  {
   "cell_type": "code",
   "execution_count": 30,
   "metadata": {},
   "outputs": [
    {
     "name": "stdout",
     "output_type": "stream",
     "text": [
      "100%|██████████████████████████████████████████████████| 10/10 [00:21<00:00,  2.20s/it, best loss: -0.9360667129951356]\n",
      "auc = 0.9361 {'feature_fraction': 1.0, 'learning_rate': 0.06884784274135033, 'max_depth': 6, 'min_child_weight': 3.5562675698370647, 'num_leaves': 153, 'reg_alpha': 0.12330346362844646, 'reg_lambda': 1.4052899848887177}\n"
     ]
    }
   ],
   "source": [
    "params = {\n",
    "    \"objective\": \"binary\",\n",
    "    \"metric\": 'f1_score',\n",
    "    \"verbosity\": -1,\n",
    "    \"seed\": 1,\n",
    "    \"num_threads\": 4\n",
    "}\n",
    "hyperparams = hyperopt(X, y, params)"
   ]
  },
  {
   "cell_type": "code",
   "execution_count": 26,
   "metadata": {},
   "outputs": [
    {
     "name": "stdout",
     "output_type": "stream",
     "text": [
      "Training until validation scores don't improve for 100 rounds\n",
      "[100]\tvalid_0's f1_score: 0.934259\n",
      "[200]\tvalid_0's f1_score: 0.93389\n",
      "Early stopping, best iteration is:\n",
      "[167]\tvalid_0's f1_score: 0.935312\n",
      "0.9353118479016925\n"
     ]
    }
   ],
   "source": [
    "X_train, X_test, y_train, y_test = train_test_split(X, y, test_size=0.15)\n",
    "\n",
    "train_data = lightgbm.Dataset(X_train, label=y_train)\n",
    "valid_data = lightgbm.Dataset(X_test, label=y_test)\n",
    "\n",
    "model = lightgbm.train({**params, **hyperparams}, train_data, 5000,\n",
    "                       valid_data, early_stopping_rounds=100, verbose_eval=100, feval = evalerror)\n",
    "\n",
    "predictions = model.predict(X_test)\n",
    "print(f1_score(y_test, np.round(predictions)))"
   ]
  },
  {
   "cell_type": "code",
   "execution_count": 27,
   "metadata": {},
   "outputs": [],
   "source": [
    "d_columns = ['original_index', 'Node1', 'Node2']\n",
    "cols = [i for i in perf_test_data.columns if i not in d_columns]\n",
    "\n",
    "model = lightgbm.LGBMClassifier(**hyperparams)\n",
    "model = model.fit(X, y, eval_metric = evalerror)\n",
    "test = perf_test_data[cols]\n",
    "predictions = model.predict(test)"
   ]
  },
  {
   "cell_type": "code",
   "execution_count": 28,
   "metadata": {},
   "outputs": [],
   "source": [
    "final_pred = pd.concat([perf_test_data['original_index'], pd.DataFrame(predictions)],axis=1)\n",
    "final_pred.columns = ['id', 'predicted']\n",
    "with open(\"distance_prediction2.csv\",\"+w\") as pred:\n",
    "    csv_out = csv.writer(pred)\n",
    "    csv_out.writerow(['id','predicted'])\n",
    "    for index, row in final_pred.iterrows():\n",
    "        csv_out.writerow(row)"
   ]
  },
  {
   "cell_type": "code",
   "execution_count": null,
   "metadata": {},
   "outputs": [],
   "source": []
  }
 ],
 "metadata": {
  "kernelspec": {
   "display_name": "Python 3",
   "language": "python",
   "name": "python3"
  },
  "language_info": {
   "codemirror_mode": {
    "name": "ipython",
    "version": 3
   },
   "file_extension": ".py",
   "mimetype": "text/x-python",
   "name": "python",
   "nbconvert_exporter": "python",
   "pygments_lexer": "ipython3",
   "version": "3.7.4"
  }
 },
 "nbformat": 4,
 "nbformat_minor": 2
}
