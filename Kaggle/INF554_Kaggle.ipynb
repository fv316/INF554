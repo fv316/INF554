{
 "cells": [
  {
   "cell_type": "markdown",
   "metadata": {},
   "source": [
    "# INF554 Kaggle Competition\n",
    "#### Francisco, Alex and Aksel"
   ]
  },
  {
   "cell_type": "markdown",
   "metadata": {},
   "source": [
    "## Imports and Loading"
   ]
  },
  {
   "cell_type": "code",
   "execution_count": 2,
   "metadata": {},
   "outputs": [
    {
     "name": "stderr",
     "output_type": "stream",
     "text": [
      "Using TensorFlow backend.\n"
     ]
    }
   ],
   "source": [
    "import random\n",
    "import numpy as np\n",
    "import pandas as pd\n",
    "import csv\n",
    "from tqdm import tqdm\n",
    "import seaborn as sns\n",
    "import os\n",
    "import networkx as nx\n",
    "import pdb\n",
    "import pickle\n",
    "from collections import Counter\n",
    "from sklearn import svm\n",
    "from sklearn.feature_extraction.text import TfidfVectorizer\n",
    "from sklearn.metrics.pairwise import linear_kernel\n",
    "from sklearn import preprocessing\n",
    "from sklearn.linear_model import LogisticRegression\n",
    "from sklearn.ensemble import RandomForestClassifier\n",
    "from sklearn.ensemble import GradientBoostingClassifier\n",
    "from sklearn.ensemble import BaggingClassifier\n",
    "from sklearn.neighbors import KNeighborsClassifier\n",
    "from sklearn.neural_network import MLPClassifier\n",
    "from sklearn.svm import SVC\n",
    "from sklearn.model_selection import train_test_split\n",
    "from sklearn.metrics import f1_score, precision_score, recall_score, accuracy_score\n",
    "from sklearn.feature_extraction import text as fe\n",
    "from sklearn.decomposition import NMF, LatentDirichletAllocation\n",
    "import matplotlib.pyplot as plt\n",
    "import datetime\n",
    "import time\n",
    "import keras\n",
    "import lightgbm\n",
    "import spacy\n",
    "from nltk import wordpunct_tokenize\n",
    "from nltk.corpus import stopwords\n",
    "import nltk\n",
    "from hyperopt import STATUS_OK, Trials, hp, space_eval, tpe, fmin"
   ]
  },
  {
   "cell_type": "code",
   "execution_count": 4,
   "metadata": {},
   "outputs": [
    {
     "name": "stdout",
     "output_type": "stream",
     "text": [
      "Training examples shape: (453797, 3)\n",
      "Testing examples shape: (113450, 2)\n"
     ]
    }
   ],
   "source": [
    "with open(r\"training.txt\", \"r\") as f:\n",
    "    reader = csv.reader(f)\n",
    "    training  = list(reader)\n",
    "# in order of training examples\n",
    "training = [element[0].split(\" \") for element in training]\n",
    "training = pd.DataFrame(training, columns=['Node1', 'Node2', 'Link'])\n",
    "print(\"Training examples shape: {}\".format(training.shape))\n",
    "\n",
    "with open(r\"testing.txt\", \"r\") as f:\n",
    "    reader = csv.reader(f)\n",
    "    testing  = list(reader)\n",
    "# in order of testing examples\n",
    "testing = [element[0].split(\" \") for element in testing]\n",
    "testing = pd.DataFrame(testing, columns=['Node1', 'Node2'])\n",
    "print(\"Testing examples shape: {}\".format(testing.shape))"
   ]
  },
  {
   "cell_type": "code",
   "execution_count": 5,
   "metadata": {},
   "outputs": [],
   "source": [
    "if not os.path.exists(r'pickles'):\n",
    "    os.mkdir(r'pickles')"
   ]
  },
  {
   "cell_type": "code",
   "execution_count": 6,
   "metadata": {},
   "outputs": [
    {
     "name": "stderr",
     "output_type": "stream",
     "text": [
      "100%|████████████████████████████████████████████████████████████████████████████| 33226/33226 [05:56<00:00, 93.27it/s]\n"
     ]
    },
    {
     "name": "stdout",
     "output_type": "stream",
     "text": [
      "Training node info shape: (33226, 2)\n"
     ]
    }
   ],
   "source": [
    "'''\n",
    "uncomment lines for reduced corpus with stopword removal. In future integrate stemmer here, multi-language\n",
    "'''\n",
    "NODE_INFO_DIRECTORY = r\"node_information/text/\"\n",
    "\n",
    "corpus_path = r\"pickles/corpus.PICKLE\" \n",
    "ids_path = r\"pickles/IDs.PICKLE\"\n",
    "if os.path.exists(corpus_path):\n",
    "    with open(corpus_path, 'rb') as f:\n",
    "        corpus = pickle.load(f)\n",
    "    f.close()\n",
    "    with open(ids_path, 'rb') as f:\n",
    "        ids = pickle.load(f)\n",
    "    f.close()\n",
    "else:\n",
    "    corpus = []\n",
    "    ids = []\n",
    "    for filename in tqdm(os.listdir(NODE_INFO_DIRECTORY)):\n",
    "        with open(NODE_INFO_DIRECTORY + filename, 'r', encoding='UTF-8', errors='ignore') as f:\n",
    "            doc_string = []\n",
    "            for line in f:\n",
    "                [doc_string.append(token) for token in line.lower().strip().split(\" \")]\n",
    "            corpus.append(' '.join(doc_string))\n",
    "            ids.append(filename[:-4])\n",
    "    with open(corpus_path, '+wb') as f:\n",
    "        pickle.dump(corpus, f)\n",
    "    f.close()\n",
    "    with open(ids_path, '+wb') as f:\n",
    "        pickle.dump(ids, f)\n",
    "    f.close() \n",
    "\n",
    "# in order of alphabetical text information i.e. 0, 1, 10, 100\n",
    "node_info = pd.DataFrame({'ID': ids, 'Corpus': corpus})\n",
    "node_info_ID = node_info.set_index(['ID'])\n",
    "print(\"Training node info shape: {}\".format(node_info.shape))"
   ]
  },
  {
   "cell_type": "code",
   "execution_count": 9,
   "metadata": {},
   "outputs": [],
   "source": [
    "'''\n",
    "keep_indices = random.sample(range(len(training)), k=int(len(training) * 0.05))\n",
    "data_train_val = training.iloc[keep_indices]\n",
    "data_train = training.loc[~training.index.isin(keep_indices)]\n",
    "'''\n",
    "data_train_val = training"
   ]
  },
  {
   "cell_type": "code",
   "execution_count": 10,
   "metadata": {},
   "outputs": [],
   "source": [
    "linked_nodes = data_train_val.loc[data_train_val['Link']=='1']\n",
    "linked_nodes = linked_nodes[['Node1', 'Node2']]\n",
    "linked_nodes.to_csv('linked_nodes.txt', sep=' ', index=False, header=False)\n",
    "G=nx.read_edgelist('linked_nodes.txt', create_using=nx.Graph(), nodetype = str)"
   ]
  },
  {
   "cell_type": "markdown",
   "metadata": {},
   "source": [
    "## Training"
   ]
  },
  {
   "cell_type": "code",
   "execution_count": 11,
   "metadata": {},
   "outputs": [],
   "source": [
    "# classification methodology comparisons\n",
    "def multi_classifier(X_train, X_test, y_train, y_test):\n",
    "    classifier_names = ['LR', 'SVM', 'RF', 'GBM', 'LGBM', 'MLP', 'BAG', 'KNN']\n",
    "    metrics = ['F1', 'Accuracy']\n",
    "    df_summary = pd.DataFrame(np.zeros((len(metrics), len(classifier_names))), \n",
    "                              columns = classifier_names, \n",
    "                              index = metrics)\n",
    "\n",
    "    logreg = LogisticRegression()\n",
    "    svm = SVC()\n",
    "    rf = RandomForestClassifier()\n",
    "    gbm = GradientBoostingClassifier()\n",
    "    lgbm = lightgbm.LGBMClassifier()\n",
    "    mlp = MLPClassifier()\n",
    "    bag = BaggingClassifier()\n",
    "    knn = KNeighborsClassifier()\n",
    "   \n",
    "    classifiers= [logreg, svm, rf, gbm, lgbm, mlp, bag, knn]\n",
    "    for idx, classifier in enumerate(classifiers): \n",
    "        model = classifier.fit(X_train, y_train)\n",
    "        predictions = model.predict(X_test)    \n",
    "        f1 = f1_score(y_test, predictions)\n",
    "        accuracy = accuracy_score(y_test, predictions)\n",
    "        df_summary.iloc[0,idx]=np.round(f1, 4)\n",
    "        df_summary.iloc[1,idx]=np.round(accuracy, 4)\n",
    "    \n",
    "    return df_summary"
   ]
  },
  {
   "cell_type": "code",
   "execution_count": 43,
   "metadata": {},
   "outputs": [],
   "source": [
    "# classification methodology comparisons\n",
    "def simpler_multi_classifier(X_train, X_test, y_train, y_test):\n",
    "    classifier_names = ['LR', 'RF','LGBM']\n",
    "    metrics = ['F1', 'Accuracy']\n",
    "    df_summary = pd.DataFrame(np.zeros((len(metrics), len(classifier_names))), \n",
    "                              columns = classifier_names, \n",
    "                              index = metrics)\n",
    "\n",
    "    logreg = LogisticRegression()\n",
    "    rf = RandomForestClassifier()\n",
    "    lgbm = lightgbm.LGBMClassifier()\n",
    "   \n",
    "    classifiers= [logreg, rf, lgbm]\n",
    "    for idx, classifier in enumerate(classifiers): \n",
    "        model = classifier.fit(X_train, y_train)\n",
    "        predictions = model.predict(X_test)    \n",
    "        f1 = f1_score(y_test, predictions)\n",
    "        accuracy = accuracy_score(y_test, predictions)\n",
    "        df_summary.iloc[0,idx]=np.round(f1, 4)\n",
    "        df_summary.iloc[1,idx]=np.round(accuracy, 4)\n",
    "    \n",
    "    return df_summary"
   ]
  },
  {
   "cell_type": "code",
   "execution_count": 29,
   "metadata": {},
   "outputs": [
    {
     "data": {
      "text/html": [
       "<div>\n",
       "<style scoped>\n",
       "    .dataframe tbody tr th:only-of-type {\n",
       "        vertical-align: middle;\n",
       "    }\n",
       "\n",
       "    .dataframe tbody tr th {\n",
       "        vertical-align: top;\n",
       "    }\n",
       "\n",
       "    .dataframe thead th {\n",
       "        text-align: right;\n",
       "    }\n",
       "</style>\n",
       "<table border=\"1\" class=\"dataframe\">\n",
       "  <thead>\n",
       "    <tr style=\"text-align: right;\">\n",
       "      <th></th>\n",
       "      <th>Node1</th>\n",
       "      <th>Node2</th>\n",
       "      <th>original_index</th>\n",
       "    </tr>\n",
       "  </thead>\n",
       "  <tbody>\n",
       "    <tr>\n",
       "      <th>0</th>\n",
       "      <td>870</td>\n",
       "      <td>10284</td>\n",
       "      <td>0</td>\n",
       "    </tr>\n",
       "    <tr>\n",
       "      <th>1</th>\n",
       "      <td>620</td>\n",
       "      <td>15300</td>\n",
       "      <td>1</td>\n",
       "    </tr>\n",
       "  </tbody>\n",
       "</table>\n",
       "</div>"
      ],
      "text/plain": [
       "  Node1  Node2  original_index\n",
       "0   870  10284               0\n",
       "1   620  15300               1"
      ]
     },
     "execution_count": 29,
     "metadata": {},
     "output_type": "execute_result"
    }
   ],
   "source": [
    "# dictionary key indexes original training data\n",
    "perf_val_data = pd.DataFrame(data_train_val.Node1.values, columns = ['Node1'])\n",
    "perf_val_data['Node2'] = list(data_train_val.Node2.values)\n",
    "perf_val_data['Link'] =  list(data_train_val.Link.values)\n",
    "perf_val_data['original_index'] = list(data_train_val.index)\n",
    "\n",
    "# dictionary key indexes original testing data\n",
    "perf_test_data = pd.DataFrame(testing.Node1.values, columns = ['Node1'])\n",
    "perf_test_data['Node2'] = list(testing.Node2.values)\n",
    "perf_test_data['original_index'] = list(testing.index)\n",
    "\n",
    "perf_test_data.head(2)"
   ]
  },
  {
   "cell_type": "markdown",
   "metadata": {},
   "source": [
    "## Load Features"
   ]
  },
  {
   "cell_type": "code",
   "execution_count": 11,
   "metadata": {},
   "outputs": [],
   "source": [
    "feature_vector_path = r\"pickles/perf_val_data.PICKLE\"\n",
    "if os.path.exists(feature_vector_path):\n",
    "    with open(feature_vector_path, 'rb') as f:\n",
    "        perf_val_data = pickle.load(f)\n",
    "    f.close()\n",
    "\n",
    "feature_vector_path = r\"pickles/perf_test_data.PICKLE\"\n",
    "if os.path.exists(feature_vector_path):\n",
    "    with open(feature_vector_path, 'rb') as f:\n",
    "        perf_test_data = pickle.load(f)\n",
    "    f.close()"
   ]
  },
  {
   "cell_type": "code",
   "execution_count": 85,
   "metadata": {},
   "outputs": [],
   "source": [
    "# saving the features\n",
    "feature_vector_path = r\"pickles/perf_val_data.PICKLE\"\n",
    "if not os.path.exists(feature_vector_path):\n",
    "    with open(feature_vector_path, '+wb') as f:\n",
    "        pickle.dump(perf_val_data, f)\n",
    "    f.close()\n",
    "feature_vector_path = r\"pickles/perf_test_data.PICKLE\"\n",
    "if not os.path.exists(feature_vector_path):\n",
    "    with open(feature_vector_path, '+wb') as f:\n",
    "        pickle.dump(perf_test_data, f)\n",
    "    f.close()"
   ]
  },
  {
   "cell_type": "markdown",
   "metadata": {},
   "source": [
    "## Text Based Features"
   ]
  },
  {
   "cell_type": "code",
   "execution_count": 23,
   "metadata": {},
   "outputs": [
    {
     "name": "stderr",
     "output_type": "stream",
     "text": [
      "100%|███████████████████████████████████████████████████████████████████████████| 33226/33226 [02:34<00:00, 215.35it/s]\n"
     ]
    }
   ],
   "source": [
    "corpus_matrix_path = r\"pickles/corpus_word_matrix.PICKLE\"\n",
    "if os.path.exists(corpus_matrix_path):\n",
    "    with open(corpus_matrix_path, 'rb') as f:\n",
    "        corpus_word_matrix = pickle.load(f)\n",
    "    f.close()\n",
    "else:\n",
    "    vectorizer1 = fe.CountVectorizer()\n",
    "    corpus_word_matrix = vectorizer1.fit_transform(tqdm(corpus))\n",
    "    with open(corpus_matrix_path, '+wb') as f:\n",
    "        pickle.dump(corpus_word_matrix, f)\n",
    "    f.close()"
   ]
  },
  {
   "cell_type": "code",
   "execution_count": 24,
   "metadata": {},
   "outputs": [
    {
     "name": "stderr",
     "output_type": "stream",
     "text": [
      "100%|███████████████████████████████████████████████████████████████████████████| 33226/33226 [02:28<00:00, 223.47it/s]\n"
     ]
    }
   ],
   "source": [
    "corpus_matrix_path = r\"pickles/corpus_tfidf_matrix.PICKLE\"\n",
    "if os.path.exists(corpus_matrix_path):\n",
    "    with open(corpus_matrix_path, 'rb') as f:\n",
    "        corpus_tfidf_matrix = pickle.load(f)\n",
    "    f.close()\n",
    "else:\n",
    "    vectorizer3 = fe.TfidfVectorizer()\n",
    "    corpus_tfidf_matrix = vectorizer3.fit_transform(tqdm(corpus))\n",
    "    with open(corpus_matrix_path, '+wb') as f:\n",
    "        pickle.dump(corpus_tfidf_matrix, f)\n",
    "    f.close()"
   ]
  },
  {
   "cell_type": "code",
   "execution_count": 30,
   "metadata": {},
   "outputs": [
    {
     "name": "stderr",
     "output_type": "stream",
     "text": [
      "100%|████████████████████████████████████████████████████████████████████████| 453797/453797 [1:31:09<00:00, 82.97it/s]\n",
      "100%|██████████████████████████████████████████████████████████████████████████| 113450/113450 [24:26<00:00, 77.39it/s]\n"
     ]
    }
   ],
   "source": [
    "def tfidf_similarity(index, dataset):\n",
    "    node1 = dataset['Node1'][index]\n",
    "    node2 = dataset['Node2'][index]\n",
    "    index1 = ids.index(node1)\n",
    "    index2 = ids.index(node2)\n",
    "    sim = corpus_tfidf_matrix[index1] * corpus_tfidf_matrix[index2].T\n",
    "    return sim.toarray()[0][0]\n",
    "\n",
    "perf_val_data['tfidf_similarity']=list(map(lambda i:tfidf_similarity(i, training), \n",
    "                                              tqdm(perf_val_data['original_index'], position=0, leave=True)))\n",
    "perf_test_data['tfidf_similarity']=list(map(lambda i:tfidf_similarity(i, testing), \n",
    "                                               tqdm(perf_test_data['original_index'], position=0, leave=True)))"
   ]
  },
  {
   "cell_type": "code",
   "execution_count": 31,
   "metadata": {},
   "outputs": [],
   "source": [
    "n_samples = 2000\n",
    "n_features = 1000\n",
    "n_components = 10"
   ]
  },
  {
   "cell_type": "code",
   "execution_count": 13,
   "metadata": {},
   "outputs": [],
   "source": [
    "nmf_frobenius_path = r\"pickles/nmf_frobenius_matrix.PICKLE\"\n",
    "if os.path.exists(nmf_frobenius_path):\n",
    "    with open(nmf_frobenius_path, 'rb') as f:\n",
    "        nmf_frobenius = pickle.load(f)\n",
    "    f.close()\n",
    "else:\n",
    "    print(\"Fitting the NMF model (Frobenius norm) with tf-idf features, \"\n",
    "          \"n_samples=%d and n_features=%d...\" % (corpus_tfidf_matrix.shape[0], n_features))\n",
    "\n",
    "    nmf_frobenius = NMF(n_components=n_components, random_state=1, alpha=.1, l1_ratio=.5).fit(corpus_tfidf_matrix)\n",
    "    with open(nmf_frobenius_path, '+wb') as f:\n",
    "        pickle.dump(nmf_frobenius, f)\n",
    "    f.close()"
   ]
  },
  {
   "cell_type": "code",
   "execution_count": 14,
   "metadata": {},
   "outputs": [
    {
     "name": "stdout",
     "output_type": "stream",
     "text": [
      "nmf_kd_matrix not available, recompute? y/n: n\n"
     ]
    }
   ],
   "source": [
    "nmf_kd_path = r\"pickles/nmf_kd_matrix.PICKLE\"\n",
    "if os.path.exists(nmf_kd_path):\n",
    "    with open(nmf_kd_path, 'rb') as f:\n",
    "        nmf_kd = pickle.load(f)\n",
    "    f.close()\n",
    "else:\n",
    "    x = ''\n",
    "    while (x not in ['n', 'y']):\n",
    "        x = input(\"nmf_kd_matrix not available, recompute? y/n: \")\n",
    "    if x == \"y\":\n",
    "        print(\"Fitting the NMF model (generalized Kullback-Leibler divergence) with \"\n",
    "              \"tf-idf features, n_samples=%d and n_features=%d...\"\n",
    "              % (n_samples, n_features))\n",
    "\n",
    "        nmf_kd = NMF(n_components=n_components, random_state=1,\n",
    "                  beta_loss='kullback-leibler', solver='mu', max_iter=1000, alpha=.1,\n",
    "                  l1_ratio=.5).fit(corpus_tfidf_matrix)\n",
    "\n",
    "        with open(nmf_kd_path, '+wb') as f:\n",
    "            pickle.dump(nmf_kd, f)\n",
    "        f.close()"
   ]
  },
  {
   "cell_type": "code",
   "execution_count": 15,
   "metadata": {},
   "outputs": [],
   "source": [
    "lda_path = r\"pickles/lda_matrix.PICKLE\"\n",
    "if os.path.exists(lda_path):\n",
    "    with open(lda_path, 'rb') as f:\n",
    "        lda = pickle.load(f)\n",
    "    f.close()\n",
    "else:\n",
    "    print(\"Fitting LDA models with tf features, \"\n",
    "          \"n_samples=%d and n_features=%d...\"\n",
    "          % (n_samples, n_features))\n",
    "    lda = LatentDirichletAllocation(n_components=n_components, max_iter=5,\n",
    "                                    learning_method='online',\n",
    "                                    learning_offset=50.,\n",
    "                                    random_state=0)\n",
    "    lda.fit(corpus_word_matrix)\n",
    "    \n",
    "    with open(lda_path, '+wb') as f:\n",
    "        pickle.dump(lda, f)\n",
    "    f.close()"
   ]
  },
  {
   "cell_type": "code",
   "execution_count": 10,
   "metadata": {},
   "outputs": [],
   "source": [
    "def calculate_languages_ratios(text):\n",
    "    languages_ratios = []\n",
    "    tokens = wordpunct_tokenize(text)\n",
    "    words = [word.lower() for word in tokens]\n",
    "    for language in stopwords.fileids():\n",
    "        stopwords_set = set(stopwords.words(language))\n",
    "        words_set = set(words)\n",
    "        common_elements = words_set.intersection(stopwords_set)\n",
    "        languages_ratios.append(len(common_elements))\n",
    "    if sum(languages_ratios) == 0:\n",
    "        return np.zeros(len(languages_ratios))\n",
    "    return np.array(languages_ratios)/sum(languages_ratios)"
   ]
  },
  {
   "cell_type": "code",
   "execution_count": 12,
   "metadata": {},
   "outputs": [
    {
     "name": "stderr",
     "output_type": "stream",
     "text": [
      "100%|████████████████████████████████████████████████████████████████████████████| 33226/33226 [11:01<00:00, 50.23it/s]\n"
     ]
    }
   ],
   "source": [
    "languages_nltk = {}\n",
    "loop_size = len(node_info['Corpus'])\n",
    "for i in tqdm(range(loop_size), total=loop_size, leave=True, position=0):\n",
    "    try:\n",
    "        languages_nltk[node_info['ID'][i]] =  calculate_languages_ratios(node_info['Corpus'][i])\n",
    "    except:\n",
    "        languages_nltk.append(None)"
   ]
  },
  {
   "cell_type": "code",
   "execution_count": 32,
   "metadata": {},
   "outputs": [],
   "source": [
    "languages_nltk_path = r\"pickles/languages_nltk.PICKLE\"\n",
    "if os.path.exists(languages_nltk_path):\n",
    "    with open(languages_nltk_path, 'rb') as f:\n",
    "        languages_nltk = pickle.load(f)\n",
    "    f.close()\n",
    "else:\n",
    "    languages_nltk = {}\n",
    "    loop_size = len(node_info['Corpus'])\n",
    "    for i in tqdm(range(loop_size), total=loop_size, leave=True, position=0):\n",
    "        try:\n",
    "            languages_nltk[node_info['ID'][i]] =  calculate_languages_ratios(node_info['Corpus'][i])\n",
    "        except:\n",
    "            languages_nltk.append(None)\n",
    "    \n",
    "    with open(languages_nltk_path, '+wb') as f:\n",
    "        pickle.dump(languages_nltk, f)\n",
    "    f.close()"
   ]
  },
  {
   "cell_type": "code",
   "execution_count": 110,
   "metadata": {},
   "outputs": [
    {
     "data": {
      "text/plain": [
       "[(1413, 'arabic'),\n",
       " (114, 'azerbaijani'),\n",
       " (140, 'danish'),\n",
       " (238, 'dutch'),\n",
       " (7633, 'english'),\n",
       " (33, 'finnish'),\n",
       " (20755, 'french'),\n",
       " (708, 'german'),\n",
       " (21, 'greek'),\n",
       " (39, 'hungarian'),\n",
       " (38, 'indonesian'),\n",
       " (400, 'italian'),\n",
       " (2, 'kazakh'),\n",
       " (79, 'nepali'),\n",
       " (421, 'norwegian'),\n",
       " (257, 'portuguese'),\n",
       " (110, 'romanian'),\n",
       " (212, 'russian'),\n",
       " (550, 'slovene'),\n",
       " (47, 'spanish'),\n",
       " (16, 'swedish')]"
      ]
     },
     "execution_count": 110,
     "metadata": {},
     "output_type": "execute_result"
    }
   ],
   "source": [
    "langs = {}\n",
    "for i in languages_nltk:\n",
    "    lang = str(np.argmax(languages_nltk[i]))\n",
    "    if lang in langs:\n",
    "        langs[lang] += 1\n",
    "    else:\n",
    "        langs[lang] = 1\n",
    "list(zip([langs[i] for i in sorted(langs, key=lambda k:int(k))], stopwords.fileids()))"
   ]
  },
  {
   "cell_type": "code",
   "execution_count": 33,
   "metadata": {},
   "outputs": [
    {
     "name": "stderr",
     "output_type": "stream",
     "text": [
      "100%|███████████████████████████████████████████████████████████████████████| 453797/453797 [00:22<00:00, 19760.31it/s]\n",
      "100%|███████████████████████████████████████████████████████████████████████| 113450/113450 [00:04<00:00, 26556.66it/s]\n"
     ]
    }
   ],
   "source": [
    "def languages_nltk_similarity(index, dataset):\n",
    "    node1 = dataset['Node1'][index]\n",
    "    node2 = dataset['Node2'][index]\n",
    "    sim = languages_nltk[node1] @ languages_nltk[node2].T\n",
    "    return sim\n",
    "\n",
    "perf_val_data['languages_similarity']=list(map(lambda i:languages_nltk_similarity(i, training), \n",
    "                                              tqdm(perf_val_data['original_index'], position=0, leave=True)))\n",
    "perf_test_data['languages_similarity']=list(map(lambda i:languages_nltk_similarity(i, testing), \n",
    "                                               tqdm(perf_test_data['original_index'], position=0, leave=True)))"
   ]
  },
  {
   "cell_type": "code",
   "execution_count": 34,
   "metadata": {},
   "outputs": [
    {
     "name": "stderr",
     "output_type": "stream",
     "text": [
      "100%|████████████████████████████████████████████████████████████████████████| 453797/453797 [00:51<00:00, 8738.27it/s]\n",
      "100%|████████████████████████████████████████████████████████████████████████| 113450/113450 [00:12<00:00, 9309.86it/s]\n"
     ]
    }
   ],
   "source": [
    "def joint_length(index, dataset):\n",
    "    node1 = dataset['Node1'][index]\n",
    "    node2 = dataset['Node2'][index]\n",
    "    length = len(node_info_ID['Corpus'].loc[node1]) * len(node_info_ID['Corpus'].loc[node2])\n",
    "    return length\n",
    "\n",
    "perf_val_data['joint_length']=list(map(lambda i:joint_length(i, training), \n",
    "                                              tqdm(perf_val_data['original_index'], position=0, leave=True)))\n",
    "perf_test_data['joint_length']=list(map(lambda i:joint_length(i, testing), \n",
    "                                               tqdm(perf_test_data['original_index'], position=0, leave=True)))"
   ]
  },
  {
   "cell_type": "code",
   "execution_count": 35,
   "metadata": {},
   "outputs": [
    {
     "name": "stderr",
     "output_type": "stream",
     "text": [
      "100%|███████████████████████████████████████████████████████████████████████| 453797/453797 [00:13<00:00, 32499.97it/s]\n",
      "100%|███████████████████████████████████████████████████████████████████████| 113450/113450 [00:04<00:00, 24172.84it/s]\n"
     ]
    }
   ],
   "source": [
    "def file_distance(index, dataset):\n",
    "    node1 = dataset['Node1'][index]\n",
    "    node2 = dataset['Node2'][index]\n",
    "    dist = abs(int(node1) - int(node2))\n",
    "    return dist\n",
    "\n",
    "perf_val_data['file_distance']=list(map(lambda i:file_distance(i, training), \n",
    "                                              tqdm(perf_val_data['original_index'], position=0, leave=True)))\n",
    "perf_test_data['file_distance']=list(map(lambda i:file_distance(i, testing), \n",
    "                                               tqdm(perf_test_data['original_index'], position=0, leave=True)))"
   ]
  },
  {
   "cell_type": "markdown",
   "metadata": {},
   "source": [
    "## Graph Based Features"
   ]
  },
  {
   "cell_type": "code",
   "execution_count": 45,
   "metadata": {},
   "outputs": [],
   "source": [
    "neighborsDict={}\n",
    "for n in G.nodes():\n",
    "    neighborsDict[n]= list(G.neighbors(n))  \n",
    "\n",
    "pr = nx.pagerank(G, alpha=0.7)\n",
    "\n",
    "#katz_nd = nx.katz_centrality_numpy(G, alpha=0.1, beta=1.0)"
   ]
  },
  {
   "cell_type": "code",
   "execution_count": 47,
   "metadata": {},
   "outputs": [
    {
     "name": "stderr",
     "output_type": "stream",
     "text": [
      "100%|████████████████████████████████████████████████████████████████████████| 453797/453797 [00:58<00:00, 7710.80it/s]\n",
      "100%|████████████████████████████████████████████████████████████████████████| 113450/113450 [00:19<00:00, 5784.13it/s]\n"
     ]
    }
   ],
   "source": [
    "def common_neighbors(index, dataset):\n",
    "    node1 = dataset['Node1'][index]\n",
    "    node2 = dataset['Node2'][index]\n",
    "    if (node1 in neighborsDict.keys()) and (node2 in neighborsDict.keys()): \n",
    "        return len(set(neighborsDict[node1]).intersection(neighborsDict[node2]))\n",
    "    else : \n",
    "        return 0\n",
    "\n",
    "perf_val_data['common_neighbors']=list(map(lambda i:common_neighbors(i, training), \n",
    "                                           tqdm(perf_val_data['original_index'], leave=True, position = 0)))\n",
    "perf_test_data['common_neighbors']=list(map(lambda i:common_neighbors(i, testing), \n",
    "                                            tqdm(perf_test_data['original_index'], leave=True, position = 0)))"
   ]
  },
  {
   "cell_type": "code",
   "execution_count": 48,
   "metadata": {},
   "outputs": [
    {
     "name": "stderr",
     "output_type": "stream",
     "text": [
      "100%|█████████████████████████████████████████████████████████████████████████| 453797/453797 [13:52<00:00, 544.81it/s]\n",
      "100%|█████████████████████████████████████████████████████████████████████████| 113450/113450 [03:38<00:00, 519.01it/s]\n"
     ]
    }
   ],
   "source": [
    "def jaccard_coef(index, dataset):\n",
    "    node1 = dataset['Node1'][index]\n",
    "    node2 = dataset['Node2'][index]\n",
    "    if (node1 in neighborsDict.keys()) and (node2 in neighborsDict.keys()): \n",
    "        return [p for u,v,p in nx.jaccard_coefficient(G, [(node1, node2)])][0]\n",
    "    else:\n",
    "        return 0\n",
    "\n",
    "perf_val_data['jaccard_coefficient']=list(map(lambda i:jaccard_coef(i, training), \n",
    "                                              tqdm(perf_val_data['original_index'], position=0, leave=True)))\n",
    "perf_test_data['jaccard_coefficient']=list(map(lambda i:jaccard_coef(i, testing), \n",
    "                                               tqdm(perf_test_data['original_index'], position=0, leave=True)))"
   ]
  },
  {
   "cell_type": "code",
   "execution_count": 49,
   "metadata": {},
   "outputs": [
    {
     "name": "stderr",
     "output_type": "stream",
     "text": [
      "100%|████████████████████████████████████████████████████████████████████████| 453797/453797 [03:53<00:00, 1943.55it/s]\n",
      "100%|████████████████████████████████████████████████████████████████████████| 113450/113450 [01:20<00:00, 1404.90it/s]\n"
     ]
    }
   ],
   "source": [
    "def shortest_path(index, dataset):\n",
    "    node1 = dataset['Node1'][index]\n",
    "    node2 = dataset['Node2'][index]\n",
    "    if (node1 in neighborsDict.keys()) and (node2 in neighborsDict.keys()): \n",
    "        try:\n",
    "            sp=nx.shortest_path(G, node1, node2)\n",
    "            return len(sp)\n",
    "        except nx.NetworkXNoPath:\n",
    "            return 0\n",
    "    else:\n",
    "        return 0\n",
    "\n",
    "perf_val_data['shortest_path']=list(map(lambda i:shortest_path(i, training), \n",
    "                                        tqdm(perf_val_data['original_index'], position=0, leave=True)))\n",
    "perf_test_data['shortest_path']=list(map(lambda i:shortest_path(i, testing), \n",
    "                                         tqdm(perf_test_data['original_index'], position=0, leave=True)))"
   ]
  },
  {
   "cell_type": "code",
   "execution_count": 50,
   "metadata": {
    "collapsed": true
   },
   "outputs": [
    {
     "name": "stderr",
     "output_type": "stream",
     "text": [
      "\n",
      "  0%|                                                                                       | 0/453797 [00:00<?, ?it/s]\n",
      "  0%|▏                                                                          | 897/453797 [00:00<00:50, 8881.35it/s]\n",
      "  0%|▎                                                                         | 1602/453797 [00:00<00:54, 8239.26it/s]\n",
      "  1%|▍                                                                         | 2450/453797 [00:00<00:54, 8310.01it/s]\n",
      "  1%|▌                                                                         | 3377/453797 [00:00<00:52, 8552.76it/s]\n",
      "  1%|▊                                                                        | 5226/453797 [00:00<00:44, 10179.93it/s]\n",
      "  1%|█                                                                        | 6751/453797 [00:00<00:39, 11282.66it/s]\n",
      "  2%|█▎                                                                       | 8232/453797 [00:00<00:36, 12121.10it/s]\n",
      "  2%|█▌                                                                      | 10154/453797 [00:00<00:32, 13631.51it/s]\n",
      "  3%|█▉                                                                      | 12505/453797 [00:00<00:28, 15597.65it/s]\n",
      "  3%|██▎                                                                     | 14565/453797 [00:01<00:26, 16782.14it/s]\n",
      "  4%|██▋                                                                     | 17120/453797 [00:01<00:23, 18708.07it/s]\n",
      "  4%|███                                                                     | 19306/453797 [00:01<00:22, 19553.88it/s]\n",
      "  5%|███▍                                                                    | 21389/453797 [00:01<00:22, 19310.69it/s]\n",
      "  5%|███▋                                                                    | 23410/453797 [00:01<00:22, 18857.60it/s]\n",
      "  6%|████                                                                    | 25361/453797 [00:01<00:22, 18884.93it/s]\n",
      "  6%|████▎                                                                   | 27546/453797 [00:01<00:21, 19686.30it/s]\n",
      "  7%|████▋                                                                   | 29852/453797 [00:01<00:20, 20535.04it/s]\n",
      "  7%|█████▏                                                                  | 32397/453797 [00:01<00:19, 21797.84it/s]\n",
      "  8%|█████▌                                                                  | 34740/453797 [00:01<00:18, 22199.99it/s]\n",
      "  8%|█████▉                                                                  | 37041/453797 [00:02<00:18, 22436.75it/s]\n",
      "  9%|██████▏                                                                 | 39378/453797 [00:02<00:18, 22642.30it/s]\n",
      "  9%|██████▌                                                                 | 41661/453797 [00:02<00:19, 20834.63it/s]\n",
      " 10%|██████▉                                                                 | 43786/453797 [00:02<00:21, 19144.77it/s]\n",
      " 10%|███████▎                                                                | 45757/453797 [00:02<00:21, 18600.35it/s]\n",
      " 11%|███████▋                                                                | 48353/453797 [00:02<00:19, 20281.71it/s]\n",
      " 11%|████████                                                                | 50654/453797 [00:02<00:19, 21029.65it/s]\n",
      " 12%|████████▍                                                               | 52898/453797 [00:02<00:18, 21433.67it/s]\n",
      " 12%|████████▊                                                               | 55376/453797 [00:02<00:17, 22278.58it/s]\n",
      " 13%|█████████▏                                                              | 57754/453797 [00:03<00:17, 22708.65it/s]\n",
      " 13%|█████████▌                                                              | 60137/453797 [00:03<00:17, 23033.47it/s]\n",
      " 14%|█████████▉                                                              | 62636/453797 [00:03<00:16, 23521.26it/s]\n",
      " 14%|██████████▎                                                             | 65006/453797 [00:03<00:16, 23228.10it/s]\n",
      " 15%|██████████▋                                                             | 67343/453797 [00:03<00:17, 22595.27it/s]\n",
      " 15%|███████████                                                             | 69647/453797 [00:03<00:16, 22660.05it/s]\n",
      " 16%|███████████▍                                                            | 72123/453797 [00:03<00:16, 23251.46it/s]\n",
      " 16%|███████████▊                                                            | 74665/453797 [00:03<00:15, 23795.28it/s]\n",
      " 17%|████████████▏                                                           | 77055/453797 [00:03<00:16, 23337.95it/s]\n",
      " 18%|████████████▋                                                           | 79591/453797 [00:03<00:15, 23909.61it/s]\n",
      " 18%|█████████████                                                           | 82219/453797 [00:04<00:15, 24505.93it/s]\n",
      " 19%|█████████████▍                                                          | 84681/453797 [00:04<00:15, 24037.11it/s]\n",
      " 19%|█████████████▊                                                          | 87199/453797 [00:04<00:15, 24368.72it/s]\n",
      " 20%|██████████████▏                                                         | 89644/453797 [00:04<00:15, 23015.55it/s]\n",
      " 20%|██████████████▌                                                         | 91967/453797 [00:04<00:18, 20034.15it/s]\n",
      " 21%|██████████████▉                                                         | 94376/453797 [00:04<00:17, 21044.51it/s]\n",
      " 21%|███████████████▎                                                        | 96553/453797 [00:04<00:16, 21256.89it/s]\n",
      " 22%|███████████████▋                                                        | 99199/453797 [00:04<00:15, 22589.40it/s]\n",
      " 22%|███████████████▉                                                       | 101680/453797 [00:04<00:15, 23147.90it/s]\n",
      " 23%|████████████████▎                                                      | 104422/453797 [00:05<00:14, 24282.89it/s]\n",
      " 24%|████████████████▋                                                      | 106897/453797 [00:05<00:14, 23787.21it/s]\n",
      " 24%|█████████████████                                                      | 109425/453797 [00:05<00:14, 24147.26it/s]\n",
      " 25%|█████████████████▌                                                     | 111866/453797 [00:05<00:14, 23730.64it/s]\n",
      " 25%|█████████████████▉                                                     | 114259/453797 [00:05<00:14, 22902.12it/s]\n",
      " 26%|██████████████████▎                                                    | 116750/453797 [00:05<00:14, 23403.71it/s]\n",
      " 26%|██████████████████▋                                                    | 119107/453797 [00:05<00:14, 22973.22it/s]\n",
      " 27%|███████████████████                                                    | 121455/453797 [00:05<00:14, 23054.91it/s]\n",
      " 27%|███████████████████▍                                                   | 123881/453797 [00:05<00:14, 23403.54it/s]\n",
      " 28%|███████████████████▋                                                   | 126230/453797 [00:05<00:13, 23429.23it/s]\n",
      " 28%|████████████████████                                                   | 128579/453797 [00:06<00:14, 23101.95it/s]\n",
      " 29%|████████████████████▌                                                  | 131097/453797 [00:06<00:13, 23688.13it/s]\n",
      " 29%|████████████████████▉                                                  | 133473/453797 [00:06<00:14, 22058.79it/s]\n",
      " 30%|█████████████████████▏                                                 | 135707/453797 [00:06<00:15, 20782.94it/s]\n",
      " 30%|█████████████████████▌                                                 | 137820/453797 [00:06<00:17, 17957.20it/s]\n",
      " 31%|█████████████████████▉                                                 | 140061/453797 [00:06<00:16, 19046.82it/s]\n",
      " 31%|██████████████████████▎                                                | 142397/453797 [00:06<00:15, 20163.72it/s]\n",
      " 32%|██████████████████████▋                                                | 145002/453797 [00:06<00:14, 21629.96it/s]\n",
      " 32%|███████████████████████                                                | 147458/453797 [00:06<00:13, 22432.77it/s]\n",
      " 33%|███████████████████████▍                                               | 149905/453797 [00:07<00:13, 23007.32it/s]\n"
     ]
    },
    {
     "name": "stderr",
     "output_type": "stream",
     "text": [
      " 34%|███████████████████████▊                                               | 152256/453797 [00:07<00:13, 22556.16it/s]\n",
      " 34%|████████████████████████▏                                              | 154549/453797 [00:07<00:13, 22206.04it/s]\n",
      " 35%|████████████████████████▌                                              | 156797/453797 [00:07<00:13, 21396.45it/s]\n",
      " 35%|████████████████████████▊                                              | 158962/453797 [00:07<00:14, 20554.64it/s]\n",
      " 35%|█████████████████████████▏                                             | 161043/453797 [00:07<00:14, 20508.54it/s]\n",
      " 36%|█████████████████████████▌                                             | 163499/453797 [00:07<00:13, 21576.30it/s]\n",
      " 37%|█████████████████████████▉                                             | 165976/453797 [00:07<00:12, 22383.79it/s]\n",
      " 37%|██████████████████████████▎                                            | 168278/453797 [00:07<00:12, 22570.86it/s]\n",
      " 38%|██████████████████████████▋                                            | 170621/453797 [00:08<00:12, 22821.73it/s]\n",
      " 38%|███████████████████████████                                            | 172918/453797 [00:08<00:12, 22595.77it/s]\n",
      " 39%|███████████████████████████▍                                           | 175188/453797 [00:08<00:12, 22492.87it/s]\n",
      " 39%|███████████████████████████▊                                           | 177533/453797 [00:08<00:12, 22771.68it/s]\n",
      " 40%|████████████████████████████▏                                          | 179817/453797 [00:08<00:12, 22656.49it/s]\n",
      " 40%|████████████████████████████▍                                          | 182087/453797 [00:08<00:12, 22074.38it/s]\n",
      " 41%|████████████████████████████▊                                          | 184301/453797 [00:08<00:13, 19944.46it/s]\n",
      " 41%|█████████████████████████████▏                                         | 186339/453797 [00:08<00:13, 19723.47it/s]\n",
      " 42%|█████████████████████████████▌                                         | 188678/453797 [00:08<00:12, 20696.73it/s]\n",
      " 42%|█████████████████████████████▉                                         | 191198/453797 [00:08<00:12, 21812.35it/s]\n",
      " 43%|██████████████████████████████▎                                        | 193629/453797 [00:09<00:11, 22443.79it/s]\n",
      " 43%|██████████████████████████████▋                                        | 195907/453797 [00:09<00:11, 22084.59it/s]\n",
      " 44%|███████████████████████████████                                        | 198155/453797 [00:09<00:11, 22201.61it/s]\n",
      " 44%|███████████████████████████████▍                                       | 200607/453797 [00:09<00:11, 22786.19it/s]\n",
      " 45%|███████████████████████████████▋                                       | 202902/453797 [00:09<00:11, 22433.32it/s]\n",
      " 45%|████████████████████████████████                                       | 205158/453797 [00:09<00:11, 22337.69it/s]\n",
      " 46%|████████████████████████████████▍                                      | 207401/453797 [00:09<00:11, 21906.45it/s]\n",
      " 46%|████████████████████████████████▊                                      | 209654/453797 [00:09<00:11, 22025.15it/s]\n",
      " 47%|█████████████████████████████████▏                                     | 212327/453797 [00:09<00:10, 23252.37it/s]\n",
      " 47%|█████████████████████████████████▌                                     | 214680/453797 [00:10<00:10, 23266.54it/s]\n",
      " 48%|█████████████████████████████████▉                                     | 217118/453797 [00:10<00:10, 23589.69it/s]\n",
      " 48%|██████████████████████████████████▎                                    | 219489/453797 [00:10<00:10, 22939.39it/s]\n",
      " 49%|██████████████████████████████████▋                                    | 221796/453797 [00:10<00:10, 22774.96it/s]\n",
      " 49%|███████████████████████████████████                                    | 224083/453797 [00:10<00:10, 21699.76it/s]\n",
      " 50%|███████████████████████████████████▍                                   | 226647/453797 [00:10<00:10, 22688.26it/s]\n",
      " 51%|███████████████████████████████████▉                                   | 229411/453797 [00:10<00:09, 23976.78it/s]\n",
      " 51%|████████████████████████████████████▎                                  | 231845/453797 [00:10<00:10, 21135.69it/s]\n",
      " 52%|████████████████████████████████████▌                                  | 234046/453797 [00:10<00:10, 20962.88it/s]\n",
      " 52%|█████████████████████████████████████                                  | 236589/453797 [00:10<00:09, 22128.93it/s]\n",
      " 53%|█████████████████████████████████████▎                                 | 238863/453797 [00:11<00:09, 21609.34it/s]\n",
      " 53%|█████████████████████████████████████▋                                 | 241069/453797 [00:11<00:09, 21363.05it/s]\n",
      " 54%|██████████████████████████████████████                                 | 243238/453797 [00:11<00:10, 20782.14it/s]\n",
      " 54%|██████████████████████████████████████▍                                | 245507/453797 [00:11<00:09, 21319.86it/s]\n",
      " 55%|██████████████████████████████████████▊                                | 248024/453797 [00:11<00:09, 22344.88it/s]\n",
      " 55%|███████████████████████████████████████▏                               | 250287/453797 [00:11<00:09, 22231.85it/s]\n",
      " 56%|███████████████████████████████████████▌                               | 252530/453797 [00:11<00:09, 21771.57it/s]\n",
      " 56%|███████████████████████████████████████▊                               | 254724/453797 [00:11<00:09, 21691.38it/s]\n",
      " 57%|████████████████████████████████████████▏                              | 257178/453797 [00:11<00:08, 22413.36it/s]\n",
      " 57%|████████████████████████████████████████▌                              | 259434/453797 [00:12<00:09, 21131.95it/s]\n",
      " 58%|████████████████████████████████████████▉                              | 261573/453797 [00:12<00:09, 20715.81it/s]\n",
      " 58%|█████████████████████████████████████████▎                             | 263874/453797 [00:12<00:08, 21354.50it/s]\n",
      " 59%|█████████████████████████████████████████▌                             | 266028/453797 [00:12<00:08, 20910.95it/s]\n",
      " 59%|█████████████████████████████████████████▉                             | 268262/453797 [00:12<00:08, 21320.04it/s]\n",
      " 60%|██████████████████████████████████████████▍                            | 270867/453797 [00:12<00:08, 22489.95it/s]\n",
      " 60%|██████████████████████████████████████████▋                            | 273142/453797 [00:12<00:08, 22433.67it/s]\n",
      " 61%|███████████████████████████████████████████▏                           | 275705/453797 [00:12<00:07, 23242.37it/s]\n",
      " 61%|███████████████████████████████████████████▌                           | 278050/453797 [00:12<00:08, 20766.01it/s]\n",
      " 62%|███████████████████████████████████████████▊                           | 280190/453797 [00:13<00:08, 20890.56it/s]\n",
      " 62%|████████████████████████████████████████████▏                          | 282496/453797 [00:13<00:07, 21437.47it/s]\n",
      " 63%|████████████████████████████████████████████▌                          | 284954/453797 [00:13<00:07, 22232.06it/s]\n",
      " 63%|████████████████████████████████████████████▉                          | 287210/453797 [00:13<00:07, 22001.70it/s]\n",
      " 64%|█████████████████████████████████████████████▎                         | 289449/453797 [00:13<00:07, 22052.45it/s]\n",
      " 64%|█████████████████████████████████████████████▋                         | 291856/453797 [00:13<00:07, 22621.21it/s]\n",
      " 65%|██████████████████████████████████████████████                         | 294282/453797 [00:13<00:06, 23087.70it/s]\n",
      " 65%|██████████████████████████████████████████████▍                        | 296604/453797 [00:13<00:06, 23059.82it/s]\n",
      " 66%|██████████████████████████████████████████████▊                        | 298991/453797 [00:13<00:06, 23229.03it/s]\n",
      " 66%|███████████████████████████████████████████████▏                       | 301321/453797 [00:13<00:06, 22840.07it/s]\n",
      " 67%|███████████████████████████████████████████████▌                       | 303727/453797 [00:14<00:06, 23126.07it/s]\n",
      " 67%|███████████████████████████████████████████████▉                       | 306045/453797 [00:14<00:06, 23072.88it/s]\n",
      " 68%|████████████████████████████████████████████████▎                      | 308573/453797 [00:14<00:06, 23693.42it/s]\n"
     ]
    },
    {
     "name": "stderr",
     "output_type": "stream",
     "text": [
      " 69%|████████████████████████████████████████████████▋                      | 310950/453797 [00:14<00:06, 20682.95it/s]\n",
      " 69%|████████████████████████████████████████████████▉                      | 313092/453797 [00:14<00:06, 20132.75it/s]\n",
      " 70%|█████████████████████████████████████████████████▎                     | 315442/453797 [00:14<00:06, 21037.04it/s]\n",
      " 70%|█████████████████████████████████████████████████▋                     | 317802/453797 [00:14<00:06, 21685.35it/s]\n",
      " 71%|██████████████████████████████████████████████████                     | 320010/453797 [00:14<00:06, 21359.64it/s]\n",
      " 71%|██████████████████████████████████████████████████▍                    | 322298/453797 [00:14<00:06, 21793.96it/s]\n",
      " 72%|██████████████████████████████████████████████████▊                    | 324500/453797 [00:15<00:06, 19586.10it/s]\n",
      " 72%|███████████████████████████████████████████████████                    | 326555/453797 [00:15<00:06, 19808.25it/s]\n",
      " 72%|███████████████████████████████████████████████████▍                   | 328896/453797 [00:15<00:06, 20766.46it/s]\n",
      " 73%|███████████████████████████████████████████████████▊                   | 331088/453797 [00:15<00:05, 21039.26it/s]\n",
      " 73%|████████████████████████████████████████████████████▏                  | 333399/453797 [00:15<00:05, 21620.42it/s]\n",
      " 74%|████████████████████████████████████████████████████▌                  | 335951/453797 [00:15<00:05, 22598.97it/s]\n",
      " 75%|████████████████████████████████████████████████████▉                  | 338549/453797 [00:15<00:04, 23453.42it/s]\n",
      " 75%|█████████████████████████████████████████████████████▍                 | 341160/453797 [00:15<00:04, 24124.86it/s]\n",
      " 76%|█████████████████████████████████████████████████████▊                 | 343598/453797 [00:15<00:04, 23915.88it/s]\n",
      " 76%|██████████████████████████████████████████████████████▏                | 346008/453797 [00:15<00:04, 23899.59it/s]\n",
      " 77%|██████████████████████████████████████████████████████▌                | 348411/453797 [00:16<00:04, 22781.18it/s]\n",
      " 77%|██████████████████████████████████████████████████████▊                | 350709/453797 [00:16<00:04, 22308.24it/s]\n",
      " 78%|███████████████████████████████████████████████████████▎               | 353133/453797 [00:16<00:04, 22854.64it/s]\n",
      " 78%|███████████████████████████████████████████████████████▋               | 355629/453797 [00:16<00:04, 23382.22it/s]\n",
      " 79%|████████████████████████████████████████████████████████               | 357981/453797 [00:16<00:04, 22943.43it/s]\n",
      " 79%|████████████████████████████████████████████████████████▍              | 360378/453797 [00:16<00:04, 23174.73it/s]\n",
      " 80%|████████████████████████████████████████████████████████▋              | 362709/453797 [00:16<00:03, 23215.05it/s]\n",
      " 80%|█████████████████████████████████████████████████████████              | 365092/453797 [00:16<00:03, 23396.04it/s]\n",
      " 81%|█████████████████████████████████████████████████████████▌             | 367636/453797 [00:16<00:03, 23906.38it/s]\n",
      " 82%|█████████████████████████████████████████████████████████▉             | 370033/453797 [00:16<00:03, 23783.11it/s]\n",
      " 82%|██████████████████████████████████████████████████████████▎            | 372416/453797 [00:17<00:03, 20914.88it/s]\n",
      " 83%|██████████████████████████████████████████████████████████▌            | 374574/453797 [00:17<00:03, 19939.77it/s]\n",
      " 83%|██████████████████████████████████████████████████████████▉            | 376855/453797 [00:17<00:03, 20665.46it/s]\n",
      " 84%|███████████████████████████████████████████████████████████▎           | 379309/453797 [00:17<00:03, 21635.82it/s]\n",
      " 84%|███████████████████████████████████████████████████████████▋           | 381662/453797 [00:17<00:03, 22171.15it/s]\n",
      " 85%|████████████████████████████████████████████████████████████           | 383914/453797 [00:17<00:03, 21632.51it/s]\n",
      " 85%|████████████████████████████████████████████████████████████▍          | 386470/453797 [00:17<00:02, 22618.05it/s]\n",
      " 86%|████████████████████████████████████████████████████████████▊          | 389050/453797 [00:17<00:02, 23423.08it/s]\n",
      " 86%|█████████████████████████████████████████████████████████████▎         | 391517/453797 [00:17<00:02, 23715.11it/s]\n",
      " 87%|█████████████████████████████████████████████████████████████▋         | 394110/453797 [00:18<00:02, 24338.30it/s]\n",
      " 87%|██████████████████████████████████████████████████████████████         | 396563/453797 [00:18<00:02, 24108.26it/s]\n",
      " 88%|██████████████████████████████████████████████████████████████▍        | 399078/453797 [00:18<00:02, 24411.56it/s]\n",
      " 88%|██████████████████████████████████████████████████████████████▊        | 401530/453797 [00:18<00:02, 24155.16it/s]\n",
      " 89%|███████████████████████████████████████████████████████████████▏       | 403954/453797 [00:18<00:02, 23141.50it/s]\n",
      " 90%|███████████████████████████████████████████████████████████████▌       | 406283/453797 [00:18<00:02, 22844.79it/s]\n",
      " 90%|███████████████████████████████████████████████████████████████▉       | 408579/453797 [00:18<00:02, 22608.89it/s]\n",
      " 91%|████████████████████████████████████████████████████████████████▎      | 411077/453797 [00:18<00:01, 23271.55it/s]\n",
      " 91%|████████████████████████████████████████████████████████████████▋      | 413415/453797 [00:18<00:01, 22960.43it/s]\n",
      " 92%|█████████████████████████████████████████████████████████████████      | 415720/453797 [00:19<00:01, 22715.84it/s]\n",
      " 92%|█████████████████████████████████████████████████████████████████▍     | 417999/453797 [00:19<00:01, 22141.29it/s]\n",
      " 93%|█████████████████████████████████████████████████████████████████▋     | 420221/453797 [00:19<00:01, 20679.76it/s]\n",
      " 93%|██████████████████████████████████████████████████████████████████     | 422314/453797 [00:19<00:01, 19371.16it/s]\n",
      " 94%|██████████████████████████████████████████████████████████████████▍    | 424520/453797 [00:19<00:01, 20051.57it/s]\n",
      " 94%|██████████████████████████████████████████████████████████████████▊    | 426910/453797 [00:19<00:01, 21069.31it/s]\n",
      " 95%|███████████████████████████████████████████████████████████████████▏   | 429496/453797 [00:19<00:01, 22251.61it/s]\n",
      " 95%|███████████████████████████████████████████████████████████████████▌   | 431807/453797 [00:19<00:00, 22502.32it/s]\n",
      " 96%|████████████████████████████████████████████████████████████████████   | 434684/453797 [00:19<00:00, 24015.59it/s]\n",
      " 96%|████████████████████████████████████████████████████████████████████▍  | 437135/453797 [00:19<00:00, 24090.72it/s]\n",
      " 97%|████████████████████████████████████████████████████████████████████▊  | 439579/453797 [00:20<00:00, 23840.21it/s]\n",
      " 97%|█████████████████████████████████████████████████████████████████████▏ | 442019/453797 [00:20<00:00, 23934.98it/s]\n",
      " 98%|█████████████████████████████████████████████████████████████████████▌ | 444452/453797 [00:20<00:00, 23981.02it/s]\n",
      " 98%|█████████████████████████████████████████████████████████████████████▉ | 446863/453797 [00:20<00:00, 24019.54it/s]\n",
      " 99%|██████████████████████████████████████████████████████████████████████▎| 449274/453797 [00:20<00:00, 23145.78it/s]\n",
      "100%|███████████████████████████████████████████████████████████████████████| 453797/453797 [00:20<00:00, 21925.74it/s]\n",
      "\n",
      "  0%|                                                                                       | 0/113450 [00:00<?, ?it/s]\n",
      "  2%|█▎                                                                       | 2117/113450 [00:00<00:05, 21169.97it/s]\n",
      "  4%|██▉                                                                      | 4593/113450 [00:00<00:04, 22131.94it/s]\n",
      "  6%|████▍                                                                    | 6898/113450 [00:00<00:04, 22335.10it/s]\n",
      "  8%|█████▊                                                                   | 8991/113450 [00:00<00:04, 21826.05it/s]\n",
      " 10%|███████▏                                                                | 11247/113450 [00:00<00:04, 22041.16it/s]\n",
      " 12%|████████▎                                                               | 13102/113450 [00:00<00:05, 17800.07it/s]\n",
      " 14%|█████████▉                                                              | 15625/113450 [00:00<00:05, 19479.72it/s]\n"
     ]
    },
    {
     "name": "stderr",
     "output_type": "stream",
     "text": [
      " 16%|███████████▍                                                            | 17991/113450 [00:00<00:04, 20516.57it/s]\n",
      " 18%|████████████▊                                                           | 20219/113450 [00:00<00:04, 20956.23it/s]\n",
      " 20%|██████████████▏                                                         | 22312/113450 [00:01<00:04, 20219.77it/s]\n",
      " 22%|███████████████▌                                                        | 24584/113450 [00:01<00:04, 20852.66it/s]\n",
      " 24%|█████████████████▎                                                      | 27250/113450 [00:01<00:03, 22310.54it/s]\n",
      " 26%|██████████████████▋                                                     | 29515/113450 [00:01<00:03, 22019.37it/s]\n",
      " 28%|████████████████████▎                                                   | 32043/113450 [00:01<00:03, 22905.59it/s]\n",
      " 30%|█████████████████████▊                                                  | 34464/113450 [00:01<00:03, 23214.99it/s]\n",
      " 32%|███████████████████████▎                                                | 36805/113450 [00:01<00:03, 22664.77it/s]\n",
      " 34%|████████████████████████▊                                               | 39088/113450 [00:01<00:03, 22379.24it/s]\n",
      " 37%|██████████████████████████▎                                             | 41439/113450 [00:01<00:03, 22642.13it/s]\n",
      " 39%|███████████████████████████▊                                            | 43913/113450 [00:01<00:03, 23167.65it/s]\n",
      " 41%|█████████████████████████████▌                                          | 46575/113450 [00:02<00:02, 24040.43it/s]\n",
      " 43%|███████████████████████████████▏                                        | 49162/113450 [00:02<00:02, 24491.91it/s]\n",
      " 46%|████████████████████████████████▊                                       | 51624/113450 [00:02<00:02, 24530.06it/s]\n",
      " 48%|██████████████████████████████████▎                                     | 54141/113450 [00:02<00:02, 24646.05it/s]\n",
      " 50%|███████████████████████████████████▉                                    | 56612/113450 [00:02<00:02, 24229.71it/s]\n",
      " 52%|█████████████████████████████████████▍                                  | 59041/113450 [00:02<00:02, 23960.80it/s]\n",
      " 54%|██████████████████████████████████████▉                                 | 61442/113450 [00:02<00:02, 19481.74it/s]\n",
      " 56%|████████████████████████████████████████▌                               | 63942/113450 [00:02<00:02, 20863.22it/s]\n",
      " 59%|██████████████████████████████████████████▏                             | 66485/113450 [00:02<00:02, 21994.03it/s]\n",
      " 61%|███████████████████████████████████████████▊                            | 69133/113450 [00:03<00:01, 23171.66it/s]\n",
      " 63%|█████████████████████████████████████████████▍                          | 71547/113450 [00:03<00:01, 23385.80it/s]\n",
      " 65%|███████████████████████████████████████████████                         | 74069/113450 [00:03<00:01, 23907.33it/s]\n",
      " 67%|████████████████████████████████████████████████▌                       | 76507/113450 [00:03<00:01, 23976.26it/s]\n",
      " 70%|██████████████████████████████████████████████████▏                     | 79011/113450 [00:03<00:01, 24285.71it/s]\n",
      " 72%|███████████████████████████████████████████████████▋                    | 81464/113450 [00:03<00:01, 22988.79it/s]\n",
      " 74%|█████████████████████████████████████████████████████▏                  | 83795/113450 [00:03<00:01, 22680.10it/s]\n",
      " 76%|██████████████████████████████████████████████████████▋                 | 86086/113450 [00:03<00:01, 22480.65it/s]\n",
      " 78%|████████████████████████████████████████████████████████▏               | 88556/113450 [00:03<00:01, 23038.93it/s]\n",
      " 80%|█████████████████████████████████████████████████████████▋              | 90908/113450 [00:04<00:00, 23181.06it/s]\n",
      " 82%|███████████████████████████████████████████████████████████▏            | 93237/113450 [00:04<00:00, 22803.88it/s]\n",
      " 84%|████████████████████████████████████████████████████████████▋           | 95614/113450 [00:04<00:00, 23018.83it/s]\n",
      " 86%|██████████████████████████████████████████████████████████████▎         | 98098/113450 [00:04<00:00, 23469.84it/s]\n",
      " 89%|██████████████████████████████████████████████████████████████▊        | 100452/113450 [00:04<00:00, 23351.09it/s]\n",
      " 91%|████████████████████████████████████████████████████████████████▎      | 102793/113450 [00:04<00:00, 23299.04it/s]\n",
      " 93%|█████████████████████████████████████████████████████████████████▊     | 105127/113450 [00:04<00:00, 22437.29it/s]\n",
      " 95%|███████████████████████████████████████████████████████████████████▎   | 107478/113450 [00:04<00:00, 22747.78it/s]\n",
      " 97%|████████████████████████████████████████████████████████████████████▋  | 109761/113450 [00:04<00:00, 19706.54it/s]\n",
      "100%|███████████████████████████████████████████████████████████████████████| 113450/113450 [00:05<00:00, 22474.25it/s]\n"
     ]
    }
   ],
   "source": [
    "def page_rank(index, dataset):\n",
    "    node1 = dataset['Node1'][index]\n",
    "    node2 = dataset['Node2'][index]\n",
    "    if (node1 in neighborsDict.keys()) and (node2 in neighborsDict.keys()): \n",
    "        page_rank = (pr[node1] + pr[node2])/2\n",
    "        return page_rank\n",
    "    else: \n",
    "        return 0\n",
    "\n",
    "perf_val_data['page_rank']=list(map(lambda i:page_rank(i, training), \n",
    "                                    tqdm(perf_val_data['original_index'], position=0, leave=True)))\n",
    "perf_test_data['page_rank']=list(map(lambda i:page_rank(i, testing), \n",
    "                                     tqdm(perf_test_data['original_index'], position=0, leave=True)))"
   ]
  },
  {
   "cell_type": "code",
   "execution_count": 51,
   "metadata": {},
   "outputs": [
    {
     "name": "stderr",
     "output_type": "stream",
     "text": [
      "100%|█████████████████████████████████████████████████████████████████████████| 453797/453797 [13:23<00:00, 564.64it/s]\n",
      "100%|█████████████████████████████████████████████████████████████████████████| 113450/113450 [03:12<00:00, 590.67it/s]\n"
     ]
    }
   ],
   "source": [
    "def adamic_adar_index(index, dataset):\n",
    "    node1 = dataset['Node1'][index]\n",
    "    node2 = dataset['Node2'][index]\n",
    "    if (node1 in neighborsDict.keys()) and (node2 in neighborsDict.keys()): \n",
    "        return [p for u,v,p in nx.adamic_adar_index(G, [(node1, node2)])][0]\n",
    "    else:\n",
    "        return 0\n",
    "\n",
    "perf_val_data['adamic_adar_index']=list(map(lambda i:adamic_adar_index(i, training), \n",
    "                                              tqdm(perf_val_data['original_index'], position=0, leave=True)))\n",
    "perf_test_data['adamic_adar_index']=list(map(lambda i:adamic_adar_index(i, testing), \n",
    "                                               tqdm(perf_test_data['original_index'], position=0, leave=True)))"
   ]
  },
  {
   "cell_type": "code",
   "execution_count": 52,
   "metadata": {},
   "outputs": [
    {
     "name": "stderr",
     "output_type": "stream",
     "text": [
      "100%|█████████████████████████████████████████████████████████████████████████| 453797/453797 [12:06<00:00, 624.97it/s]\n",
      "100%|█████████████████████████████████████████████████████████████████████████| 113450/113450 [02:42<00:00, 697.08it/s]\n"
     ]
    }
   ],
   "source": [
    "def resource_allocation_index(index, dataset):\n",
    "    node1 = dataset['Node1'][index]\n",
    "    node2 = dataset['Node2'][index]\n",
    "    if (node1 in neighborsDict.keys()) and (node2 in neighborsDict.keys()): \n",
    "        return [p for u,v,p in nx.resource_allocation_index(G, [(node1, node2)])][0]\n",
    "    else:\n",
    "        return 0\n",
    "\n",
    "perf_val_data['resource_allocation_index']=list(map(lambda i:resource_allocation_index(i, training), \n",
    "                                              tqdm(perf_val_data['original_index'], position=0, leave=True)))\n",
    "perf_test_data['resource_allocation_index']=list(map(lambda i:resource_allocation_index(i, testing), \n",
    "                                               tqdm(perf_test_data['original_index'], position=0, leave=True)))"
   ]
  },
  {
   "cell_type": "code",
   "execution_count": 53,
   "metadata": {},
   "outputs": [
    {
     "name": "stderr",
     "output_type": "stream",
     "text": [
      "100%|███████████████████████████████████████████████████████████████████████| 453797/453797 [00:27<00:00, 16474.16it/s]\n",
      "100%|███████████████████████████████████████████████████████████████████████| 113450/113450 [00:06<00:00, 18146.29it/s]\n"
     ]
    }
   ],
   "source": [
    "def preferential_attachment(index, dataset):\n",
    "    node1 = dataset['Node1'][index]\n",
    "    node2 = dataset['Node2'][index]\n",
    "    if (node1 in neighborsDict.keys()) and (node2 in neighborsDict.keys()): \n",
    "        return [p for u,v,p in nx.preferential_attachment(G, [(node1, node2)])][0]\n",
    "    else:\n",
    "        return 0\n",
    "\n",
    "perf_val_data['preferential_attachment']=list(map(lambda i:preferential_attachment(i, training), \n",
    "                                              tqdm(perf_val_data['original_index'], position=0, leave=True)))\n",
    "perf_test_data['preferential_attachment']=list(map(lambda i:preferential_attachment(i, testing), \n",
    "                                               tqdm(perf_test_data['original_index'], position=0, leave=True)))"
   ]
  },
  {
   "cell_type": "code",
   "execution_count": 54,
   "metadata": {},
   "outputs": [],
   "source": [
    "d_columns = ['original_index', 'Link', 'Node1', 'Node2']\n",
    "cols = [i for i in perf_val_data.columns if i not in d_columns]\n",
    "X = perf_val_data[cols]\n",
    "y = perf_val_data['Link']\n",
    "y = list(map(lambda i: int(i), y))"
   ]
  },
  {
   "cell_type": "code",
   "execution_count": 56,
   "metadata": {
    "collapsed": true
   },
   "outputs": [
    {
     "data": {
      "text/html": [
       "<div>\n",
       "<style scoped>\n",
       "    .dataframe tbody tr th:only-of-type {\n",
       "        vertical-align: middle;\n",
       "    }\n",
       "\n",
       "    .dataframe tbody tr th {\n",
       "        vertical-align: top;\n",
       "    }\n",
       "\n",
       "    .dataframe thead th {\n",
       "        text-align: right;\n",
       "    }\n",
       "</style>\n",
       "<table border=\"1\" class=\"dataframe\">\n",
       "  <thead>\n",
       "    <tr style=\"text-align: right;\">\n",
       "      <th></th>\n",
       "      <th>Node1</th>\n",
       "      <th>Node2</th>\n",
       "      <th>Link</th>\n",
       "      <th>original_index</th>\n",
       "      <th>tfidf_similarity</th>\n",
       "      <th>languages_similarity</th>\n",
       "      <th>joint_length</th>\n",
       "      <th>file_distance</th>\n",
       "      <th>common_neighbors</th>\n",
       "      <th>jaccard_coefficient</th>\n",
       "      <th>shortest_path</th>\n",
       "      <th>page_rank</th>\n",
       "      <th>adamic_adar_index</th>\n",
       "      <th>resource_allocation_index</th>\n",
       "      <th>preferential_attachment</th>\n",
       "    </tr>\n",
       "  </thead>\n",
       "  <tbody>\n",
       "    <tr>\n",
       "      <th>0</th>\n",
       "      <td>10481</td>\n",
       "      <td>5428</td>\n",
       "      <td>1</td>\n",
       "      <td>0</td>\n",
       "      <td>0.000308</td>\n",
       "      <td>0.055556</td>\n",
       "      <td>1076900</td>\n",
       "      <td>5053</td>\n",
       "      <td>1</td>\n",
       "      <td>0.005618</td>\n",
       "      <td>2</td>\n",
       "      <td>0.000106</td>\n",
       "      <td>0.192569</td>\n",
       "      <td>0.005556</td>\n",
       "      <td>7018</td>\n",
       "    </tr>\n",
       "    <tr>\n",
       "      <th>1</th>\n",
       "      <td>7353</td>\n",
       "      <td>30328</td>\n",
       "      <td>0</td>\n",
       "      <td>1</td>\n",
       "      <td>0.123736</td>\n",
       "      <td>0.104021</td>\n",
       "      <td>45677783</td>\n",
       "      <td>22975</td>\n",
       "      <td>0</td>\n",
       "      <td>0.000000</td>\n",
       "      <td>4</td>\n",
       "      <td>0.000016</td>\n",
       "      <td>0.000000</td>\n",
       "      <td>0.000000</td>\n",
       "      <td>36</td>\n",
       "    </tr>\n",
       "    <tr>\n",
       "      <th>2</th>\n",
       "      <td>8627</td>\n",
       "      <td>3547</td>\n",
       "      <td>1</td>\n",
       "      <td>2</td>\n",
       "      <td>0.106884</td>\n",
       "      <td>0.111662</td>\n",
       "      <td>1095230514</td>\n",
       "      <td>5080</td>\n",
       "      <td>4</td>\n",
       "      <td>0.005979</td>\n",
       "      <td>2</td>\n",
       "      <td>0.000362</td>\n",
       "      <td>0.605220</td>\n",
       "      <td>0.006253</td>\n",
       "      <td>24130</td>\n",
       "    </tr>\n",
       "    <tr>\n",
       "      <th>3</th>\n",
       "      <td>10232</td>\n",
       "      <td>21925</td>\n",
       "      <td>1</td>\n",
       "      <td>3</td>\n",
       "      <td>0.018472</td>\n",
       "      <td>0.096078</td>\n",
       "      <td>40659474</td>\n",
       "      <td>11693</td>\n",
       "      <td>0</td>\n",
       "      <td>0.000000</td>\n",
       "      <td>2</td>\n",
       "      <td>0.000673</td>\n",
       "      <td>0.000000</td>\n",
       "      <td>0.000000</td>\n",
       "      <td>1368</td>\n",
       "    </tr>\n",
       "    <tr>\n",
       "      <th>4</th>\n",
       "      <td>7110</td>\n",
       "      <td>3288</td>\n",
       "      <td>1</td>\n",
       "      <td>4</td>\n",
       "      <td>0.000000</td>\n",
       "      <td>0.000000</td>\n",
       "      <td>1367817</td>\n",
       "      <td>3822</td>\n",
       "      <td>0</td>\n",
       "      <td>0.000000</td>\n",
       "      <td>2</td>\n",
       "      <td>0.000045</td>\n",
       "      <td>0.000000</td>\n",
       "      <td>0.000000</td>\n",
       "      <td>624</td>\n",
       "    </tr>\n",
       "    <tr>\n",
       "      <th>...</th>\n",
       "      <td>...</td>\n",
       "      <td>...</td>\n",
       "      <td>...</td>\n",
       "      <td>...</td>\n",
       "      <td>...</td>\n",
       "      <td>...</td>\n",
       "      <td>...</td>\n",
       "      <td>...</td>\n",
       "      <td>...</td>\n",
       "      <td>...</td>\n",
       "      <td>...</td>\n",
       "      <td>...</td>\n",
       "      <td>...</td>\n",
       "      <td>...</td>\n",
       "      <td>...</td>\n",
       "    </tr>\n",
       "    <tr>\n",
       "      <th>453792</th>\n",
       "      <td>11186</td>\n",
       "      <td>4520</td>\n",
       "      <td>0</td>\n",
       "      <td>453792</td>\n",
       "      <td>0.000499</td>\n",
       "      <td>0.018232</td>\n",
       "      <td>1536599835</td>\n",
       "      <td>6666</td>\n",
       "      <td>2</td>\n",
       "      <td>0.007905</td>\n",
       "      <td>3</td>\n",
       "      <td>0.000157</td>\n",
       "      <td>0.428844</td>\n",
       "      <td>0.041824</td>\n",
       "      <td>2684</td>\n",
       "    </tr>\n",
       "    <tr>\n",
       "      <th>453793</th>\n",
       "      <td>12892</td>\n",
       "      <td>31446</td>\n",
       "      <td>0</td>\n",
       "      <td>453793</td>\n",
       "      <td>0.141404</td>\n",
       "      <td>0.167155</td>\n",
       "      <td>89546532</td>\n",
       "      <td>18554</td>\n",
       "      <td>0</td>\n",
       "      <td>0.000000</td>\n",
       "      <td>4</td>\n",
       "      <td>0.000022</td>\n",
       "      <td>0.000000</td>\n",
       "      <td>0.000000</td>\n",
       "      <td>80</td>\n",
       "    </tr>\n",
       "    <tr>\n",
       "      <th>453794</th>\n",
       "      <td>16857</td>\n",
       "      <td>23822</td>\n",
       "      <td>0</td>\n",
       "      <td>453794</td>\n",
       "      <td>0.107300</td>\n",
       "      <td>0.152658</td>\n",
       "      <td>355052800</td>\n",
       "      <td>6965</td>\n",
       "      <td>1</td>\n",
       "      <td>0.058824</td>\n",
       "      <td>3</td>\n",
       "      <td>0.000018</td>\n",
       "      <td>0.156530</td>\n",
       "      <td>0.001681</td>\n",
       "      <td>81</td>\n",
       "    </tr>\n",
       "    <tr>\n",
       "      <th>453795</th>\n",
       "      <td>5520</td>\n",
       "      <td>6394</td>\n",
       "      <td>1</td>\n",
       "      <td>453795</td>\n",
       "      <td>0.282119</td>\n",
       "      <td>0.160058</td>\n",
       "      <td>2140911864</td>\n",
       "      <td>874</td>\n",
       "      <td>1</td>\n",
       "      <td>0.004854</td>\n",
       "      <td>2</td>\n",
       "      <td>0.000122</td>\n",
       "      <td>0.203556</td>\n",
       "      <td>0.007353</td>\n",
       "      <td>4706</td>\n",
       "    </tr>\n",
       "    <tr>\n",
       "      <th>453796</th>\n",
       "      <td>20318</td>\n",
       "      <td>28571</td>\n",
       "      <td>0</td>\n",
       "      <td>453796</td>\n",
       "      <td>0.008070</td>\n",
       "      <td>0.118331</td>\n",
       "      <td>75866610</td>\n",
       "      <td>8253</td>\n",
       "      <td>0</td>\n",
       "      <td>0.000000</td>\n",
       "      <td>5</td>\n",
       "      <td>0.000017</td>\n",
       "      <td>0.000000</td>\n",
       "      <td>0.000000</td>\n",
       "      <td>16</td>\n",
       "    </tr>\n",
       "  </tbody>\n",
       "</table>\n",
       "<p>453797 rows × 15 columns</p>\n",
       "</div>"
      ],
      "text/plain": [
       "        Node1  Node2 Link  original_index  tfidf_similarity  \\\n",
       "0       10481   5428    1               0          0.000308   \n",
       "1        7353  30328    0               1          0.123736   \n",
       "2        8627   3547    1               2          0.106884   \n",
       "3       10232  21925    1               3          0.018472   \n",
       "4        7110   3288    1               4          0.000000   \n",
       "...       ...    ...  ...             ...               ...   \n",
       "453792  11186   4520    0          453792          0.000499   \n",
       "453793  12892  31446    0          453793          0.141404   \n",
       "453794  16857  23822    0          453794          0.107300   \n",
       "453795   5520   6394    1          453795          0.282119   \n",
       "453796  20318  28571    0          453796          0.008070   \n",
       "\n",
       "        languages_similarity  joint_length  file_distance  common_neighbors  \\\n",
       "0                   0.055556       1076900           5053                 1   \n",
       "1                   0.104021      45677783          22975                 0   \n",
       "2                   0.111662    1095230514           5080                 4   \n",
       "3                   0.096078      40659474          11693                 0   \n",
       "4                   0.000000       1367817           3822                 0   \n",
       "...                      ...           ...            ...               ...   \n",
       "453792              0.018232    1536599835           6666                 2   \n",
       "453793              0.167155      89546532          18554                 0   \n",
       "453794              0.152658     355052800           6965                 1   \n",
       "453795              0.160058    2140911864            874                 1   \n",
       "453796              0.118331      75866610           8253                 0   \n",
       "\n",
       "        jaccard_coefficient  shortest_path  page_rank  adamic_adar_index  \\\n",
       "0                  0.005618              2   0.000106           0.192569   \n",
       "1                  0.000000              4   0.000016           0.000000   \n",
       "2                  0.005979              2   0.000362           0.605220   \n",
       "3                  0.000000              2   0.000673           0.000000   \n",
       "4                  0.000000              2   0.000045           0.000000   \n",
       "...                     ...            ...        ...                ...   \n",
       "453792             0.007905              3   0.000157           0.428844   \n",
       "453793             0.000000              4   0.000022           0.000000   \n",
       "453794             0.058824              3   0.000018           0.156530   \n",
       "453795             0.004854              2   0.000122           0.203556   \n",
       "453796             0.000000              5   0.000017           0.000000   \n",
       "\n",
       "        resource_allocation_index  preferential_attachment  \n",
       "0                        0.005556                     7018  \n",
       "1                        0.000000                       36  \n",
       "2                        0.006253                    24130  \n",
       "3                        0.000000                     1368  \n",
       "4                        0.000000                      624  \n",
       "...                           ...                      ...  \n",
       "453792                   0.041824                     2684  \n",
       "453793                   0.000000                       80  \n",
       "453794                   0.001681                       81  \n",
       "453795                   0.007353                     4706  \n",
       "453796                   0.000000                       16  \n",
       "\n",
       "[453797 rows x 15 columns]"
      ]
     },
     "execution_count": 56,
     "metadata": {},
     "output_type": "execute_result"
    }
   ],
   "source": [
    "perf_val_data"
   ]
  },
  {
   "cell_type": "code",
   "execution_count": 55,
   "metadata": {},
   "outputs": [
    {
     "name": "stderr",
     "output_type": "stream",
     "text": [
      "C:\\Users\\fvice\\Miniconda3\\envs\\map572\\lib\\site-packages\\sklearn\\linear_model\\logistic.py:432: FutureWarning: Default solver will be changed to 'lbfgs' in 0.22. Specify a solver to silence this warning.\n",
      "  FutureWarning)\n",
      "C:\\Users\\fvice\\Miniconda3\\envs\\map572\\lib\\site-packages\\sklearn\\ensemble\\forest.py:245: FutureWarning: The default value of n_estimators will change from 10 in version 0.20 to 100 in 0.22.\n",
      "  \"10 in version 0.20 to 100 in 0.22.\", FutureWarning)\n"
     ]
    },
    {
     "data": {
      "text/html": [
       "<div>\n",
       "<style scoped>\n",
       "    .dataframe tbody tr th:only-of-type {\n",
       "        vertical-align: middle;\n",
       "    }\n",
       "\n",
       "    .dataframe tbody tr th {\n",
       "        vertical-align: top;\n",
       "    }\n",
       "\n",
       "    .dataframe thead th {\n",
       "        text-align: right;\n",
       "    }\n",
       "</style>\n",
       "<table border=\"1\" class=\"dataframe\">\n",
       "  <thead>\n",
       "    <tr style=\"text-align: right;\">\n",
       "      <th></th>\n",
       "      <th>LR</th>\n",
       "      <th>RF</th>\n",
       "      <th>LGBM</th>\n",
       "    </tr>\n",
       "  </thead>\n",
       "  <tbody>\n",
       "    <tr>\n",
       "      <th>F1</th>\n",
       "      <td>0.7692</td>\n",
       "      <td>0.9999</td>\n",
       "      <td>0.9994</td>\n",
       "    </tr>\n",
       "    <tr>\n",
       "      <th>Accuracy</th>\n",
       "      <td>0.6249</td>\n",
       "      <td>0.9999</td>\n",
       "      <td>0.9993</td>\n",
       "    </tr>\n",
       "  </tbody>\n",
       "</table>\n",
       "</div>"
      ],
      "text/plain": [
       "              LR      RF    LGBM\n",
       "F1        0.7692  0.9999  0.9994\n",
       "Accuracy  0.6249  0.9999  0.9993"
      ]
     },
     "execution_count": 55,
     "metadata": {},
     "output_type": "execute_result"
    }
   ],
   "source": [
    "X_train, X_test, y_train, y_test = train_test_split(X, y, test_size=0.15, random_state=1)\n",
    "simpler_multi_classifier(X_train, X_test, y_train, y_test)"
   ]
  },
  {
   "cell_type": "markdown",
   "metadata": {},
   "source": [
    "## Feature Importance"
   ]
  },
  {
   "cell_type": "code",
   "execution_count": 60,
   "metadata": {},
   "outputs": [
    {
     "name": "stdout",
     "output_type": "stream",
     "text": [
      "0.9994475462826918\n"
     ]
    }
   ],
   "source": [
    "lgbm = lightgbm.LGBMClassifier()\n",
    "model_lgbm = lgbm.fit(X_train, y_train)\n",
    "predictions = model_lgbm.predict(X_test)\n",
    "print(f1_score(y_test, np.round(predictions)))"
   ]
  },
  {
   "cell_type": "code",
   "execution_count": 58,
   "metadata": {},
   "outputs": [],
   "source": [
    "features = pd.DataFrame()\n",
    "features['feature'] = X.columns\n",
    "features['importance'] = model_lgbm.feature_importances_\n",
    "features.sort_values(by=['importance'], ascending=False, inplace=True)\n",
    "features.set_index('feature', inplace=True)"
   ]
  },
  {
   "cell_type": "code",
   "execution_count": 59,
   "metadata": {},
   "outputs": [
    {
     "data": {
      "image/png": "[encoded data removed]",
      "text/plain": [
       "<Figure size 1080x360 with 1 Axes>"
      ]
     },
     "metadata": {
      "needs_background": "light"
     },
     "output_type": "display_data"
    }
   ],
   "source": [
    "importance = np.array(features.values.reshape(-1))\n",
    "importance = list(importance/importance.sum(axis=0,keepdims=1))\n",
    "\n",
    "bars = list(features.index.values)\n",
    "\n",
    "y_pos = np.arange(len(bars))\n",
    "\n",
    "fig, ax = plt.subplots(figsize=(15,5))\n",
    "\n",
    "# Create horizontal bars\n",
    "plt.barh(y_pos, importance)\n",
    "\n",
    "# Create names on the y-axis\n",
    "plt.yticks(y_pos, bars)\n",
    "# Add title\n",
    "plt.title(\"Relative Feature Importances\")\n",
    "\n",
    "# Show graphic\n",
    "plt.show()"
   ]
  },
  {
   "cell_type": "markdown",
   "metadata": {},
   "source": [
    "## Model Comparison"
   ]
  },
  {
   "cell_type": "code",
   "execution_count": 111,
   "metadata": {},
   "outputs": [
    {
     "name": "stdout",
     "output_type": "stream",
     "text": [
      "1\n"
     ]
    },
    {
     "name": "stderr",
     "output_type": "stream",
     "text": [
      "C:\\Users\\fvice\\Miniconda3\\envs\\map572\\lib\\site-packages\\sklearn\\linear_model\\logistic.py:432: FutureWarning: Default solver will be changed to 'lbfgs' in 0.22. Specify a solver to silence this warning.\n",
      "  FutureWarning)\n",
      "C:\\Users\\fvice\\Miniconda3\\envs\\map572\\lib\\site-packages\\sklearn\\svm\\base.py:193: FutureWarning: The default value of gamma will change from 'auto' to 'scale' in version 0.22 to account better for unscaled features. Set gamma explicitly to 'auto' or 'scale' to avoid this warning.\n",
      "  \"avoid this warning.\", FutureWarning)\n",
      "C:\\Users\\fvice\\Miniconda3\\envs\\map572\\lib\\site-packages\\sklearn\\ensemble\\forest.py:245: FutureWarning: The default value of n_estimators will change from 10 in version 0.20 to 100 in 0.22.\n",
      "  \"10 in version 0.20 to 100 in 0.22.\", FutureWarning)\n",
      "C:\\Users\\fvice\\Miniconda3\\envs\\map572\\lib\\site-packages\\sklearn\\neural_network\\multilayer_perceptron.py:566: ConvergenceWarning: Stochastic Optimizer: Maximum iterations (200) reached and the optimization hasn't converged yet.\n",
      "  % self.max_iter, ConvergenceWarning)\n"
     ]
    },
    {
     "name": "stdout",
     "output_type": "stream",
     "text": [
      "2\n"
     ]
    },
    {
     "name": "stderr",
     "output_type": "stream",
     "text": [
      "C:\\Users\\fvice\\Miniconda3\\envs\\map572\\lib\\site-packages\\sklearn\\linear_model\\logistic.py:432: FutureWarning: Default solver will be changed to 'lbfgs' in 0.22. Specify a solver to silence this warning.\n",
      "  FutureWarning)\n",
      "C:\\Users\\fvice\\Miniconda3\\envs\\map572\\lib\\site-packages\\sklearn\\svm\\base.py:193: FutureWarning: The default value of gamma will change from 'auto' to 'scale' in version 0.22 to account better for unscaled features. Set gamma explicitly to 'auto' or 'scale' to avoid this warning.\n",
      "  \"avoid this warning.\", FutureWarning)\n",
      "C:\\Users\\fvice\\Miniconda3\\envs\\map572\\lib\\site-packages\\sklearn\\ensemble\\forest.py:245: FutureWarning: The default value of n_estimators will change from 10 in version 0.20 to 100 in 0.22.\n",
      "  \"10 in version 0.20 to 100 in 0.22.\", FutureWarning)\n",
      "C:\\Users\\fvice\\Miniconda3\\envs\\map572\\lib\\site-packages\\sklearn\\neural_network\\multilayer_perceptron.py:566: ConvergenceWarning: Stochastic Optimizer: Maximum iterations (200) reached and the optimization hasn't converged yet.\n",
      "  % self.max_iter, ConvergenceWarning)\n"
     ]
    },
    {
     "name": "stdout",
     "output_type": "stream",
     "text": [
      "3\n"
     ]
    },
    {
     "name": "stderr",
     "output_type": "stream",
     "text": [
      "C:\\Users\\fvice\\Miniconda3\\envs\\map572\\lib\\site-packages\\sklearn\\linear_model\\logistic.py:432: FutureWarning: Default solver will be changed to 'lbfgs' in 0.22. Specify a solver to silence this warning.\n",
      "  FutureWarning)\n",
      "C:\\Users\\fvice\\Miniconda3\\envs\\map572\\lib\\site-packages\\sklearn\\svm\\base.py:193: FutureWarning: The default value of gamma will change from 'auto' to 'scale' in version 0.22 to account better for unscaled features. Set gamma explicitly to 'auto' or 'scale' to avoid this warning.\n",
      "  \"avoid this warning.\", FutureWarning)\n",
      "C:\\Users\\fvice\\Miniconda3\\envs\\map572\\lib\\site-packages\\sklearn\\ensemble\\forest.py:245: FutureWarning: The default value of n_estimators will change from 10 in version 0.20 to 100 in 0.22.\n",
      "  \"10 in version 0.20 to 100 in 0.22.\", FutureWarning)\n",
      "C:\\Users\\fvice\\Miniconda3\\envs\\map572\\lib\\site-packages\\sklearn\\neural_network\\multilayer_perceptron.py:566: ConvergenceWarning: Stochastic Optimizer: Maximum iterations (200) reached and the optimization hasn't converged yet.\n",
      "  % self.max_iter, ConvergenceWarning)\n"
     ]
    },
    {
     "name": "stdout",
     "output_type": "stream",
     "text": [
      "4\n"
     ]
    },
    {
     "name": "stderr",
     "output_type": "stream",
     "text": [
      "C:\\Users\\fvice\\Miniconda3\\envs\\map572\\lib\\site-packages\\sklearn\\linear_model\\logistic.py:432: FutureWarning: Default solver will be changed to 'lbfgs' in 0.22. Specify a solver to silence this warning.\n",
      "  FutureWarning)\n",
      "C:\\Users\\fvice\\Miniconda3\\envs\\map572\\lib\\site-packages\\sklearn\\svm\\base.py:193: FutureWarning: The default value of gamma will change from 'auto' to 'scale' in version 0.22 to account better for unscaled features. Set gamma explicitly to 'auto' or 'scale' to avoid this warning.\n",
      "  \"avoid this warning.\", FutureWarning)\n",
      "C:\\Users\\fvice\\Miniconda3\\envs\\map572\\lib\\site-packages\\sklearn\\ensemble\\forest.py:245: FutureWarning: The default value of n_estimators will change from 10 in version 0.20 to 100 in 0.22.\n",
      "  \"10 in version 0.20 to 100 in 0.22.\", FutureWarning)\n",
      "C:\\Users\\fvice\\Miniconda3\\envs\\map572\\lib\\site-packages\\sklearn\\neural_network\\multilayer_perceptron.py:566: ConvergenceWarning: Stochastic Optimizer: Maximum iterations (200) reached and the optimization hasn't converged yet.\n",
      "  % self.max_iter, ConvergenceWarning)\n"
     ]
    },
    {
     "name": "stdout",
     "output_type": "stream",
     "text": [
      "5\n"
     ]
    },
    {
     "name": "stderr",
     "output_type": "stream",
     "text": [
      "C:\\Users\\fvice\\Miniconda3\\envs\\map572\\lib\\site-packages\\sklearn\\linear_model\\logistic.py:432: FutureWarning: Default solver will be changed to 'lbfgs' in 0.22. Specify a solver to silence this warning.\n",
      "  FutureWarning)\n",
      "C:\\Users\\fvice\\Miniconda3\\envs\\map572\\lib\\site-packages\\sklearn\\svm\\base.py:193: FutureWarning: The default value of gamma will change from 'auto' to 'scale' in version 0.22 to account better for unscaled features. Set gamma explicitly to 'auto' or 'scale' to avoid this warning.\n",
      "  \"avoid this warning.\", FutureWarning)\n",
      "C:\\Users\\fvice\\Miniconda3\\envs\\map572\\lib\\site-packages\\sklearn\\ensemble\\forest.py:245: FutureWarning: The default value of n_estimators will change from 10 in version 0.20 to 100 in 0.22.\n",
      "  \"10 in version 0.20 to 100 in 0.22.\", FutureWarning)\n",
      "C:\\Users\\fvice\\Miniconda3\\envs\\map572\\lib\\site-packages\\sklearn\\neural_network\\multilayer_perceptron.py:566: ConvergenceWarning: Stochastic Optimizer: Maximum iterations (200) reached and the optimization hasn't converged yet.\n",
      "  % self.max_iter, ConvergenceWarning)\n"
     ]
    },
    {
     "name": "stdout",
     "output_type": "stream",
     "text": [
      "6\n"
     ]
    },
    {
     "name": "stderr",
     "output_type": "stream",
     "text": [
      "C:\\Users\\fvice\\Miniconda3\\envs\\map572\\lib\\site-packages\\sklearn\\linear_model\\logistic.py:432: FutureWarning: Default solver will be changed to 'lbfgs' in 0.22. Specify a solver to silence this warning.\n",
      "  FutureWarning)\n",
      "C:\\Users\\fvice\\Miniconda3\\envs\\map572\\lib\\site-packages\\sklearn\\svm\\base.py:193: FutureWarning: The default value of gamma will change from 'auto' to 'scale' in version 0.22 to account better for unscaled features. Set gamma explicitly to 'auto' or 'scale' to avoid this warning.\n",
      "  \"avoid this warning.\", FutureWarning)\n",
      "C:\\Users\\fvice\\Miniconda3\\envs\\map572\\lib\\site-packages\\sklearn\\ensemble\\forest.py:245: FutureWarning: The default value of n_estimators will change from 10 in version 0.20 to 100 in 0.22.\n",
      "  \"10 in version 0.20 to 100 in 0.22.\", FutureWarning)\n",
      "C:\\Users\\fvice\\Miniconda3\\envs\\map572\\lib\\site-packages\\sklearn\\neural_network\\multilayer_perceptron.py:566: ConvergenceWarning: Stochastic Optimizer: Maximum iterations (200) reached and the optimization hasn't converged yet.\n",
      "  % self.max_iter, ConvergenceWarning)\n"
     ]
    },
    {
     "name": "stdout",
     "output_type": "stream",
     "text": [
      "7\n"
     ]
    },
    {
     "name": "stderr",
     "output_type": "stream",
     "text": [
      "C:\\Users\\fvice\\Miniconda3\\envs\\map572\\lib\\site-packages\\sklearn\\linear_model\\logistic.py:432: FutureWarning: Default solver will be changed to 'lbfgs' in 0.22. Specify a solver to silence this warning.\n",
      "  FutureWarning)\n",
      "C:\\Users\\fvice\\Miniconda3\\envs\\map572\\lib\\site-packages\\sklearn\\svm\\base.py:193: FutureWarning: The default value of gamma will change from 'auto' to 'scale' in version 0.22 to account better for unscaled features. Set gamma explicitly to 'auto' or 'scale' to avoid this warning.\n",
      "  \"avoid this warning.\", FutureWarning)\n",
      "C:\\Users\\fvice\\Miniconda3\\envs\\map572\\lib\\site-packages\\sklearn\\ensemble\\forest.py:245: FutureWarning: The default value of n_estimators will change from 10 in version 0.20 to 100 in 0.22.\n",
      "  \"10 in version 0.20 to 100 in 0.22.\", FutureWarning)\n",
      "C:\\Users\\fvice\\Miniconda3\\envs\\map572\\lib\\site-packages\\sklearn\\neural_network\\multilayer_perceptron.py:566: ConvergenceWarning: Stochastic Optimizer: Maximum iterations (200) reached and the optimization hasn't converged yet.\n",
      "  % self.max_iter, ConvergenceWarning)\n"
     ]
    },
    {
     "name": "stdout",
     "output_type": "stream",
     "text": [
      "8\n"
     ]
    },
    {
     "name": "stderr",
     "output_type": "stream",
     "text": [
      "C:\\Users\\fvice\\Miniconda3\\envs\\map572\\lib\\site-packages\\sklearn\\linear_model\\logistic.py:432: FutureWarning: Default solver will be changed to 'lbfgs' in 0.22. Specify a solver to silence this warning.\n",
      "  FutureWarning)\n",
      "C:\\Users\\fvice\\Miniconda3\\envs\\map572\\lib\\site-packages\\sklearn\\svm\\base.py:193: FutureWarning: The default value of gamma will change from 'auto' to 'scale' in version 0.22 to account better for unscaled features. Set gamma explicitly to 'auto' or 'scale' to avoid this warning.\n",
      "  \"avoid this warning.\", FutureWarning)\n",
      "C:\\Users\\fvice\\Miniconda3\\envs\\map572\\lib\\site-packages\\sklearn\\ensemble\\forest.py:245: FutureWarning: The default value of n_estimators will change from 10 in version 0.20 to 100 in 0.22.\n",
      "  \"10 in version 0.20 to 100 in 0.22.\", FutureWarning)\n",
      "C:\\Users\\fvice\\Miniconda3\\envs\\map572\\lib\\site-packages\\sklearn\\neural_network\\multilayer_perceptron.py:566: ConvergenceWarning: Stochastic Optimizer: Maximum iterations (200) reached and the optimization hasn't converged yet.\n",
      "  % self.max_iter, ConvergenceWarning)\n"
     ]
    },
    {
     "name": "stdout",
     "output_type": "stream",
     "text": [
      "9\n"
     ]
    },
    {
     "name": "stderr",
     "output_type": "stream",
     "text": [
      "C:\\Users\\fvice\\Miniconda3\\envs\\map572\\lib\\site-packages\\sklearn\\linear_model\\logistic.py:432: FutureWarning: Default solver will be changed to 'lbfgs' in 0.22. Specify a solver to silence this warning.\n",
      "  FutureWarning)\n",
      "C:\\Users\\fvice\\Miniconda3\\envs\\map572\\lib\\site-packages\\sklearn\\svm\\base.py:193: FutureWarning: The default value of gamma will change from 'auto' to 'scale' in version 0.22 to account better for unscaled features. Set gamma explicitly to 'auto' or 'scale' to avoid this warning.\n",
      "  \"avoid this warning.\", FutureWarning)\n",
      "C:\\Users\\fvice\\Miniconda3\\envs\\map572\\lib\\site-packages\\sklearn\\ensemble\\forest.py:245: FutureWarning: The default value of n_estimators will change from 10 in version 0.20 to 100 in 0.22.\n",
      "  \"10 in version 0.20 to 100 in 0.22.\", FutureWarning)\n",
      "C:\\Users\\fvice\\Miniconda3\\envs\\map572\\lib\\site-packages\\sklearn\\neural_network\\multilayer_perceptron.py:566: ConvergenceWarning: Stochastic Optimizer: Maximum iterations (200) reached and the optimization hasn't converged yet.\n",
      "  % self.max_iter, ConvergenceWarning)\n"
     ]
    },
    {
     "name": "stdout",
     "output_type": "stream",
     "text": [
      "10\n"
     ]
    },
    {
     "name": "stderr",
     "output_type": "stream",
     "text": [
      "C:\\Users\\fvice\\Miniconda3\\envs\\map572\\lib\\site-packages\\sklearn\\linear_model\\logistic.py:432: FutureWarning: Default solver will be changed to 'lbfgs' in 0.22. Specify a solver to silence this warning.\n",
      "  FutureWarning)\n",
      "C:\\Users\\fvice\\Miniconda3\\envs\\map572\\lib\\site-packages\\sklearn\\svm\\base.py:193: FutureWarning: The default value of gamma will change from 'auto' to 'scale' in version 0.22 to account better for unscaled features. Set gamma explicitly to 'auto' or 'scale' to avoid this warning.\n",
      "  \"avoid this warning.\", FutureWarning)\n",
      "C:\\Users\\fvice\\Miniconda3\\envs\\map572\\lib\\site-packages\\sklearn\\ensemble\\forest.py:245: FutureWarning: The default value of n_estimators will change from 10 in version 0.20 to 100 in 0.22.\n",
      "  \"10 in version 0.20 to 100 in 0.22.\", FutureWarning)\n",
      "C:\\Users\\fvice\\Miniconda3\\envs\\map572\\lib\\site-packages\\sklearn\\neural_network\\multilayer_perceptron.py:566: ConvergenceWarning: Stochastic Optimizer: Maximum iterations (200) reached and the optimization hasn't converged yet.\n",
      "  % self.max_iter, ConvergenceWarning)\n"
     ]
    }
   ],
   "source": [
    "boucle = 10\n",
    "errors = np.empty((10,7))\n",
    "\n",
    "error_list = []\n",
    "for i in range(boucle):\n",
    "    print(i+1)\n",
    "    X_train, X_test, y_train, y_test = train_test_split(X, y, test_size=0.4)\n",
    "    error_list.append(multi_classifier(X_train, X_test, y_train, y_test))\n",
    "    \n",
    "error_df = pd.concat(error_list)"
   ]
  },
  {
   "cell_type": "code",
   "execution_count": 112,
   "metadata": {},
   "outputs": [
    {
     "data": {
      "text/plain": [
       "Text(0.5, 1.0, 'F1 Score')"
      ]
     },
     "execution_count": 112,
     "metadata": {},
     "output_type": "execute_result"
    },
    {
     "data": {
      "image/png": "[encoded data removed]",
      "text/plain": [
       "<Figure size 1152x648 with 1 Axes>"
      ]
     },
     "metadata": {
      "needs_background": "light"
     },
     "output_type": "display_data"
    }
   ],
   "source": [
    "fig, ax = plt.subplots(figsize=(16,9))\n",
    "x_plot = list(error_df.columns.values) * 10\n",
    "y_plot = list(error_df.loc['F1'].values.reshape(-1))\n",
    "sns.boxplot(x_plot, y_plot, linewidth=2)\n",
    "plt.title(\"F1 Score\")"
   ]
  },
  {
   "cell_type": "markdown",
   "metadata": {},
   "source": [
    "## Prediction"
   ]
  },
  {
   "cell_type": "code",
   "execution_count": 61,
   "metadata": {},
   "outputs": [],
   "source": [
    "d_columns = ['original_index', 'Node1', 'Node2']\n",
    "cols = [i for i in perf_test_data.columns if i not in d_columns]\n",
    "\n",
    "model = lightgbm.LGBMClassifier()\n",
    "model = model.fit(X, y)\n",
    "test = perf_test_data[cols]\n",
    "predictions = model.predict(test)"
   ]
  },
  {
   "cell_type": "code",
   "execution_count": 62,
   "metadata": {},
   "outputs": [],
   "source": [
    "final_pred = pd.concat([perf_test_data['original_index'], pd.DataFrame(predictions)],axis=1)\n",
    "final_pred.columns = ['id', 'predicted']\n",
    "with open(\"full_train_prediction.csv\",\"+w\") as pred:\n",
    "    csv_out = csv.writer(pred)\n",
    "    csv_out.writerow(['id','predicted'])\n",
    "    for index, row in final_pred.iterrows():\n",
    "        csv_out.writerow(row)"
   ]
  },
  {
   "cell_type": "markdown",
   "metadata": {},
   "source": [
    "## Hyperparameter Tuning"
   ]
  },
  {
   "cell_type": "code",
   "execution_count": 29,
   "metadata": {},
   "outputs": [],
   "source": [
    "def evalerror(preds, dtrain):\n",
    "    labels = dtrain.get_label()\n",
    "    pred_label = np.round(preds)\n",
    "    f_score = f1_score(pred_label, labels)\n",
    "    return 'f1_score', f_score, True\n",
    "\n",
    "def hyperopt(X, y, params):\n",
    "    \n",
    "    X_train, X_val, y_train, y_val = train_test_split(X, y, test_size=0.5, random_state=0)\n",
    "    train_data = lightgbm.Dataset(X_train, label=y_train)\n",
    "    valid_data = lightgbm.Dataset(X_val, label=y_val)\n",
    "\n",
    "    space = {\n",
    "        \"learning_rate\": hp.loguniform(\"learning_rate\", np.log(0.01), np.log(0.5)),\n",
    "        \"max_depth\": hp.choice(\"max_depth\", [3, 4, 5, 6, 7]),\n",
    "        \"num_leaves\": hp.choice(\"num_leaves\", np.linspace(10, 200, 50, dtype=int)),\n",
    "        \"feature_fraction\": hp.quniform(\"feature_fraction\", 0.6, 1.0, 0.1),\n",
    "        \"reg_alpha\": hp.uniform(\"reg_alpha\", 0, 2),\n",
    "        \"reg_lambda\": hp.uniform(\"reg_lambda\", 0, 2),\n",
    "        \"min_child_weight\": hp.uniform('min_child_weight', 0.5, 10),\n",
    "    }\n",
    "\n",
    "    def objective(hyperparams):\n",
    "        model = lightgbm.train({**params, **hyperparams}, train_data, 300, \n",
    "                               valid_data, early_stopping_rounds=30, verbose_eval=0, feval = evalerror)\n",
    "\n",
    "        score = model.best_score[\"valid_0\"]['f1_score']\n",
    "        return {'loss': -score, 'status': STATUS_OK}\n",
    "\n",
    "    trials = Trials()\n",
    "    best = fmin(fn=objective, space=space, trials=trials,\n",
    "                algo=tpe.suggest, max_evals=10, verbose=1,\n",
    "                rstate=np.random.RandomState(1))\n",
    "\n",
    "    hyperparams = space_eval(space, best)\n",
    "\n",
    "    print(f\"auc = {-trials.best_trial['result']['loss']:0.4f} {hyperparams}\")\n",
    "\n",
    "    return hyperparams\n"
   ]
  },
  {
   "cell_type": "code",
   "execution_count": 30,
   "metadata": {},
   "outputs": [
    {
     "name": "stdout",
     "output_type": "stream",
     "text": [
      "100%|██████████████████████████████████████████████████| 10/10 [00:21<00:00,  2.20s/it, best loss: -0.9360667129951356]\n",
      "auc = 0.9361 {'feature_fraction': 1.0, 'learning_rate': 0.06884784274135033, 'max_depth': 6, 'min_child_weight': 3.5562675698370647, 'num_leaves': 153, 'reg_alpha': 0.12330346362844646, 'reg_lambda': 1.4052899848887177}\n"
     ]
    }
   ],
   "source": [
    "params = {\n",
    "    \"objective\": \"binary\",\n",
    "    \"metric\": 'f1_score',\n",
    "    \"verbosity\": -1,\n",
    "    \"seed\": 1,\n",
    "    \"num_threads\": 4\n",
    "}\n",
    "hyperparams = hyperopt(X, y, params)"
   ]
  },
  {
   "cell_type": "code",
   "execution_count": 26,
   "metadata": {},
   "outputs": [
    {
     "name": "stdout",
     "output_type": "stream",
     "text": [
      "Training until validation scores don't improve for 100 rounds\n",
      "[100]\tvalid_0's f1_score: 0.934259\n",
      "[200]\tvalid_0's f1_score: 0.93389\n",
      "Early stopping, best iteration is:\n",
      "[167]\tvalid_0's f1_score: 0.935312\n",
      "0.9353118479016925\n"
     ]
    }
   ],
   "source": [
    "X_train, X_test, y_train, y_test = train_test_split(X, y, test_size=0.15)\n",
    "\n",
    "train_data = lightgbm.Dataset(X_train, label=y_train)\n",
    "valid_data = lightgbm.Dataset(X_test, label=y_test)\n",
    "\n",
    "model = lightgbm.train({**params, **hyperparams}, train_data, 5000,\n",
    "                       valid_data, early_stopping_rounds=100, verbose_eval=100, feval = evalerror)\n",
    "\n",
    "predictions = model.predict(X_test)\n",
    "print(f1_score(y_test, np.round(predictions)))"
   ]
  },
  {
   "cell_type": "code",
   "execution_count": 27,
   "metadata": {},
   "outputs": [],
   "source": [
    "d_columns = ['original_index', 'Node1', 'Node2']\n",
    "cols = [i for i in perf_test_data.columns if i not in d_columns]\n",
    "\n",
    "model = lightgbm.LGBMClassifier(**hyperparams)\n",
    "model = model.fit(X, y, eval_metric = evalerror)\n",
    "test = perf_test_data[cols]\n",
    "predictions = model.predict(test)"
   ]
  },
  {
   "cell_type": "code",
   "execution_count": 28,
   "metadata": {},
   "outputs": [],
   "source": [
    "final_pred = pd.concat([perf_test_data['original_index'], pd.DataFrame(predictions)],axis=1)\n",
    "final_pred.columns = ['id', 'predicted']\n",
    "with open(\"distance_prediction2.csv\",\"+w\") as pred:\n",
    "    csv_out = csv.writer(pred)\n",
    "    csv_out.writerow(['id','predicted'])\n",
    "    for index, row in final_pred.iterrows():\n",
    "        csv_out.writerow(row)"
   ]
  },
  {
   "cell_type": "code",
   "execution_count": null,
   "metadata": {},
   "outputs": [],
   "source": []
  }
 ],
 "metadata": {
  "kernelspec": {
   "display_name": "Python 3",
   "language": "python",
   "name": "python3"
  }
 },
 "nbformat": 4,
 "nbformat_minor": 2
}
