{
 "cells": [
  {
   "cell_type": "markdown",
   "metadata": {},
   "source": [
    "# INF554 Team ==Baseline== Feature Extraction and Model Training\n",
    "### Francisco, Alex and Aksel"
   ]
  },
  {
   "cell_type": "markdown",
   "metadata": {},
   "source": [
    "## 1.1 Importing Libraries and Loading the Datasets"
   ]
  },
  {
   "cell_type": "code",
   "execution_count": 1,
   "metadata": {},
   "outputs": [
    {
     "name": "stderr",
     "output_type": "stream",
     "text": [
      "Using TensorFlow backend.\n"
     ]
    }
   ],
   "source": [
    "import random\n",
    "import numpy as np\n",
    "import pandas as pd\n",
    "import csv\n",
    "from tqdm import tqdm\n",
    "import seaborn as sns\n",
    "import os\n",
    "import networkx as nx\n",
    "import pdb\n",
    "import pickle\n",
    "from collections import Counter\n",
    "from sklearn import svm\n",
    "from sklearn.feature_extraction.text import TfidfVectorizer\n",
    "from sklearn.metrics.pairwise import linear_kernel\n",
    "from sklearn import preprocessing\n",
    "from sklearn.linear_model import LogisticRegression\n",
    "from sklearn.ensemble import RandomForestClassifier\n",
    "from sklearn.ensemble import GradientBoostingClassifier\n",
    "from sklearn.ensemble import BaggingClassifier\n",
    "from sklearn.neighbors import KNeighborsClassifier\n",
    "from sklearn.neural_network import MLPClassifier\n",
    "from sklearn.svm import SVC\n",
    "from sklearn.model_selection import train_test_split\n",
    "from sklearn.metrics import f1_score, precision_score, recall_score, accuracy_score\n",
    "from sklearn.feature_extraction import text as fe\n",
    "from sklearn.decomposition import NMF, LatentDirichletAllocation\n",
    "import matplotlib.pyplot as plt\n",
    "import datetime\n",
    "import time\n",
    "import keras\n",
    "import lightgbm\n",
    "import spacy\n",
    "from nltk import wordpunct_tokenize\n",
    "from nltk.corpus import stopwords\n",
    "import nltk\n",
    "from hyperopt import STATUS_OK, Trials, hp, space_eval, tpe, fmin"
   ]
  },
  {
   "cell_type": "markdown",
   "metadata": {},
   "source": [
    "Note: running all of the following feature extraction cells will take a long time. However, after running for the first time the computationally intensive part of the feature is pickled and so can be easily calculated in subsequent runs. Many of the cells (especially in the feature extraction section) will use this technique."
   ]
  },
  {
   "cell_type": "code",
   "execution_count": 2,
   "metadata": {},
   "outputs": [
    {
     "name": "stdout",
     "output_type": "stream",
     "text": [
      "Training examples shape: (453797, 3)\n",
      "Testing examples shape: (113450, 2)\n"
     ]
    }
   ],
   "source": [
    "with open(r\"training.txt\", \"r\") as f:\n",
    "    reader = csv.reader(f)\n",
    "    training  = list(reader)\n",
    "# in order of training examples\n",
    "training = [element[0].split(\" \") for element in training]\n",
    "training = pd.DataFrame(training, columns=['Node1', 'Node2', 'Link'])\n",
    "print(\"Training examples shape: {}\".format(training.shape))\n",
    "\n",
    "with open(r\"testing.txt\", \"r\") as f:\n",
    "    reader = csv.reader(f)\n",
    "    testing  = list(reader)\n",
    "# in order of testing examples\n",
    "testing = [element[0].split(\" \") for element in testing]\n",
    "testing = pd.DataFrame(testing, columns=['Node1', 'Node2'])\n",
    "print(\"Testing examples shape: {}\".format(testing.shape))"
   ]
  },
  {
   "cell_type": "code",
   "execution_count": 3,
   "metadata": {},
   "outputs": [],
   "source": [
    "# directory to store extracted features\n",
    "if not os.path.exists(r'pickles'):\n",
    "    os.mkdir(r'pickles')"
   ]
  },
  {
   "cell_type": "code",
   "execution_count": 4,
   "metadata": {},
   "outputs": [],
   "source": [
    "'''\n",
    "load the corpus one file at a time, remove spaces and convert to lower case\n",
    "'''\n",
    "NODE_INFO_DIRECTORY = r\"node_information/text/\"\n",
    "\n",
    "corpus_path = r\"pickles/simple_corpus.PICKLE\" \n",
    "ids_path = r\"pickles/ids.PICKLE\"\n",
    "if os.path.exists(corpus_path):\n",
    "    with open(corpus_path, 'rb') as f:\n",
    "        corpus = pickle.load(f)\n",
    "    f.close()\n",
    "    with open(ids_path, 'rb') as f:\n",
    "        ids = pickle.load(f)\n",
    "    f.close()\n",
    "else:\n",
    "    corpus = []\n",
    "    ids = []\n",
    "    for filename in tqdm(os.listdir(NODE_INFO_DIRECTORY), position=0, leave=True):\n",
    "        with open(NODE_INFO_DIRECTORY + filename, 'r', encoding='UTF-8', errors='ignore') as f:\n",
    "            doc_string = []\n",
    "            for line in f:\n",
    "                [doc_string.append(token.strip()) for token in line.lower().strip().split(\" \") if token != \"\"]\n",
    "            corpus.append(' '.join(doc_string))\n",
    "            ids.append(filename[:-4])\n",
    "    with open(corpus_path, '+wb') as f:\n",
    "        pickle.dump(corpus, f)\n",
    "    f.close()\n",
    "    with open(ids_path, '+wb') as f:\n",
    "        pickle.dump(ids, f)\n",
    "    f.close() "
   ]
  },
  {
   "cell_type": "code",
   "execution_count": 5,
   "metadata": {},
   "outputs": [
    {
     "name": "stdout",
     "output_type": "stream",
     "text": [
      "Training node info shape: (33226, 3)\n"
     ]
    }
   ],
   "source": [
    "# stemmed corpus is created by Preprocessing.ipynb file\n",
    "stemmed_corpus_path = r\"pickles/stemmed_corpus.PICKLE\" \n",
    "if os.path.exists(stemmed_corpus_path):\n",
    "    with open(stemmed_corpus_path, 'rb') as f:\n",
    "        stemmed_corpus = pickle.load(f)\n",
    "    f.close()\n",
    "else:\n",
    "    print('Stemmed corpus unavailable, please run the Preprocessing.ipynb file')\n",
    "\n",
    "# in order of alphabetical text information i.e. 0, 1, 10, 100\n",
    "node_info = pd.DataFrame({'id': ids, 'corpus': corpus, 'stemmed': stemmed_corpus})\n",
    "node_info_id = node_info.set_index(['id'])\n",
    "print(\"Training node info shape: {}\".format(node_info.shape))"
   ]
  },
  {
   "cell_type": "code",
   "execution_count": 6,
   "metadata": {},
   "outputs": [],
   "source": [
    "# make graph/ feature extraction split (saved for reproducable results)\n",
    "train_graph_split_path = 'pickles/train_graph_split_5.PICKLE'\n",
    "\n",
    "if os.path.exists(train_graph_split_path):\n",
    "    with open(train_graph_split_path, 'rb') as f:\n",
    "        keep_indices = pickle.load(f)\n",
    "    f.close()\n",
    "else:\n",
    "    keep_indices = random.sample(range(len(training)), k=int(len(training) * 0.05))\n",
    "    with open(train_graph_split_path, '+wb') as f:\n",
    "        pickle.dump(keep_indices, f)\n",
    "    f.close()\n",
    "\n",
    "data_train_val = training.iloc[keep_indices]\n",
    "data_train = training.loc[~training.index.isin(keep_indices)]"
   ]
  },
  {
   "cell_type": "code",
   "execution_count": 7,
   "metadata": {},
   "outputs": [],
   "source": [
    "linked_nodes = data_train.loc[data_train['Link']=='1']\n",
    "linked_nodes = linked_nodes[['Node1', 'Node2']]\n",
    "linked_nodes.to_csv('linked_nodes.txt', sep=' ', index=False, header=False)\n",
    "G=nx.read_edgelist('linked_nodes.txt', create_using=nx.Graph(), nodetype = str)"
   ]
  },
  {
   "cell_type": "code",
   "execution_count": 12,
   "metadata": {},
   "outputs": [],
   "source": [
    "# create empty dataframe in which features will be extracted\n",
    "# dictionary key indexes original training data\n",
    "perf_val_data = pd.DataFrame(data_train_val.Node1.values, columns = ['Node1'])\n",
    "perf_val_data['Node2'] = list(data_train_val.Node2.values)\n",
    "perf_val_data['Link'] =  list(data_train_val.Link.values)\n",
    "perf_val_data['original_index'] = list(data_train_val.index)\n",
    "\n",
    "# dictionary key indexes original testing data\n",
    "perf_test_data = pd.DataFrame(testing.Node1.values, columns = ['Node1'])\n",
    "perf_test_data['Node2'] = list(testing.Node2.values)\n",
    "perf_test_data['original_index'] = list(testing.index)"
   ]
  },
  {
   "cell_type": "markdown",
   "metadata": {},
   "source": [
    "## 1.2 Load Already Extracted Features"
   ]
  },
  {
   "cell_type": "code",
   "execution_count": 29,
   "metadata": {},
   "outputs": [],
   "source": [
    "feature_vector_path = r\"pickles/perf_val_data_final.PICKLE\"\n",
    "if os.path.exists(feature_vector_path):\n",
    "    with open(feature_vector_path, 'rb') as f:\n",
    "        perf_val_data = pickle.load(f)\n",
    "    f.close()\n",
    "\n",
    "feature_vector_path = r\"pickles/perf_test_data_final.PICKLE\"\n",
    "if os.path.exists(feature_vector_path):\n",
    "    with open(feature_vector_path, 'rb') as f:\n",
    "        perf_test_data = pickle.load(f)\n",
    "    f.close()"
   ]
  },
  {
   "cell_type": "code",
   "execution_count": 92,
   "metadata": {},
   "outputs": [
    {
     "name": "stdout",
     "output_type": "stream",
     "text": [
      "Created pickles successfully\n"
     ]
    }
   ],
   "source": [
    "# saving the extracted features (disallows overwriting). This function should be run after all features are computed\n",
    "feature_vector_path = r\"pickles/perf_val_data_final.PICKLE\"\n",
    "if not os.path.exists(feature_vector_path):\n",
    "    with open(feature_vector_path, '+wb') as f:\n",
    "        pickle.dump(perf_val_data, f)\n",
    "    f.close()\n",
    "feature_vector_path = r\"pickles/perf_test_data_final.PICKLE\"\n",
    "if not os.path.exists(feature_vector_path):\n",
    "    with open(feature_vector_path, '+wb') as f:\n",
    "        pickle.dump(perf_test_data, f)\n",
    "    f.close()\n",
    "    print('Created pickles successfully')"
   ]
  },
  {
   "cell_type": "markdown",
   "metadata": {},
   "source": [
    "## 2.1 Extracting Text Based Features"
   ]
  },
  {
   "cell_type": "code",
   "execution_count": 14,
   "metadata": {},
   "outputs": [],
   "source": [
    "EPSILON = 1e-10\n",
    "n_samples = 2000\n",
    "n_features = 64"
   ]
  },
  {
   "cell_type": "code",
   "execution_count": 17,
   "metadata": {},
   "outputs": [],
   "source": [
    "# vectorize corpus into word count matrix\n",
    "corpus_matrix_path = r\"pickles/stemmed_corpus_word_matrix.PICKLE\"\n",
    "if os.path.exists(corpus_matrix_path):\n",
    "    with open(corpus_matrix_path, 'rb') as f:\n",
    "        corpus_word_matrix = pickle.load(f)\n",
    "    f.close()\n",
    "else:\n",
    "    vectorizer1 = fe.CountVectorizer()\n",
    "    corpus_word_matrix = vectorizer1.fit_transform(tqdm(stemmed_corpus, position=0, leave=True))\n",
    "    with open(corpus_matrix_path, '+wb') as f:\n",
    "        pickle.dump(corpus_word_matrix, f)\n",
    "    f.close()"
   ]
  },
  {
   "cell_type": "code",
   "execution_count": 18,
   "metadata": {},
   "outputs": [],
   "source": [
    "# vectorize corpus according to tfidf methodology\n",
    "corpus_matrix_path = r\"pickles/stemmed_corpus_tfidf_matrix.PICKLE\"\n",
    "if os.path.exists(corpus_matrix_path):\n",
    "    with open(corpus_matrix_path, 'rb') as f:\n",
    "        corpus_tfidf_matrix = pickle.load(f)\n",
    "    f.close()\n",
    "else:\n",
    "    vectorizer3 = fe.TfidfVectorizer()\n",
    "    corpus_tfidf_matrix = vectorizer3.fit_transform(tqdm(stemmed_corpus, position=0, leave=True))\n",
    "    with open(corpus_matrix_path, '+wb') as f:\n",
    "        pickle.dump(corpus_tfidf_matrix, f)\n",
    "    f.close()"
   ]
  },
  {
   "cell_type": "code",
   "execution_count": 94,
   "metadata": {},
   "outputs": [
    {
     "name": "stderr",
     "output_type": "stream",
     "text": [
      "100%|████████████████████████████████████████████████████████████████████████████| 45379/45379 [12:09<00:00, 62.19it/s]\n",
      "100%|██████████████████████████████████████████████████████████████████████████| 113450/113450 [47:44<00:00, 39.60it/s]\n"
     ]
    }
   ],
   "source": [
    "# compute cosine similarity between two tfidf vectors\n",
    "def tfidf_similarity(index, dataset):\n",
    "    node1 = dataset['Node1'][index]\n",
    "    node2 = dataset['Node2'][index]\n",
    "    index1 = ids.index(node1)\n",
    "    index2 = ids.index(node2)\n",
    "    sim = corpus_tfidf_matrix[index1] @ corpus_tfidf_matrix[index2].T \n",
    "    norm = np.linalg.norm(corpus_tfidf_matrix[index1].toarray()) * np.linalg.norm(corpus_tfidf_matrix[index2].toarray())\n",
    "    return sim.toarray()[0][0] / (norm + EPSILON)\n",
    "perf_val_data['tfidf_similarity']=list(map(lambda i:tfidf_similarity(i, training), \n",
    "                                              tqdm(perf_val_data['original_index'], position=0, leave=True)))\n",
    "perf_test_data['tfidf_similarity']=list(map(lambda i:tfidf_similarity(i, testing), \n",
    "                                               tqdm(perf_test_data['original_index'], position=0, leave=True)))"
   ]
  },
  {
   "cell_type": "code",
   "execution_count": 95,
   "metadata": {},
   "outputs": [],
   "source": [
    "# reduce vectorized tfidf matrix according to n-dimensional NMF using Frobenius norm\n",
    "nmf_frobenius_path = r\"pickles/stemmed_nmf_frobenius_matrix.PICKLE\"\n",
    "if os.path.exists(nmf_frobenius_path):\n",
    "    with open(nmf_frobenius_path, 'rb') as f:\n",
    "        nmf_frobenius = pickle.load(f)\n",
    "    f.close()\n",
    "else:\n",
    "    print(\"Fitting the NMF model (Frobenius norm) with tf-idf features, \"\n",
    "          \"n_samples=%d and n_features=%d...\" % (corpus_tfidf_matrix.shape[0], n_features))\n",
    "\n",
    "    nmf_frobenius = NMF(n_components=n_features, random_state=1, alpha=.1, l1_ratio=.5).fit_transform(corpus_tfidf_matrix)\n",
    "    \n",
    "    with open(nmf_frobenius_path, '+wb') as f:\n",
    "        pickle.dump(nmf_frobenius, f)\n",
    "    f.close()"
   ]
  },
  {
   "cell_type": "code",
   "execution_count": 83,
   "metadata": {},
   "outputs": [],
   "source": [
    "# reduce vectorized tfidf matrix according to n-dimensional NMF using Kullback-Leibler divergence\n",
    "nmf_kd_path = r\"pickles/nmf_kd_64_matrix.PICKLE\"\n",
    "if os.path.exists(nmf_kd_path):\n",
    "    with open(nmf_kd_path, 'rb') as f:\n",
    "        nmf_kd = pickle.load(f)\n",
    "    f.close()\n",
    "else:\n",
    "    print(\"Fitting the NMF model (generalized Kullback-Leibler divergence) with \"\n",
    "          \"tf-idf features, n_samples=%d and n_features=%d...\"\n",
    "          % (corpus_tfidf_matrix.shape[0], n_features))\n",
    "\n",
    "    nmf_kd = NMF(n_components=n_features, random_state=1,\n",
    "              beta_loss='kullback-leibler', solver='mu', max_iter=1000, alpha=.1,\n",
    "              l1_ratio=.5).fit_transform(corpus_tfidf_matrix)\n",
    "\n",
    "    with open(nmf_kd_path, '+wb') as f:\n",
    "        pickle.dump(nmf_kd, f)\n",
    "    f.close()"
   ]
  },
  {
   "cell_type": "code",
   "execution_count": 97,
   "metadata": {},
   "outputs": [],
   "source": [
    "# reduce vectorized word count matrix according to LDA (Latent Dirichlet Allocation)\n",
    "lda_path = r\"pickles/stemmed_lda_64_matrix.PICKLE\"\n",
    "if os.path.exists(lda_path):\n",
    "    with open(lda_path, 'rb') as f:\n",
    "        lda = pickle.load(f)\n",
    "    f.close()\n",
    "else:\n",
    "    print(\"Fitting LDA models with tf features, \"\n",
    "          \"n_samples=%d and n_features=%d...\"\n",
    "          % (corpus_tfidf_matrix.shape[0], n_features))\n",
    "    lda = LatentDirichletAllocation(n_components=n_features, max_iter=5,\n",
    "                                    learning_method='online',\n",
    "                                    learning_offset=50.,\n",
    "                                    random_state=0).fit_transform(corpus_word_matrix)\n",
    "\n",
    "    with open(lda_path, '+wb') as f:\n",
    "        pickle.dump(lda, f)\n",
    "    f.close()"
   ]
  },
  {
   "cell_type": "code",
   "execution_count": 88,
   "metadata": {},
   "outputs": [],
   "source": [
    "# reduce vectorized tfidf matrix according to LSA (Latent Semantic Analysis)\n",
    "lsa_path = r\"pickles/stemmed_lsa_2000_matrix.PICKLE\"\n",
    "if os.path.exists(lsa_path):\n",
    "    with open(lsa_path, 'rb') as f:\n",
    "        corpus_lsa_matrix = pickle.load(f)\n",
    "    f.close()\n",
    "else:\n",
    "    print(\"Performing dimensionality reduction using LSA\")\n",
    "    svd = TruncatedSVD(n_samples)\n",
    "    normalizer = Normalizer(copy=False)\n",
    "    lsa = make_pipeline(svd, normalizer)\n",
    "\n",
    "    corpus_lsa_matrix = lsa.fit_transform(corpus_tfidf_matrix)\n",
    "\n",
    "    explained_variance = svd.explained_variance_ratio_.sum()\n",
    "    print(\"Explained variance of the SVD step: {}%\".format(\n",
    "        int(explained_variance * 100)))\n",
    "\n",
    "    with open(lsa_path, '+wb') as f:\n",
    "        pickle.dump(corpus_lsa_matrix, f)\n",
    "    f.close()"
   ]
  },
  {
   "cell_type": "code",
   "execution_count": 19,
   "metadata": {},
   "outputs": [],
   "source": [
    "languages_nltk_path = r\"pickles/languages_nltk.PICKLE\"\n",
    "if os.path.exists(languages_nltk_path):\n",
    "    with open(languages_nltk_path, 'rb') as f:\n",
    "        languages_nltk = pickle.load(f)\n",
    "    f.close()\n",
    "else:\n",
    "    print('language feature unavailable, please run Preprocessing.ipynb file')"
   ]
  },
  {
   "cell_type": "code",
   "execution_count": 20,
   "metadata": {},
   "outputs": [
    {
     "data": {
      "text/plain": [
       "[(1014, 'arabic'),\n",
       " (18, 'azerbaijani'),\n",
       " (49, 'danish'),\n",
       " (115, 'dutch'),\n",
       " (9315, 'english'),\n",
       " (25, 'finnish'),\n",
       " (20916, 'french'),\n",
       " (525, 'german'),\n",
       " (15, 'greek'),\n",
       " (24, 'hungarian'),\n",
       " (32, 'indonesian'),\n",
       " (234, 'italian'),\n",
       " (39, 'kazakh'),\n",
       " (273, 'nepali'),\n",
       " (38, 'norwegian'),\n",
       " (67, 'portuguese'),\n",
       " (97, 'romanian'),\n",
       " (384, 'russian'),\n",
       " (32, 'slovene'),\n",
       " (14, 'spanish')]"
      ]
     },
     "execution_count": 20,
     "metadata": {},
     "output_type": "execute_result"
    }
   ],
   "source": [
    "langs = {}\n",
    "for i in languages_nltk:\n",
    "    lang = str(np.argmax(languages_nltk[i]))\n",
    "    if lang in langs:\n",
    "        langs[lang] += 1\n",
    "    else:\n",
    "        langs[lang] = 1\n",
    "list(zip([langs[i] for i in sorted(langs, key=lambda k:int(k))], stopwords.fileids()))"
   ]
  },
  {
   "cell_type": "code",
   "execution_count": 102,
   "metadata": {},
   "outputs": [
    {
     "name": "stderr",
     "output_type": "stream",
     "text": [
      "100%|██████████████████████████████████████████████████████████████████████████| 45379/45379 [00:05<00:00, 8899.56it/s]\n",
      "100%|████████████████████████████████████████████████████████████████████████| 113450/113450 [00:12<00:00, 9300.78it/s]\n"
     ]
    }
   ],
   "source": [
    "# compute cosine similarity between two language representation vectors\n",
    "def languages_nltk_similarity(index, dataset):\n",
    "    node1 = dataset['Node1'][index]\n",
    "    node2 = dataset['Node2'][index]\n",
    "    sim = languages_nltk[node1] @ languages_nltk[node2].T / (\n",
    "        np.linalg.norm(languages_nltk[node1]) * np.linalg.norm(languages_nltk[node2]) + EPSILON)\n",
    "    return sim\n",
    "\n",
    "perf_val_data['languages_similarity']=list(map(lambda i:languages_nltk_similarity(i, training), \n",
    "                                              tqdm(perf_val_data['original_index'], position=0, leave=True)))\n",
    "perf_test_data['languages_similarity']=list(map(lambda i:languages_nltk_similarity(i, testing), \n",
    "                                               tqdm(perf_test_data['original_index'], position=0, leave=True)))"
   ]
  },
  {
   "cell_type": "code",
   "execution_count": 103,
   "metadata": {},
   "outputs": [
    {
     "name": "stderr",
     "output_type": "stream",
     "text": [
      "100%|██████████████████████████████████████████████████████████████████████████| 45379/45379 [00:09<00:00, 4998.90it/s]\n",
      "100%|████████████████████████████████████████████████████████████████████████| 113450/113450 [00:21<00:00, 5158.48it/s]\n"
     ]
    }
   ],
   "source": [
    "# compute multiplication of document length, empty documents are severly penalized\n",
    "def joint_length(index, dataset):\n",
    "    node1 = dataset['Node1'][index]\n",
    "    node2 = dataset['Node2'][index]\n",
    "    length = len(node_info_id['stemmed'].loc[node1]) * len(node_info_id['stemmed'].loc[node2])\n",
    "    return length\n",
    "\n",
    "perf_val_data['joint_length']=list(map(lambda i:joint_length(i, training), \n",
    "                                              tqdm(perf_val_data['original_index'], position=0, leave=True)))\n",
    "perf_test_data['joint_length']=list(map(lambda i:joint_length(i, testing), \n",
    "                                               tqdm(perf_test_data['original_index'], position=0, leave=True)))"
   ]
  },
  {
   "cell_type": "code",
   "execution_count": 104,
   "metadata": {},
   "outputs": [
    {
     "name": "stderr",
     "output_type": "stream",
     "text": [
      "100%|█████████████████████████████████████████████████████████████████████████| 45379/45379 [00:02<00:00, 21029.95it/s]\n",
      "100%|███████████████████████████████████████████████████████████████████████| 113450/113450 [00:05<00:00, 22604.99it/s]\n"
     ]
    }
   ],
   "source": [
    "# compute the distance between node labels as a proxy for crawl order\n",
    "def file_distance(index, dataset):\n",
    "    node1 = dataset['Node1'][index]\n",
    "    node2 = dataset['Node2'][index]\n",
    "    dist = abs(int(node1) - int(node2))\n",
    "    return dist\n",
    "\n",
    "perf_val_data['file_distance']=list(map(lambda i:file_distance(i, training), \n",
    "                                              tqdm(perf_val_data['original_index'], position=0, leave=True)))\n",
    "perf_test_data['file_distance']=list(map(lambda i:file_distance(i, testing), \n",
    "                                               tqdm(perf_test_data['original_index'], position=0, leave=True)))"
   ]
  },
  {
   "cell_type": "code",
   "execution_count": 105,
   "metadata": {},
   "outputs": [
    {
     "name": "stderr",
     "output_type": "stream",
     "text": [
      "100%|███████████████████████████████████████████████████████████████████████████| 45379/45379 [01:49<00:00, 413.51it/s]\n",
      "100%|█████████████████████████████████████████████████████████████████████████| 113450/113450 [04:52<00:00, 387.80it/s]\n"
     ]
    }
   ],
   "source": [
    "# compute cosine similarity between two Frobenious norm NMF vectors\n",
    "def nmf_frobenius_similarity(index, dataset):\n",
    "    node1 = dataset['Node1'][index]\n",
    "    node2 = dataset['Node2'][index]\n",
    "    index1 = ids.index(node1)\n",
    "    index2 = ids.index(node2)\n",
    "    sim = nmf_frobenius[index1] @ nmf_frobenius[index2].T / (\n",
    "        np.linalg.norm(nmf_frobenius[index1]) * np.linalg.norm(nmf_frobenius[index2]) + EPSILON)\n",
    "    return sim\n",
    "\n",
    "perf_val_data['nmf_frobenius_similarity']=list(map(lambda i:nmf_frobenius_similarity(i, training), \n",
    "                                              tqdm(perf_val_data['original_index'], position=0, leave=True)))\n",
    "perf_test_data['nmf_frobenius_similarity']=list(map(lambda i:nmf_frobenius_similarity(i, testing), \n",
    "                                               tqdm(perf_test_data['original_index'], position=0, leave=True)))"
   ]
  },
  {
   "cell_type": "code",
   "execution_count": 106,
   "metadata": {},
   "outputs": [
    {
     "name": "stderr",
     "output_type": "stream",
     "text": [
      "100%|███████████████████████████████████████████████████████████████████████████| 45379/45379 [01:33<00:00, 483.71it/s]\n",
      "100%|█████████████████████████████████████████████████████████████████████████| 113450/113450 [03:59<00:00, 473.78it/s]\n"
     ]
    }
   ],
   "source": [
    "# compute cosine similarity between two LDA vectors\n",
    "def lda_similarity(index, dataset):\n",
    "    node1 = dataset['Node1'][index]\n",
    "    node2 = dataset['Node2'][index]\n",
    "    index1 = ids.index(node1)\n",
    "    index2 = ids.index(node2)\n",
    "    sim = lda[index1] @ lda[index2].T / (\n",
    "        np.linalg.norm(lda[index1]) * np.linalg.norm(lda[index2]) + EPSILON)\n",
    "    return sim\n",
    "\n",
    "perf_val_data['lda_similarity']=list(map(lambda i:lda_similarity(i, training), \n",
    "                                              tqdm(perf_val_data['original_index'], position=0, leave=True)))\n",
    "perf_test_data['lda_similarity']=list(map(lambda i:lda_similarity(i, testing), \n",
    "                                               tqdm(perf_test_data['original_index'], position=0, leave=True)))"
   ]
  },
  {
   "cell_type": "code",
   "execution_count": 89,
   "metadata": {},
   "outputs": [
    {
     "name": "stderr",
     "output_type": "stream",
     "text": [
      "100%|███████████████████████████████████████████████████████████████████████████| 22689/22689 [00:35<00:00, 635.09it/s]\n",
      "100%|█████████████████████████████████████████████████████████████████████████| 113450/113450 [03:07<00:00, 604.60it/s]\n"
     ]
    }
   ],
   "source": [
    "# compute cosine similarity between two LSA vectors\n",
    "def lsa_similarity(index, dataset):\n",
    "    node1 = dataset['Node1'][index]\n",
    "    node2 = dataset['Node2'][index]\n",
    "    index1 = ids.index(node1)\n",
    "    index2 = ids.index(node2)\n",
    "    sim = corpus_lsa_matrix[index1] @ corpus_lsa_matrix[index2].T / (\n",
    "        np.linalg.norm(corpus_lsa_matrix[index1]) * np.linalg.norm(corpus_lsa_matrix[index2]) + EPSILON)\n",
    "    return sim\n",
    "\n",
    "perf_val_data['lsa_similarity']=list(map(lambda i:lsa_similarity(i, training), \n",
    "                                              tqdm(perf_val_data['original_index'], position=0, leave=True)))\n",
    "perf_test_data['lsa_similarity']=list(map(lambda i:lsa_similarity(i, testing), \n",
    "                                               tqdm(perf_test_data['original_index'], position=0, leave=True)))"
   ]
  },
  {
   "cell_type": "code",
   "execution_count": 84,
   "metadata": {},
   "outputs": [
    {
     "name": "stderr",
     "output_type": "stream",
     "text": [
      "100%|███████████████████████████████████████████████████████████████████████████| 22689/22689 [00:45<00:00, 502.50it/s]\n",
      "100%|█████████████████████████████████████████████████████████████████████████| 113450/113450 [02:54<00:00, 649.30it/s]\n"
     ]
    }
   ],
   "source": [
    "# compute cosine similarity between two Kullback-Leibler divergence NMF vectors\n",
    "def nmf_kd_similarity(index, dataset):\n",
    "    node1 = dataset['Node1'][index]\n",
    "    node2 = dataset['Node2'][index]\n",
    "    index1 = ids.index(node1)\n",
    "    index2 = ids.index(node2)\n",
    "    sim = nmf_kd[index1] @ nmf_kd[index2].T / (\n",
    "        np.linalg.norm(nmf_kd[index1]) * np.linalg.norm(nmf_kd[index2]) + EPSILON)\n",
    "    return sim\n",
    "\n",
    "perf_val_data['nmf_kd_similarity']=list(map(lambda i:nmf_kd_similarity(i, training), \n",
    "                                              tqdm(perf_val_data['original_index'], position=0, leave=True)))\n",
    "perf_test_data['nmf_kd_similarity']=list(map(lambda i:nmf_kd_similarity(i, testing), \n",
    "                                               tqdm(perf_test_data['original_index'], position=0, leave=True)))"
   ]
  },
  {
   "cell_type": "code",
   "execution_count": 90,
   "metadata": {},
   "outputs": [
    {
     "data": {
      "text/plain": [
       "Index(['Node1', 'Node2', 'Link', 'original_index', 'tfidf_similarity',\n",
       "       'languages_similarity', 'joint_length', 'file_distance',\n",
       "       'common_neighbors', 'jaccard_coefficient', 'shortest_path',\n",
       "       'adamic_adar_index', 'resource_allocation_index',\n",
       "       'preferential_attachment', 'nmf_frobenius_similarity', 'lda_similarity',\n",
       "       'katz_index', 'page_rank_alpha.5', 'page_rank_alpha.2',\n",
       "       'page_rank_alpha.7', 'nmf_kd_similarity', 'lsa_similarity'],\n",
       "      dtype='object')"
      ]
     },
     "execution_count": 90,
     "metadata": {},
     "output_type": "execute_result"
    }
   ],
   "source": [
    "perf_val_data.columns"
   ]
  },
  {
   "cell_type": "markdown",
   "metadata": {},
   "source": [
    "## 2.2 Extracting Graph Based Features"
   ]
  },
  {
   "cell_type": "code",
   "execution_count": 109,
   "metadata": {},
   "outputs": [],
   "source": [
    "# create dictionary of neighbouring nodes\n",
    "neighborsDict={}\n",
    "for n in G.nodes():\n",
    "    neighborsDict[n]= list(G.neighbors(n))  "
   ]
  },
  {
   "cell_type": "code",
   "execution_count": 110,
   "metadata": {},
   "outputs": [
    {
     "name": "stderr",
     "output_type": "stream",
     "text": [
      "100%|██████████████████████████████████████████████████████████████████████████| 45379/45379 [00:05<00:00, 8015.35it/s]\n",
      "100%|████████████████████████████████████████████████████████████████████████| 113450/113450 [00:13<00:00, 8246.37it/s]\n"
     ]
    }
   ],
   "source": [
    "# calcuate the number of common neighbours between two nodes\n",
    "def common_neighbors(index, dataset):\n",
    "    node1 = dataset['Node1'][index]\n",
    "    node2 = dataset['Node2'][index]\n",
    "    if (node1 in neighborsDict.keys()) and (node2 in neighborsDict.keys()): \n",
    "        return len(set(neighborsDict[node1]).intersection(neighborsDict[node2]))\n",
    "    else : \n",
    "        return 0\n",
    "\n",
    "perf_val_data['common_neighbors']=list(map(lambda i:common_neighbors(i, training), \n",
    "                                           tqdm(perf_val_data['original_index'], leave=True, position = 0)))\n",
    "perf_test_data['common_neighbors']=list(map(lambda i:common_neighbors(i, testing), \n",
    "                                            tqdm(perf_test_data['original_index'], leave=True, position = 0)))"
   ]
  },
  {
   "cell_type": "code",
   "execution_count": 111,
   "metadata": {},
   "outputs": [
    {
     "name": "stderr",
     "output_type": "stream",
     "text": [
      "100%|███████████████████████████████████████████████████████████████████████████| 45379/45379 [00:55<00:00, 815.37it/s]\n",
      "100%|█████████████████████████████████████████████████████████████████████████| 113450/113450 [02:12<00:00, 853.90it/s]\n"
     ]
    }
   ],
   "source": [
    "# compute the Jaccard coefficient for a pair of nodes\n",
    "def jaccard_coef(index, dataset):\n",
    "    node1 = dataset['Node1'][index]\n",
    "    node2 = dataset['Node2'][index]\n",
    "    if (node1 in neighborsDict.keys()) and (node2 in neighborsDict.keys()): \n",
    "        return [p for u,v,p in nx.jaccard_coefficient(G, [(node1, node2)])][0]\n",
    "    else:\n",
    "        return 0\n",
    "\n",
    "perf_val_data['jaccard_coefficient']=list(map(lambda i:jaccard_coef(i, training), \n",
    "                                              tqdm(perf_val_data['original_index'], position=0, leave=True)))\n",
    "perf_test_data['jaccard_coefficient']=list(map(lambda i:jaccard_coef(i, testing), \n",
    "                                               tqdm(perf_test_data['original_index'], position=0, leave=True)))"
   ]
  },
  {
   "cell_type": "code",
   "execution_count": 112,
   "metadata": {},
   "outputs": [
    {
     "name": "stderr",
     "output_type": "stream",
     "text": [
      "100%|██████████████████████████████████████████████████████████████████████████| 45379/45379 [00:18<00:00, 2407.31it/s]\n",
      "100%|████████████████████████████████████████████████████████████████████████| 113450/113450 [00:53<00:00, 2110.00it/s]\n"
     ]
    }
   ],
   "source": [
    "# find the shortest path between two nodes\n",
    "def shortest_path(index, dataset):\n",
    "    node1 = dataset['Node1'][index]\n",
    "    node2 = dataset['Node2'][index]\n",
    "    if (node1 in neighborsDict.keys()) and (node2 in neighborsDict.keys()): \n",
    "        try:\n",
    "            sp=nx.shortest_path(G, node1, node2)\n",
    "            return len(sp)\n",
    "        except nx.NetworkXNoPath:\n",
    "            return 0\n",
    "    else:\n",
    "        return 0\n",
    "\n",
    "perf_val_data['shortest_path']=list(map(lambda i:shortest_path(i, training), \n",
    "                                        tqdm(perf_val_data['original_index'], position=0, leave=True)))\n",
    "perf_test_data['shortest_path']=list(map(lambda i:shortest_path(i, testing), \n",
    "                                         tqdm(perf_test_data['original_index'], position=0, leave=True)))"
   ]
  },
  {
   "cell_type": "code",
   "execution_count": 113,
   "metadata": {},
   "outputs": [
    {
     "name": "stderr",
     "output_type": "stream",
     "text": [
      "100%|█████████████████████████████████████████████████████████████████████████| 45379/45379 [00:01<00:00, 29562.01it/s]\n",
      "100%|███████████████████████████████████████████████████████████████████████| 113450/113450 [00:03<00:00, 30730.71it/s]\n"
     ]
    }
   ],
   "source": [
    "# compute the page rank for each nodes and take the average (alpha = 0.7)\n",
    "pr = nx.pagerank(G, alpha=0.7)\n",
    "\n",
    "def page_rank(index, dataset):\n",
    "    node1 = dataset['Node1'][index]\n",
    "    node2 = dataset['Node2'][index]\n",
    "    if (node1 in neighborsDict.keys()) and (node2 in neighborsDict.keys()): \n",
    "        page_rank = (pr[node1] + pr[node2]) / 2\n",
    "        return page_rank\n",
    "    else: \n",
    "        return 0\n",
    "\n",
    "perf_val_data['page_rank_alpha.7']=list(map(lambda i:page_rank(i, training), \n",
    "                                    tqdm(perf_val_data['original_index'], position=0, leave=True)))\n",
    "perf_test_data['page_rank_alpha.7']=list(map(lambda i:page_rank(i, testing), \n",
    "                                     tqdm(perf_test_data['original_index'], position=0, leave=True)))"
   ]
  },
  {
   "cell_type": "code",
   "execution_count": 114,
   "metadata": {},
   "outputs": [
    {
     "name": "stderr",
     "output_type": "stream",
     "text": [
      "100%|█████████████████████████████████████████████████████████████████████████| 45379/45379 [00:01<00:00, 26894.33it/s]\n",
      "100%|███████████████████████████████████████████████████████████████████████| 113450/113450 [00:03<00:00, 31709.35it/s]\n"
     ]
    }
   ],
   "source": [
    "# compute the page rank for each nodes and take the average (alpha = 0.5)\n",
    "pr = nx.pagerank(G, alpha=0.5)\n",
    "\n",
    "def page_rank(index, dataset):\n",
    "    node1 = dataset['Node1'][index]\n",
    "    node2 = dataset['Node2'][index]\n",
    "    if (node1 in neighborsDict.keys()) and (node2 in neighborsDict.keys()): \n",
    "        page_rank = (pr[node1] + pr[node2]) / 2\n",
    "        return page_rank\n",
    "    else: \n",
    "        return 0\n",
    "    \n",
    "perf_val_data['page_rank_alpha.5']=list(map(lambda i:page_rank(i, training), \n",
    "                                    tqdm(perf_val_data['original_index'], position=0, leave=True)))\n",
    "perf_test_data['page_rank_alpha.5']=list(map(lambda i:page_rank(i, testing), \n",
    "                                     tqdm(perf_test_data['original_index'], position=0, leave=True)))"
   ]
  },
  {
   "cell_type": "code",
   "execution_count": 115,
   "metadata": {},
   "outputs": [
    {
     "name": "stderr",
     "output_type": "stream",
     "text": [
      "100%|█████████████████████████████████████████████████████████████████████████| 45379/45379 [00:01<00:00, 30525.15it/s]\n",
      "100%|███████████████████████████████████████████████████████████████████████| 113450/113450 [00:03<00:00, 29371.05it/s]\n"
     ]
    }
   ],
   "source": [
    "# compute the page rank for each nodes and take the average (alpha = 0.2)\n",
    "pr = nx.pagerank(G, alpha=0.2)\n",
    "\n",
    "def page_rank(index, dataset):\n",
    "    node1 = dataset['Node1'][index]\n",
    "    node2 = dataset['Node2'][index]\n",
    "    if (node1 in neighborsDict.keys()) and (node2 in neighborsDict.keys()): \n",
    "        page_rank = (pr[node1] + pr[node2]) / 2\n",
    "        return page_rank\n",
    "    else: \n",
    "        return 0\n",
    "    \n",
    "perf_val_data['page_rank_alpha.2']=list(map(lambda i:page_rank(i, training), \n",
    "                                    tqdm(perf_val_data['original_index'], position=0, leave=True)))\n",
    "perf_test_data['page_rank_alpha.2']=list(map(lambda i:page_rank(i, testing), \n",
    "                                     tqdm(perf_test_data['original_index'], position=0, leave=True)))"
   ]
  },
  {
   "cell_type": "code",
   "execution_count": 116,
   "metadata": {},
   "outputs": [
    {
     "name": "stderr",
     "output_type": "stream",
     "text": [
      "100%|███████████████████████████████████████████████████████████████████████████| 45379/45379 [00:51<00:00, 881.45it/s]\n",
      "100%|█████████████████████████████████████████████████████████████████████████| 113450/113450 [02:08<00:00, 882.24it/s]\n"
     ]
    }
   ],
   "source": [
    "# calculate the Adamic Adar Index between two nodes\n",
    "def adamic_adar_index(index, dataset):\n",
    "    node1 = dataset['Node1'][index]\n",
    "    node2 = dataset['Node2'][index]\n",
    "    if (node1 in neighborsDict.keys()) and (node2 in neighborsDict.keys()): \n",
    "        return [p for u,v,p in nx.adamic_adar_index(G, [(node1, node2)])][0]\n",
    "    else:\n",
    "        return 0\n",
    "\n",
    "perf_val_data['adamic_adar_index']=list(map(lambda i:adamic_adar_index(i, training), \n",
    "                                              tqdm(perf_val_data['original_index'], position=0, leave=True)))\n",
    "perf_test_data['adamic_adar_index']=list(map(lambda i:adamic_adar_index(i, testing), \n",
    "                                               tqdm(perf_test_data['original_index'], position=0, leave=True)))"
   ]
  },
  {
   "cell_type": "code",
   "execution_count": 117,
   "metadata": {},
   "outputs": [
    {
     "name": "stderr",
     "output_type": "stream",
     "text": [
      "100%|███████████████████████████████████████████████████████████████████████████| 45379/45379 [00:48<00:00, 936.78it/s]\n",
      "100%|█████████████████████████████████████████████████████████████████████████| 113450/113450 [02:04<00:00, 910.11it/s]\n"
     ]
    }
   ],
   "source": [
    "# calculate the resource allocation between two nodes\n",
    "def resource_allocation_index(index, dataset):\n",
    "    node1 = dataset['Node1'][index]\n",
    "    node2 = dataset['Node2'][index]\n",
    "    if (node1 in neighborsDict.keys()) and (node2 in neighborsDict.keys()): \n",
    "        return [p for u,v,p in nx.resource_allocation_index(G, [(node1, node2)])][0]\n",
    "    else:\n",
    "        return 0\n",
    "\n",
    "perf_val_data['resource_allocation_index']=list(map(lambda i:resource_allocation_index(i, training), \n",
    "                                              tqdm(perf_val_data['original_index'], position=0, leave=True)))\n",
    "perf_test_data['resource_allocation_index']=list(map(lambda i:resource_allocation_index(i, testing), \n",
    "                                               tqdm(perf_test_data['original_index'], position=0, leave=True)))"
   ]
  },
  {
   "cell_type": "code",
   "execution_count": 118,
   "metadata": {},
   "outputs": [
    {
     "name": "stderr",
     "output_type": "stream",
     "text": [
      "100%|█████████████████████████████████████████████████████████████████████████| 45379/45379 [00:02<00:00, 21993.94it/s]\n",
      "100%|███████████████████████████████████████████████████████████████████████| 113450/113450 [00:04<00:00, 23161.11it/s]\n"
     ]
    }
   ],
   "source": [
    "# calculate the preferential attachment metric associated with two nodes\n",
    "def preferential_attachment(index, dataset):\n",
    "    node1 = dataset['Node1'][index]\n",
    "    node2 = dataset['Node2'][index]\n",
    "    if (node1 in neighborsDict.keys()) and (node2 in neighborsDict.keys()): \n",
    "        return [p for u,v,p in nx.preferential_attachment(G, [(node1, node2)])][0]\n",
    "    else:\n",
    "        return 0\n",
    "\n",
    "perf_val_data['preferential_attachment']=list(map(lambda i:preferential_attachment(i, training), \n",
    "                                              tqdm(perf_val_data['original_index'], position=0, leave=True)))\n",
    "perf_test_data['preferential_attachment']=list(map(lambda i:preferential_attachment(i, testing), \n",
    "                                               tqdm(perf_test_data['original_index'], position=0, leave=True)))"
   ]
  },
  {
   "cell_type": "code",
   "execution_count": 119,
   "metadata": {},
   "outputs": [],
   "source": [
    "# compute the Katz index for every node in the graph\n",
    "katz_index_path = r\"pickles/katz_index.PICKLE\"\n",
    "if os.path.exists(katz_index_path):\n",
    "    with open(katz_index_path, 'rb') as f:\n",
    "        ki = pickle.load(f)\n",
    "    f.close()\n",
    "else:\n",
    "    ki = nx.katz_centrality_numpy(G, alpha=0.1, beta=1.0)\n",
    "    with open(katz_index_path, '+wb') as f:\n",
    "        pickle.dump(ki, f)\n",
    "    f.close()"
   ]
  },
  {
   "cell_type": "code",
   "execution_count": 77,
   "metadata": {
    "collapsed": true
   },
   "outputs": [
    {
     "name": "stderr",
     "output_type": "stream",
     "text": [
      "  0%|                                                                                        | 0/22689 [00:00<?, ?it/s]\n"
     ]
    },
    {
     "ename": "KeyError",
     "evalue": "'27090'",
     "output_type": "error",
     "traceback": [
      "\u001b[1;31m---------------------------------------------------------------------------\u001b[0m",
      "\u001b[1;31mKeyError\u001b[0m                                  Traceback (most recent call last)",
      "\u001b[1;32m<ipython-input-77-7e8554e0117e>\u001b[0m in \u001b[0;36m<module>\u001b[1;34m\u001b[0m\n\u001b[0;32m      9\u001b[0m \u001b[1;33m\u001b[0m\u001b[0m\n\u001b[0;32m     10\u001b[0m perf_val_data['katz_index']=list(map(lambda i:katz_index(i, training), \n\u001b[1;32m---> 11\u001b[1;33m                                     tqdm(perf_val_data['original_index'], position=0, leave=True)))\n\u001b[0m\u001b[0;32m     12\u001b[0m perf_test_data['katz_index']=list(map(lambda i:katz_index(i, testing), \n\u001b[0;32m     13\u001b[0m                                      tqdm(perf_test_data['original_index'], position=0, leave=True)))\n",
      "\u001b[1;32m<ipython-input-77-7e8554e0117e>\u001b[0m in \u001b[0;36m<lambda>\u001b[1;34m(i)\u001b[0m\n\u001b[0;32m      8\u001b[0m         \u001b[1;32mreturn\u001b[0m \u001b[1;36m0\u001b[0m\u001b[1;33m\u001b[0m\u001b[1;33m\u001b[0m\u001b[0m\n\u001b[0;32m      9\u001b[0m \u001b[1;33m\u001b[0m\u001b[0m\n\u001b[1;32m---> 10\u001b[1;33m perf_val_data['katz_index']=list(map(lambda i:katz_index(i, training), \n\u001b[0m\u001b[0;32m     11\u001b[0m                                     tqdm(perf_val_data['original_index'], position=0, leave=True)))\n\u001b[0;32m     12\u001b[0m perf_test_data['katz_index']=list(map(lambda i:katz_index(i, testing), \n",
      "\u001b[1;32m<ipython-input-77-7e8554e0117e>\u001b[0m in \u001b[0;36mkatz_index\u001b[1;34m(index, dataset)\u001b[0m\n\u001b[0;32m      3\u001b[0m     \u001b[0mnode2\u001b[0m \u001b[1;33m=\u001b[0m \u001b[0mdataset\u001b[0m\u001b[1;33m[\u001b[0m\u001b[1;34m'Node2'\u001b[0m\u001b[1;33m]\u001b[0m\u001b[1;33m[\u001b[0m\u001b[0mindex\u001b[0m\u001b[1;33m]\u001b[0m\u001b[1;33m\u001b[0m\u001b[1;33m\u001b[0m\u001b[0m\n\u001b[0;32m      4\u001b[0m     \u001b[1;32mif\u001b[0m \u001b[1;33m(\u001b[0m\u001b[0mnode1\u001b[0m \u001b[1;32min\u001b[0m \u001b[0mneighborsDict\u001b[0m\u001b[1;33m.\u001b[0m\u001b[0mkeys\u001b[0m\u001b[1;33m(\u001b[0m\u001b[1;33m)\u001b[0m\u001b[1;33m)\u001b[0m \u001b[1;32mand\u001b[0m \u001b[1;33m(\u001b[0m\u001b[0mnode2\u001b[0m \u001b[1;32min\u001b[0m \u001b[0mneighborsDict\u001b[0m\u001b[1;33m.\u001b[0m\u001b[0mkeys\u001b[0m\u001b[1;33m(\u001b[0m\u001b[1;33m)\u001b[0m\u001b[1;33m)\u001b[0m\u001b[1;33m:\u001b[0m\u001b[1;33m\u001b[0m\u001b[1;33m\u001b[0m\u001b[0m\n\u001b[1;32m----> 5\u001b[1;33m         \u001b[0mkatz_index_sim\u001b[0m \u001b[1;33m=\u001b[0m \u001b[1;33m(\u001b[0m\u001b[0mki\u001b[0m\u001b[1;33m[\u001b[0m\u001b[0mnode1\u001b[0m\u001b[1;33m]\u001b[0m \u001b[1;33m+\u001b[0m \u001b[0mki\u001b[0m\u001b[1;33m[\u001b[0m\u001b[0mnode2\u001b[0m\u001b[1;33m]\u001b[0m\u001b[1;33m)\u001b[0m \u001b[1;33m/\u001b[0m \u001b[1;36m2\u001b[0m\u001b[1;33m\u001b[0m\u001b[1;33m\u001b[0m\u001b[0m\n\u001b[0m\u001b[0;32m      6\u001b[0m         \u001b[1;32mreturn\u001b[0m \u001b[0mkatz_index_sim\u001b[0m\u001b[1;33m\u001b[0m\u001b[1;33m\u001b[0m\u001b[0m\n\u001b[0;32m      7\u001b[0m     \u001b[1;32melse\u001b[0m\u001b[1;33m:\u001b[0m\u001b[1;33m\u001b[0m\u001b[1;33m\u001b[0m\u001b[0m\n",
      "\u001b[1;31mKeyError\u001b[0m: '27090'"
     ]
    }
   ],
   "source": [
    "# compute the average Katz index of two nodes\n",
    "def katz_index(index, dataset):\n",
    "    node1 = dataset['Node1'][index]\n",
    "    node2 = dataset['Node2'][index]\n",
    "    if (node1 in neighborsDict.keys()) and (node2 in neighborsDict.keys()): \n",
    "        katz_index_sim = (ki[node1] + ki[node2]) / 2\n",
    "        return katz_index_sim\n",
    "    else: \n",
    "        return 0\n",
    "    \n",
    "perf_val_data['katz_index']=list(map(lambda i:katz_index(i, training), \n",
    "                                    tqdm(perf_val_data['original_index'], position=0, leave=True)))\n",
    "perf_test_data['katz_index']=list(map(lambda i:katz_index(i, testing), \n",
    "                                     tqdm(perf_test_data['original_index'], position=0, leave=True)))"
   ]
  },
  {
   "cell_type": "markdown",
   "metadata": {},
   "source": [
    "Note that feature selection is conducted after the classifier has been chosen as the optimal number of features will depend on the model chosen. It is tackled towards the end of section 3."
   ]
  },
  {
   "cell_type": "markdown",
   "metadata": {},
   "source": [
    "## 3.1 Training and Model Analysis"
   ]
  },
  {
   "cell_type": "code",
   "execution_count": 40,
   "metadata": {},
   "outputs": [],
   "source": [
    "'''\n",
    "a variety of calssifiers were chosen to be trained and assess the performance of the features.\n",
    "The function below provides a comparison between methods.\n",
    "The best will then be tuned properly for the appropriate hyperparameters.\n",
    "'''\n",
    "def multi_classifier(X_train, X_test, y_train, y_test):\n",
    "    classifier_names = ['LR', 'SVM', 'RF', 'GBM', 'LGBM', 'BAG', 'KNN']\n",
    "    metrics = ['F1', 'Accuracy']\n",
    "    df_summary = pd.DataFrame(np.zeros((len(metrics), len(classifier_names))), \n",
    "                              columns = classifier_names, \n",
    "                              index = metrics)\n",
    "    logreg = LogisticRegression()\n",
    "    svm = SVC()\n",
    "    rf = RandomForestClassifier()\n",
    "    gbm = GradientBoostingClassifier()\n",
    "    lgbm = lightgbm.LGBMClassifier()\n",
    "    bag = BaggingClassifier()\n",
    "    knn = KNeighborsClassifier()\n",
    "    classifiers= [logreg, svm, rf, gbm, lgbm, bag, knn]\n",
    "    for idx, classifier in enumerate(classifiers): \n",
    "        model = classifier.fit(X_train, y_train)\n",
    "        predictions = model.predict(X_test)    \n",
    "        f1 = f1_score(y_test, predictions)\n",
    "        accuracy = accuracy_score(y_test, predictions)\n",
    "        df_summary.iloc[0,idx]=np.round(f1, 4)\n",
    "        df_summary.iloc[1,idx]=np.round(accuracy, 4)\n",
    "    \n",
    "    return df_summary"
   ]
  },
  {
   "cell_type": "code",
   "execution_count": 41,
   "metadata": {},
   "outputs": [],
   "source": [
    "# simplified function for testing purposes\n",
    "def simpler_multi_classifier(X_train, X_test, y_train, y_test):\n",
    "    classifier_names = ['LR', 'RF','LGBM']\n",
    "    metrics = ['F1', 'Accuracy']\n",
    "    df_summary = pd.DataFrame(np.zeros((len(metrics), len(classifier_names))), \n",
    "                              columns = classifier_names, \n",
    "                              index = metrics)\n",
    "    logreg = LogisticRegression()\n",
    "    rf = RandomForestClassifier()\n",
    "    lgbm = lightgbm.LGBMClassifier()\n",
    "    classifiers= [logreg, rf, lgbm]\n",
    "    for idx, classifier in enumerate(classifiers): \n",
    "        model = classifier.fit(X_train, y_train)\n",
    "        predictions = model.predict(X_test)    \n",
    "        f1 = f1_score(y_test, predictions)\n",
    "        accuracy = accuracy_score(y_test, predictions)\n",
    "        df_summary.iloc[0,idx]=np.round(f1, 4)\n",
    "        df_summary.iloc[1,idx]=np.round(accuracy, 4)\n",
    "    \n",
    "    return df_summary"
   ]
  },
  {
   "cell_type": "markdown",
   "metadata": {},
   "source": [
    "Below the fetures are isolated and passed into the classifier function. Unimportant columns are removed and the data is normalized according to the sklearn standard scaler."
   ]
  },
  {
   "cell_type": "code",
   "execution_count": 31,
   "metadata": {},
   "outputs": [],
   "source": [
    "from sklearn.preprocessing import StandardScaler\n",
    "\n",
    "d_columns = ['original_index', 'Link', 'Node1', 'Node2']\n",
    "cols = [i for i in perf_val_data.columns if i not in d_columns]\n",
    "X = perf_val_data[cols]\n",
    "y = list(map(lambda i: int(i), perf_val_data['Link']))\n",
    "\n",
    "scaler = StandardScaler()\n",
    "normalized = scaler.fit_transform(X)"
   ]
  },
  {
   "cell_type": "code",
   "execution_count": 32,
   "metadata": {},
   "outputs": [
    {
     "name": "stderr",
     "output_type": "stream",
     "text": [
      "C:\\Users\\fvice\\Miniconda3\\envs\\map572\\lib\\site-packages\\sklearn\\linear_model\\logistic.py:432: FutureWarning: Default solver will be changed to 'lbfgs' in 0.22. Specify a solver to silence this warning.\n",
      "  FutureWarning)\n",
      "C:\\Users\\fvice\\Miniconda3\\envs\\map572\\lib\\site-packages\\sklearn\\ensemble\\forest.py:245: FutureWarning: The default value of n_estimators will change from 10 in version 0.20 to 100 in 0.22.\n",
      "  \"10 in version 0.20 to 100 in 0.22.\", FutureWarning)\n"
     ]
    },
    {
     "data": {
      "text/html": [
       "<div>\n",
       "<style scoped>\n",
       "    .dataframe tbody tr th:only-of-type {\n",
       "        vertical-align: middle;\n",
       "    }\n",
       "\n",
       "    .dataframe tbody tr th {\n",
       "        vertical-align: top;\n",
       "    }\n",
       "\n",
       "    .dataframe thead th {\n",
       "        text-align: right;\n",
       "    }\n",
       "</style>\n",
       "<table border=\"1\" class=\"dataframe\">\n",
       "  <thead>\n",
       "    <tr style=\"text-align: right;\">\n",
       "      <th></th>\n",
       "      <th>LR</th>\n",
       "      <th>RF</th>\n",
       "      <th>LGBM</th>\n",
       "    </tr>\n",
       "  </thead>\n",
       "  <tbody>\n",
       "    <tr>\n",
       "      <th>F1</th>\n",
       "      <td>0.9135</td>\n",
       "      <td>0.932</td>\n",
       "      <td>0.9417</td>\n",
       "    </tr>\n",
       "    <tr>\n",
       "      <th>Accuracy</th>\n",
       "      <td>0.8925</td>\n",
       "      <td>0.913</td>\n",
       "      <td>0.9248</td>\n",
       "    </tr>\n",
       "  </tbody>\n",
       "</table>\n",
       "</div>"
      ],
      "text/plain": [
       "              LR     RF    LGBM\n",
       "F1        0.9135  0.932  0.9417\n",
       "Accuracy  0.8925  0.913  0.9248"
      ]
     },
     "execution_count": 32,
     "metadata": {},
     "output_type": "execute_result"
    }
   ],
   "source": [
    "X_train, X_test, y_train, y_test = train_test_split(normalized, y, test_size=0.15, random_state=1)\n",
    "simpler_multi_classifier(X_train, X_test, y_train, y_test)"
   ]
  },
  {
   "cell_type": "code",
   "execution_count": 42,
   "metadata": {
    "scrolled": true
   },
   "outputs": [
    {
     "name": "stdout",
     "output_type": "stream",
     "text": [
      "Loop number: 1\n"
     ]
    },
    {
     "name": "stderr",
     "output_type": "stream",
     "text": [
      "C:\\Users\\fvice\\Miniconda3\\envs\\map572\\lib\\site-packages\\sklearn\\linear_model\\logistic.py:432: FutureWarning: Default solver will be changed to 'lbfgs' in 0.22. Specify a solver to silence this warning.\n",
      "  FutureWarning)\n",
      "C:\\Users\\fvice\\Miniconda3\\envs\\map572\\lib\\site-packages\\sklearn\\svm\\base.py:193: FutureWarning: The default value of gamma will change from 'auto' to 'scale' in version 0.22 to account better for unscaled features. Set gamma explicitly to 'auto' or 'scale' to avoid this warning.\n",
      "  \"avoid this warning.\", FutureWarning)\n",
      "C:\\Users\\fvice\\Miniconda3\\envs\\map572\\lib\\site-packages\\sklearn\\ensemble\\forest.py:245: FutureWarning: The default value of n_estimators will change from 10 in version 0.20 to 100 in 0.22.\n",
      "  \"10 in version 0.20 to 100 in 0.22.\", FutureWarning)\n"
     ]
    },
    {
     "name": "stdout",
     "output_type": "stream",
     "text": [
      "Loop number: 2\n"
     ]
    },
    {
     "name": "stderr",
     "output_type": "stream",
     "text": [
      "C:\\Users\\fvice\\Miniconda3\\envs\\map572\\lib\\site-packages\\sklearn\\linear_model\\logistic.py:432: FutureWarning: Default solver will be changed to 'lbfgs' in 0.22. Specify a solver to silence this warning.\n",
      "  FutureWarning)\n",
      "C:\\Users\\fvice\\Miniconda3\\envs\\map572\\lib\\site-packages\\sklearn\\svm\\base.py:193: FutureWarning: The default value of gamma will change from 'auto' to 'scale' in version 0.22 to account better for unscaled features. Set gamma explicitly to 'auto' or 'scale' to avoid this warning.\n",
      "  \"avoid this warning.\", FutureWarning)\n",
      "C:\\Users\\fvice\\Miniconda3\\envs\\map572\\lib\\site-packages\\sklearn\\ensemble\\forest.py:245: FutureWarning: The default value of n_estimators will change from 10 in version 0.20 to 100 in 0.22.\n",
      "  \"10 in version 0.20 to 100 in 0.22.\", FutureWarning)\n"
     ]
    },
    {
     "name": "stdout",
     "output_type": "stream",
     "text": [
      "Loop number: 3\n"
     ]
    },
    {
     "name": "stderr",
     "output_type": "stream",
     "text": [
      "C:\\Users\\fvice\\Miniconda3\\envs\\map572\\lib\\site-packages\\sklearn\\linear_model\\logistic.py:432: FutureWarning: Default solver will be changed to 'lbfgs' in 0.22. Specify a solver to silence this warning.\n",
      "  FutureWarning)\n",
      "C:\\Users\\fvice\\Miniconda3\\envs\\map572\\lib\\site-packages\\sklearn\\svm\\base.py:193: FutureWarning: The default value of gamma will change from 'auto' to 'scale' in version 0.22 to account better for unscaled features. Set gamma explicitly to 'auto' or 'scale' to avoid this warning.\n",
      "  \"avoid this warning.\", FutureWarning)\n",
      "C:\\Users\\fvice\\Miniconda3\\envs\\map572\\lib\\site-packages\\sklearn\\ensemble\\forest.py:245: FutureWarning: The default value of n_estimators will change from 10 in version 0.20 to 100 in 0.22.\n",
      "  \"10 in version 0.20 to 100 in 0.22.\", FutureWarning)\n"
     ]
    },
    {
     "name": "stdout",
     "output_type": "stream",
     "text": [
      "Loop number: 4\n"
     ]
    },
    {
     "name": "stderr",
     "output_type": "stream",
     "text": [
      "C:\\Users\\fvice\\Miniconda3\\envs\\map572\\lib\\site-packages\\sklearn\\linear_model\\logistic.py:432: FutureWarning: Default solver will be changed to 'lbfgs' in 0.22. Specify a solver to silence this warning.\n",
      "  FutureWarning)\n",
      "C:\\Users\\fvice\\Miniconda3\\envs\\map572\\lib\\site-packages\\sklearn\\svm\\base.py:193: FutureWarning: The default value of gamma will change from 'auto' to 'scale' in version 0.22 to account better for unscaled features. Set gamma explicitly to 'auto' or 'scale' to avoid this warning.\n",
      "  \"avoid this warning.\", FutureWarning)\n",
      "C:\\Users\\fvice\\Miniconda3\\envs\\map572\\lib\\site-packages\\sklearn\\ensemble\\forest.py:245: FutureWarning: The default value of n_estimators will change from 10 in version 0.20 to 100 in 0.22.\n",
      "  \"10 in version 0.20 to 100 in 0.22.\", FutureWarning)\n"
     ]
    },
    {
     "name": "stdout",
     "output_type": "stream",
     "text": [
      "Loop number: 5\n"
     ]
    },
    {
     "name": "stderr",
     "output_type": "stream",
     "text": [
      "C:\\Users\\fvice\\Miniconda3\\envs\\map572\\lib\\site-packages\\sklearn\\linear_model\\logistic.py:432: FutureWarning: Default solver will be changed to 'lbfgs' in 0.22. Specify a solver to silence this warning.\n",
      "  FutureWarning)\n",
      "C:\\Users\\fvice\\Miniconda3\\envs\\map572\\lib\\site-packages\\sklearn\\svm\\base.py:193: FutureWarning: The default value of gamma will change from 'auto' to 'scale' in version 0.22 to account better for unscaled features. Set gamma explicitly to 'auto' or 'scale' to avoid this warning.\n",
      "  \"avoid this warning.\", FutureWarning)\n",
      "C:\\Users\\fvice\\Miniconda3\\envs\\map572\\lib\\site-packages\\sklearn\\ensemble\\forest.py:245: FutureWarning: The default value of n_estimators will change from 10 in version 0.20 to 100 in 0.22.\n",
      "  \"10 in version 0.20 to 100 in 0.22.\", FutureWarning)\n"
     ]
    },
    {
     "name": "stdout",
     "output_type": "stream",
     "text": [
      "Loop number: 6\n"
     ]
    },
    {
     "name": "stderr",
     "output_type": "stream",
     "text": [
      "C:\\Users\\fvice\\Miniconda3\\envs\\map572\\lib\\site-packages\\sklearn\\linear_model\\logistic.py:432: FutureWarning: Default solver will be changed to 'lbfgs' in 0.22. Specify a solver to silence this warning.\n",
      "  FutureWarning)\n",
      "C:\\Users\\fvice\\Miniconda3\\envs\\map572\\lib\\site-packages\\sklearn\\svm\\base.py:193: FutureWarning: The default value of gamma will change from 'auto' to 'scale' in version 0.22 to account better for unscaled features. Set gamma explicitly to 'auto' or 'scale' to avoid this warning.\n",
      "  \"avoid this warning.\", FutureWarning)\n",
      "C:\\Users\\fvice\\Miniconda3\\envs\\map572\\lib\\site-packages\\sklearn\\ensemble\\forest.py:245: FutureWarning: The default value of n_estimators will change from 10 in version 0.20 to 100 in 0.22.\n",
      "  \"10 in version 0.20 to 100 in 0.22.\", FutureWarning)\n"
     ]
    },
    {
     "name": "stdout",
     "output_type": "stream",
     "text": [
      "Loop number: 7\n"
     ]
    },
    {
     "name": "stderr",
     "output_type": "stream",
     "text": [
      "C:\\Users\\fvice\\Miniconda3\\envs\\map572\\lib\\site-packages\\sklearn\\linear_model\\logistic.py:432: FutureWarning: Default solver will be changed to 'lbfgs' in 0.22. Specify a solver to silence this warning.\n",
      "  FutureWarning)\n",
      "C:\\Users\\fvice\\Miniconda3\\envs\\map572\\lib\\site-packages\\sklearn\\svm\\base.py:193: FutureWarning: The default value of gamma will change from 'auto' to 'scale' in version 0.22 to account better for unscaled features. Set gamma explicitly to 'auto' or 'scale' to avoid this warning.\n",
      "  \"avoid this warning.\", FutureWarning)\n",
      "C:\\Users\\fvice\\Miniconda3\\envs\\map572\\lib\\site-packages\\sklearn\\ensemble\\forest.py:245: FutureWarning: The default value of n_estimators will change from 10 in version 0.20 to 100 in 0.22.\n",
      "  \"10 in version 0.20 to 100 in 0.22.\", FutureWarning)\n"
     ]
    },
    {
     "name": "stdout",
     "output_type": "stream",
     "text": [
      "Loop number: 8\n"
     ]
    },
    {
     "name": "stderr",
     "output_type": "stream",
     "text": [
      "C:\\Users\\fvice\\Miniconda3\\envs\\map572\\lib\\site-packages\\sklearn\\linear_model\\logistic.py:432: FutureWarning: Default solver will be changed to 'lbfgs' in 0.22. Specify a solver to silence this warning.\n",
      "  FutureWarning)\n",
      "C:\\Users\\fvice\\Miniconda3\\envs\\map572\\lib\\site-packages\\sklearn\\svm\\base.py:193: FutureWarning: The default value of gamma will change from 'auto' to 'scale' in version 0.22 to account better for unscaled features. Set gamma explicitly to 'auto' or 'scale' to avoid this warning.\n",
      "  \"avoid this warning.\", FutureWarning)\n",
      "C:\\Users\\fvice\\Miniconda3\\envs\\map572\\lib\\site-packages\\sklearn\\ensemble\\forest.py:245: FutureWarning: The default value of n_estimators will change from 10 in version 0.20 to 100 in 0.22.\n",
      "  \"10 in version 0.20 to 100 in 0.22.\", FutureWarning)\n"
     ]
    },
    {
     "name": "stdout",
     "output_type": "stream",
     "text": [
      "Loop number: 9\n"
     ]
    },
    {
     "name": "stderr",
     "output_type": "stream",
     "text": [
      "C:\\Users\\fvice\\Miniconda3\\envs\\map572\\lib\\site-packages\\sklearn\\linear_model\\logistic.py:432: FutureWarning: Default solver will be changed to 'lbfgs' in 0.22. Specify a solver to silence this warning.\n",
      "  FutureWarning)\n",
      "C:\\Users\\fvice\\Miniconda3\\envs\\map572\\lib\\site-packages\\sklearn\\svm\\base.py:193: FutureWarning: The default value of gamma will change from 'auto' to 'scale' in version 0.22 to account better for unscaled features. Set gamma explicitly to 'auto' or 'scale' to avoid this warning.\n",
      "  \"avoid this warning.\", FutureWarning)\n",
      "C:\\Users\\fvice\\Miniconda3\\envs\\map572\\lib\\site-packages\\sklearn\\ensemble\\forest.py:245: FutureWarning: The default value of n_estimators will change from 10 in version 0.20 to 100 in 0.22.\n",
      "  \"10 in version 0.20 to 100 in 0.22.\", FutureWarning)\n"
     ]
    },
    {
     "name": "stdout",
     "output_type": "stream",
     "text": [
      "Loop number: 10\n"
     ]
    },
    {
     "name": "stderr",
     "output_type": "stream",
     "text": [
      "C:\\Users\\fvice\\Miniconda3\\envs\\map572\\lib\\site-packages\\sklearn\\linear_model\\logistic.py:432: FutureWarning: Default solver will be changed to 'lbfgs' in 0.22. Specify a solver to silence this warning.\n",
      "  FutureWarning)\n",
      "C:\\Users\\fvice\\Miniconda3\\envs\\map572\\lib\\site-packages\\sklearn\\svm\\base.py:193: FutureWarning: The default value of gamma will change from 'auto' to 'scale' in version 0.22 to account better for unscaled features. Set gamma explicitly to 'auto' or 'scale' to avoid this warning.\n",
      "  \"avoid this warning.\", FutureWarning)\n",
      "C:\\Users\\fvice\\Miniconda3\\envs\\map572\\lib\\site-packages\\sklearn\\ensemble\\forest.py:245: FutureWarning: The default value of n_estimators will change from 10 in version 0.20 to 100 in 0.22.\n",
      "  \"10 in version 0.20 to 100 in 0.22.\", FutureWarning)\n"
     ]
    }
   ],
   "source": [
    "'''\n",
    "iterating through various random initializations of the classifiers to check the range of F1 values that are yielded\n",
    "'''\n",
    "errors = np.empty((10,7))\n",
    "error_list = []\n",
    "\n",
    "for i in range(10):\n",
    "    print('Loop number: {}'.format(i+1))\n",
    "    X_train, X_test, y_train, y_test = train_test_split(X, y, test_size=0.5)\n",
    "    error_list.append(multi_classifier(X_train, X_test, y_train, y_test))\n",
    "error_df = pd.concat(error_list)"
   ]
  },
  {
   "cell_type": "code",
   "execution_count": 48,
   "metadata": {
    "scrolled": true
   },
   "outputs": [
    {
     "data": {
      "image/png": "[encoded data removed]",
      "text/plain": [
       "<Figure size 1440x720 with 1 Axes>"
      ]
     },
     "metadata": {
      "needs_background": "light"
     },
     "output_type": "display_data"
    }
   ],
   "source": [
    "fig, ax = plt.subplots(figsize=(20,10))\n",
    "x_plot = list(error_df.columns.values) * 10\n",
    "y_plot = list(error_df.loc['F1'].values.reshape(-1))\n",
    "sns.boxplot(x_plot, y_plot)\n",
    "plt.title(\"F1 Score\")\n",
    "plt.show()"
   ]
  },
  {
   "cell_type": "markdown",
   "metadata": {},
   "source": [
    "## 3.2 Feature Importance and Selection"
   ]
  },
  {
   "cell_type": "code",
   "execution_count": 57,
   "metadata": {},
   "outputs": [
    {
     "name": "stdout",
     "output_type": "stream",
     "text": [
      "0.9416590701914312\n"
     ]
    }
   ],
   "source": [
    "X_train, X_test, y_train, y_test = train_test_split(normalized, y, test_size=0.15, random_state=1)\n",
    "\n",
    "lgbm = lightgbm.LGBMClassifier()\n",
    "model_lgbm = lgbm.fit(X_train, y_train)\n",
    "predictions = model_lgbm.predict(X_test)\n",
    "print(f1_score(y_test, np.round(predictions)))"
   ]
  },
  {
   "cell_type": "code",
   "execution_count": 53,
   "metadata": {},
   "outputs": [],
   "source": [
    "# use the LGMB method 'feature_importances_' to extract features which are most relevant\n",
    "features = pd.DataFrame()\n",
    "features['feature'] = X.columns\n",
    "features['importance'] = model_lgbm.feature_importances_\n",
    "features.sort_values(by=['importance'], ascending=False, inplace=True)\n",
    "features.set_index('feature', inplace=True)"
   ]
  },
  {
   "cell_type": "code",
   "execution_count": 54,
   "metadata": {},
   "outputs": [
    {
     "data": {
      "image/png": "[encoded data removed]",
      "text/plain": [
       "<Figure size 1080x360 with 1 Axes>"
      ]
     },
     "metadata": {
      "needs_background": "light"
     },
     "output_type": "display_data"
    }
   ],
   "source": [
    "importance = np.array(features.values.reshape(-1))\n",
    "importance = list(importance/importance.sum(axis=0,keepdims=1))\n",
    "bars = list(features.index.values)\n",
    "y_pos = np.arange(len(bars))\n",
    "\n",
    "fig, ax = plt.subplots(figsize=(15,5))\n",
    "\n",
    "# Create horizontal bars, and place names of features on the vertical axis\n",
    "plt.barh(y_pos, importance)\n",
    "plt.yticks(y_pos, bars)\n",
    "plt.title(\"Relative Feature Importance\")\n",
    "plt.show()"
   ]
  },
  {
   "cell_type": "code",
   "execution_count": 58,
   "metadata": {},
   "outputs": [
    {
     "name": "stdout",
     "output_type": "stream",
     "text": [
      "[ True  True  True  True False False False False  True  True  True  True\n",
      "  True False  True False]\n",
      "[1 1 1 1 7 4 3 6 1 1 1 1 1 2 1 5]\n"
     ]
    }
   ],
   "source": [
    "# using the RFE to select features by recursively considering smaller and smaller sets of features.\n",
    "from sklearn.feature_selection import RFE\n",
    "selector = RFE(lgbm, 10)\n",
    "selector = selector.fit(normalized, y)\n",
    "print(selector.support_)\n",
    "print(selector.ranking_)"
   ]
  },
  {
   "cell_type": "code",
   "execution_count": 75,
   "metadata": {},
   "outputs": [
    {
     "data": {
      "text/plain": [
       "Index(['tfidf_similarity', 'languages_similarity', 'joint_length',\n",
       "       'file_distance', 'resource_allocation_index', 'preferential_attachment',\n",
       "       'nmf_frobenius_similarity', 'lda_similarity', 'katz_index',\n",
       "       'page_rank_alpha.2'],\n",
       "      dtype='object')"
      ]
     },
     "execution_count": 75,
     "metadata": {},
     "output_type": "execute_result"
    }
   ],
   "source": [
    "X.columns[selector.support_]"
   ]
  },
  {
   "cell_type": "code",
   "execution_count": 72,
   "metadata": {},
   "outputs": [
    {
     "name": "stdout",
     "output_type": "stream",
     "text": [
      "0.9397042093287827\n"
     ]
    }
   ],
   "source": [
    "lgbm = lightgbm.LGBMClassifier()\n",
    "model_lgbm = lgbm.fit(X_train[:, selector.support_], y_train)\n",
    "predictions = model_lgbm.predict(X_test[:, selector.support_])\n",
    "print(f1_score(y_test, np.round(predictions)))"
   ]
  },
  {
   "cell_type": "markdown",
   "metadata": {},
   "source": [
    "## 3.3 Hyperparameter Tuning"
   ]
  },
  {
   "cell_type": "code",
   "execution_count": 78,
   "metadata": {},
   "outputs": [],
   "source": [
    "# create a suitable F1 score function for hyperopt to use\n",
    "def evalerror(preds, dtrain):\n",
    "    labels = dtrain.get_label()\n",
    "    pred_label = np.round(preds)\n",
    "    f_score = f1_score(pred_label, labels)\n",
    "    return 'f1_score', f_score, True\n",
    "\n",
    "def hyperopt(X, y, params):\n",
    "    \n",
    "    X_train, X_val, y_train, y_val = train_test_split(X, y, test_size=0.5, random_state=0)\n",
    "    train_data = lightgbm.Dataset(X_train, label=y_train)\n",
    "    valid_data = lightgbm.Dataset(X_val, label=y_val)\n",
    "\n",
    "    # limitting the max depth and feature fraction corresponds to preventing over fitting of the model. \n",
    "    # Regularization parameters alpha and lambda also prevent over fitting\n",
    "    space = {\n",
    "        \"learning_rate\": hp.loguniform(\"learning_rate\", np.log(0.01), np.log(0.5)),\n",
    "        \"max_depth\": hp.choice(\"max_depth\", [3, 4, 5, 6, 7]),\n",
    "        \"num_leaves\": hp.choice(\"num_leaves\", np.linspace(10, 200, 50, dtype=int)),\n",
    "        \"feature_fraction\": hp.quniform(\"feature_fraction\", 0.6, 1.0, 0.1),\n",
    "        \"reg_alpha\": hp.uniform(\"reg_alpha\", 0, 2),\n",
    "        \"reg_lambda\": hp.uniform(\"reg_lambda\", 0, 2),\n",
    "        \"min_child_weight\": hp.uniform('min_child_weight', 0.5, 10),\n",
    "    }\n",
    "\n",
    "    def objective(hyperparams):\n",
    "        model = lightgbm.train({**params, **hyperparams}, train_data, 300, \n",
    "                               valid_data, early_stopping_rounds=30, verbose_eval=0, feval = evalerror)\n",
    "\n",
    "        score = model.best_score[\"valid_0\"]['f1_score']\n",
    "        return {'loss': -score, 'status': STATUS_OK}\n",
    "\n",
    "    trials = Trials()\n",
    "    best = fmin(fn=objective, space=space, trials=trials,\n",
    "                algo=tpe.suggest, max_evals=50, verbose=1,\n",
    "                rstate=np.random.RandomState(1))\n",
    "\n",
    "    hyperparams = space_eval(space, best)\n",
    "\n",
    "    print(f\"auc = {-trials.best_trial['result']['loss']:0.4f} {hyperparams}\")\n",
    "\n",
    "    return hyperparams\n"
   ]
  },
  {
   "cell_type": "code",
   "execution_count": 79,
   "metadata": {},
   "outputs": [
    {
     "name": "stdout",
     "output_type": "stream",
     "text": [
      "100%|██████████████████████████████████████████████████| 50/50 [03:23<00:00,  4.07s/it, best loss: -0.9380989018675245]\n",
      "auc = 0.9381 {'feature_fraction': 1.0, 'learning_rate': 0.21523775466325193, 'max_depth': 3, 'min_child_weight': 2.2030053794358273, 'num_leaves': 29, 'reg_alpha': 1.9358823758378476, 'reg_lambda': 1.1602834619269524}\n"
     ]
    }
   ],
   "source": [
    "# run the hyperparameter search using a random grid search defined above\n",
    "params = {\n",
    "    \"objective\": \"binary\",\n",
    "    \"metric\": 'f1_score',\n",
    "    \"verbosity\": -1,\n",
    "    \"seed\": 1,\n",
    "    \"num_threads\": 4\n",
    "}\n",
    "hyperparams = hyperopt(X, y, params)"
   ]
  },
  {
   "cell_type": "markdown",
   "metadata": {},
   "source": [
    "## 4.1 Kaggle Prediction using Optimal Hyperparameters"
   ]
  },
  {
   "cell_type": "code",
   "execution_count": 80,
   "metadata": {},
   "outputs": [
    {
     "name": "stdout",
     "output_type": "stream",
     "text": [
      "Training until validation scores don't improve for 30 rounds\n",
      "Early stopping, best iteration is:\n",
      "[52]\tvalid_0's f1_score: 0.938584\n",
      "0.9385841537740272\n"
     ]
    }
   ],
   "source": [
    "# use the hyperparameters found above to train the final model\n",
    "X_train, X_test, y_train, y_test = train_test_split(X, y, test_size=0.15)\n",
    "\n",
    "train_data = lightgbm.Dataset(X_train, label=y_train)\n",
    "valid_data = lightgbm.Dataset(X_test, label=y_test)\n",
    "\n",
    "model = lightgbm.train({**params, **hyperparams}, train_data, 500,\n",
    "                       valid_data, early_stopping_rounds=30, verbose_eval=100, feval = evalerror)\n",
    "\n",
    "predictions = model.predict(X_test)\n",
    "print(f1_score(y_test, np.round(predictions)))"
   ]
  },
  {
   "cell_type": "code",
   "execution_count": 81,
   "metadata": {},
   "outputs": [],
   "source": [
    "d_columns = ['original_index', 'Node1', 'Node2']\n",
    "cols = [i for i in perf_test_data.columns if i not in d_columns]\n",
    "\n",
    "model = lightgbm.LGBMClassifier(**hyperparams)\n",
    "model = model.fit(X, y, eval_metric = evalerror)\n",
    "test = perf_test_data[cols]\n",
    "predictions = model.predict(test)"
   ]
  },
  {
   "cell_type": "code",
   "execution_count": 28,
   "metadata": {},
   "outputs": [],
   "source": [
    "final_pred = pd.concat([perf_test_data['original_index'], pd.DataFrame(predictions)],axis=1)\n",
    "final_pred.columns = ['id', 'predicted']\n",
    "with open(\"distance_prediction2.csv\",\"+w\") as pred:\n",
    "    csv_out = csv.writer(pred)\n",
    "    csv_out.writerow(['id','predicted'])\n",
    "    for index, row in final_pred.iterrows():\n",
    "        csv_out.writerow(row)"
   ]
  },
  {
   "cell_type": "markdown",
   "metadata": {},
   "source": [
    "## 4.2 Kaggle Prediction Naive"
   ]
  },
  {
   "cell_type": "code",
   "execution_count": 128,
   "metadata": {},
   "outputs": [],
   "source": [
    "d_columns = ['original_index', 'Node1', 'Node2']\n",
    "cols = [i for i in perf_test_data.columns if i not in d_columns]\n",
    "\n",
    "model = lightgbm.LGBMClassifier()\n",
    "model = model.fit(X, y)\n",
    "test = perf_test_data[cols]\n",
    "predictions = model.predict(test)"
   ]
  },
  {
   "cell_type": "code",
   "execution_count": 129,
   "metadata": {},
   "outputs": [],
   "source": [
    "final_pred = pd.concat([perf_test_data['original_index'], pd.DataFrame(predictions)],axis=1)\n",
    "final_pred.columns = ['id', 'predicted']\n",
    "with open(\"normalized_prediction_reduced_features.csv\",\"+w\") as pred:\n",
    "    csv_out = csv.writer(pred)\n",
    "    csv_out.writerow(['id','predicted'])\n",
    "    for index, row in final_pred.iterrows():\n",
    "        csv_out.writerow(row)"
   ]
  },
  {
   "cell_type": "markdown",
   "metadata": {},
   "source": [
    "## 5.1 Extra Testing: Augmented Hadmard LDA features"
   ]
  },
  {
   "cell_type": "code",
   "execution_count": 55,
   "metadata": {},
   "outputs": [
    {
     "name": "stderr",
     "output_type": "stream",
     "text": [
      "100%|████████████████████████████████████████████████████████████████████████████| 22689/22689 [08:32<00:00, 44.30it/s]\n"
     ]
    }
   ],
   "source": [
    "embed_size = 2000\n",
    "df_train = pd.DataFrame(0, index=np.arange(len(data_train_val)), columns=range(embed_size))\n",
    "j = []\n",
    "for j, i in tqdm(enumerate(data_train_val.index), position=0, leave=True, total = len(data_train_val)):\n",
    "    try:\n",
    "        df_train.loc[j] = (corpus_lsa_matrix[int(data_train_val.loc[i]['Node1'])] * corpus_lsa_matrix[int(data_train_val.loc[i]['Node2'])])\n",
    "    except Exception as E:\n",
    "        print(E)\n",
    "        df_train.loc[j] = np.zeros(embed_size)"
   ]
  },
  {
   "cell_type": "code",
   "execution_count": 56,
   "metadata": {},
   "outputs": [],
   "source": [
    "X = df_train\n",
    "y = data_train_val['Link']\n",
    "y = list(map(lambda i: int(i), y))\n",
    "\n",
    "X_train, X_test, y_train, y_test = train_test_split(X, y, test_size=0.15, random_state=1)"
   ]
  },
  {
   "cell_type": "code",
   "execution_count": 57,
   "metadata": {},
   "outputs": [
    {
     "name": "stdout",
     "output_type": "stream",
     "text": [
      "0.7644596651445967\n"
     ]
    }
   ],
   "source": [
    "lgbm = lightgbm.LGBMClassifier()\n",
    "model_lgbm = lgbm.fit(X_train, y_train)\n",
    "predictions = model_lgbm.predict(X_test)\n",
    "print(f1_score(y_test, predictions))"
   ]
  }
 ],
 "metadata": {
  "kernelspec": {
   "display_name": "Python 3",
   "language": "python",
   "name": "python3"
  },
  "language_info": {
   "codemirror_mode": {
    "name": "ipython",
    "version": 3
   },
   "file_extension": ".py",
   "mimetype": "text/x-python",
   "name": "python",
   "nbconvert_exporter": "python",
   "pygments_lexer": "ipython3",
   "version": "3.7.4"
  }
 },
 "nbformat": 4,
 "nbformat_minor": 2
}
